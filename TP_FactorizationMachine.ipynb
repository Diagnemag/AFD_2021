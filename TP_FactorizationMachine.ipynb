{
  "nbformat": 4,
  "nbformat_minor": 0,
  "metadata": {
    "colab": {
      "name": "TP_1-ENSAE21-solution.ipynb",
      "provenance": [],
      "collapsed_sections": [],
      "include_colab_link": true
    },
    "kernelspec": {
      "name": "python3",
      "display_name": "Python 3"
    },
    "language_info": {
      "name": "python"
    }
  },
  "cells": [
    {
      "cell_type": "markdown",
      "metadata": {
        "id": "view-in-github",
        "colab_type": "text"
      },
      "source": [
        "<a href=\"https://colab.research.google.com/github/Diagnemag/AFD_2021/blob/main/TP_FactorizationMachine.ipynb\" target=\"_parent\"><img src=\"https://colab.research.google.com/assets/colab-badge.svg\" alt=\"Open In Colab\"/></a>"
      ]
    },
    {
      "cell_type": "markdown",
      "metadata": {
        "id": "LX7NZ1PG2TXt"
      },
      "source": [
        "#Goals of the practical session:\n",
        "- Understand a mimimal Python code implementing a memory efficient logistic regression from scratch. \n",
        "- Adapt the code to obtain some common features such as a quadratic kernel and a regularization.\n",
        "- Learn how to conveniently track and measure the performances of a set of models with several hyper parameters. \n",
        "\n",
        "#Part I: Logistic regression from scratch\n",
        "\n",
        "Download some data from a recent challenge\n",
        "- [Small version](http://go.criteo.net/criteo-ppml-challenge-adkdd21-dataset.zip) (284 Mo, more than enough for today)\n",
        "- [Complete version](http://go.criteo.net/criteo-ppml-challenge-adkdd21-dataset-raw-granular-data.csv.gz) (optional aditionnal data if you want to try different things - 50Go)\n",
        "\n",
        "For convience here it is a few batch commands downloading and extracting data in your drive:\n"
      ]
    },
    {
      "cell_type": "code",
      "metadata": {
        "colab": {
          "base_uri": "https://localhost:8080/"
        },
        "id": "xJT1-3d62K22",
        "outputId": "7c2bf282-539e-4ae6-cab3-d3eb8f115aa6"
      },
      "source": [
        "!wget http://go.criteo.net/criteo-ppml-challenge-adkdd21-dataset.zip\n",
        "!unzip criteo-ppml-challenge-adkdd21-dataset.zip\n",
        "!rm aggregated_noisy_data_pairs.csv.gz aggregated_noisy_data_singles.csv.gz  \n",
        "!gunzip X_test.csv.gz X_train.csv.gz y_test.csv.gz y_train.csv.gz\n",
        "!rm criteo-ppml-challenge-adkdd21-dataset.zip\n",
        "!sed -n 1,10000p X_test.csv > X_valid.csv #CARE we took 10k lines from test as validation.\n",
        "!sed -n 1,10000p y_test.csv > y_valid.csv"
      ],
      "execution_count": 1,
      "outputs": [
        {
          "output_type": "stream",
          "name": "stdout",
          "text": [
            "--2021-12-21 15:20:27--  http://go.criteo.net/criteo-ppml-challenge-adkdd21-dataset.zip\n",
            "Resolving go.criteo.net (go.criteo.net)... 178.250.0.152\n",
            "Connecting to go.criteo.net (go.criteo.net)|178.250.0.152|:80... connected.\n",
            "HTTP request sent, awaiting response... 302 Found\n",
            "Location: https://criteostorage.blob.core.windows.net/criteo-research-datasets/criteo_ppml_challenge_adkdd2021/criteo-ppml-challenge-adkdd21-dataset.zip [following]\n",
            "--2021-12-21 15:20:28--  https://criteostorage.blob.core.windows.net/criteo-research-datasets/criteo_ppml_challenge_adkdd2021/criteo-ppml-challenge-adkdd21-dataset.zip\n",
            "Resolving criteostorage.blob.core.windows.net (criteostorage.blob.core.windows.net)... 20.209.1.1\n",
            "Connecting to criteostorage.blob.core.windows.net (criteostorage.blob.core.windows.net)|20.209.1.1|:443... connected.\n",
            "HTTP request sent, awaiting response... 200 OK\n",
            "Length: 297834690 (284M) [application/zip]\n",
            "Saving to: ‘criteo-ppml-challenge-adkdd21-dataset.zip’\n",
            "\n",
            "criteo-ppml-challen 100%[===================>] 284.04M   139MB/s    in 2.0s    \n",
            "\n",
            "2021-12-21 15:20:30 (139 MB/s) - ‘criteo-ppml-challenge-adkdd21-dataset.zip’ saved [297834690/297834690]\n",
            "\n",
            "Archive:  criteo-ppml-challenge-adkdd21-dataset.zip\n",
            "  inflating: aggregated_noisy_data_pairs.csv.gz  \n",
            "  inflating: aggregated_noisy_data_singles.csv.gz  \n",
            "  inflating: X_test.csv.gz           \n",
            "  inflating: X_train.csv.gz          \n",
            "  inflating: y_test.csv.gz           \n",
            "  inflating: y_train.csv.gz          \n"
          ]
        }
      ]
    },
    {
      "cell_type": "markdown",
      "metadata": {
        "id": "RjxqG5PTXy94"
      },
      "source": [
        "A quick look to the 10 first rows of the data shows there is 19 categorical features already hashed as integers. All of them are related to the proability of a click event and are related to observed events of a user either on a publisher website, either on an advertiser website. The large dataset correspond to one day of data on one platform. "
      ]
    },
    {
      "cell_type": "code",
      "metadata": {
        "colab": {
          "base_uri": "https://localhost:8080/"
        },
        "id": "o5vpJ7qb3kzP",
        "outputId": "36f544e7-e10d-48f6-e2ac-9255bc351cb9"
      },
      "source": [
        "!head X_test.csv"
      ],
      "execution_count": 2,
      "outputs": [
        {
          "output_type": "stream",
          "name": "stdout",
          "text": [
            "hash_0,hash_1,hash_2,hash_3,hash_4,hash_5,hash_6,hash_7,hash_8,hash_9,hash_10,hash_11,hash_12,hash_13,hash_14,hash_15,hash_16,hash_17,hash_18\n",
            "187652,199446,480789,-84947,-419788,-356697,-73473,-201336,336272,39558,171177,-332795,-197733,-102727,-267888,-324676,172595,-1100,182002\n",
            "-196263,-137304,480789,-428062,347621,-310777,220982,-201336,336272,301505,406906,-265634,467836,-437971,26095,-328942,-400942,-429456,346045\n",
            "-216157,-137304,480789,-428062,347621,-310777,167271,-201336,359042,-311089,306285,-332795,-283182,-102727,495950,-324676,326477,-317260,182002\n",
            "11652,-432181,480789,-169356,287595,-310777,-332084,-201336,310671,409356,-496385,-332795,236957,-102727,-20670,-324676,-153563,258932,-124383\n",
            "224181,-455384,313949,-428062,166559,-310777,167271,-201336,127803,409356,-23318,-332795,286937,35444,335698,-324676,132133,-355723,-124383\n",
            "486387,-432181,480789,-169356,-419788,-356697,-484965,-201336,-428527,-139213,25441,-468602,315199,-102727,-421972,-241726,306269,-271996,346045\n",
            "442096,-411158,480789,-169356,-419788,-356697,-438087,-201336,-22347,-237302,-43085,-449303,-350579,-102727,193941,32790,26518,-27708,346045\n",
            "-47443,-432181,480789,-2679,347621,-310777,167271,-201336,336272,-105474,-7296,-332795,286937,-102727,-103791,-324676,326477,-251246,182002\n",
            "445274,-432181,480789,-428062,287595,-356697,-438087,-201336,-22347,39558,207091,-332795,-473714,-13772,335698,-324676,14846,311823,182002\n"
          ]
        }
      ]
    },
    {
      "cell_type": "code",
      "metadata": {
        "colab": {
          "base_uri": "https://localhost:8080/"
        },
        "id": "DPt7pg7NOcc3",
        "outputId": "7257bcab-7321-4775-c508-1cf71d12f00a"
      },
      "source": [
        "!head y_test.csv"
      ],
      "execution_count": 3,
      "outputs": [
        {
          "output_type": "stream",
          "name": "stdout",
          "text": [
            "click,sale\n",
            "1.0,0.0\n",
            "0.0,0.0\n",
            "0.0,0.0\n",
            "1.0,0.0\n",
            "0.0,0.0\n",
            "0.0,0.0\n",
            "0.0,0.0\n",
            "0.0,0.0\n",
            "0.0,0.0\n"
          ]
        }
      ]
    },
    {
      "cell_type": "markdown",
      "metadata": {
        "id": "amuBvEE72Tno"
      },
      "source": [
        "Form the small dataset, it is possible to directly use almost any software able to perform a logistic regression. Depending on your hardware you may run in troubles for the large one (in fact with the large one vowpal wabbit will do it, but strugles to achieve the optimization of the loss). \n",
        "\n",
        "Today our first goal is to understand a minimal version of a logistic regression coded from scratch in Python.\n"
      ]
    },
    {
      "cell_type": "code",
      "metadata": {
        "colab": {
          "base_uri": "https://localhost:8080/"
        },
        "id": "YQjRc1Bi5VN9",
        "outputId": "a0a985f1-3d48-41ea-de9e-046c9446fe06"
      },
      "source": [
        "from datetime import datetime\n",
        "from csv import DictReader\n",
        "from math import exp, log, sqrt\n",
        "\n",
        "\n",
        "# parameters #################################################################\n",
        "\n",
        "X_train = 'X_train.csv'  # path to training files\n",
        "y_train = 'y_train.csv'\n",
        "\n",
        "\n",
        "D = 2 ** 20   # max number of weights to use (hash size)\n",
        "alpha = .1    # learning rate for sgd optimization\n",
        "\n",
        "\n",
        "# function definitions #######################################################\n",
        "\n",
        "# A. Bounded logloss\n",
        "# INPUT:\n",
        "#     p: our prediction\n",
        "#     y: real answer\n",
        "# OUTPUT\n",
        "#     logarithmic loss of p given y\n",
        "def logloss(p, y):\n",
        "    p = max(min(p, 1. - 10e-12), 10e-12)\n",
        "    return -log(p) if y == 1. else -log(1. - p)\n",
        "\n",
        "\n",
        "# B. Apply hash trick of the original csv row\n",
        "# for simplicity, we treat both integer and categorical features as categorical\n",
        "# INPUT:\n",
        "#     csv_row: a csv dictionary, ex: {'hash_1': '357', 'hash_2': '', ...}\n",
        "#     D: the max index that we can hash to\n",
        "# OUTPUT:\n",
        "#     x: a list of indices that its value is 1\n",
        "def get_x(csv_row, D):\n",
        "    x = []\n",
        "    for key, value in csv_row.items():\n",
        "        index = int(value + key[4:], 16) % D \n",
        "        x.append(index)\n",
        "    return x  # x contains indices of features that have a value of 1\n",
        "\n",
        "\n",
        "# C. Get probability estimation on x\n",
        "# INPUT:\n",
        "#     x: features\n",
        "#     w: weights\n",
        "# OUTPUT:\n",
        "#     probability of p(y = 1 | x; w)\n",
        "def get_p(x, w):\n",
        "    wTx = 0.\n",
        "    for i in x:  # do wTx\n",
        "        wTx += w[i] * 1.  # w[i] * x[i], but if i in x we got x[i] = 1.\n",
        "    return 1. / (1. + exp(-max(min(wTx, 20.), -20.)))  # bounded sigmoid\n",
        "\n",
        "\n",
        "# D. Update given model\n",
        "# INPUT:\n",
        "#     w: weights\n",
        "#     n: a counter that counts the number of times we encounter a feature\n",
        "#        this is used for adaptive learning rate\n",
        "#     x: feature\n",
        "#     p: prediction of our model\n",
        "#     y: answer\n",
        "# OUTPUT:\n",
        "#     w: updated model\n",
        "#     n: updated count\n",
        "def update_w(w, n, x, p, y):\n",
        "    for i in x:\n",
        "        # alpha / (sqrt(n) + 1) is the adaptive learning rate heuristic\n",
        "        # (p - y) * x[i] is the current gradient\n",
        "        # note that in our case, if i in x then x[i] = 1\n",
        "        w[i] -= (p - y) * alpha / (sqrt(n[i]) + 1.)\n",
        "        n[i] += 1.\n",
        "    return w, n\n",
        "\n",
        "\n",
        "# training and testing #######################################################\n",
        "\n",
        "# initialize our model\n",
        "w = [0.] * D  # first order parameters\n",
        "n = [0.] * D  # number of times we've encountered a feature\n",
        "\n",
        "# start training a logistic regression model using on pass sgd\n",
        "loss = 0.\n",
        "for t, (row, y)  in enumerate(zip(DictReader(open(X_train)), DictReader(open(y_train)))):\n",
        "    # main training procedure\n",
        "    # step 1, get the hashed features\n",
        "    x = get_x(row, D)\n",
        "\n",
        "    # step 2, get prediction\n",
        "    p = get_p(x, w)\n",
        "    target = float(y['click'])\n",
        "\n",
        "    # for progress validation, useless for learning our model\n",
        "    loss += logloss(p, target)\n",
        "    if t % 10000 == 0 and t > 1:\n",
        "        print('%s\\tencountered: %d\\tcurrent logloss: %f' % (\n",
        "            datetime.now(), t, loss/t))\n",
        "\n",
        "    # step 3, update model with answer\n",
        "    w, n = update_w(w, n, x, p, target)\n",
        "\n"
      ],
      "execution_count": 4,
      "outputs": [
        {
          "output_type": "stream",
          "name": "stdout",
          "text": [
            "2021-12-21 15:20:36.898362\tencountered: 10000\tcurrent logloss: 0.287254\n",
            "2021-12-21 15:20:38.131796\tencountered: 20000\tcurrent logloss: 0.270824\n",
            "2021-12-21 15:20:38.950001\tencountered: 30000\tcurrent logloss: 0.265079\n",
            "2021-12-21 15:20:39.786192\tencountered: 40000\tcurrent logloss: 0.265768\n",
            "2021-12-21 15:20:40.703214\tencountered: 50000\tcurrent logloss: 0.265401\n",
            "2021-12-21 15:20:41.680085\tencountered: 60000\tcurrent logloss: 0.265177\n",
            "2021-12-21 15:20:42.748586\tencountered: 70000\tcurrent logloss: 0.264792\n",
            "2021-12-21 15:20:43.789351\tencountered: 80000\tcurrent logloss: 0.262718\n",
            "2021-12-21 15:20:44.725038\tencountered: 90000\tcurrent logloss: 0.261705\n",
            "2021-12-21 15:20:45.630974\tencountered: 100000\tcurrent logloss: 0.260590\n"
          ]
        }
      ]
    },
    {
      "cell_type": "markdown",
      "metadata": {
        "id": "duaypB7ydXkT"
      },
      "source": [
        "*Remark that is implementation is pure Python and quite fast while Python  is inefficient with loops without using just in time compilation. It will also handle the large dataset using a controlled memory footprint (around 200 Mo).*\n",
        "\n",
        "\n",
        "**Questions**\n",
        "1. \n",
        "Is it a good value for the loss? It may be convenient to answer such questions to compute statistics on the data. For this we are going to use numpy. If not already familiar you can find a [ref card](https://www.utc.fr/~jlaforet/Suppl/python-cheatsheets.pdf). There exist an [other one](http://mathesaurus.sourceforge.net/matlab-numpy.html) if you are already familiar with matlab."
      ]
    },
    {
      "cell_type": "code",
      "metadata": {
        "colab": {
          "base_uri": "https://localhost:8080/"
        },
        "id": "Wi9L4nx0dXTS",
        "outputId": "31b9295d-d174-4170-a8f2-342137d11fe3"
      },
      "source": [
        "import numpy as np\n",
        "y = np.genfromtxt('y_train.csv', delimiter=',', skip_header=1)\n",
        "#-- Answer --\n",
        "# First remark that with two classes a uniform random prediction would get is -log(1/2) ~ 0.693\n",
        "# Bur logloss of a dummy prediction always answering the average value \n",
        "y_mean = y[:,0].mean()\n",
        "Hy =  -y_mean * log( y_mean) - (1-y_mean) *log(1-y_mean)\n",
        "print( Hy )\n",
        "# ~ 0.3239\n",
        "# So 0.26 is better than random but is only better by 20% w.r.t dummy predictor "
      ],
      "execution_count": 5,
      "outputs": [
        {
          "output_type": "stream",
          "name": "stdout",
          "text": [
            "0.32391451592115916\n"
          ]
        }
      ]
    },
    {
      "cell_type": "markdown",
      "metadata": {
        "id": "eRyjTNqEdlY5"
      },
      "source": [
        "\n",
        "\n",
        "2. What is doing the\n",
        "```\n",
        "int(value + key[4:], 16) % D\n",
        "```"
      ]
    },
    {
      "cell_type": "markdown",
      "metadata": {
        "id": "2zATJnrfztz3"
      },
      "source": [
        "**-Answer-**\n",
        "\n",
        "It is computing an index into 1..D, this is used as the memory emplacement to store the parameter corresponding to the value of $x_i$. Performances would be better with a larger value of D (default for Vopal Wabbit is $2^{24}$). This is a weak hash and it would be possible to replace it by a non cryptographic hashkey computation such as [Murmur](https://en.wikipedia.org/wiki/MurmurHash) and/or to use actual hashtable to store the values of the parameters without collision. Note that in some applications reducing the number of collisions can reduce slightly the logloss and this will always be slower.   "
      ]
    },
    {
      "cell_type": "markdown",
      "metadata": {
        "id": "XVbr6_qJDJGG"
      },
      "source": [
        "3. Do we have an intercept term (if not how to add it) ? \n",
        "\n"
      ]
    },
    {
      "cell_type": "code",
      "metadata": {
        "id": "OXNHQziU9DpW"
      },
      "source": [
        "#Answer\n",
        "#There is no intercept in the current code.\n",
        "#See answer to question 5 for a clean addition of it using the position 0 from the array of parameters (could be any other position). This does not impact significantly the loss "
      ],
      "execution_count": 6,
      "outputs": []
    },
    {
      "cell_type": "markdown",
      "metadata": {
        "id": "rbw0Qmp7DJCZ"
      },
      "source": [
        "4. Implement a validation score using the X_valid.csv, y_valid.csv data on a fraction of test data using a  [Normalized Cross Entropy](https://www.nist.gov/system/files/documents/2017/11/30/nce.pdf). $$ NCE = (H(y) - Logloss)/H(y) $$ where H(y) is Shannon entropy of y computed in the natural basis (2 may be a better choice but as we computed the log loss in the natural basis, it is better to keep using it).\n",
        "\n",
        "Now allows to iterate several times accoss the dataset 10 times. Are you overfitting?"
      ]
    },
    {
      "cell_type": "code",
      "metadata": {
        "colab": {
          "base_uri": "https://localhost:8080/"
        },
        "id": "qDdbMJifEx2k",
        "outputId": "8bceb5fd-8650-4bbb-a24c-060b3b7e4cb9"
      },
      "source": [
        "#First note that we in fact computer the entropy of y at question 1 and it is better to avoid to recompute it at each call\n",
        "#It may be better to compute it on the complete dataset but train is good enough and faster \n",
        "\n",
        "#y_data = np.genfromtxt('y_train.csv', delimiter=',', skip_header=1)\n",
        "#y_mean = y_data[:,0].mean()\n",
        "#Hy = -y_mean * log( y_mean) - (1-y_mean) *log(1-y_mean)\n",
        "\n",
        "\n",
        "X_valid = 'X_valid.csv'\n",
        "y_valid = 'y_valid.csv'\n",
        "\n",
        "D = 2 ** 20   \n",
        "alpha = .1    \n",
        "\n",
        "\n",
        "# Since this always the same data for the validation loss  we  should pin them to memory to iterate faster\n",
        "# Since the model is stored in the w we add  it as an argument but w is not usable without the function get_x and D\n",
        "# The cleanest code would decide that all of that should be stored in an object \"Model\" \n",
        "def compute_validation_loss(w, D):\n",
        "    ### TODO Complete this function ###\n",
        "    #ANSWER\n",
        "    val_loss = 0 \n",
        "    for t, (row, y)  in enumerate(zip(DictReader(open(X_valid)), DictReader(open(y_valid)))):\n",
        "      x = get_x(row, D)\n",
        "      p = get_p(x, w)\n",
        "      target = float(y['click'])\n",
        "      val_loss += logloss(p, target)\n",
        "    return val_loss/t\n",
        "\n",
        "\n",
        "w = [0.] * D  \n",
        "n = [0.] * D\n",
        "loss = 0.\n",
        "n_epochs = 10\n",
        "n_updates = 0\n",
        "training_losses = [] #To stores our training losses after each 10k updates \n",
        "validation_losses = [] #Same for validation\n",
        "\n",
        "for e in range(n_epochs):\n",
        "  training_loss = 0 #We reset to 0 the training at the begginning of each epoch to have a better idea of the current performance on the training set\n",
        "  for t, (row, y)  in enumerate(zip(DictReader(open(X_train)), DictReader(open(y_train)))):\n",
        "      x = get_x(row, D)\n",
        "      p = get_p(x, w)\n",
        "      target = float(y['click'])\n",
        "      training_loss += logloss(p, target)\n",
        "      if n_updates% 10000 == 0 and n_updates>1:\n",
        "          training_losses.append( training_loss/t )\n",
        "          validation_losses.append( compute_validation_loss(w, D) )\n",
        "          #We reuse the value of Hy computed precedently \n",
        "          print('%s\\tupdates: %d\\tcurrent logloss on train: %f\\tcurrent logloss on validation: %f \\tNCE on validation %f' % (\n",
        "              datetime.now(), n_updates, training_losses[-1], validation_losses[-1], (Hy-validation_losses[-1])/Hy ))\n",
        "          \n",
        "      w, n = update_w(w, n, x, p, target)\n",
        "      n_updates += 1\n"
      ],
      "execution_count": 7,
      "outputs": [
        {
          "output_type": "stream",
          "name": "stdout",
          "text": [
            "2021-12-21 15:20:48.518950\tupdates: 10000\tcurrent logloss on train: 0.287254\tcurrent logloss on validation: 0.270539 \tNCE on validation 0.164783\n",
            "2021-12-21 15:20:49.411618\tupdates: 20000\tcurrent logloss on train: 0.270824\tcurrent logloss on validation: 0.264751 \tNCE on validation 0.182653\n",
            "2021-12-21 15:20:50.038632\tupdates: 30000\tcurrent logloss on train: 0.265079\tcurrent logloss on validation: 0.261971 \tNCE on validation 0.191235\n",
            "2021-12-21 15:20:50.662314\tupdates: 40000\tcurrent logloss on train: 0.265768\tcurrent logloss on validation: 0.259466 \tNCE on validation 0.198967\n",
            "2021-12-21 15:20:51.286401\tupdates: 50000\tcurrent logloss on train: 0.265401\tcurrent logloss on validation: 0.258067 \tNCE on validation 0.203286\n",
            "2021-12-21 15:20:51.907655\tupdates: 60000\tcurrent logloss on train: 0.265177\tcurrent logloss on validation: 0.256756 \tNCE on validation 0.207334\n",
            "2021-12-21 15:20:52.531631\tupdates: 70000\tcurrent logloss on train: 0.264792\tcurrent logloss on validation: 0.255738 \tNCE on validation 0.210477\n",
            "2021-12-21 15:20:53.167258\tupdates: 80000\tcurrent logloss on train: 0.262718\tcurrent logloss on validation: 0.255090 \tNCE on validation 0.212476\n",
            "2021-12-21 15:20:53.790755\tupdates: 90000\tcurrent logloss on train: 0.261705\tcurrent logloss on validation: 0.254110 \tNCE on validation 0.215502\n",
            "2021-12-21 15:20:54.423430\tupdates: 100000\tcurrent logloss on train: 0.260590\tcurrent logloss on validation: 0.253503 \tNCE on validation 0.217377\n",
            "2021-12-21 15:20:55.047336\tupdates: 110000\tcurrent logloss on train: 0.237529\tcurrent logloss on validation: 0.253084 \tNCE on validation 0.218670\n",
            "2021-12-21 15:20:55.682023\tupdates: 120000\tcurrent logloss on train: 0.238544\tcurrent logloss on validation: 0.252878 \tNCE on validation 0.219306\n",
            "2021-12-21 15:20:56.314347\tupdates: 130000\tcurrent logloss on train: 0.238648\tcurrent logloss on validation: 0.252633 \tNCE on validation 0.220064\n",
            "2021-12-21 15:20:56.943160\tupdates: 140000\tcurrent logloss on train: 0.243045\tcurrent logloss on validation: 0.252048 \tNCE on validation 0.221870\n",
            "2021-12-21 15:20:57.564680\tupdates: 150000\tcurrent logloss on train: 0.243551\tcurrent logloss on validation: 0.251693 \tNCE on validation 0.222965\n",
            "2021-12-21 15:20:58.178921\tupdates: 160000\tcurrent logloss on train: 0.245426\tcurrent logloss on validation: 0.251340 \tNCE on validation 0.224054\n",
            "2021-12-21 15:20:58.812361\tupdates: 170000\tcurrent logloss on train: 0.246573\tcurrent logloss on validation: 0.251033 \tNCE on validation 0.225001\n",
            "2021-12-21 15:20:59.435708\tupdates: 180000\tcurrent logloss on train: 0.246090\tcurrent logloss on validation: 0.250806 \tNCE on validation 0.225702\n",
            "2021-12-21 15:21:00.056855\tupdates: 190000\tcurrent logloss on train: 0.246010\tcurrent logloss on validation: 0.250520 \tNCE on validation 0.226585\n",
            "2021-12-21 15:21:00.660859\tupdates: 200000\tcurrent logloss on train: 0.245686\tcurrent logloss on validation: 0.250280 \tNCE on validation 0.227327\n",
            "2021-12-21 15:21:01.302715\tupdates: 210000\tcurrent logloss on train: 0.238281\tcurrent logloss on validation: 0.250143 \tNCE on validation 0.227751\n",
            "2021-12-21 15:21:01.916450\tupdates: 220000\tcurrent logloss on train: 0.235191\tcurrent logloss on validation: 0.250101 \tNCE on validation 0.227880\n",
            "2021-12-21 15:21:02.543080\tupdates: 230000\tcurrent logloss on train: 0.234934\tcurrent logloss on validation: 0.249838 \tNCE on validation 0.228690\n",
            "2021-12-21 15:21:03.170542\tupdates: 240000\tcurrent logloss on train: 0.237139\tcurrent logloss on validation: 0.249703 \tNCE on validation 0.229109\n",
            "2021-12-21 15:21:03.796818\tupdates: 250000\tcurrent logloss on train: 0.237551\tcurrent logloss on validation: 0.249538 \tNCE on validation 0.229618\n",
            "2021-12-21 15:21:04.426723\tupdates: 260000\tcurrent logloss on train: 0.240166\tcurrent logloss on validation: 0.249410 \tNCE on validation 0.230014\n",
            "2021-12-21 15:21:05.045836\tupdates: 270000\tcurrent logloss on train: 0.241633\tcurrent logloss on validation: 0.249255 \tNCE on validation 0.230491\n",
            "2021-12-21 15:21:05.674077\tupdates: 280000\tcurrent logloss on train: 0.241731\tcurrent logloss on validation: 0.249101 \tNCE on validation 0.230967\n",
            "2021-12-21 15:21:06.309896\tupdates: 290000\tcurrent logloss on train: 0.240817\tcurrent logloss on validation: 0.248925 \tNCE on validation 0.231509\n",
            "2021-12-21 15:21:06.925617\tupdates: 300000\tcurrent logloss on train: 0.240786\tcurrent logloss on validation: 0.248821 \tNCE on validation 0.231831\n",
            "2021-12-21 15:21:07.553279\tupdates: 310000\tcurrent logloss on train: 0.225544\tcurrent logloss on validation: 0.248705 \tNCE on validation 0.232189\n",
            "2021-12-21 15:21:08.183759\tupdates: 320000\tcurrent logloss on train: 0.230783\tcurrent logloss on validation: 0.248657 \tNCE on validation 0.232336\n",
            "2021-12-21 15:21:08.804975\tupdates: 330000\tcurrent logloss on train: 0.231404\tcurrent logloss on validation: 0.248539 \tNCE on validation 0.232702\n",
            "2021-12-21 15:21:09.434377\tupdates: 340000\tcurrent logloss on train: 0.232770\tcurrent logloss on validation: 0.248429 \tNCE on validation 0.233043\n",
            "2021-12-21 15:21:10.042325\tupdates: 350000\tcurrent logloss on train: 0.235049\tcurrent logloss on validation: 0.248388 \tNCE on validation 0.233167\n",
            "2021-12-21 15:21:10.671062\tupdates: 360000\tcurrent logloss on train: 0.236597\tcurrent logloss on validation: 0.248317 \tNCE on validation 0.233386\n",
            "2021-12-21 15:21:11.308045\tupdates: 370000\tcurrent logloss on train: 0.238157\tcurrent logloss on validation: 0.248200 \tNCE on validation 0.233750\n",
            "2021-12-21 15:21:11.911393\tupdates: 380000\tcurrent logloss on train: 0.238482\tcurrent logloss on validation: 0.248090 \tNCE on validation 0.234087\n",
            "2021-12-21 15:21:12.539784\tupdates: 390000\tcurrent logloss on train: 0.237827\tcurrent logloss on validation: 0.248001 \tNCE on validation 0.234362\n",
            "2021-12-21 15:21:13.160820\tupdates: 400000\tcurrent logloss on train: 0.237981\tcurrent logloss on validation: 0.247928 \tNCE on validation 0.234587\n",
            "2021-12-21 15:21:13.790876\tupdates: 410000\tcurrent logloss on train: 0.213769\tcurrent logloss on validation: 0.247798 \tNCE on validation 0.234991\n",
            "2021-12-21 15:21:14.433780\tupdates: 420000\tcurrent logloss on train: 0.234269\tcurrent logloss on validation: 0.247798 \tNCE on validation 0.234989\n",
            "2021-12-21 15:21:15.049180\tupdates: 430000\tcurrent logloss on train: 0.228719\tcurrent logloss on validation: 0.247765 \tNCE on validation 0.235091\n",
            "2021-12-21 15:21:15.677452\tupdates: 440000\tcurrent logloss on train: 0.227963\tcurrent logloss on validation: 0.247783 \tNCE on validation 0.235036\n",
            "2021-12-21 15:21:16.315916\tupdates: 450000\tcurrent logloss on train: 0.231966\tcurrent logloss on validation: 0.247609 \tNCE on validation 0.235572\n",
            "2021-12-21 15:21:16.963333\tupdates: 460000\tcurrent logloss on train: 0.233478\tcurrent logloss on validation: 0.247650 \tNCE on validation 0.235446\n",
            "2021-12-21 15:21:17.592069\tupdates: 470000\tcurrent logloss on train: 0.235316\tcurrent logloss on validation: 0.247553 \tNCE on validation 0.235746\n",
            "2021-12-21 15:21:18.204807\tupdates: 480000\tcurrent logloss on train: 0.236021\tcurrent logloss on validation: 0.247458 \tNCE on validation 0.236041\n",
            "2021-12-21 15:21:18.844586\tupdates: 490000\tcurrent logloss on train: 0.235435\tcurrent logloss on validation: 0.247432 \tNCE on validation 0.236120\n",
            "2021-12-21 15:21:19.475241\tupdates: 500000\tcurrent logloss on train: 0.235581\tcurrent logloss on validation: 0.247310 \tNCE on validation 0.236496\n",
            "2021-12-21 15:21:20.089240\tupdates: 510000\tcurrent logloss on train: 0.235563\tcurrent logloss on validation: 0.247251 \tNCE on validation 0.236677\n",
            "2021-12-21 15:21:20.711405\tupdates: 520000\tcurrent logloss on train: 0.227238\tcurrent logloss on validation: 0.247202 \tNCE on validation 0.236831\n",
            "2021-12-21 15:21:21.326918\tupdates: 530000\tcurrent logloss on train: 0.226341\tcurrent logloss on validation: 0.247252 \tNCE on validation 0.236675\n",
            "2021-12-21 15:21:21.961047\tupdates: 540000\tcurrent logloss on train: 0.226299\tcurrent logloss on validation: 0.247266 \tNCE on validation 0.236631\n",
            "2021-12-21 15:21:22.601521\tupdates: 550000\tcurrent logloss on train: 0.230462\tcurrent logloss on validation: 0.247137 \tNCE on validation 0.237031\n",
            "2021-12-21 15:21:23.218100\tupdates: 560000\tcurrent logloss on train: 0.230912\tcurrent logloss on validation: 0.247103 \tNCE on validation 0.237135\n",
            "2021-12-21 15:21:23.850661\tupdates: 570000\tcurrent logloss on train: 0.233196\tcurrent logloss on validation: 0.247072 \tNCE on validation 0.237230\n",
            "2021-12-21 15:21:24.465602\tupdates: 580000\tcurrent logloss on train: 0.234426\tcurrent logloss on validation: 0.247025 \tNCE on validation 0.237377\n",
            "2021-12-21 15:21:25.102241\tupdates: 590000\tcurrent logloss on train: 0.233645\tcurrent logloss on validation: 0.246962 \tNCE on validation 0.237571\n",
            "2021-12-21 15:21:25.731523\tupdates: 600000\tcurrent logloss on train: 0.233772\tcurrent logloss on validation: 0.246899 \tNCE on validation 0.237765\n",
            "2021-12-21 15:21:26.350454\tupdates: 610000\tcurrent logloss on train: 0.233713\tcurrent logloss on validation: 0.246848 \tNCE on validation 0.237923\n",
            "2021-12-21 15:21:26.979236\tupdates: 620000\tcurrent logloss on train: 0.229271\tcurrent logloss on validation: 0.246833 \tNCE on validation 0.237968\n",
            "2021-12-21 15:21:27.613928\tupdates: 630000\tcurrent logloss on train: 0.226614\tcurrent logloss on validation: 0.246867 \tNCE on validation 0.237865\n",
            "2021-12-21 15:21:28.240324\tupdates: 640000\tcurrent logloss on train: 0.225520\tcurrent logloss on validation: 0.246799 \tNCE on validation 0.238074\n",
            "2021-12-21 15:21:28.864575\tupdates: 650000\tcurrent logloss on train: 0.228533\tcurrent logloss on validation: 0.246767 \tNCE on validation 0.238174\n",
            "2021-12-21 15:21:29.485606\tupdates: 660000\tcurrent logloss on train: 0.228884\tcurrent logloss on validation: 0.246768 \tNCE on validation 0.238168\n",
            "2021-12-21 15:21:30.116326\tupdates: 670000\tcurrent logloss on train: 0.230977\tcurrent logloss on validation: 0.246741 \tNCE on validation 0.238252\n",
            "2021-12-21 15:21:30.745947\tupdates: 680000\tcurrent logloss on train: 0.232789\tcurrent logloss on validation: 0.246694 \tNCE on validation 0.238398\n",
            "2021-12-21 15:21:31.364634\tupdates: 690000\tcurrent logloss on train: 0.232805\tcurrent logloss on validation: 0.246660 \tNCE on validation 0.238504\n",
            "2021-12-21 15:21:31.985954\tupdates: 700000\tcurrent logloss on train: 0.232038\tcurrent logloss on validation: 0.246593 \tNCE on validation 0.238711\n",
            "2021-12-21 15:21:32.614980\tupdates: 710000\tcurrent logloss on train: 0.232197\tcurrent logloss on validation: 0.246570 \tNCE on validation 0.238781\n",
            "2021-12-21 15:21:33.243748\tupdates: 720000\tcurrent logloss on train: 0.223088\tcurrent logloss on validation: 0.246537 \tNCE on validation 0.238882\n",
            "2021-12-21 15:21:33.880603\tupdates: 730000\tcurrent logloss on train: 0.223746\tcurrent logloss on validation: 0.246543 \tNCE on validation 0.238865\n",
            "2021-12-21 15:21:34.507975\tupdates: 740000\tcurrent logloss on train: 0.224634\tcurrent logloss on validation: 0.246508 \tNCE on validation 0.238972\n",
            "2021-12-21 15:21:35.137400\tupdates: 750000\tcurrent logloss on train: 0.225959\tcurrent logloss on validation: 0.246475 \tNCE on validation 0.239074\n",
            "2021-12-21 15:21:35.762113\tupdates: 760000\tcurrent logloss on train: 0.227947\tcurrent logloss on validation: 0.246485 \tNCE on validation 0.239042\n",
            "2021-12-21 15:21:36.373729\tupdates: 770000\tcurrent logloss on train: 0.229502\tcurrent logloss on validation: 0.246486 \tNCE on validation 0.239040\n",
            "2021-12-21 15:21:37.004522\tupdates: 780000\tcurrent logloss on train: 0.231095\tcurrent logloss on validation: 0.246435 \tNCE on validation 0.239198\n",
            "2021-12-21 15:21:37.632485\tupdates: 790000\tcurrent logloss on train: 0.231416\tcurrent logloss on validation: 0.246407 \tNCE on validation 0.239285\n",
            "2021-12-21 15:21:38.257473\tupdates: 800000\tcurrent logloss on train: 0.230758\tcurrent logloss on validation: 0.246358 \tNCE on validation 0.239434\n",
            "2021-12-21 15:21:38.882913\tupdates: 810000\tcurrent logloss on train: 0.231092\tcurrent logloss on validation: 0.246344 \tNCE on validation 0.239479\n",
            "2021-12-21 15:21:39.503108\tupdates: 820000\tcurrent logloss on train: 0.244233\tcurrent logloss on validation: 0.246298 \tNCE on validation 0.239622\n",
            "2021-12-21 15:21:40.137495\tupdates: 830000\tcurrent logloss on train: 0.228140\tcurrent logloss on validation: 0.246305 \tNCE on validation 0.239597\n",
            "2021-12-21 15:21:40.754020\tupdates: 840000\tcurrent logloss on train: 0.223423\tcurrent logloss on validation: 0.246305 \tNCE on validation 0.239598\n",
            "2021-12-21 15:21:41.387534\tupdates: 850000\tcurrent logloss on train: 0.222693\tcurrent logloss on validation: 0.246326 \tNCE on validation 0.239534\n",
            "2021-12-21 15:21:42.015897\tupdates: 860000\tcurrent logloss on train: 0.225968\tcurrent logloss on validation: 0.246248 \tNCE on validation 0.239776\n",
            "2021-12-21 15:21:42.625032\tupdates: 870000\tcurrent logloss on train: 0.227534\tcurrent logloss on validation: 0.246298 \tNCE on validation 0.239622\n",
            "2021-12-21 15:21:43.252070\tupdates: 880000\tcurrent logloss on train: 0.229390\tcurrent logloss on validation: 0.246261 \tNCE on validation 0.239733\n",
            "2021-12-21 15:21:43.876485\tupdates: 890000\tcurrent logloss on train: 0.230098\tcurrent logloss on validation: 0.246238 \tNCE on validation 0.239806\n",
            "2021-12-21 15:21:44.492102\tupdates: 900000\tcurrent logloss on train: 0.229280\tcurrent logloss on validation: 0.246230 \tNCE on validation 0.239829\n",
            "2021-12-21 15:21:45.124489\tupdates: 910000\tcurrent logloss on train: 0.229793\tcurrent logloss on validation: 0.246175 \tNCE on validation 0.239999\n",
            "2021-12-21 15:21:45.746631\tupdates: 920000\tcurrent logloss on train: 0.229733\tcurrent logloss on validation: 0.246136 \tNCE on validation 0.240119\n",
            "2021-12-21 15:21:46.372819\tupdates: 930000\tcurrent logloss on train: 0.222926\tcurrent logloss on validation: 0.246126 \tNCE on validation 0.240152\n",
            "2021-12-21 15:21:47.009180\tupdates: 940000\tcurrent logloss on train: 0.221634\tcurrent logloss on validation: 0.246166 \tNCE on validation 0.240027\n",
            "2021-12-21 15:21:47.628528\tupdates: 950000\tcurrent logloss on train: 0.221079\tcurrent logloss on validation: 0.246199 \tNCE on validation 0.239926\n",
            "2021-12-21 15:21:48.251568\tupdates: 960000\tcurrent logloss on train: 0.225309\tcurrent logloss on validation: 0.246128 \tNCE on validation 0.240144\n",
            "2021-12-21 15:21:48.868888\tupdates: 970000\tcurrent logloss on train: 0.225815\tcurrent logloss on validation: 0.246113 \tNCE on validation 0.240191\n",
            "2021-12-21 15:21:49.494594\tupdates: 980000\tcurrent logloss on train: 0.228065\tcurrent logloss on validation: 0.246119 \tNCE on validation 0.240173\n",
            "2021-12-21 15:21:50.120656\tupdates: 990000\tcurrent logloss on train: 0.229335\tcurrent logloss on validation: 0.246106 \tNCE on validation 0.240213\n",
            "2021-12-21 15:21:50.736274\tupdates: 1000000\tcurrent logloss on train: 0.228537\tcurrent logloss on validation: 0.246077 \tNCE on validation 0.240303\n",
            "2021-12-21 15:21:51.358237\tupdates: 1010000\tcurrent logloss on train: 0.228706\tcurrent logloss on validation: 0.246035 \tNCE on validation 0.240434\n",
            "2021-12-21 15:21:51.978844\tupdates: 1020000\tcurrent logloss on train: 0.228641\tcurrent logloss on validation: 0.246017 \tNCE on validation 0.240486\n"
          ]
        }
      ]
    },
    {
      "cell_type": "code",
      "metadata": {
        "colab": {
          "base_uri": "https://localhost:8080/",
          "height": 281
        },
        "id": "hi4NZ_a4H0Oy",
        "outputId": "2cb1870e-9025-45f7-c140-8a52a68cd282"
      },
      "source": [
        "#Produce a plot of the losses\n",
        "#ANSWER\n",
        "import matplotlib.pyplot as plt\n",
        "#from matplotlib.pyplot import figure\n",
        "#figure(figsize=(4, 3), dpi=150) #Colab does only support inline display but you can change figure size with this\n",
        "\n",
        "x = [10000*i for i in range(len(training_losses))]\n",
        "plt.plot(x, training_losses, label='Train')\n",
        "plt.plot(x, validation_losses, label='Validation')\n",
        "plt.xlabel('Number of updates')\n",
        "plt.ylabel('Log Loss')\n",
        "plt.legend( ('Train', 'Validation') )\n",
        "plt.show()\n",
        "# overfitting, the bumps on the training loss are due to the reset after each epoch. => Not so good to reset the estimation of the loss  \n",
        "#Log loss is ploted NCE is fine too (anyway this is only a rescaling)"
      ],
      "execution_count": 8,
      "outputs": [
        {
          "output_type": "display_data",
          "data": {
            "image/png": "[encoded data removed]",
            "text/plain": [
              "<Figure size 432x288 with 1 Axes>"
            ]
          },
          "metadata": {
            "needs_background": "light"
          }
        }
      ]
    },
    {
      "cell_type": "markdown",
      "metadata": {
        "id": "0_CPkIovFIPg"
      },
      "source": [
        "5. Modify the code to enable the use of all quadratic features. This is doable only by modifying the function ```get_x``` \n"
      ]
    },
    {
      "cell_type": "code",
      "metadata": {
        "id": "jVcD_0PnevRB"
      },
      "source": [
        "#ANSWER with ony one vector for parameters. This is also possible to split the first and second order terms\n",
        "def get_x(csv_row, D):\n",
        "     x = []\n",
        "     # normal features\n",
        "     for key, value in csv_row.items():\n",
        "         index = int(value + key[4:], 16) % D  \n",
        "         x.append(index)\n",
        "     # second order terms\n",
        "     L = len(x)\n",
        "     for i in range(L):\n",
        "         for j in range(i+1, L):\n",
        "             index = (x[i] * x[j]) % D  # second weakest hash\n",
        "             x.append(index)\n",
        "\n",
        "     # bias\n",
        "     x.append(0)\n",
        "\n",
        "     return x"
      ],
      "execution_count": 9,
      "outputs": []
    },
    {
      "cell_type": "markdown",
      "metadata": {
        "id": "dw9nXonCevel"
      },
      "source": [
        "4. After how many updates are you overfitting ? Same question after adding a L2 regularisation term with ponderation $5\\cdot 10^{-4}$ and/or with a the learning rate of 0.01. (side question should we include the bias term in the regularization ?)\n",
        "\n"
      ]
    },
    {
      "cell_type": "code",
      "metadata": {
        "id": "FUxq-KU_FIE1",
        "colab": {
          "base_uri": "https://localhost:8080/"
        },
        "outputId": "00b09b0d-cdc4-41f7-babd-5c8868f2e064"
      },
      "source": [
        "w = [0.] * D  \n",
        "n = [0.] * D\n",
        "loss = 0.\n",
        "n_epochs = 10\n",
        "n_updates = 0\n",
        "training_losses = [] #To stores our training losses after each 10k updates \n",
        "validation_losses = [] #Same for validation\n",
        "\n",
        "for e in range(n_epochs):\n",
        "  training_loss = 0 #We reset to 0 the training at the begginning of each epoch to have a better idea of the current performance on the training set\n",
        "  for t, (row, y)  in enumerate(zip(DictReader(open(X_train)), DictReader(open(y_train)))):\n",
        "      x = get_x(row, D)\n",
        "      p = get_p(x, w)\n",
        "      target = float(y['click'])\n",
        "      training_loss += logloss(p, target)\n",
        "      if n_updates% 10000 == 0 and n_updates>1:\n",
        "          training_losses.append( training_loss/t )\n",
        "          validation_losses.append( compute_validation_loss(w, D) )\n",
        "          print('%s\\tupdates: %d\\tcurrent logloss on train: %f\\tcurrent logloss on validation: %f \\tNCE in validation %f' % (\n",
        "              datetime.now(), n_updates, training_losses[-1], validation_losses[-1], (Hy-validation_losses[-1])/Hy ))\n",
        "      w, n = update_w(w, n, x, p, target)\n",
        "      n_updates += 1"
      ],
      "execution_count": 10,
      "outputs": [
        {
          "output_type": "stream",
          "name": "stdout",
          "text": [
            "2021-12-21 15:21:55.791737\tupdates: 10000\tcurrent logloss on train: 0.291079\tcurrent logloss on validation: 0.269238 \tNCE in validation 0.168801\n",
            "2021-12-21 15:21:59.173978\tupdates: 20000\tcurrent logloss on train: 0.275756\tcurrent logloss on validation: 0.262381 \tNCE in validation 0.189969\n",
            "2021-12-21 15:22:02.581319\tupdates: 30000\tcurrent logloss on train: 0.270412\tcurrent logloss on validation: 0.261039 \tNCE in validation 0.194110\n",
            "2021-12-21 15:22:06.034717\tupdates: 40000\tcurrent logloss on train: 0.270709\tcurrent logloss on validation: 0.259100 \tNCE in validation 0.200096\n",
            "2021-12-21 15:22:09.446068\tupdates: 50000\tcurrent logloss on train: 0.269615\tcurrent logloss on validation: 0.259220 \tNCE in validation 0.199727\n",
            "2021-12-21 15:22:12.864608\tupdates: 60000\tcurrent logloss on train: 0.269340\tcurrent logloss on validation: 0.258151 \tNCE in validation 0.203027\n",
            "2021-12-21 15:22:16.265682\tupdates: 70000\tcurrent logloss on train: 0.268499\tcurrent logloss on validation: 0.256990 \tNCE in validation 0.206612\n",
            "2021-12-21 15:22:19.677291\tupdates: 80000\tcurrent logloss on train: 0.266172\tcurrent logloss on validation: 0.256852 \tNCE in validation 0.207038\n",
            "2021-12-21 15:22:23.063424\tupdates: 90000\tcurrent logloss on train: 0.264738\tcurrent logloss on validation: 0.254087 \tNCE in validation 0.215574\n",
            "2021-12-21 15:22:26.884418\tupdates: 100000\tcurrent logloss on train: 0.263739\tcurrent logloss on validation: 0.253509 \tNCE in validation 0.217358\n",
            "2021-12-21 15:22:31.167983\tupdates: 110000\tcurrent logloss on train: 0.082790\tcurrent logloss on validation: 0.254919 \tNCE in validation 0.213006\n",
            "2021-12-21 15:22:34.559718\tupdates: 120000\tcurrent logloss on train: 0.104013\tcurrent logloss on validation: 0.254715 \tNCE in validation 0.213636\n",
            "2021-12-21 15:22:37.968621\tupdates: 130000\tcurrent logloss on train: 0.116262\tcurrent logloss on validation: 0.255177 \tNCE in validation 0.212210\n",
            "2021-12-21 15:22:41.372796\tupdates: 140000\tcurrent logloss on train: 0.127401\tcurrent logloss on validation: 0.255091 \tNCE in validation 0.212474\n",
            "2021-12-21 15:22:44.756235\tupdates: 150000\tcurrent logloss on train: 0.134056\tcurrent logloss on validation: 0.256312 \tNCE in validation 0.208706\n",
            "2021-12-21 15:22:48.173736\tupdates: 160000\tcurrent logloss on train: 0.141087\tcurrent logloss on validation: 0.256302 \tNCE in validation 0.208735\n",
            "2021-12-21 15:22:51.559732\tupdates: 170000\tcurrent logloss on train: 0.146106\tcurrent logloss on validation: 0.256384 \tNCE in validation 0.208482\n",
            "2021-12-21 15:22:54.977992\tupdates: 180000\tcurrent logloss on train: 0.149404\tcurrent logloss on validation: 0.257162 \tNCE in validation 0.206081\n",
            "2021-12-21 15:22:58.410137\tupdates: 190000\tcurrent logloss on train: 0.152409\tcurrent logloss on validation: 0.256329 \tNCE in validation 0.208654\n",
            "2021-12-21 15:23:01.824367\tupdates: 200000\tcurrent logloss on train: 0.155480\tcurrent logloss on validation: 0.256356 \tNCE in validation 0.208570\n",
            "2021-12-21 15:23:05.223759\tupdates: 210000\tcurrent logloss on train: 0.070614\tcurrent logloss on validation: 0.257721 \tNCE in validation 0.204354\n",
            "2021-12-21 15:23:08.655235\tupdates: 220000\tcurrent logloss on train: 0.089958\tcurrent logloss on validation: 0.258793 \tNCE in validation 0.201046\n",
            "2021-12-21 15:23:12.089837\tupdates: 230000\tcurrent logloss on train: 0.098609\tcurrent logloss on validation: 0.257045 \tNCE in validation 0.206441\n",
            "2021-12-21 15:23:15.532984\tupdates: 240000\tcurrent logloss on train: 0.106467\tcurrent logloss on validation: 0.257520 \tNCE in validation 0.204974\n",
            "2021-12-21 15:23:18.950452\tupdates: 250000\tcurrent logloss on train: 0.111405\tcurrent logloss on validation: 0.258440 \tNCE in validation 0.202135\n",
            "2021-12-21 15:23:22.399083\tupdates: 260000\tcurrent logloss on train: 0.117270\tcurrent logloss on validation: 0.259152 \tNCE in validation 0.199937\n",
            "2021-12-21 15:23:25.835834\tupdates: 270000\tcurrent logloss on train: 0.121509\tcurrent logloss on validation: 0.259218 \tNCE in validation 0.199732\n",
            "2021-12-21 15:23:29.316903\tupdates: 280000\tcurrent logloss on train: 0.124228\tcurrent logloss on validation: 0.259384 \tNCE in validation 0.199221\n",
            "2021-12-21 15:23:32.741886\tupdates: 290000\tcurrent logloss on train: 0.126190\tcurrent logloss on validation: 0.259242 \tNCE in validation 0.199660\n",
            "2021-12-21 15:23:36.169980\tupdates: 300000\tcurrent logloss on train: 0.128702\tcurrent logloss on validation: 0.259369 \tNCE in validation 0.199266\n",
            "2021-12-21 15:23:39.568971\tupdates: 310000\tcurrent logloss on train: 0.056635\tcurrent logloss on validation: 0.261924 \tNCE in validation 0.191380\n",
            "2021-12-21 15:23:42.996770\tupdates: 320000\tcurrent logloss on train: 0.078948\tcurrent logloss on validation: 0.262107 \tNCE in validation 0.190813\n",
            "2021-12-21 15:23:46.424301\tupdates: 330000\tcurrent logloss on train: 0.087818\tcurrent logloss on validation: 0.260168 \tNCE in validation 0.196799\n",
            "2021-12-21 15:23:49.852740\tupdates: 340000\tcurrent logloss on train: 0.094030\tcurrent logloss on validation: 0.259990 \tNCE in validation 0.197349\n",
            "2021-12-21 15:23:53.306609\tupdates: 350000\tcurrent logloss on train: 0.098940\tcurrent logloss on validation: 0.260945 \tNCE in validation 0.194402\n",
            "2021-12-21 15:23:56.716910\tupdates: 360000\tcurrent logloss on train: 0.103238\tcurrent logloss on validation: 0.261971 \tNCE in validation 0.191233\n",
            "2021-12-21 15:24:00.118068\tupdates: 370000\tcurrent logloss on train: 0.107132\tcurrent logloss on validation: 0.261937 \tNCE in validation 0.191340\n",
            "2021-12-21 15:24:03.508955\tupdates: 380000\tcurrent logloss on train: 0.109490\tcurrent logloss on validation: 0.262130 \tNCE in validation 0.190743\n",
            "2021-12-21 15:24:06.892794\tupdates: 390000\tcurrent logloss on train: 0.111198\tcurrent logloss on validation: 0.262319 \tNCE in validation 0.190158\n",
            "2021-12-21 15:24:10.308851\tupdates: 400000\tcurrent logloss on train: 0.113106\tcurrent logloss on validation: 0.262243 \tNCE in validation 0.190394\n",
            "2021-12-21 15:24:13.734287\tupdates: 410000\tcurrent logloss on train: 0.042850\tcurrent logloss on validation: 0.262278 \tNCE in validation 0.190285\n",
            "2021-12-21 15:24:17.145746\tupdates: 420000\tcurrent logloss on train: 0.073430\tcurrent logloss on validation: 0.263469 \tNCE in validation 0.186610\n",
            "2021-12-21 15:24:20.561271\tupdates: 430000\tcurrent logloss on train: 0.079503\tcurrent logloss on validation: 0.263770 \tNCE in validation 0.185681\n",
            "2021-12-21 15:24:23.983382\tupdates: 440000\tcurrent logloss on train: 0.084493\tcurrent logloss on validation: 0.264481 \tNCE in validation 0.183486\n",
            "2021-12-21 15:24:27.400889\tupdates: 450000\tcurrent logloss on train: 0.089738\tcurrent logloss on validation: 0.263453 \tNCE in validation 0.186660\n",
            "2021-12-21 15:24:30.895511\tupdates: 460000\tcurrent logloss on train: 0.093382\tcurrent logloss on validation: 0.264126 \tNCE in validation 0.184582\n",
            "2021-12-21 15:24:34.328210\tupdates: 470000\tcurrent logloss on train: 0.096911\tcurrent logloss on validation: 0.264634 \tNCE in validation 0.183013\n",
            "2021-12-21 15:24:37.744222\tupdates: 480000\tcurrent logloss on train: 0.099303\tcurrent logloss on validation: 0.264660 \tNCE in validation 0.182932\n",
            "2021-12-21 15:24:41.180174\tupdates: 490000\tcurrent logloss on train: 0.100564\tcurrent logloss on validation: 0.265699 \tNCE in validation 0.179724\n",
            "2021-12-21 15:24:44.586956\tupdates: 500000\tcurrent logloss on train: 0.102256\tcurrent logloss on validation: 0.264775 \tNCE in validation 0.182579\n",
            "2021-12-21 15:24:47.993370\tupdates: 510000\tcurrent logloss on train: 0.103972\tcurrent logloss on validation: 0.264869 \tNCE in validation 0.182287\n",
            "2021-12-21 15:24:51.419539\tupdates: 520000\tcurrent logloss on train: 0.064607\tcurrent logloss on validation: 0.266923 \tNCE in validation 0.175946\n",
            "2021-12-21 15:24:54.834072\tupdates: 530000\tcurrent logloss on train: 0.073336\tcurrent logloss on validation: 0.267625 \tNCE in validation 0.173780\n",
            "2021-12-21 15:24:58.276251\tupdates: 540000\tcurrent logloss on train: 0.078056\tcurrent logloss on validation: 0.267068 \tNCE in validation 0.175500\n",
            "2021-12-21 15:25:01.741735\tupdates: 550000\tcurrent logloss on train: 0.083151\tcurrent logloss on validation: 0.265899 \tNCE in validation 0.179108\n",
            "2021-12-21 15:25:05.168624\tupdates: 560000\tcurrent logloss on train: 0.085921\tcurrent logloss on validation: 0.266222 \tNCE in validation 0.178111\n",
            "2021-12-21 15:25:08.636628\tupdates: 570000\tcurrent logloss on train: 0.089296\tcurrent logloss on validation: 0.266767 \tNCE in validation 0.176428\n",
            "2021-12-21 15:25:12.039201\tupdates: 580000\tcurrent logloss on train: 0.091726\tcurrent logloss on validation: 0.266649 \tNCE in validation 0.176793\n",
            "2021-12-21 15:25:15.477502\tupdates: 590000\tcurrent logloss on train: 0.092816\tcurrent logloss on validation: 0.267574 \tNCE in validation 0.173936\n",
            "2021-12-21 15:25:18.912342\tupdates: 600000\tcurrent logloss on train: 0.094143\tcurrent logloss on validation: 0.266993 \tNCE in validation 0.175729\n",
            "2021-12-21 15:25:22.374760\tupdates: 610000\tcurrent logloss on train: 0.095650\tcurrent logloss on validation: 0.267046 \tNCE in validation 0.175567\n",
            "2021-12-21 15:25:25.807867\tupdates: 620000\tcurrent logloss on train: 0.059571\tcurrent logloss on validation: 0.268641 \tNCE in validation 0.170642\n",
            "2021-12-21 15:25:29.263626\tupdates: 630000\tcurrent logloss on train: 0.069418\tcurrent logloss on validation: 0.270239 \tNCE in validation 0.165709\n",
            "2021-12-21 15:25:32.719098\tupdates: 640000\tcurrent logloss on train: 0.073278\tcurrent logloss on validation: 0.268811 \tNCE in validation 0.170117\n",
            "2021-12-21 15:25:36.190043\tupdates: 650000\tcurrent logloss on train: 0.077652\tcurrent logloss on validation: 0.268070 \tNCE in validation 0.172404\n",
            "2021-12-21 15:25:39.638891\tupdates: 660000\tcurrent logloss on train: 0.080120\tcurrent logloss on validation: 0.268598 \tNCE in validation 0.170774\n",
            "2021-12-21 15:25:43.092822\tupdates: 670000\tcurrent logloss on train: 0.083255\tcurrent logloss on validation: 0.269255 \tNCE in validation 0.168746\n",
            "2021-12-21 15:25:46.546743\tupdates: 680000\tcurrent logloss on train: 0.085523\tcurrent logloss on validation: 0.268915 \tNCE in validation 0.169797\n",
            "2021-12-21 15:25:49.966122\tupdates: 690000\tcurrent logloss on train: 0.086835\tcurrent logloss on validation: 0.269043 \tNCE in validation 0.169402\n",
            "2021-12-21 15:25:53.390393\tupdates: 700000\tcurrent logloss on train: 0.087712\tcurrent logloss on validation: 0.269603 \tNCE in validation 0.167672\n",
            "2021-12-21 15:25:56.825942\tupdates: 710000\tcurrent logloss on train: 0.089120\tcurrent logloss on validation: 0.269233 \tNCE in validation 0.168813\n",
            "2021-12-21 15:26:00.240749\tupdates: 720000\tcurrent logloss on train: 0.051256\tcurrent logloss on validation: 0.270868 \tNCE in validation 0.163766\n",
            "2021-12-21 15:26:03.623240\tupdates: 730000\tcurrent logloss on train: 0.064343\tcurrent logloss on validation: 0.272293 \tNCE in validation 0.159369\n",
            "2021-12-21 15:26:07.040946\tupdates: 740000\tcurrent logloss on train: 0.069290\tcurrent logloss on validation: 0.270873 \tNCE in validation 0.163751\n",
            "2021-12-21 15:26:10.435822\tupdates: 750000\tcurrent logloss on train: 0.072859\tcurrent logloss on validation: 0.270360 \tNCE in validation 0.165336\n",
            "2021-12-21 15:26:13.858348\tupdates: 760000\tcurrent logloss on train: 0.075538\tcurrent logloss on validation: 0.270821 \tNCE in validation 0.163914\n",
            "2021-12-21 15:26:17.259608\tupdates: 770000\tcurrent logloss on train: 0.078217\tcurrent logloss on validation: 0.271172 \tNCE in validation 0.162828\n",
            "2021-12-21 15:26:20.673843\tupdates: 780000\tcurrent logloss on train: 0.080500\tcurrent logloss on validation: 0.270943 \tNCE in validation 0.163534\n",
            "2021-12-21 15:26:24.091104\tupdates: 790000\tcurrent logloss on train: 0.081861\tcurrent logloss on validation: 0.271277 \tNCE in validation 0.162504\n",
            "2021-12-21 15:26:27.532316\tupdates: 800000\tcurrent logloss on train: 0.082674\tcurrent logloss on validation: 0.272012 \tNCE in validation 0.160236\n",
            "2021-12-21 15:26:30.964059\tupdates: 810000\tcurrent logloss on train: 0.083747\tcurrent logloss on validation: 0.271436 \tNCE in validation 0.162014\n",
            "2021-12-21 15:26:34.420179\tupdates: 820000\tcurrent logloss on train: 0.044706\tcurrent logloss on validation: 0.271504 \tNCE in validation 0.161803\n",
            "2021-12-21 15:26:37.838068\tupdates: 830000\tcurrent logloss on train: 0.061663\tcurrent logloss on validation: 0.273068 \tNCE in validation 0.156975\n",
            "2021-12-21 15:26:41.233652\tupdates: 840000\tcurrent logloss on train: 0.065417\tcurrent logloss on validation: 0.273547 \tNCE in validation 0.155497\n",
            "2021-12-21 15:26:44.649645\tupdates: 850000\tcurrent logloss on train: 0.068197\tcurrent logloss on validation: 0.273836 \tNCE in validation 0.154603\n",
            "2021-12-21 15:26:48.038445\tupdates: 860000\tcurrent logloss on train: 0.071421\tcurrent logloss on validation: 0.272632 \tNCE in validation 0.158321\n",
            "2021-12-21 15:26:51.452313\tupdates: 870000\tcurrent logloss on train: 0.073810\tcurrent logloss on validation: 0.272608 \tNCE in validation 0.158395\n",
            "2021-12-21 15:26:54.904059\tupdates: 880000\tcurrent logloss on train: 0.076068\tcurrent logloss on validation: 0.273238 \tNCE in validation 0.156450\n",
            "2021-12-21 15:26:58.323307\tupdates: 890000\tcurrent logloss on train: 0.077583\tcurrent logloss on validation: 0.273230 \tNCE in validation 0.156474\n",
            "2021-12-21 15:27:01.762247\tupdates: 900000\tcurrent logloss on train: 0.078086\tcurrent logloss on validation: 0.274521 \tNCE in validation 0.152490\n",
            "2021-12-21 15:27:05.168959\tupdates: 910000\tcurrent logloss on train: 0.079250\tcurrent logloss on validation: 0.273532 \tNCE in validation 0.155543\n",
            "2021-12-21 15:27:08.601602\tupdates: 920000\tcurrent logloss on train: 0.080286\tcurrent logloss on validation: 0.273393 \tNCE in validation 0.155972\n",
            "2021-12-21 15:27:12.047459\tupdates: 930000\tcurrent logloss on train: 0.056355\tcurrent logloss on validation: 0.275282 \tNCE in validation 0.150141\n",
            "2021-12-21 15:27:15.483099\tupdates: 940000\tcurrent logloss on train: 0.061984\tcurrent logloss on validation: 0.276435 \tNCE in validation 0.146579\n",
            "2021-12-21 15:27:18.896485\tupdates: 950000\tcurrent logloss on train: 0.064551\tcurrent logloss on validation: 0.275978 \tNCE in validation 0.147992\n",
            "2021-12-21 15:27:22.340858\tupdates: 960000\tcurrent logloss on train: 0.068203\tcurrent logloss on validation: 0.274544 \tNCE in validation 0.152420\n",
            "2021-12-21 15:27:25.762377\tupdates: 970000\tcurrent logloss on train: 0.070045\tcurrent logloss on validation: 0.274340 \tNCE in validation 0.153049\n",
            "2021-12-21 15:27:29.178052\tupdates: 980000\tcurrent logloss on train: 0.072344\tcurrent logloss on validation: 0.274865 \tNCE in validation 0.151426\n",
            "2021-12-21 15:27:32.604620\tupdates: 990000\tcurrent logloss on train: 0.073972\tcurrent logloss on validation: 0.274629 \tNCE in validation 0.152156\n",
            "2021-12-21 15:27:36.021376\tupdates: 1000000\tcurrent logloss on train: 0.074489\tcurrent logloss on validation: 0.275751 \tNCE in validation 0.148691\n",
            "2021-12-21 15:27:39.439164\tupdates: 1010000\tcurrent logloss on train: 0.075348\tcurrent logloss on validation: 0.275181 \tNCE in validation 0.150452\n",
            "2021-12-21 15:27:42.858149\tupdates: 1020000\tcurrent logloss on train: 0.076333\tcurrent logloss on validation: 0.274981 \tNCE in validation 0.151069\n"
          ]
        }
      ]
    },
    {
      "cell_type": "code",
      "metadata": {
        "colab": {
          "base_uri": "https://localhost:8080/",
          "height": 281
        },
        "id": "STKNAlpTNBU-",
        "outputId": "aba32b38-f0c9-4d16-f5cc-4ac4425ef9db"
      },
      "source": [
        "#Produce a plot of the losses\n",
        "#ANSWER\n",
        "x = [10000*i for i in range(len(training_losses))]\n",
        "plt.plot(x, training_losses, label='Train')\n",
        "plt.plot(x, validation_losses, label='Validation')\n",
        "plt.xlabel('Number of updates')\n",
        "plt.ylabel('Log Loss')\n",
        "plt.legend( ('Train', 'Validation') )\n",
        "plt.show()\n",
        "#Clear overfitting.\n",
        "#L2 regularization should help. Smaller step size will help in terms of number of updates but is possibly just slowing the process"
      ],
      "execution_count": 11,
      "outputs": [
        {
          "output_type": "display_data",
          "data": {
            "image/png": "[encoded data removed]",
            "text/plain": [
              "<Figure size 432x288 with 1 Axes>"
            ]
          },
          "metadata": {
            "needs_background": "light"
          }
        }
      ]
    },
    {
      "cell_type": "code",
      "metadata": {
        "colab": {
          "base_uri": "https://localhost:8080/",
          "height": 131
        },
        "id": "yARCrLCyOIgy",
        "outputId": "7b4e890c-1f2c-4084-cac8-fe85a546c9bf"
      },
      "source": [
        "#ANSWER - same stuff with a L2 regularizer (bias term + quad terms)\n",
        "#A lot of settings allows a large difference between train and validation, theses are indeed bad\n",
        "#Remark than combining L1 and L2 is easy and is often named \"elasticnet\"\n",
        "import matplotlib.pyplot as plt\n",
        "import math\n",
        "\n",
        "def update_wL2(w, n, x, p, y, lbd=5e-4):\n",
        "    for i in x:\n",
        "        # L2 reg added here. \n",
        "        w[i] -= ((p - y + lbd * 2 * w[i])  ) * alpha / (sqrt(n[i]) + 1.) \n",
        "        n[i] += 1.\n",
        "    return w, n\n",
        "\n",
        "sign = lambda x: math.copysign(1, x) #python has cumbersome sign function \n",
        "def update_wL1(w, n, x, p, y, lbd=5e-4):\n",
        "    for i in x:\n",
        "        w[i] -= ((p - y + ) * 2 + lbd * sign(w[i])) * alpha / (sqrt(n[i]) + 1.) \n",
        "        n[i] += 1.\n",
        "    return w, n\n",
        "\n",
        "D = 2 ** 24\n",
        "w = [0.] * D  \n",
        "n = [0.] * D\n",
        "loss = 0.\n",
        "n_epochs = 10\n",
        "n_updates = 0\n",
        "training_losses = [] \n",
        "validation_losses = [] \n",
        "alpha = .01 #CARE THE LEARNING RATE HAS BEEN MODIFIED \n",
        "\n",
        "for e in range(n_epochs):\n",
        "  training_loss = 0\n",
        "  for t, (row, y)  in enumerate(zip(DictReader(open(X_train)), DictReader(open(y_train)))):\n",
        "      x = get_x(row, D)\n",
        "      p = get_p(x, w)\n",
        "      target = float(y['click'])\n",
        "      training_loss += logloss(p, target)\n",
        "      if n_updates% 10000 == 0 and n_updates>1:\n",
        "          training_losses.append( training_loss/t )\n",
        "          validation_losses.append( compute_validation_loss(w, D) )\n",
        "          print('%s\\tupdates: %d\\tcurrent logloss on train: %f\\tcurrent logloss on validation: %f \\tNCE in validation %f' % (\n",
        "              datetime.now(), n_updates, training_losses[-1], validation_losses[-1], (Hy-validation_losses[-1])/Hy ))\n",
        "      w, n = update_wL2(w, n, x, p, target) #CODE UPDATED HERE \n",
        "      n_updates += 1\n",
        "\n",
        "x = [10000*i for i in range(len(training_losses))]\n",
        "plt.plot(x, training_losses, label='Train')\n",
        "plt.plot(x, validation_losses, label='Validation')\n",
        "plt.xlabel('Number of updates')\n",
        "plt.ylabel('Log Loss')\n",
        "plt.legend( ('Train', 'Validation') )\n",
        "plt.show() \n",
        "\n",
        "wL2 = w #keep it for later use\n",
        "\n",
        "#Depending on the learning rate and the coefficent in front of regularization this is possible \n",
        "#to have some overfitting advocating for early stopping. Remark that it does not hurt as hard the validation performance \n",
        "#Gains remains quite unclear, possibly due to the small dataset size   "
      ],
      "execution_count": 12,
      "outputs": [
        {
          "output_type": "error",
          "ename": "SyntaxError",
          "evalue": "ignored",
          "traceback": [
            "\u001b[0;36m  File \u001b[0;32m\"<ipython-input-12-931bed89f856>\"\u001b[0;36m, line \u001b[0;32m17\u001b[0m\n\u001b[0;31m    w[i] -= ((p - y + ) * 2 + lbd * sign(w[i])) * alpha / (sqrt(n[i]) + 1.)\u001b[0m\n\u001b[0m                      ^\u001b[0m\n\u001b[0;31mSyntaxError\u001b[0m\u001b[0;31m:\u001b[0m invalid syntax\n"
          ]
        }
      ]
    },
    {
      "cell_type": "code",
      "metadata": {
        "id": "TyG9M30Qnh-S"
      },
      "source": [
        "#Restart the main loop. This does not look as an optimal strategy. \n",
        "D = 2 ** 24\n",
        "w = [0.] * D  \n",
        "n = [0.] * D\n",
        "loss = 0.\n",
        "n_epochs = 5\n",
        "n_updates = 0\n",
        "training_losses = [] \n",
        "validation_losses = [] \n",
        "alpha = .01 \n",
        "\n",
        "for e in range(n_epochs):\n",
        "  training_loss = 0\n",
        "  for t, (row, y)  in enumerate(zip(DictReader(open(X_train)), DictReader(open(y_train)))):\n",
        "      x = get_x(row, D)\n",
        "      p = get_p(x, w)\n",
        "      target = float(y['click'])\n",
        "      training_loss += logloss(p, target)\n",
        "      if n_updates% 10000 == 0 and n_updates>1:\n",
        "          training_losses.append( training_loss/t )\n",
        "          validation_losses.append( compute_validation_loss(w, D) )\n",
        "          print('%s\\tupdates: %d\\tcurrent logloss on train: %f\\tcurrent logloss on validation: %f \\tNCE in validation %f' % (\n",
        "              datetime.now(), n_updates, training_losses[-1], validation_losses[-1], (Hy-validation_losses[-1])/Hy ))\n",
        "      w, n = update_wL1(w, n, x, p, target) #CODE UPDATED HERE \n",
        "      n_updates += 1\n",
        "\n",
        "x = [10000*i for i in range(len(training_losses))]\n",
        "plt.plot(x, training_losses, label='Train')\n",
        "plt.plot(x, validation_losses, label='Validation')\n",
        "plt.xlabel('Number of updates')\n",
        "plt.ylabel('Log Loss')\n",
        "plt.legend( ('Train', 'Validation') )\n",
        "plt.show() \n",
        "\n",
        "wL1 = w #keep it for later use\n"
      ],
      "execution_count": null,
      "outputs": []
    },
    {
      "cell_type": "markdown",
      "metadata": {
        "id": "08lVHf8pltUh"
      },
      "source": [
        "6. Plot an histogram of the values of the parameters without any regularization, with a L1 regularization and with a L2 one. If there is too many values in w you can subsample it. Can you explain the plots?\n",
        "\n"
      ]
    },
    {
      "cell_type": "code",
      "metadata": {
        "id": "FDFCojoPgnWq"
      },
      "source": [
        "bins = np.linspace(-0.1, 0.1, 100)\n",
        "plt.hist(wL1[:5000], bins, alpha=0.5, label='L1 weights')\n",
        "plt.hist(wL2[:5000], bins, alpha=0.5, label='L2 weights')\n",
        "plt.legend(loc='upper right')\n",
        "plt.title('weight distribution')\n",
        "plt.show()\n",
        "\n",
        "#Indeed there is many zeros in the array (even more for L1 which is expected as it induces sparcity). \n",
        "#To have a resonnable plot we can remove them by\n",
        "wL1_np = np.array(wL1)\n",
        "wL2_np = np.array(wL2)\n",
        "wL1_np[wL1_np==0]=np.nan\n",
        "wL2_np[wL2_np==0]=np.nan\n",
        "plt.hist(wL1_np[:20000], bins, alpha=0.5, label='L1 weights')\n",
        "plt.hist(wL2_np[:20000], bins, alpha=0.5, label='L2 weights')\n",
        "plt.legend(loc='upper right')\n",
        "plt.title('weight distribution omitting 0')\n",
        "plt.show()\n",
        "#We observe a lot of small values for parameters which is typical of a large scale log reg with quad features and make them hard to interpret. \n"
      ],
      "execution_count": null,
      "outputs": []
    },
    {
      "cell_type": "markdown",
      "metadata": {
        "id": "UORYeKF9IARr"
      },
      "source": [
        "8. Optimize the hyperparameters (the $L_1/L_2$ terms and the step size of the descent). Maybe this is time to use an external tool such as [Weight and Biases](https://wandb.ai/site) (the easy free for personal use path). It is possible to achieve the same results with  [Ray-Tune](https://docs.ray.io/en/latest/tune/index.html) combined with [MLflow](https://mlflow.org/) (the open source way).\n",
        "\n",
        "Some documentation on hyperparamter tuning [here](https://docs.wandb.ai/guides/sweeps/python-api)"
      ]
    },
    {
      "cell_type": "code",
      "metadata": {
        "id": "JVrZaSv5eXPJ"
      },
      "source": [
        "!pip install wandb\n",
        "!wandb login"
      ],
      "execution_count": null,
      "outputs": []
    },
    {
      "cell_type": "code",
      "metadata": {
        "id": "mI1trSi2IAPw"
      },
      "source": [
        "import wandb\n",
        "#Note that is exist the possiblity to create such config in a yaml file more info at https://docs.wandb.ai/guides/track/config\n",
        "#This may be used to store the results of experiments (including models) in a common place\n",
        "#Here we are going to create to config automatically thanks to a sweep but this is not the sole usage\n",
        "\n",
        "sweep_config = {\n",
        "  \"name\" : \"TP1-ENSAE-hyperparameter_search\",\n",
        "  \"method\" : \"random\", #There exist several strategies such as Bayes and it possible to add some early stopping (see Hyperband). Care NCE is not a loss (higher is better)\n",
        "  \"parameters\" : {\n",
        "    \"epochs\" : {\n",
        "      \"values\" : [1, 5, 10]\n",
        "    },\n",
        "    \"learning_rate\" :{\n",
        "      \"min\": 0.0001,\n",
        "      \"max\": 0.1\n",
        "    },\n",
        "    \"l1\":{\n",
        "      \"min\": 0.,\n",
        "      \"max\": 0.1\n",
        "    },\n",
        "    \"l2\":{\n",
        "      \"min\": 0.,\n",
        "      \"max\": 0.1\n",
        "    },\n",
        "  }\n",
        "}\n",
        "sweep_id = wandb.sweep(sweep_config)\n"
      ],
      "execution_count": null,
      "outputs": []
    },
    {
      "cell_type": "code",
      "metadata": {
        "id": "4XpgeNKc2W-Z"
      },
      "source": [
        "def update_w_elastic(w, n, x, p, y, l1, l2, alpha):\n",
        "    for i in x:\n",
        "        w[i] -= (p - y + 2 * l2 * w[i] + l1*sign(w[i]) ) * alpha / (sqrt(n[i]) + 1.) \n",
        "        n[i] += 1.\n",
        "    return w, n\n",
        "\n",
        "def train():\n",
        "  with wandb.init(reinit=True) as run:\n",
        "    config = wandb.config\n",
        "    D = 2 ** 24\n",
        "    w = [0.] * D  \n",
        "    n = [0.] * D\n",
        "    loss = 0.\n",
        "    n_updates = 0\n",
        "\n",
        "    for e in range(config['epochs']):\n",
        "      for t, (row, y)  in enumerate(zip(DictReader(open(X_train)), DictReader(open(y_train)))):\n",
        "          x = get_x(row, D)\n",
        "          p = get_p(x, w)\n",
        "          target = float(y['click'])\n",
        "          if n_updates% 10000 == 0 and n_updates>1:\n",
        "              wandb.log({\"loss\": compute_validation_loss(w, D),\n",
        "                         \"epoch\": e,\n",
        "                         \"n_updates\":n_updates})\n",
        "          w, n = update_w_elastic(w, n, x, p, target, config['l1'], config['l2'], config['learning_rate'])  \n",
        "          n_updates += 1\n",
        "\n",
        "count = 10 #Indeed the more the better and longer\n",
        "#Using the same sweep_id it is also possible to distribute the training\n",
        "wandb.agent(sweep_id, function=train, count=count) "
      ],
      "execution_count": null,
      "outputs": []
    },
    {
      "cell_type": "markdown",
      "metadata": {
        "id": "aLdQ-f6RIBXR"
      },
      "source": [
        "9. Pick one or more kind of gradient descent in [this page ](https://ruder.io/optimizing-gradient-descent/index.html) and implement it (AdaGrad / Adam / [Nesterov's acceleration](https://jlmelville.github.io/mize/nesterov.html) / [SAGA](https://arxiv.org/pdf/1407.0202.pdf) are popular choices). Remark than even an averaged gradient descent will double the memory consuption and significantly increase the execution times in Python. "
      ]
    },
    {
      "cell_type": "code",
      "metadata": {
        "id": "XPnHYU3Vgf2m"
      },
      "source": [
        "#Let's go for Adam\n",
        "#Unchecked code, just the minimal elements to insert at the right place in the code\n",
        "\n",
        "#Adam hyperparameters\n",
        "beta1 = 0.9\n",
        "beta2 = 0.999\n",
        "epsilon = 1e-8\n",
        "alpha = 1e-2\n",
        "\n",
        "def compute_gradient(p, y):\n",
        "    #Easy to add L1/L2 penalizations if wanted\n",
        "    return (p - y)\n",
        "\n",
        "def update_w_adam(w, m, v, x, p, y):\n",
        "    g = compute_gradient(p, y)\n",
        "    for i in x:\n",
        "        m[i] = beta1*m[i] + (1-beta1) * g\n",
        "        v[i] = beta2*v[i] + (1-beta2) * g**2\n",
        "        w[i] -= alpha/(sqrt(v[i])+epsilon) * m[i] \n",
        "    return w, m, v\n",
        "\n",
        "#And in the main code include\n",
        "m = [0.] * D\n",
        "v = [0.] * D\n",
        "\n",
        "w, m, v = update_w_adam(w, m, v, x, p, target) \n"
      ],
      "execution_count": null,
      "outputs": []
    },
    {
      "cell_type": "markdown",
      "metadata": {
        "id": "WyRCV7CMH__Q"
      },
      "source": [
        "9. A possibility for relatively small datasets is to create a pipeline using sklearn a minimal implementation. Compare the results with the hand coded solution.  "
      ]
    },
    {
      "cell_type": "code",
      "metadata": {
        "colab": {
          "base_uri": "https://localhost:8080/",
          "height": 375
        },
        "id": "zqMBwXDlH_xr",
        "outputId": "4c6f320f-1a9b-4f36-9ce1-daa3306ad0e6"
      },
      "source": [
        "import numpy as np\n",
        "from sklearn.pipeline import make_pipeline\n",
        "from sklearn.feature_extraction import FeatureHasher\n",
        "from sklearn.preprocessing import PolynomialFeatures\n",
        "from sklearn.linear_model import LogisticRegression, LogisticRegressionCV\n",
        "from sklearn.metrics import log_loss\n",
        "\n",
        "X_train = np.loadtxt('X_train.csv', skiprows=1, delimiter=',')\n",
        "X_train = [[('%s' % _, 1) for _ in x] for x in X_train]\n",
        "y_train = np.loadtxt('y_train.csv', skiprows=1, delimiter=',').astype(np.int8)\n",
        "y_train = y_train[:, 0] #select click data only\n",
        "\n",
        "X_valid = np.loadtxt('X_valid.csv', skiprows=1, delimiter=',')\n",
        "X_valid = [[('%s' % _, 1) for _ in x] for x in X_valid]\n",
        "y_valid = np.loadtxt('y_valid.csv', skiprows=1, delimiter=',').astype(np.int8)\n",
        "y_valid = y_valid[:, 0] \n",
        "\n",
        "\n",
        "# learn model\n",
        "model = make_pipeline(FeatureHasher(n_features=2*6, input_type='pair'), \n",
        "                        PolynomialFeatures(2, interaction_only=False, include_bias=True),\n",
        "                        #LogisticRegressionCV(n_jobs=4, Cs=10, solver='liblinear') #If you want to cross validate the regularization on train\n",
        "                        LogisticRegression(solver='liblinear') #If you want a simple logistic regression\n",
        "      )\n",
        "model.fit(X_train, y_train)\n",
        "\n",
        "#compute score in validation\n",
        "y_hat_valid = model.predict_proba(X_valid)[:,1] #Output of logistic has as many columns than possible classes\n",
        "print( f'Log loss on validation: {log_loss(y_valid, y_hat_valid)}') #CARE: the option \"normalize\" for log loss is not the NCE"
      ],
      "execution_count": null,
      "outputs": [
        {
          "output_type": "error",
          "ename": "KeyboardInterrupt",
          "evalue": "ignored",
          "traceback": [
            "\u001b[0;31m---------------------------------------------------------------------------\u001b[0m",
            "\u001b[0;31mKeyboardInterrupt\u001b[0m                         Traceback (most recent call last)",
            "\u001b[0;32m<ipython-input-7-85f43fb53b0c>\u001b[0m in \u001b[0;36m<module>\u001b[0;34m()\u001b[0m\n\u001b[1;32m     23\u001b[0m                         \u001b[0;31m#LogisticRegression(solver='liblinear') #If you want a simple logistic regression\u001b[0m\u001b[0;34m\u001b[0m\u001b[0;34m\u001b[0m\u001b[0;34m\u001b[0m\u001b[0m\n\u001b[1;32m     24\u001b[0m       )\n\u001b[0;32m---> 25\u001b[0;31m \u001b[0mmodel\u001b[0m\u001b[0;34m.\u001b[0m\u001b[0mfit\u001b[0m\u001b[0;34m(\u001b[0m\u001b[0mX_train\u001b[0m\u001b[0;34m,\u001b[0m \u001b[0my_train\u001b[0m\u001b[0;34m)\u001b[0m\u001b[0;34m\u001b[0m\u001b[0;34m\u001b[0m\u001b[0m\n\u001b[0m\u001b[1;32m     26\u001b[0m \u001b[0;34m\u001b[0m\u001b[0m\n\u001b[1;32m     27\u001b[0m \u001b[0;31m#compute score in validation\u001b[0m\u001b[0;34m\u001b[0m\u001b[0;34m\u001b[0m\u001b[0;34m\u001b[0m\u001b[0m\n",
            "\u001b[0;32m/usr/local/lib/python3.7/dist-packages/sklearn/pipeline.py\u001b[0m in \u001b[0;36mfit\u001b[0;34m(self, X, y, **fit_params)\u001b[0m\n\u001b[1;32m    348\u001b[0m             \u001b[0mThis\u001b[0m \u001b[0mestimator\u001b[0m\u001b[0;34m\u001b[0m\u001b[0;34m\u001b[0m\u001b[0m\n\u001b[1;32m    349\u001b[0m         \"\"\"\n\u001b[0;32m--> 350\u001b[0;31m         \u001b[0mXt\u001b[0m\u001b[0;34m,\u001b[0m \u001b[0mfit_params\u001b[0m \u001b[0;34m=\u001b[0m \u001b[0mself\u001b[0m\u001b[0;34m.\u001b[0m\u001b[0m_fit\u001b[0m\u001b[0;34m(\u001b[0m\u001b[0mX\u001b[0m\u001b[0;34m,\u001b[0m \u001b[0my\u001b[0m\u001b[0;34m,\u001b[0m \u001b[0;34m**\u001b[0m\u001b[0mfit_params\u001b[0m\u001b[0;34m)\u001b[0m\u001b[0;34m\u001b[0m\u001b[0;34m\u001b[0m\u001b[0m\n\u001b[0m\u001b[1;32m    351\u001b[0m         with _print_elapsed_time('Pipeline',\n\u001b[1;32m    352\u001b[0m                                  self._log_message(len(self.steps) - 1)):\n",
            "\u001b[0;32m/usr/local/lib/python3.7/dist-packages/sklearn/pipeline.py\u001b[0m in \u001b[0;36m_fit\u001b[0;34m(self, X, y, **fit_params)\u001b[0m\n\u001b[1;32m    313\u001b[0m                 \u001b[0mmessage_clsname\u001b[0m\u001b[0;34m=\u001b[0m\u001b[0;34m'Pipeline'\u001b[0m\u001b[0;34m,\u001b[0m\u001b[0;34m\u001b[0m\u001b[0;34m\u001b[0m\u001b[0m\n\u001b[1;32m    314\u001b[0m                 \u001b[0mmessage\u001b[0m\u001b[0;34m=\u001b[0m\u001b[0mself\u001b[0m\u001b[0;34m.\u001b[0m\u001b[0m_log_message\u001b[0m\u001b[0;34m(\u001b[0m\u001b[0mstep_idx\u001b[0m\u001b[0;34m)\u001b[0m\u001b[0;34m,\u001b[0m\u001b[0;34m\u001b[0m\u001b[0;34m\u001b[0m\u001b[0m\n\u001b[0;32m--> 315\u001b[0;31m                 **fit_params_steps[name])\n\u001b[0m\u001b[1;32m    316\u001b[0m             \u001b[0;31m# Replace the transformer of the step with the fitted\u001b[0m\u001b[0;34m\u001b[0m\u001b[0;34m\u001b[0m\u001b[0;34m\u001b[0m\u001b[0m\n\u001b[1;32m    317\u001b[0m             \u001b[0;31m# transformer. This is necessary when loading the transformer\u001b[0m\u001b[0;34m\u001b[0m\u001b[0;34m\u001b[0m\u001b[0;34m\u001b[0m\u001b[0m\n",
            "\u001b[0;32m/usr/local/lib/python3.7/dist-packages/joblib/memory.py\u001b[0m in \u001b[0;36m__call__\u001b[0;34m(self, *args, **kwargs)\u001b[0m\n\u001b[1;32m    350\u001b[0m \u001b[0;34m\u001b[0m\u001b[0m\n\u001b[1;32m    351\u001b[0m     \u001b[0;32mdef\u001b[0m \u001b[0m__call__\u001b[0m\u001b[0;34m(\u001b[0m\u001b[0mself\u001b[0m\u001b[0;34m,\u001b[0m \u001b[0;34m*\u001b[0m\u001b[0margs\u001b[0m\u001b[0;34m,\u001b[0m \u001b[0;34m**\u001b[0m\u001b[0mkwargs\u001b[0m\u001b[0;34m)\u001b[0m\u001b[0;34m:\u001b[0m\u001b[0;34m\u001b[0m\u001b[0;34m\u001b[0m\u001b[0m\n\u001b[0;32m--> 352\u001b[0;31m         \u001b[0;32mreturn\u001b[0m \u001b[0mself\u001b[0m\u001b[0;34m.\u001b[0m\u001b[0mfunc\u001b[0m\u001b[0;34m(\u001b[0m\u001b[0;34m*\u001b[0m\u001b[0margs\u001b[0m\u001b[0;34m,\u001b[0m \u001b[0;34m**\u001b[0m\u001b[0mkwargs\u001b[0m\u001b[0;34m)\u001b[0m\u001b[0;34m\u001b[0m\u001b[0;34m\u001b[0m\u001b[0m\n\u001b[0m\u001b[1;32m    353\u001b[0m \u001b[0;34m\u001b[0m\u001b[0m\n\u001b[1;32m    354\u001b[0m     \u001b[0;32mdef\u001b[0m \u001b[0mcall_and_shelve\u001b[0m\u001b[0;34m(\u001b[0m\u001b[0mself\u001b[0m\u001b[0;34m,\u001b[0m \u001b[0;34m*\u001b[0m\u001b[0margs\u001b[0m\u001b[0;34m,\u001b[0m \u001b[0;34m**\u001b[0m\u001b[0mkwargs\u001b[0m\u001b[0;34m)\u001b[0m\u001b[0;34m:\u001b[0m\u001b[0;34m\u001b[0m\u001b[0;34m\u001b[0m\u001b[0m\n",
            "\u001b[0;32m/usr/local/lib/python3.7/dist-packages/sklearn/pipeline.py\u001b[0m in \u001b[0;36m_fit_transform_one\u001b[0;34m(transformer, X, y, weight, message_clsname, message, **fit_params)\u001b[0m\n\u001b[1;32m    726\u001b[0m     \u001b[0;32mwith\u001b[0m \u001b[0m_print_elapsed_time\u001b[0m\u001b[0;34m(\u001b[0m\u001b[0mmessage_clsname\u001b[0m\u001b[0;34m,\u001b[0m \u001b[0mmessage\u001b[0m\u001b[0;34m)\u001b[0m\u001b[0;34m:\u001b[0m\u001b[0;34m\u001b[0m\u001b[0;34m\u001b[0m\u001b[0m\n\u001b[1;32m    727\u001b[0m         \u001b[0;32mif\u001b[0m \u001b[0mhasattr\u001b[0m\u001b[0;34m(\u001b[0m\u001b[0mtransformer\u001b[0m\u001b[0;34m,\u001b[0m \u001b[0;34m'fit_transform'\u001b[0m\u001b[0;34m)\u001b[0m\u001b[0;34m:\u001b[0m\u001b[0;34m\u001b[0m\u001b[0;34m\u001b[0m\u001b[0m\n\u001b[0;32m--> 728\u001b[0;31m             \u001b[0mres\u001b[0m \u001b[0;34m=\u001b[0m \u001b[0mtransformer\u001b[0m\u001b[0;34m.\u001b[0m\u001b[0mfit_transform\u001b[0m\u001b[0;34m(\u001b[0m\u001b[0mX\u001b[0m\u001b[0;34m,\u001b[0m \u001b[0my\u001b[0m\u001b[0;34m,\u001b[0m \u001b[0;34m**\u001b[0m\u001b[0mfit_params\u001b[0m\u001b[0;34m)\u001b[0m\u001b[0;34m\u001b[0m\u001b[0;34m\u001b[0m\u001b[0m\n\u001b[0m\u001b[1;32m    729\u001b[0m         \u001b[0;32melse\u001b[0m\u001b[0;34m:\u001b[0m\u001b[0;34m\u001b[0m\u001b[0;34m\u001b[0m\u001b[0m\n\u001b[1;32m    730\u001b[0m             \u001b[0mres\u001b[0m \u001b[0;34m=\u001b[0m \u001b[0mtransformer\u001b[0m\u001b[0;34m.\u001b[0m\u001b[0mfit\u001b[0m\u001b[0;34m(\u001b[0m\u001b[0mX\u001b[0m\u001b[0;34m,\u001b[0m \u001b[0my\u001b[0m\u001b[0;34m,\u001b[0m \u001b[0;34m**\u001b[0m\u001b[0mfit_params\u001b[0m\u001b[0;34m)\u001b[0m\u001b[0;34m.\u001b[0m\u001b[0mtransform\u001b[0m\u001b[0;34m(\u001b[0m\u001b[0mX\u001b[0m\u001b[0;34m)\u001b[0m\u001b[0;34m\u001b[0m\u001b[0;34m\u001b[0m\u001b[0m\n",
            "\u001b[0;32m/usr/local/lib/python3.7/dist-packages/sklearn/base.py\u001b[0m in \u001b[0;36mfit_transform\u001b[0;34m(self, X, y, **fit_params)\u001b[0m\n\u001b[1;32m    572\u001b[0m         \u001b[0;32melse\u001b[0m\u001b[0;34m:\u001b[0m\u001b[0;34m\u001b[0m\u001b[0;34m\u001b[0m\u001b[0m\n\u001b[1;32m    573\u001b[0m             \u001b[0;31m# fit method of arity 2 (supervised transformation)\u001b[0m\u001b[0;34m\u001b[0m\u001b[0;34m\u001b[0m\u001b[0;34m\u001b[0m\u001b[0m\n\u001b[0;32m--> 574\u001b[0;31m             \u001b[0;32mreturn\u001b[0m \u001b[0mself\u001b[0m\u001b[0;34m.\u001b[0m\u001b[0mfit\u001b[0m\u001b[0;34m(\u001b[0m\u001b[0mX\u001b[0m\u001b[0;34m,\u001b[0m \u001b[0my\u001b[0m\u001b[0;34m,\u001b[0m \u001b[0;34m**\u001b[0m\u001b[0mfit_params\u001b[0m\u001b[0;34m)\u001b[0m\u001b[0;34m.\u001b[0m\u001b[0mtransform\u001b[0m\u001b[0;34m(\u001b[0m\u001b[0mX\u001b[0m\u001b[0;34m)\u001b[0m\u001b[0;34m\u001b[0m\u001b[0;34m\u001b[0m\u001b[0m\n\u001b[0m\u001b[1;32m    575\u001b[0m \u001b[0;34m\u001b[0m\u001b[0m\n\u001b[1;32m    576\u001b[0m \u001b[0;34m\u001b[0m\u001b[0m\n",
            "\u001b[0;32m/usr/local/lib/python3.7/dist-packages/sklearn/preprocessing/_data.py\u001b[0m in \u001b[0;36mfit\u001b[0;34m(self, X, y)\u001b[0m\n\u001b[1;32m   1511\u001b[0m                                           self.include_bias)\n\u001b[1;32m   1512\u001b[0m         \u001b[0mself\u001b[0m\u001b[0;34m.\u001b[0m\u001b[0mn_input_features_\u001b[0m \u001b[0;34m=\u001b[0m \u001b[0mn_features\u001b[0m\u001b[0;34m\u001b[0m\u001b[0;34m\u001b[0m\u001b[0m\n\u001b[0;32m-> 1513\u001b[0;31m         \u001b[0mself\u001b[0m\u001b[0;34m.\u001b[0m\u001b[0mn_output_features_\u001b[0m \u001b[0;34m=\u001b[0m \u001b[0msum\u001b[0m\u001b[0;34m(\u001b[0m\u001b[0;36m1\u001b[0m \u001b[0;32mfor\u001b[0m \u001b[0m_\u001b[0m \u001b[0;32min\u001b[0m \u001b[0mcombinations\u001b[0m\u001b[0;34m)\u001b[0m\u001b[0;34m\u001b[0m\u001b[0;34m\u001b[0m\u001b[0m\n\u001b[0m\u001b[1;32m   1514\u001b[0m         \u001b[0;32mreturn\u001b[0m \u001b[0mself\u001b[0m\u001b[0;34m\u001b[0m\u001b[0;34m\u001b[0m\u001b[0m\n\u001b[1;32m   1515\u001b[0m \u001b[0;34m\u001b[0m\u001b[0m\n",
            "\u001b[0;32m/usr/local/lib/python3.7/dist-packages/sklearn/preprocessing/_data.py\u001b[0m in \u001b[0;36m<genexpr>\u001b[0;34m(.0)\u001b[0m\n\u001b[1;32m   1511\u001b[0m                                           self.include_bias)\n\u001b[1;32m   1512\u001b[0m         \u001b[0mself\u001b[0m\u001b[0;34m.\u001b[0m\u001b[0mn_input_features_\u001b[0m \u001b[0;34m=\u001b[0m \u001b[0mn_features\u001b[0m\u001b[0;34m\u001b[0m\u001b[0;34m\u001b[0m\u001b[0m\n\u001b[0;32m-> 1513\u001b[0;31m         \u001b[0mself\u001b[0m\u001b[0;34m.\u001b[0m\u001b[0mn_output_features_\u001b[0m \u001b[0;34m=\u001b[0m \u001b[0msum\u001b[0m\u001b[0;34m(\u001b[0m\u001b[0;36m1\u001b[0m \u001b[0;32mfor\u001b[0m \u001b[0m_\u001b[0m \u001b[0;32min\u001b[0m \u001b[0mcombinations\u001b[0m\u001b[0;34m)\u001b[0m\u001b[0;34m\u001b[0m\u001b[0;34m\u001b[0m\u001b[0m\n\u001b[0m\u001b[1;32m   1514\u001b[0m         \u001b[0;32mreturn\u001b[0m \u001b[0mself\u001b[0m\u001b[0;34m\u001b[0m\u001b[0;34m\u001b[0m\u001b[0m\n\u001b[1;32m   1515\u001b[0m \u001b[0;34m\u001b[0m\u001b[0m\n",
            "\u001b[0;31mKeyboardInterrupt\u001b[0m: "
          ]
        }
      ]
    },
    {
      "cell_type": "markdown",
      "metadata": {
        "id": "S43bMuQDUPZk"
      },
      "source": [
        "Not that bad for some basic Python and SGD *versus* C++ code and a second order method. \n",
        "\n",
        "(optional since it can require long exe time) Can you recover the performance we had by optimizing hyperparameters? "
      ]
    },
    {
      "cell_type": "markdown",
      "metadata": {
        "id": "dUp-ZnxGH_nc"
      },
      "source": [
        "#Part II. Graded.\n",
        "\n",
        "**Due date december 1st**\n",
        "You can also send your answers to the optional questions \n",
        "\n",
        "1. Based on the minimal code example with validation and $L_2$ prenality, implement your own version of a factorization machine. As we do want to use fields this is the same than a rank k asumption on the matrix of the second order terms which can be expressed as $<v_i, v_j>$ with $v_i \\in \\mathbb{R}^k$ .  Remind that \n",
        "$$\n",
        "\\frac{\\partial}{\\partial \\theta} \\hat{y}(\\mathbf{x})= \\begin{cases}1, & \\text { if } \\theta \\text { is } \\mbox{the bias term } \\omega_0 \\\\ x_{i}, & \\text { if } \\theta \\text { is } w_{i} \\mbox{ (first order term)} \\\\ x_{i} \\sum_{j=1}^{n} v_{j, f} x_{j}-v_{i, f} x_{i}^{2}, & \\text { if } \\theta \\text { is the } i,f \\mbox { second order term } <v_i,v_f>   \\end{cases}\n",
        "$$\n",
        "\n",
        "One possibility to code it is to isolate the second order term within a second vector of parameters while performing the ```get_x``` and change the way the gradient is computed in the ```update_x``` function. Details about factorization machines are in the [original paper](https://www.csie.ntu.edu.tw/~b97053/paper/Rendle2010FM.pdf).\n"
      ]
    },
    {
      "cell_type": "code",
      "metadata": {
        "id": "cdXcQ7MsH_HB"
      },
      "source": [
        ""
      ],
      "execution_count": null,
      "outputs": []
    },
    {
      "cell_type": "markdown",
      "metadata": {
        "id": "iALIM1szWUGa"
      },
      "source": [
        "2. Optimize the hyperparameters of a factorization machine for several dataset sizes and plot the resulting curve -- use the data contained in the test file to explore bigger than 100k training data size. For this question you can use a library such as [libFM](https://libfm.org). Remind that we already used the 10k first lines of the test data to build our validation set.\n"
      ]
    },
    {
      "cell_type": "code",
      "metadata": {
        "id": "1dquNkmNWT44"
      },
      "source": [
        "import numpy as np\n",
        "X_train = np.loadtxt('X_train.csv', skiprows=1, delimiter=',')\n",
        "X_train = [[('%s' % _, 1) for _ in x] for x in X_train] #Data format expected by the Feature Hasher is a sequence of key,value\n"
      ],
      "execution_count": null,
      "outputs": []
    },
    {
      "cell_type": "code",
      "metadata": {
        "colab": {
          "base_uri": "https://localhost:8080/"
        },
        "id": "y2hA1rbTNSw5",
        "outputId": "58000afc-a74a-4a05-c2f5-86e475447aaa"
      },
      "source": [
        "\n"
      ],
      "execution_count": null,
      "outputs": [
        {
          "output_type": "execute_result",
          "data": {
            "text/plain": [
              "[('479625.0', 1),\n",
              " ('-432181.0', 1),\n",
              " ('480789.0', 1),\n",
              " ('209666.0', 1),\n",
              " ('-326595.0', 1),\n",
              " ('-356697.0', 1),\n",
              " ('167271.0', 1),\n",
              " ('-201336.0', 1),\n",
              " ('-291026.0', 1),\n",
              " ('39558.0', 1),\n",
              " ('-401903.0', 1),\n",
              " ('441172.0', 1),\n",
              " ('119767.0', 1),\n",
              " ('-102727.0', 1),\n",
              " ('-76683.0', 1),\n",
              " ('32790.0', 1),\n",
              " ('326477.0', 1),\n",
              " ('341383.0', 1),\n",
              " ('346045.0', 1)]"
            ]
          },
          "metadata": {},
          "execution_count": 6
        }
      ]
    },
    {
      "cell_type": "code",
      "metadata": {
        "id": "c-VdE1BmNV3s"
      },
      "source": [
        ""
      ],
      "execution_count": null,
      "outputs": []
    }
  ]
}