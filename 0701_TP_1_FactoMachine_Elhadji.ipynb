{
  "nbformat": 4,
  "nbformat_minor": 0,
  "metadata": {
    "colab": {
      "name": "0701-TP_1-ENSAE21-solution.ipynb",
      "provenance": [],
      "collapsed_sections": [],
      "include_colab_link": true
    },
    "kernelspec": {
      "name": "python3",
      "display_name": "Python 3"
    },
    "language_info": {
      "name": "python"
    },
    "widgets": {
      "application/vnd.jupyter.widget-state+json": {
        "5e77470109164cf1b7699dea99c989ee": {
          "model_module": "@jupyter-widgets/controls",
          "model_name": "VBoxModel",
          "model_module_version": "1.5.0",
          "state": {
            "_view_name": "VBoxView",
            "_dom_classes": [],
            "_model_name": "VBoxModel",
            "_view_module": "@jupyter-widgets/controls",
            "_model_module_version": "1.5.0",
            "_view_count": null,
            "_view_module_version": "1.5.0",
            "box_style": "",
            "layout": "IPY_MODEL_bcc03c347b864be988af86406e112e5d",
            "_model_module": "@jupyter-widgets/controls",
            "children": [
              "IPY_MODEL_1fd9b4cdb86047419b829de212ac0920",
              "IPY_MODEL_fc7bcbd4f812490994713e0a186f6953"
            ]
          }
        },
        "bcc03c347b864be988af86406e112e5d": {
          "model_module": "@jupyter-widgets/base",
          "model_name": "LayoutModel",
          "model_module_version": "1.2.0",
          "state": {
            "_view_name": "LayoutView",
            "grid_template_rows": null,
            "right": null,
            "justify_content": null,
            "_view_module": "@jupyter-widgets/base",
            "overflow": null,
            "_model_module_version": "1.2.0",
            "_view_count": null,
            "flex_flow": null,
            "width": null,
            "min_width": null,
            "border": null,
            "align_items": null,
            "bottom": null,
            "_model_module": "@jupyter-widgets/base",
            "top": null,
            "grid_column": null,
            "overflow_y": null,
            "overflow_x": null,
            "grid_auto_flow": null,
            "grid_area": null,
            "grid_template_columns": null,
            "flex": null,
            "_model_name": "LayoutModel",
            "justify_items": null,
            "grid_row": null,
            "max_height": null,
            "align_content": null,
            "visibility": null,
            "align_self": null,
            "height": null,
            "min_height": null,
            "padding": null,
            "grid_auto_rows": null,
            "grid_gap": null,
            "max_width": null,
            "order": null,
            "_view_module_version": "1.2.0",
            "grid_template_areas": null,
            "object_position": null,
            "object_fit": null,
            "grid_auto_columns": null,
            "margin": null,
            "display": null,
            "left": null
          }
        },
        "1fd9b4cdb86047419b829de212ac0920": {
          "model_module": "@jupyter-widgets/controls",
          "model_name": "LabelModel",
          "model_module_version": "1.5.0",
          "state": {
            "_view_name": "LabelView",
            "style": "IPY_MODEL_f1302451ebf94daa9d0d9eb8a068ea38",
            "_dom_classes": [],
            "description": "",
            "_model_name": "LabelModel",
            "placeholder": "​",
            "_view_module": "@jupyter-widgets/controls",
            "_model_module_version": "1.5.0",
            "value": " 0.01MB of 0.01MB uploaded (0.00MB deduped)\r",
            "_view_count": null,
            "_view_module_version": "1.5.0",
            "description_tooltip": null,
            "_model_module": "@jupyter-widgets/controls",
            "layout": "IPY_MODEL_84cd6a9c7d954e7bb3ddb6ac0e9f0997"
          }
        },
        "fc7bcbd4f812490994713e0a186f6953": {
          "model_module": "@jupyter-widgets/controls",
          "model_name": "FloatProgressModel",
          "model_module_version": "1.5.0",
          "state": {
            "_view_name": "ProgressView",
            "style": "IPY_MODEL_d1d8c1a72ccf41d395b1fb6652c226ed",
            "_dom_classes": [],
            "description": "",
            "_model_name": "FloatProgressModel",
            "bar_style": "",
            "max": 1,
            "_view_module": "@jupyter-widgets/controls",
            "_model_module_version": "1.5.0",
            "value": 1,
            "_view_count": null,
            "_view_module_version": "1.5.0",
            "orientation": "horizontal",
            "min": 0,
            "description_tooltip": null,
            "_model_module": "@jupyter-widgets/controls",
            "layout": "IPY_MODEL_8e0b16be41ea4d7f84470d752fc0323d"
          }
        },
        "f1302451ebf94daa9d0d9eb8a068ea38": {
          "model_module": "@jupyter-widgets/controls",
          "model_name": "DescriptionStyleModel",
          "model_module_version": "1.5.0",
          "state": {
            "_view_name": "StyleView",
            "_model_name": "DescriptionStyleModel",
            "description_width": "",
            "_view_module": "@jupyter-widgets/base",
            "_model_module_version": "1.5.0",
            "_view_count": null,
            "_view_module_version": "1.2.0",
            "_model_module": "@jupyter-widgets/controls"
          }
        },
        "84cd6a9c7d954e7bb3ddb6ac0e9f0997": {
          "model_module": "@jupyter-widgets/base",
          "model_name": "LayoutModel",
          "model_module_version": "1.2.0",
          "state": {
            "_view_name": "LayoutView",
            "grid_template_rows": null,
            "right": null,
            "justify_content": null,
            "_view_module": "@jupyter-widgets/base",
            "overflow": null,
            "_model_module_version": "1.2.0",
            "_view_count": null,
            "flex_flow": null,
            "width": null,
            "min_width": null,
            "border": null,
            "align_items": null,
            "bottom": null,
            "_model_module": "@jupyter-widgets/base",
            "top": null,
            "grid_column": null,
            "overflow_y": null,
            "overflow_x": null,
            "grid_auto_flow": null,
            "grid_area": null,
            "grid_template_columns": null,
            "flex": null,
            "_model_name": "LayoutModel",
            "justify_items": null,
            "grid_row": null,
            "max_height": null,
            "align_content": null,
            "visibility": null,
            "align_self": null,
            "height": null,
            "min_height": null,
            "padding": null,
            "grid_auto_rows": null,
            "grid_gap": null,
            "max_width": null,
            "order": null,
            "_view_module_version": "1.2.0",
            "grid_template_areas": null,
            "object_position": null,
            "object_fit": null,
            "grid_auto_columns": null,
            "margin": null,
            "display": null,
            "left": null
          }
        },
        "d1d8c1a72ccf41d395b1fb6652c226ed": {
          "model_module": "@jupyter-widgets/controls",
          "model_name": "ProgressStyleModel",
          "model_module_version": "1.5.0",
          "state": {
            "_view_name": "StyleView",
            "_model_name": "ProgressStyleModel",
            "description_width": "",
            "_view_module": "@jupyter-widgets/base",
            "_model_module_version": "1.5.0",
            "_view_count": null,
            "_view_module_version": "1.2.0",
            "bar_color": null,
            "_model_module": "@jupyter-widgets/controls"
          }
        },
        "8e0b16be41ea4d7f84470d752fc0323d": {
          "model_module": "@jupyter-widgets/base",
          "model_name": "LayoutModel",
          "model_module_version": "1.2.0",
          "state": {
            "_view_name": "LayoutView",
            "grid_template_rows": null,
            "right": null,
            "justify_content": null,
            "_view_module": "@jupyter-widgets/base",
            "overflow": null,
            "_model_module_version": "1.2.0",
            "_view_count": null,
            "flex_flow": null,
            "width": null,
            "min_width": null,
            "border": null,
            "align_items": null,
            "bottom": null,
            "_model_module": "@jupyter-widgets/base",
            "top": null,
            "grid_column": null,
            "overflow_y": null,
            "overflow_x": null,
            "grid_auto_flow": null,
            "grid_area": null,
            "grid_template_columns": null,
            "flex": null,
            "_model_name": "LayoutModel",
            "justify_items": null,
            "grid_row": null,
            "max_height": null,
            "align_content": null,
            "visibility": null,
            "align_self": null,
            "height": null,
            "min_height": null,
            "padding": null,
            "grid_auto_rows": null,
            "grid_gap": null,
            "max_width": null,
            "order": null,
            "_view_module_version": "1.2.0",
            "grid_template_areas": null,
            "object_position": null,
            "object_fit": null,
            "grid_auto_columns": null,
            "margin": null,
            "display": null,
            "left": null
          }
        },
        "541fcbd8691241a3aba04790ed9e4e14": {
          "model_module": "@jupyter-widgets/controls",
          "model_name": "VBoxModel",
          "model_module_version": "1.5.0",
          "state": {
            "_view_name": "VBoxView",
            "_dom_classes": [],
            "_model_name": "VBoxModel",
            "_view_module": "@jupyter-widgets/controls",
            "_model_module_version": "1.5.0",
            "_view_count": null,
            "_view_module_version": "1.5.0",
            "box_style": "",
            "layout": "IPY_MODEL_97d1a2d3190f409e92d2a922f7d3a720",
            "_model_module": "@jupyter-widgets/controls",
            "children": [
              "IPY_MODEL_890a6bb149714234bd5d9262f6f6f503",
              "IPY_MODEL_5f416993da2945b2843a716a86b160fc"
            ]
          }
        },
        "97d1a2d3190f409e92d2a922f7d3a720": {
          "model_module": "@jupyter-widgets/base",
          "model_name": "LayoutModel",
          "model_module_version": "1.2.0",
          "state": {
            "_view_name": "LayoutView",
            "grid_template_rows": null,
            "right": null,
            "justify_content": null,
            "_view_module": "@jupyter-widgets/base",
            "overflow": null,
            "_model_module_version": "1.2.0",
            "_view_count": null,
            "flex_flow": null,
            "width": null,
            "min_width": null,
            "border": null,
            "align_items": null,
            "bottom": null,
            "_model_module": "@jupyter-widgets/base",
            "top": null,
            "grid_column": null,
            "overflow_y": null,
            "overflow_x": null,
            "grid_auto_flow": null,
            "grid_area": null,
            "grid_template_columns": null,
            "flex": null,
            "_model_name": "LayoutModel",
            "justify_items": null,
            "grid_row": null,
            "max_height": null,
            "align_content": null,
            "visibility": null,
            "align_self": null,
            "height": null,
            "min_height": null,
            "padding": null,
            "grid_auto_rows": null,
            "grid_gap": null,
            "max_width": null,
            "order": null,
            "_view_module_version": "1.2.0",
            "grid_template_areas": null,
            "object_position": null,
            "object_fit": null,
            "grid_auto_columns": null,
            "margin": null,
            "display": null,
            "left": null
          }
        },
        "890a6bb149714234bd5d9262f6f6f503": {
          "model_module": "@jupyter-widgets/controls",
          "model_name": "LabelModel",
          "model_module_version": "1.5.0",
          "state": {
            "_view_name": "LabelView",
            "style": "IPY_MODEL_8b61493ba83c4832baf1fe9c8d1717ef",
            "_dom_classes": [],
            "description": "",
            "_model_name": "LabelModel",
            "placeholder": "​",
            "_view_module": "@jupyter-widgets/controls",
            "_model_module_version": "1.5.0",
            "value": " 0.01MB of 0.01MB uploaded (0.00MB deduped)\r",
            "_view_count": null,
            "_view_module_version": "1.5.0",
            "description_tooltip": null,
            "_model_module": "@jupyter-widgets/controls",
            "layout": "IPY_MODEL_d6759736884a44de86c94570c9491ba9"
          }
        },
        "5f416993da2945b2843a716a86b160fc": {
          "model_module": "@jupyter-widgets/controls",
          "model_name": "FloatProgressModel",
          "model_module_version": "1.5.0",
          "state": {
            "_view_name": "ProgressView",
            "style": "IPY_MODEL_28505e3039e9410dbd686690a9807c9c",
            "_dom_classes": [],
            "description": "",
            "_model_name": "FloatProgressModel",
            "bar_style": "",
            "max": 1,
            "_view_module": "@jupyter-widgets/controls",
            "_model_module_version": "1.5.0",
            "value": 1,
            "_view_count": null,
            "_view_module_version": "1.5.0",
            "orientation": "horizontal",
            "min": 0,
            "description_tooltip": null,
            "_model_module": "@jupyter-widgets/controls",
            "layout": "IPY_MODEL_7c42de4f52de492fbccd7ee2e31429fc"
          }
        },
        "8b61493ba83c4832baf1fe9c8d1717ef": {
          "model_module": "@jupyter-widgets/controls",
          "model_name": "DescriptionStyleModel",
          "model_module_version": "1.5.0",
          "state": {
            "_view_name": "StyleView",
            "_model_name": "DescriptionStyleModel",
            "description_width": "",
            "_view_module": "@jupyter-widgets/base",
            "_model_module_version": "1.5.0",
            "_view_count": null,
            "_view_module_version": "1.2.0",
            "_model_module": "@jupyter-widgets/controls"
          }
        },
        "d6759736884a44de86c94570c9491ba9": {
          "model_module": "@jupyter-widgets/base",
          "model_name": "LayoutModel",
          "model_module_version": "1.2.0",
          "state": {
            "_view_name": "LayoutView",
            "grid_template_rows": null,
            "right": null,
            "justify_content": null,
            "_view_module": "@jupyter-widgets/base",
            "overflow": null,
            "_model_module_version": "1.2.0",
            "_view_count": null,
            "flex_flow": null,
            "width": null,
            "min_width": null,
            "border": null,
            "align_items": null,
            "bottom": null,
            "_model_module": "@jupyter-widgets/base",
            "top": null,
            "grid_column": null,
            "overflow_y": null,
            "overflow_x": null,
            "grid_auto_flow": null,
            "grid_area": null,
            "grid_template_columns": null,
            "flex": null,
            "_model_name": "LayoutModel",
            "justify_items": null,
            "grid_row": null,
            "max_height": null,
            "align_content": null,
            "visibility": null,
            "align_self": null,
            "height": null,
            "min_height": null,
            "padding": null,
            "grid_auto_rows": null,
            "grid_gap": null,
            "max_width": null,
            "order": null,
            "_view_module_version": "1.2.0",
            "grid_template_areas": null,
            "object_position": null,
            "object_fit": null,
            "grid_auto_columns": null,
            "margin": null,
            "display": null,
            "left": null
          }
        },
        "28505e3039e9410dbd686690a9807c9c": {
          "model_module": "@jupyter-widgets/controls",
          "model_name": "ProgressStyleModel",
          "model_module_version": "1.5.0",
          "state": {
            "_view_name": "StyleView",
            "_model_name": "ProgressStyleModel",
            "description_width": "",
            "_view_module": "@jupyter-widgets/base",
            "_model_module_version": "1.5.0",
            "_view_count": null,
            "_view_module_version": "1.2.0",
            "bar_color": null,
            "_model_module": "@jupyter-widgets/controls"
          }
        },
        "7c42de4f52de492fbccd7ee2e31429fc": {
          "model_module": "@jupyter-widgets/base",
          "model_name": "LayoutModel",
          "model_module_version": "1.2.0",
          "state": {
            "_view_name": "LayoutView",
            "grid_template_rows": null,
            "right": null,
            "justify_content": null,
            "_view_module": "@jupyter-widgets/base",
            "overflow": null,
            "_model_module_version": "1.2.0",
            "_view_count": null,
            "flex_flow": null,
            "width": null,
            "min_width": null,
            "border": null,
            "align_items": null,
            "bottom": null,
            "_model_module": "@jupyter-widgets/base",
            "top": null,
            "grid_column": null,
            "overflow_y": null,
            "overflow_x": null,
            "grid_auto_flow": null,
            "grid_area": null,
            "grid_template_columns": null,
            "flex": null,
            "_model_name": "LayoutModel",
            "justify_items": null,
            "grid_row": null,
            "max_height": null,
            "align_content": null,
            "visibility": null,
            "align_self": null,
            "height": null,
            "min_height": null,
            "padding": null,
            "grid_auto_rows": null,
            "grid_gap": null,
            "max_width": null,
            "order": null,
            "_view_module_version": "1.2.0",
            "grid_template_areas": null,
            "object_position": null,
            "object_fit": null,
            "grid_auto_columns": null,
            "margin": null,
            "display": null,
            "left": null
          }
        },
        "97daa61689ac4a069108c1b5b7faa836": {
          "model_module": "@jupyter-widgets/controls",
          "model_name": "VBoxModel",
          "model_module_version": "1.5.0",
          "state": {
            "_view_name": "VBoxView",
            "_dom_classes": [],
            "_model_name": "VBoxModel",
            "_view_module": "@jupyter-widgets/controls",
            "_model_module_version": "1.5.0",
            "_view_count": null,
            "_view_module_version": "1.5.0",
            "box_style": "",
            "layout": "IPY_MODEL_c0a49ebf4bce4d43b6772ebf78ed6fc0",
            "_model_module": "@jupyter-widgets/controls",
            "children": [
              "IPY_MODEL_0f9d73d4f58949cdbfaea687699fbe45",
              "IPY_MODEL_37fa6242aead41b5b35671edb48a116e"
            ]
          }
        },
        "c0a49ebf4bce4d43b6772ebf78ed6fc0": {
          "model_module": "@jupyter-widgets/base",
          "model_name": "LayoutModel",
          "model_module_version": "1.2.0",
          "state": {
            "_view_name": "LayoutView",
            "grid_template_rows": null,
            "right": null,
            "justify_content": null,
            "_view_module": "@jupyter-widgets/base",
            "overflow": null,
            "_model_module_version": "1.2.0",
            "_view_count": null,
            "flex_flow": null,
            "width": null,
            "min_width": null,
            "border": null,
            "align_items": null,
            "bottom": null,
            "_model_module": "@jupyter-widgets/base",
            "top": null,
            "grid_column": null,
            "overflow_y": null,
            "overflow_x": null,
            "grid_auto_flow": null,
            "grid_area": null,
            "grid_template_columns": null,
            "flex": null,
            "_model_name": "LayoutModel",
            "justify_items": null,
            "grid_row": null,
            "max_height": null,
            "align_content": null,
            "visibility": null,
            "align_self": null,
            "height": null,
            "min_height": null,
            "padding": null,
            "grid_auto_rows": null,
            "grid_gap": null,
            "max_width": null,
            "order": null,
            "_view_module_version": "1.2.0",
            "grid_template_areas": null,
            "object_position": null,
            "object_fit": null,
            "grid_auto_columns": null,
            "margin": null,
            "display": null,
            "left": null
          }
        },
        "0f9d73d4f58949cdbfaea687699fbe45": {
          "model_module": "@jupyter-widgets/controls",
          "model_name": "LabelModel",
          "model_module_version": "1.5.0",
          "state": {
            "_view_name": "LabelView",
            "style": "IPY_MODEL_3158d3307fca4477889a3d5da7471197",
            "_dom_classes": [],
            "description": "",
            "_model_name": "LabelModel",
            "placeholder": "​",
            "_view_module": "@jupyter-widgets/controls",
            "_model_module_version": "1.5.0",
            "value": " 0.01MB of 0.01MB uploaded (0.00MB deduped)\r",
            "_view_count": null,
            "_view_module_version": "1.5.0",
            "description_tooltip": null,
            "_model_module": "@jupyter-widgets/controls",
            "layout": "IPY_MODEL_b91ef4aa87cf452aa7e8a7e33ddbc2f4"
          }
        },
        "37fa6242aead41b5b35671edb48a116e": {
          "model_module": "@jupyter-widgets/controls",
          "model_name": "FloatProgressModel",
          "model_module_version": "1.5.0",
          "state": {
            "_view_name": "ProgressView",
            "style": "IPY_MODEL_d61a4d8715784cf3bdca2de891234fb6",
            "_dom_classes": [],
            "description": "",
            "_model_name": "FloatProgressModel",
            "bar_style": "",
            "max": 1,
            "_view_module": "@jupyter-widgets/controls",
            "_model_module_version": "1.5.0",
            "value": 1,
            "_view_count": null,
            "_view_module_version": "1.5.0",
            "orientation": "horizontal",
            "min": 0,
            "description_tooltip": null,
            "_model_module": "@jupyter-widgets/controls",
            "layout": "IPY_MODEL_f0eb473347724bdda18462a5023f387a"
          }
        },
        "3158d3307fca4477889a3d5da7471197": {
          "model_module": "@jupyter-widgets/controls",
          "model_name": "DescriptionStyleModel",
          "model_module_version": "1.5.0",
          "state": {
            "_view_name": "StyleView",
            "_model_name": "DescriptionStyleModel",
            "description_width": "",
            "_view_module": "@jupyter-widgets/base",
            "_model_module_version": "1.5.0",
            "_view_count": null,
            "_view_module_version": "1.2.0",
            "_model_module": "@jupyter-widgets/controls"
          }
        },
        "b91ef4aa87cf452aa7e8a7e33ddbc2f4": {
          "model_module": "@jupyter-widgets/base",
          "model_name": "LayoutModel",
          "model_module_version": "1.2.0",
          "state": {
            "_view_name": "LayoutView",
            "grid_template_rows": null,
            "right": null,
            "justify_content": null,
            "_view_module": "@jupyter-widgets/base",
            "overflow": null,
            "_model_module_version": "1.2.0",
            "_view_count": null,
            "flex_flow": null,
            "width": null,
            "min_width": null,
            "border": null,
            "align_items": null,
            "bottom": null,
            "_model_module": "@jupyter-widgets/base",
            "top": null,
            "grid_column": null,
            "overflow_y": null,
            "overflow_x": null,
            "grid_auto_flow": null,
            "grid_area": null,
            "grid_template_columns": null,
            "flex": null,
            "_model_name": "LayoutModel",
            "justify_items": null,
            "grid_row": null,
            "max_height": null,
            "align_content": null,
            "visibility": null,
            "align_self": null,
            "height": null,
            "min_height": null,
            "padding": null,
            "grid_auto_rows": null,
            "grid_gap": null,
            "max_width": null,
            "order": null,
            "_view_module_version": "1.2.0",
            "grid_template_areas": null,
            "object_position": null,
            "object_fit": null,
            "grid_auto_columns": null,
            "margin": null,
            "display": null,
            "left": null
          }
        },
        "d61a4d8715784cf3bdca2de891234fb6": {
          "model_module": "@jupyter-widgets/controls",
          "model_name": "ProgressStyleModel",
          "model_module_version": "1.5.0",
          "state": {
            "_view_name": "StyleView",
            "_model_name": "ProgressStyleModel",
            "description_width": "",
            "_view_module": "@jupyter-widgets/base",
            "_model_module_version": "1.5.0",
            "_view_count": null,
            "_view_module_version": "1.2.0",
            "bar_color": null,
            "_model_module": "@jupyter-widgets/controls"
          }
        },
        "f0eb473347724bdda18462a5023f387a": {
          "model_module": "@jupyter-widgets/base",
          "model_name": "LayoutModel",
          "model_module_version": "1.2.0",
          "state": {
            "_view_name": "LayoutView",
            "grid_template_rows": null,
            "right": null,
            "justify_content": null,
            "_view_module": "@jupyter-widgets/base",
            "overflow": null,
            "_model_module_version": "1.2.0",
            "_view_count": null,
            "flex_flow": null,
            "width": null,
            "min_width": null,
            "border": null,
            "align_items": null,
            "bottom": null,
            "_model_module": "@jupyter-widgets/base",
            "top": null,
            "grid_column": null,
            "overflow_y": null,
            "overflow_x": null,
            "grid_auto_flow": null,
            "grid_area": null,
            "grid_template_columns": null,
            "flex": null,
            "_model_name": "LayoutModel",
            "justify_items": null,
            "grid_row": null,
            "max_height": null,
            "align_content": null,
            "visibility": null,
            "align_self": null,
            "height": null,
            "min_height": null,
            "padding": null,
            "grid_auto_rows": null,
            "grid_gap": null,
            "max_width": null,
            "order": null,
            "_view_module_version": "1.2.0",
            "grid_template_areas": null,
            "object_position": null,
            "object_fit": null,
            "grid_auto_columns": null,
            "margin": null,
            "display": null,
            "left": null
          }
        },
        "2e3f7d85cb904816893f201a110ef72a": {
          "model_module": "@jupyter-widgets/controls",
          "model_name": "VBoxModel",
          "model_module_version": "1.5.0",
          "state": {
            "_view_name": "VBoxView",
            "_dom_classes": [],
            "_model_name": "VBoxModel",
            "_view_module": "@jupyter-widgets/controls",
            "_model_module_version": "1.5.0",
            "_view_count": null,
            "_view_module_version": "1.5.0",
            "box_style": "",
            "layout": "IPY_MODEL_5e28b8eaf4aa4834aa3a7a51ff7468d9",
            "_model_module": "@jupyter-widgets/controls",
            "children": [
              "IPY_MODEL_d5cf2f3bf54b413b855be30c796cf611",
              "IPY_MODEL_3d0803756fb34fa48f21d3495c07e2d6"
            ]
          }
        },
        "5e28b8eaf4aa4834aa3a7a51ff7468d9": {
          "model_module": "@jupyter-widgets/base",
          "model_name": "LayoutModel",
          "model_module_version": "1.2.0",
          "state": {
            "_view_name": "LayoutView",
            "grid_template_rows": null,
            "right": null,
            "justify_content": null,
            "_view_module": "@jupyter-widgets/base",
            "overflow": null,
            "_model_module_version": "1.2.0",
            "_view_count": null,
            "flex_flow": null,
            "width": null,
            "min_width": null,
            "border": null,
            "align_items": null,
            "bottom": null,
            "_model_module": "@jupyter-widgets/base",
            "top": null,
            "grid_column": null,
            "overflow_y": null,
            "overflow_x": null,
            "grid_auto_flow": null,
            "grid_area": null,
            "grid_template_columns": null,
            "flex": null,
            "_model_name": "LayoutModel",
            "justify_items": null,
            "grid_row": null,
            "max_height": null,
            "align_content": null,
            "visibility": null,
            "align_self": null,
            "height": null,
            "min_height": null,
            "padding": null,
            "grid_auto_rows": null,
            "grid_gap": null,
            "max_width": null,
            "order": null,
            "_view_module_version": "1.2.0",
            "grid_template_areas": null,
            "object_position": null,
            "object_fit": null,
            "grid_auto_columns": null,
            "margin": null,
            "display": null,
            "left": null
          }
        },
        "d5cf2f3bf54b413b855be30c796cf611": {
          "model_module": "@jupyter-widgets/controls",
          "model_name": "LabelModel",
          "model_module_version": "1.5.0",
          "state": {
            "_view_name": "LabelView",
            "style": "IPY_MODEL_f4e782eee4b14fe7bfec5fa284ed5b0b",
            "_dom_classes": [],
            "description": "",
            "_model_name": "LabelModel",
            "placeholder": "​",
            "_view_module": "@jupyter-widgets/controls",
            "_model_module_version": "1.5.0",
            "value": " 0.01MB of 0.01MB uploaded (0.00MB deduped)\r",
            "_view_count": null,
            "_view_module_version": "1.5.0",
            "description_tooltip": null,
            "_model_module": "@jupyter-widgets/controls",
            "layout": "IPY_MODEL_c9c0cae30a0d47d8b44ab8addbb007f7"
          }
        },
        "3d0803756fb34fa48f21d3495c07e2d6": {
          "model_module": "@jupyter-widgets/controls",
          "model_name": "FloatProgressModel",
          "model_module_version": "1.5.0",
          "state": {
            "_view_name": "ProgressView",
            "style": "IPY_MODEL_d57649ed0999438b9b4e632ed380048f",
            "_dom_classes": [],
            "description": "",
            "_model_name": "FloatProgressModel",
            "bar_style": "",
            "max": 1,
            "_view_module": "@jupyter-widgets/controls",
            "_model_module_version": "1.5.0",
            "value": 1,
            "_view_count": null,
            "_view_module_version": "1.5.0",
            "orientation": "horizontal",
            "min": 0,
            "description_tooltip": null,
            "_model_module": "@jupyter-widgets/controls",
            "layout": "IPY_MODEL_bd5db879c954471e97e0f9e6cf560669"
          }
        },
        "f4e782eee4b14fe7bfec5fa284ed5b0b": {
          "model_module": "@jupyter-widgets/controls",
          "model_name": "DescriptionStyleModel",
          "model_module_version": "1.5.0",
          "state": {
            "_view_name": "StyleView",
            "_model_name": "DescriptionStyleModel",
            "description_width": "",
            "_view_module": "@jupyter-widgets/base",
            "_model_module_version": "1.5.0",
            "_view_count": null,
            "_view_module_version": "1.2.0",
            "_model_module": "@jupyter-widgets/controls"
          }
        },
        "c9c0cae30a0d47d8b44ab8addbb007f7": {
          "model_module": "@jupyter-widgets/base",
          "model_name": "LayoutModel",
          "model_module_version": "1.2.0",
          "state": {
            "_view_name": "LayoutView",
            "grid_template_rows": null,
            "right": null,
            "justify_content": null,
            "_view_module": "@jupyter-widgets/base",
            "overflow": null,
            "_model_module_version": "1.2.0",
            "_view_count": null,
            "flex_flow": null,
            "width": null,
            "min_width": null,
            "border": null,
            "align_items": null,
            "bottom": null,
            "_model_module": "@jupyter-widgets/base",
            "top": null,
            "grid_column": null,
            "overflow_y": null,
            "overflow_x": null,
            "grid_auto_flow": null,
            "grid_area": null,
            "grid_template_columns": null,
            "flex": null,
            "_model_name": "LayoutModel",
            "justify_items": null,
            "grid_row": null,
            "max_height": null,
            "align_content": null,
            "visibility": null,
            "align_self": null,
            "height": null,
            "min_height": null,
            "padding": null,
            "grid_auto_rows": null,
            "grid_gap": null,
            "max_width": null,
            "order": null,
            "_view_module_version": "1.2.0",
            "grid_template_areas": null,
            "object_position": null,
            "object_fit": null,
            "grid_auto_columns": null,
            "margin": null,
            "display": null,
            "left": null
          }
        },
        "d57649ed0999438b9b4e632ed380048f": {
          "model_module": "@jupyter-widgets/controls",
          "model_name": "ProgressStyleModel",
          "model_module_version": "1.5.0",
          "state": {
            "_view_name": "StyleView",
            "_model_name": "ProgressStyleModel",
            "description_width": "",
            "_view_module": "@jupyter-widgets/base",
            "_model_module_version": "1.5.0",
            "_view_count": null,
            "_view_module_version": "1.2.0",
            "bar_color": null,
            "_model_module": "@jupyter-widgets/controls"
          }
        },
        "bd5db879c954471e97e0f9e6cf560669": {
          "model_module": "@jupyter-widgets/base",
          "model_name": "LayoutModel",
          "model_module_version": "1.2.0",
          "state": {
            "_view_name": "LayoutView",
            "grid_template_rows": null,
            "right": null,
            "justify_content": null,
            "_view_module": "@jupyter-widgets/base",
            "overflow": null,
            "_model_module_version": "1.2.0",
            "_view_count": null,
            "flex_flow": null,
            "width": null,
            "min_width": null,
            "border": null,
            "align_items": null,
            "bottom": null,
            "_model_module": "@jupyter-widgets/base",
            "top": null,
            "grid_column": null,
            "overflow_y": null,
            "overflow_x": null,
            "grid_auto_flow": null,
            "grid_area": null,
            "grid_template_columns": null,
            "flex": null,
            "_model_name": "LayoutModel",
            "justify_items": null,
            "grid_row": null,
            "max_height": null,
            "align_content": null,
            "visibility": null,
            "align_self": null,
            "height": null,
            "min_height": null,
            "padding": null,
            "grid_auto_rows": null,
            "grid_gap": null,
            "max_width": null,
            "order": null,
            "_view_module_version": "1.2.0",
            "grid_template_areas": null,
            "object_position": null,
            "object_fit": null,
            "grid_auto_columns": null,
            "margin": null,
            "display": null,
            "left": null
          }
        },
        "e6d6804081284674ba198e18b8720739": {
          "model_module": "@jupyter-widgets/controls",
          "model_name": "VBoxModel",
          "model_module_version": "1.5.0",
          "state": {
            "_view_name": "VBoxView",
            "_dom_classes": [],
            "_model_name": "VBoxModel",
            "_view_module": "@jupyter-widgets/controls",
            "_model_module_version": "1.5.0",
            "_view_count": null,
            "_view_module_version": "1.5.0",
            "box_style": "",
            "layout": "IPY_MODEL_5e08f9a21c744982be3bd122fab2599f",
            "_model_module": "@jupyter-widgets/controls",
            "children": [
              "IPY_MODEL_a18e4a894e03441799c71a32d8dacb8e",
              "IPY_MODEL_6485db1e99874cf29ed295ef67ec7cb8"
            ]
          }
        },
        "5e08f9a21c744982be3bd122fab2599f": {
          "model_module": "@jupyter-widgets/base",
          "model_name": "LayoutModel",
          "model_module_version": "1.2.0",
          "state": {
            "_view_name": "LayoutView",
            "grid_template_rows": null,
            "right": null,
            "justify_content": null,
            "_view_module": "@jupyter-widgets/base",
            "overflow": null,
            "_model_module_version": "1.2.0",
            "_view_count": null,
            "flex_flow": null,
            "width": null,
            "min_width": null,
            "border": null,
            "align_items": null,
            "bottom": null,
            "_model_module": "@jupyter-widgets/base",
            "top": null,
            "grid_column": null,
            "overflow_y": null,
            "overflow_x": null,
            "grid_auto_flow": null,
            "grid_area": null,
            "grid_template_columns": null,
            "flex": null,
            "_model_name": "LayoutModel",
            "justify_items": null,
            "grid_row": null,
            "max_height": null,
            "align_content": null,
            "visibility": null,
            "align_self": null,
            "height": null,
            "min_height": null,
            "padding": null,
            "grid_auto_rows": null,
            "grid_gap": null,
            "max_width": null,
            "order": null,
            "_view_module_version": "1.2.0",
            "grid_template_areas": null,
            "object_position": null,
            "object_fit": null,
            "grid_auto_columns": null,
            "margin": null,
            "display": null,
            "left": null
          }
        },
        "a18e4a894e03441799c71a32d8dacb8e": {
          "model_module": "@jupyter-widgets/controls",
          "model_name": "LabelModel",
          "model_module_version": "1.5.0",
          "state": {
            "_view_name": "LabelView",
            "style": "IPY_MODEL_1e034739768a4302bbd8214681fdb897",
            "_dom_classes": [],
            "description": "",
            "_model_name": "LabelModel",
            "placeholder": "​",
            "_view_module": "@jupyter-widgets/controls",
            "_model_module_version": "1.5.0",
            "value": " 0.01MB of 0.01MB uploaded (0.00MB deduped)\r",
            "_view_count": null,
            "_view_module_version": "1.5.0",
            "description_tooltip": null,
            "_model_module": "@jupyter-widgets/controls",
            "layout": "IPY_MODEL_f4d74922d39048739a30c8c9dd2a84fb"
          }
        },
        "6485db1e99874cf29ed295ef67ec7cb8": {
          "model_module": "@jupyter-widgets/controls",
          "model_name": "FloatProgressModel",
          "model_module_version": "1.5.0",
          "state": {
            "_view_name": "ProgressView",
            "style": "IPY_MODEL_34bfced7189f4df186aaf137e9b0b68c",
            "_dom_classes": [],
            "description": "",
            "_model_name": "FloatProgressModel",
            "bar_style": "",
            "max": 1,
            "_view_module": "@jupyter-widgets/controls",
            "_model_module_version": "1.5.0",
            "value": 1,
            "_view_count": null,
            "_view_module_version": "1.5.0",
            "orientation": "horizontal",
            "min": 0,
            "description_tooltip": null,
            "_model_module": "@jupyter-widgets/controls",
            "layout": "IPY_MODEL_28309577885c42f58264041bedf3a965"
          }
        },
        "1e034739768a4302bbd8214681fdb897": {
          "model_module": "@jupyter-widgets/controls",
          "model_name": "DescriptionStyleModel",
          "model_module_version": "1.5.0",
          "state": {
            "_view_name": "StyleView",
            "_model_name": "DescriptionStyleModel",
            "description_width": "",
            "_view_module": "@jupyter-widgets/base",
            "_model_module_version": "1.5.0",
            "_view_count": null,
            "_view_module_version": "1.2.0",
            "_model_module": "@jupyter-widgets/controls"
          }
        },
        "f4d74922d39048739a30c8c9dd2a84fb": {
          "model_module": "@jupyter-widgets/base",
          "model_name": "LayoutModel",
          "model_module_version": "1.2.0",
          "state": {
            "_view_name": "LayoutView",
            "grid_template_rows": null,
            "right": null,
            "justify_content": null,
            "_view_module": "@jupyter-widgets/base",
            "overflow": null,
            "_model_module_version": "1.2.0",
            "_view_count": null,
            "flex_flow": null,
            "width": null,
            "min_width": null,
            "border": null,
            "align_items": null,
            "bottom": null,
            "_model_module": "@jupyter-widgets/base",
            "top": null,
            "grid_column": null,
            "overflow_y": null,
            "overflow_x": null,
            "grid_auto_flow": null,
            "grid_area": null,
            "grid_template_columns": null,
            "flex": null,
            "_model_name": "LayoutModel",
            "justify_items": null,
            "grid_row": null,
            "max_height": null,
            "align_content": null,
            "visibility": null,
            "align_self": null,
            "height": null,
            "min_height": null,
            "padding": null,
            "grid_auto_rows": null,
            "grid_gap": null,
            "max_width": null,
            "order": null,
            "_view_module_version": "1.2.0",
            "grid_template_areas": null,
            "object_position": null,
            "object_fit": null,
            "grid_auto_columns": null,
            "margin": null,
            "display": null,
            "left": null
          }
        },
        "34bfced7189f4df186aaf137e9b0b68c": {
          "model_module": "@jupyter-widgets/controls",
          "model_name": "ProgressStyleModel",
          "model_module_version": "1.5.0",
          "state": {
            "_view_name": "StyleView",
            "_model_name": "ProgressStyleModel",
            "description_width": "",
            "_view_module": "@jupyter-widgets/base",
            "_model_module_version": "1.5.0",
            "_view_count": null,
            "_view_module_version": "1.2.0",
            "bar_color": null,
            "_model_module": "@jupyter-widgets/controls"
          }
        },
        "28309577885c42f58264041bedf3a965": {
          "model_module": "@jupyter-widgets/base",
          "model_name": "LayoutModel",
          "model_module_version": "1.2.0",
          "state": {
            "_view_name": "LayoutView",
            "grid_template_rows": null,
            "right": null,
            "justify_content": null,
            "_view_module": "@jupyter-widgets/base",
            "overflow": null,
            "_model_module_version": "1.2.0",
            "_view_count": null,
            "flex_flow": null,
            "width": null,
            "min_width": null,
            "border": null,
            "align_items": null,
            "bottom": null,
            "_model_module": "@jupyter-widgets/base",
            "top": null,
            "grid_column": null,
            "overflow_y": null,
            "overflow_x": null,
            "grid_auto_flow": null,
            "grid_area": null,
            "grid_template_columns": null,
            "flex": null,
            "_model_name": "LayoutModel",
            "justify_items": null,
            "grid_row": null,
            "max_height": null,
            "align_content": null,
            "visibility": null,
            "align_self": null,
            "height": null,
            "min_height": null,
            "padding": null,
            "grid_auto_rows": null,
            "grid_gap": null,
            "max_width": null,
            "order": null,
            "_view_module_version": "1.2.0",
            "grid_template_areas": null,
            "object_position": null,
            "object_fit": null,
            "grid_auto_columns": null,
            "margin": null,
            "display": null,
            "left": null
          }
        },
        "b328c2c4784c4cbcab3c1ebc05fb9d36": {
          "model_module": "@jupyter-widgets/controls",
          "model_name": "VBoxModel",
          "model_module_version": "1.5.0",
          "state": {
            "_view_name": "VBoxView",
            "_dom_classes": [],
            "_model_name": "VBoxModel",
            "_view_module": "@jupyter-widgets/controls",
            "_model_module_version": "1.5.0",
            "_view_count": null,
            "_view_module_version": "1.5.0",
            "box_style": "",
            "layout": "IPY_MODEL_485bc7f0667a41d1aa007ab585cfc7af",
            "_model_module": "@jupyter-widgets/controls",
            "children": [
              "IPY_MODEL_4728e90cb8c546c08f89a2ec156b8c50",
              "IPY_MODEL_ee81bdbc7c834d4ca2e1c864b8a300ef"
            ]
          }
        },
        "485bc7f0667a41d1aa007ab585cfc7af": {
          "model_module": "@jupyter-widgets/base",
          "model_name": "LayoutModel",
          "model_module_version": "1.2.0",
          "state": {
            "_view_name": "LayoutView",
            "grid_template_rows": null,
            "right": null,
            "justify_content": null,
            "_view_module": "@jupyter-widgets/base",
            "overflow": null,
            "_model_module_version": "1.2.0",
            "_view_count": null,
            "flex_flow": null,
            "width": null,
            "min_width": null,
            "border": null,
            "align_items": null,
            "bottom": null,
            "_model_module": "@jupyter-widgets/base",
            "top": null,
            "grid_column": null,
            "overflow_y": null,
            "overflow_x": null,
            "grid_auto_flow": null,
            "grid_area": null,
            "grid_template_columns": null,
            "flex": null,
            "_model_name": "LayoutModel",
            "justify_items": null,
            "grid_row": null,
            "max_height": null,
            "align_content": null,
            "visibility": null,
            "align_self": null,
            "height": null,
            "min_height": null,
            "padding": null,
            "grid_auto_rows": null,
            "grid_gap": null,
            "max_width": null,
            "order": null,
            "_view_module_version": "1.2.0",
            "grid_template_areas": null,
            "object_position": null,
            "object_fit": null,
            "grid_auto_columns": null,
            "margin": null,
            "display": null,
            "left": null
          }
        },
        "4728e90cb8c546c08f89a2ec156b8c50": {
          "model_module": "@jupyter-widgets/controls",
          "model_name": "LabelModel",
          "model_module_version": "1.5.0",
          "state": {
            "_view_name": "LabelView",
            "style": "IPY_MODEL_196489f1cced4ba98640dc49429911c1",
            "_dom_classes": [],
            "description": "",
            "_model_name": "LabelModel",
            "placeholder": "​",
            "_view_module": "@jupyter-widgets/controls",
            "_model_module_version": "1.5.0",
            "value": " 0.01MB of 0.01MB uploaded (0.00MB deduped)\r",
            "_view_count": null,
            "_view_module_version": "1.5.0",
            "description_tooltip": null,
            "_model_module": "@jupyter-widgets/controls",
            "layout": "IPY_MODEL_5459425b13624cc7bbc52967c294d873"
          }
        },
        "ee81bdbc7c834d4ca2e1c864b8a300ef": {
          "model_module": "@jupyter-widgets/controls",
          "model_name": "FloatProgressModel",
          "model_module_version": "1.5.0",
          "state": {
            "_view_name": "ProgressView",
            "style": "IPY_MODEL_6a3ec4d103614b02978a54547a0242fd",
            "_dom_classes": [],
            "description": "",
            "_model_name": "FloatProgressModel",
            "bar_style": "",
            "max": 1,
            "_view_module": "@jupyter-widgets/controls",
            "_model_module_version": "1.5.0",
            "value": 1,
            "_view_count": null,
            "_view_module_version": "1.5.0",
            "orientation": "horizontal",
            "min": 0,
            "description_tooltip": null,
            "_model_module": "@jupyter-widgets/controls",
            "layout": "IPY_MODEL_7b34d35a0e424ea4a9b14fa9fc814ce3"
          }
        },
        "196489f1cced4ba98640dc49429911c1": {
          "model_module": "@jupyter-widgets/controls",
          "model_name": "DescriptionStyleModel",
          "model_module_version": "1.5.0",
          "state": {
            "_view_name": "StyleView",
            "_model_name": "DescriptionStyleModel",
            "description_width": "",
            "_view_module": "@jupyter-widgets/base",
            "_model_module_version": "1.5.0",
            "_view_count": null,
            "_view_module_version": "1.2.0",
            "_model_module": "@jupyter-widgets/controls"
          }
        },
        "5459425b13624cc7bbc52967c294d873": {
          "model_module": "@jupyter-widgets/base",
          "model_name": "LayoutModel",
          "model_module_version": "1.2.0",
          "state": {
            "_view_name": "LayoutView",
            "grid_template_rows": null,
            "right": null,
            "justify_content": null,
            "_view_module": "@jupyter-widgets/base",
            "overflow": null,
            "_model_module_version": "1.2.0",
            "_view_count": null,
            "flex_flow": null,
            "width": null,
            "min_width": null,
            "border": null,
            "align_items": null,
            "bottom": null,
            "_model_module": "@jupyter-widgets/base",
            "top": null,
            "grid_column": null,
            "overflow_y": null,
            "overflow_x": null,
            "grid_auto_flow": null,
            "grid_area": null,
            "grid_template_columns": null,
            "flex": null,
            "_model_name": "LayoutModel",
            "justify_items": null,
            "grid_row": null,
            "max_height": null,
            "align_content": null,
            "visibility": null,
            "align_self": null,
            "height": null,
            "min_height": null,
            "padding": null,
            "grid_auto_rows": null,
            "grid_gap": null,
            "max_width": null,
            "order": null,
            "_view_module_version": "1.2.0",
            "grid_template_areas": null,
            "object_position": null,
            "object_fit": null,
            "grid_auto_columns": null,
            "margin": null,
            "display": null,
            "left": null
          }
        },
        "6a3ec4d103614b02978a54547a0242fd": {
          "model_module": "@jupyter-widgets/controls",
          "model_name": "ProgressStyleModel",
          "model_module_version": "1.5.0",
          "state": {
            "_view_name": "StyleView",
            "_model_name": "ProgressStyleModel",
            "description_width": "",
            "_view_module": "@jupyter-widgets/base",
            "_model_module_version": "1.5.0",
            "_view_count": null,
            "_view_module_version": "1.2.0",
            "bar_color": null,
            "_model_module": "@jupyter-widgets/controls"
          }
        },
        "7b34d35a0e424ea4a9b14fa9fc814ce3": {
          "model_module": "@jupyter-widgets/base",
          "model_name": "LayoutModel",
          "model_module_version": "1.2.0",
          "state": {
            "_view_name": "LayoutView",
            "grid_template_rows": null,
            "right": null,
            "justify_content": null,
            "_view_module": "@jupyter-widgets/base",
            "overflow": null,
            "_model_module_version": "1.2.0",
            "_view_count": null,
            "flex_flow": null,
            "width": null,
            "min_width": null,
            "border": null,
            "align_items": null,
            "bottom": null,
            "_model_module": "@jupyter-widgets/base",
            "top": null,
            "grid_column": null,
            "overflow_y": null,
            "overflow_x": null,
            "grid_auto_flow": null,
            "grid_area": null,
            "grid_template_columns": null,
            "flex": null,
            "_model_name": "LayoutModel",
            "justify_items": null,
            "grid_row": null,
            "max_height": null,
            "align_content": null,
            "visibility": null,
            "align_self": null,
            "height": null,
            "min_height": null,
            "padding": null,
            "grid_auto_rows": null,
            "grid_gap": null,
            "max_width": null,
            "order": null,
            "_view_module_version": "1.2.0",
            "grid_template_areas": null,
            "object_position": null,
            "object_fit": null,
            "grid_auto_columns": null,
            "margin": null,
            "display": null,
            "left": null
          }
        },
        "1c82e43b7e6f473abc5da27e1b7ba149": {
          "model_module": "@jupyter-widgets/controls",
          "model_name": "VBoxModel",
          "model_module_version": "1.5.0",
          "state": {
            "_view_name": "VBoxView",
            "_dom_classes": [],
            "_model_name": "VBoxModel",
            "_view_module": "@jupyter-widgets/controls",
            "_model_module_version": "1.5.0",
            "_view_count": null,
            "_view_module_version": "1.5.0",
            "box_style": "",
            "layout": "IPY_MODEL_4507a965dfb942f59ef6d42b76dec1db",
            "_model_module": "@jupyter-widgets/controls",
            "children": [
              "IPY_MODEL_eed59190e5854a92b9ecf376e1c6613f",
              "IPY_MODEL_3cc286c0ab9c45a4a3744674f0331c27"
            ]
          }
        },
        "4507a965dfb942f59ef6d42b76dec1db": {
          "model_module": "@jupyter-widgets/base",
          "model_name": "LayoutModel",
          "model_module_version": "1.2.0",
          "state": {
            "_view_name": "LayoutView",
            "grid_template_rows": null,
            "right": null,
            "justify_content": null,
            "_view_module": "@jupyter-widgets/base",
            "overflow": null,
            "_model_module_version": "1.2.0",
            "_view_count": null,
            "flex_flow": null,
            "width": null,
            "min_width": null,
            "border": null,
            "align_items": null,
            "bottom": null,
            "_model_module": "@jupyter-widgets/base",
            "top": null,
            "grid_column": null,
            "overflow_y": null,
            "overflow_x": null,
            "grid_auto_flow": null,
            "grid_area": null,
            "grid_template_columns": null,
            "flex": null,
            "_model_name": "LayoutModel",
            "justify_items": null,
            "grid_row": null,
            "max_height": null,
            "align_content": null,
            "visibility": null,
            "align_self": null,
            "height": null,
            "min_height": null,
            "padding": null,
            "grid_auto_rows": null,
            "grid_gap": null,
            "max_width": null,
            "order": null,
            "_view_module_version": "1.2.0",
            "grid_template_areas": null,
            "object_position": null,
            "object_fit": null,
            "grid_auto_columns": null,
            "margin": null,
            "display": null,
            "left": null
          }
        },
        "eed59190e5854a92b9ecf376e1c6613f": {
          "model_module": "@jupyter-widgets/controls",
          "model_name": "LabelModel",
          "model_module_version": "1.5.0",
          "state": {
            "_view_name": "LabelView",
            "style": "IPY_MODEL_74dc63d3dacd4897a7f461d8a47ea15a",
            "_dom_classes": [],
            "description": "",
            "_model_name": "LabelModel",
            "placeholder": "​",
            "_view_module": "@jupyter-widgets/controls",
            "_model_module_version": "1.5.0",
            "value": " 0.01MB of 0.01MB uploaded (0.00MB deduped)\r",
            "_view_count": null,
            "_view_module_version": "1.5.0",
            "description_tooltip": null,
            "_model_module": "@jupyter-widgets/controls",
            "layout": "IPY_MODEL_5f8a47d0cecb4bb0aefc5b4b782a5736"
          }
        },
        "3cc286c0ab9c45a4a3744674f0331c27": {
          "model_module": "@jupyter-widgets/controls",
          "model_name": "FloatProgressModel",
          "model_module_version": "1.5.0",
          "state": {
            "_view_name": "ProgressView",
            "style": "IPY_MODEL_46860513f41e407d8f3815430b6b8394",
            "_dom_classes": [],
            "description": "",
            "_model_name": "FloatProgressModel",
            "bar_style": "",
            "max": 1,
            "_view_module": "@jupyter-widgets/controls",
            "_model_module_version": "1.5.0",
            "value": 1,
            "_view_count": null,
            "_view_module_version": "1.5.0",
            "orientation": "horizontal",
            "min": 0,
            "description_tooltip": null,
            "_model_module": "@jupyter-widgets/controls",
            "layout": "IPY_MODEL_6d45ca78d8a14632a048e6a7c1fb3376"
          }
        },
        "74dc63d3dacd4897a7f461d8a47ea15a": {
          "model_module": "@jupyter-widgets/controls",
          "model_name": "DescriptionStyleModel",
          "model_module_version": "1.5.0",
          "state": {
            "_view_name": "StyleView",
            "_model_name": "DescriptionStyleModel",
            "description_width": "",
            "_view_module": "@jupyter-widgets/base",
            "_model_module_version": "1.5.0",
            "_view_count": null,
            "_view_module_version": "1.2.0",
            "_model_module": "@jupyter-widgets/controls"
          }
        },
        "5f8a47d0cecb4bb0aefc5b4b782a5736": {
          "model_module": "@jupyter-widgets/base",
          "model_name": "LayoutModel",
          "model_module_version": "1.2.0",
          "state": {
            "_view_name": "LayoutView",
            "grid_template_rows": null,
            "right": null,
            "justify_content": null,
            "_view_module": "@jupyter-widgets/base",
            "overflow": null,
            "_model_module_version": "1.2.0",
            "_view_count": null,
            "flex_flow": null,
            "width": null,
            "min_width": null,
            "border": null,
            "align_items": null,
            "bottom": null,
            "_model_module": "@jupyter-widgets/base",
            "top": null,
            "grid_column": null,
            "overflow_y": null,
            "overflow_x": null,
            "grid_auto_flow": null,
            "grid_area": null,
            "grid_template_columns": null,
            "flex": null,
            "_model_name": "LayoutModel",
            "justify_items": null,
            "grid_row": null,
            "max_height": null,
            "align_content": null,
            "visibility": null,
            "align_self": null,
            "height": null,
            "min_height": null,
            "padding": null,
            "grid_auto_rows": null,
            "grid_gap": null,
            "max_width": null,
            "order": null,
            "_view_module_version": "1.2.0",
            "grid_template_areas": null,
            "object_position": null,
            "object_fit": null,
            "grid_auto_columns": null,
            "margin": null,
            "display": null,
            "left": null
          }
        },
        "46860513f41e407d8f3815430b6b8394": {
          "model_module": "@jupyter-widgets/controls",
          "model_name": "ProgressStyleModel",
          "model_module_version": "1.5.0",
          "state": {
            "_view_name": "StyleView",
            "_model_name": "ProgressStyleModel",
            "description_width": "",
            "_view_module": "@jupyter-widgets/base",
            "_model_module_version": "1.5.0",
            "_view_count": null,
            "_view_module_version": "1.2.0",
            "bar_color": null,
            "_model_module": "@jupyter-widgets/controls"
          }
        },
        "6d45ca78d8a14632a048e6a7c1fb3376": {
          "model_module": "@jupyter-widgets/base",
          "model_name": "LayoutModel",
          "model_module_version": "1.2.0",
          "state": {
            "_view_name": "LayoutView",
            "grid_template_rows": null,
            "right": null,
            "justify_content": null,
            "_view_module": "@jupyter-widgets/base",
            "overflow": null,
            "_model_module_version": "1.2.0",
            "_view_count": null,
            "flex_flow": null,
            "width": null,
            "min_width": null,
            "border": null,
            "align_items": null,
            "bottom": null,
            "_model_module": "@jupyter-widgets/base",
            "top": null,
            "grid_column": null,
            "overflow_y": null,
            "overflow_x": null,
            "grid_auto_flow": null,
            "grid_area": null,
            "grid_template_columns": null,
            "flex": null,
            "_model_name": "LayoutModel",
            "justify_items": null,
            "grid_row": null,
            "max_height": null,
            "align_content": null,
            "visibility": null,
            "align_self": null,
            "height": null,
            "min_height": null,
            "padding": null,
            "grid_auto_rows": null,
            "grid_gap": null,
            "max_width": null,
            "order": null,
            "_view_module_version": "1.2.0",
            "grid_template_areas": null,
            "object_position": null,
            "object_fit": null,
            "grid_auto_columns": null,
            "margin": null,
            "display": null,
            "left": null
          }
        },
        "1379496d8fe148a9ac3f3dc3a0d7b6e4": {
          "model_module": "@jupyter-widgets/controls",
          "model_name": "VBoxModel",
          "model_module_version": "1.5.0",
          "state": {
            "_view_name": "VBoxView",
            "_dom_classes": [],
            "_model_name": "VBoxModel",
            "_view_module": "@jupyter-widgets/controls",
            "_model_module_version": "1.5.0",
            "_view_count": null,
            "_view_module_version": "1.5.0",
            "box_style": "",
            "layout": "IPY_MODEL_27a0f603886945bab699f76db148b9fd",
            "_model_module": "@jupyter-widgets/controls",
            "children": [
              "IPY_MODEL_dd44cfceaf864c36986bfa9556a482f6",
              "IPY_MODEL_a2fd45e32326442d8b1e8d27e0836eec"
            ]
          }
        },
        "27a0f603886945bab699f76db148b9fd": {
          "model_module": "@jupyter-widgets/base",
          "model_name": "LayoutModel",
          "model_module_version": "1.2.0",
          "state": {
            "_view_name": "LayoutView",
            "grid_template_rows": null,
            "right": null,
            "justify_content": null,
            "_view_module": "@jupyter-widgets/base",
            "overflow": null,
            "_model_module_version": "1.2.0",
            "_view_count": null,
            "flex_flow": null,
            "width": null,
            "min_width": null,
            "border": null,
            "align_items": null,
            "bottom": null,
            "_model_module": "@jupyter-widgets/base",
            "top": null,
            "grid_column": null,
            "overflow_y": null,
            "overflow_x": null,
            "grid_auto_flow": null,
            "grid_area": null,
            "grid_template_columns": null,
            "flex": null,
            "_model_name": "LayoutModel",
            "justify_items": null,
            "grid_row": null,
            "max_height": null,
            "align_content": null,
            "visibility": null,
            "align_self": null,
            "height": null,
            "min_height": null,
            "padding": null,
            "grid_auto_rows": null,
            "grid_gap": null,
            "max_width": null,
            "order": null,
            "_view_module_version": "1.2.0",
            "grid_template_areas": null,
            "object_position": null,
            "object_fit": null,
            "grid_auto_columns": null,
            "margin": null,
            "display": null,
            "left": null
          }
        },
        "dd44cfceaf864c36986bfa9556a482f6": {
          "model_module": "@jupyter-widgets/controls",
          "model_name": "LabelModel",
          "model_module_version": "1.5.0",
          "state": {
            "_view_name": "LabelView",
            "style": "IPY_MODEL_5eb52d7232534f6e84445f59ffd95c4b",
            "_dom_classes": [],
            "description": "",
            "_model_name": "LabelModel",
            "placeholder": "​",
            "_view_module": "@jupyter-widgets/controls",
            "_model_module_version": "1.5.0",
            "value": " 0.01MB of 0.01MB uploaded (0.00MB deduped)\r",
            "_view_count": null,
            "_view_module_version": "1.5.0",
            "description_tooltip": null,
            "_model_module": "@jupyter-widgets/controls",
            "layout": "IPY_MODEL_bc5e8b3dee0b451cbb82981c72121ca5"
          }
        },
        "a2fd45e32326442d8b1e8d27e0836eec": {
          "model_module": "@jupyter-widgets/controls",
          "model_name": "FloatProgressModel",
          "model_module_version": "1.5.0",
          "state": {
            "_view_name": "ProgressView",
            "style": "IPY_MODEL_34f81c3501074318ae2807a0997d47dc",
            "_dom_classes": [],
            "description": "",
            "_model_name": "FloatProgressModel",
            "bar_style": "",
            "max": 1,
            "_view_module": "@jupyter-widgets/controls",
            "_model_module_version": "1.5.0",
            "value": 1,
            "_view_count": null,
            "_view_module_version": "1.5.0",
            "orientation": "horizontal",
            "min": 0,
            "description_tooltip": null,
            "_model_module": "@jupyter-widgets/controls",
            "layout": "IPY_MODEL_487633d9bd0c4e0ab0a95f52bd41e617"
          }
        },
        "5eb52d7232534f6e84445f59ffd95c4b": {
          "model_module": "@jupyter-widgets/controls",
          "model_name": "DescriptionStyleModel",
          "model_module_version": "1.5.0",
          "state": {
            "_view_name": "StyleView",
            "_model_name": "DescriptionStyleModel",
            "description_width": "",
            "_view_module": "@jupyter-widgets/base",
            "_model_module_version": "1.5.0",
            "_view_count": null,
            "_view_module_version": "1.2.0",
            "_model_module": "@jupyter-widgets/controls"
          }
        },
        "bc5e8b3dee0b451cbb82981c72121ca5": {
          "model_module": "@jupyter-widgets/base",
          "model_name": "LayoutModel",
          "model_module_version": "1.2.0",
          "state": {
            "_view_name": "LayoutView",
            "grid_template_rows": null,
            "right": null,
            "justify_content": null,
            "_view_module": "@jupyter-widgets/base",
            "overflow": null,
            "_model_module_version": "1.2.0",
            "_view_count": null,
            "flex_flow": null,
            "width": null,
            "min_width": null,
            "border": null,
            "align_items": null,
            "bottom": null,
            "_model_module": "@jupyter-widgets/base",
            "top": null,
            "grid_column": null,
            "overflow_y": null,
            "overflow_x": null,
            "grid_auto_flow": null,
            "grid_area": null,
            "grid_template_columns": null,
            "flex": null,
            "_model_name": "LayoutModel",
            "justify_items": null,
            "grid_row": null,
            "max_height": null,
            "align_content": null,
            "visibility": null,
            "align_self": null,
            "height": null,
            "min_height": null,
            "padding": null,
            "grid_auto_rows": null,
            "grid_gap": null,
            "max_width": null,
            "order": null,
            "_view_module_version": "1.2.0",
            "grid_template_areas": null,
            "object_position": null,
            "object_fit": null,
            "grid_auto_columns": null,
            "margin": null,
            "display": null,
            "left": null
          }
        },
        "34f81c3501074318ae2807a0997d47dc": {
          "model_module": "@jupyter-widgets/controls",
          "model_name": "ProgressStyleModel",
          "model_module_version": "1.5.0",
          "state": {
            "_view_name": "StyleView",
            "_model_name": "ProgressStyleModel",
            "description_width": "",
            "_view_module": "@jupyter-widgets/base",
            "_model_module_version": "1.5.0",
            "_view_count": null,
            "_view_module_version": "1.2.0",
            "bar_color": null,
            "_model_module": "@jupyter-widgets/controls"
          }
        },
        "487633d9bd0c4e0ab0a95f52bd41e617": {
          "model_module": "@jupyter-widgets/base",
          "model_name": "LayoutModel",
          "model_module_version": "1.2.0",
          "state": {
            "_view_name": "LayoutView",
            "grid_template_rows": null,
            "right": null,
            "justify_content": null,
            "_view_module": "@jupyter-widgets/base",
            "overflow": null,
            "_model_module_version": "1.2.0",
            "_view_count": null,
            "flex_flow": null,
            "width": null,
            "min_width": null,
            "border": null,
            "align_items": null,
            "bottom": null,
            "_model_module": "@jupyter-widgets/base",
            "top": null,
            "grid_column": null,
            "overflow_y": null,
            "overflow_x": null,
            "grid_auto_flow": null,
            "grid_area": null,
            "grid_template_columns": null,
            "flex": null,
            "_model_name": "LayoutModel",
            "justify_items": null,
            "grid_row": null,
            "max_height": null,
            "align_content": null,
            "visibility": null,
            "align_self": null,
            "height": null,
            "min_height": null,
            "padding": null,
            "grid_auto_rows": null,
            "grid_gap": null,
            "max_width": null,
            "order": null,
            "_view_module_version": "1.2.0",
            "grid_template_areas": null,
            "object_position": null,
            "object_fit": null,
            "grid_auto_columns": null,
            "margin": null,
            "display": null,
            "left": null
          }
        },
        "444fdd6ff0784e74a27dbb2f1ea9b492": {
          "model_module": "@jupyter-widgets/controls",
          "model_name": "VBoxModel",
          "model_module_version": "1.5.0",
          "state": {
            "_view_name": "VBoxView",
            "_dom_classes": [],
            "_model_name": "VBoxModel",
            "_view_module": "@jupyter-widgets/controls",
            "_model_module_version": "1.5.0",
            "_view_count": null,
            "_view_module_version": "1.5.0",
            "box_style": "",
            "layout": "IPY_MODEL_d7027aaa7aaf4f29a296c14f3bc2ce10",
            "_model_module": "@jupyter-widgets/controls",
            "children": [
              "IPY_MODEL_e8503310e7034c79808b9a4cb6a4c9b8",
              "IPY_MODEL_6dd76dc07bc143c7bd22e7356e889628"
            ]
          }
        },
        "d7027aaa7aaf4f29a296c14f3bc2ce10": {
          "model_module": "@jupyter-widgets/base",
          "model_name": "LayoutModel",
          "model_module_version": "1.2.0",
          "state": {
            "_view_name": "LayoutView",
            "grid_template_rows": null,
            "right": null,
            "justify_content": null,
            "_view_module": "@jupyter-widgets/base",
            "overflow": null,
            "_model_module_version": "1.2.0",
            "_view_count": null,
            "flex_flow": null,
            "width": null,
            "min_width": null,
            "border": null,
            "align_items": null,
            "bottom": null,
            "_model_module": "@jupyter-widgets/base",
            "top": null,
            "grid_column": null,
            "overflow_y": null,
            "overflow_x": null,
            "grid_auto_flow": null,
            "grid_area": null,
            "grid_template_columns": null,
            "flex": null,
            "_model_name": "LayoutModel",
            "justify_items": null,
            "grid_row": null,
            "max_height": null,
            "align_content": null,
            "visibility": null,
            "align_self": null,
            "height": null,
            "min_height": null,
            "padding": null,
            "grid_auto_rows": null,
            "grid_gap": null,
            "max_width": null,
            "order": null,
            "_view_module_version": "1.2.0",
            "grid_template_areas": null,
            "object_position": null,
            "object_fit": null,
            "grid_auto_columns": null,
            "margin": null,
            "display": null,
            "left": null
          }
        },
        "e8503310e7034c79808b9a4cb6a4c9b8": {
          "model_module": "@jupyter-widgets/controls",
          "model_name": "LabelModel",
          "model_module_version": "1.5.0",
          "state": {
            "_view_name": "LabelView",
            "style": "IPY_MODEL_fdedeb6021a145e2a958138adf6cd9b1",
            "_dom_classes": [],
            "description": "",
            "_model_name": "LabelModel",
            "placeholder": "​",
            "_view_module": "@jupyter-widgets/controls",
            "_model_module_version": "1.5.0",
            "value": " 0.01MB of 0.01MB uploaded (0.00MB deduped)\r",
            "_view_count": null,
            "_view_module_version": "1.5.0",
            "description_tooltip": null,
            "_model_module": "@jupyter-widgets/controls",
            "layout": "IPY_MODEL_2670df3d536542dda6f48cf323421a38"
          }
        },
        "6dd76dc07bc143c7bd22e7356e889628": {
          "model_module": "@jupyter-widgets/controls",
          "model_name": "FloatProgressModel",
          "model_module_version": "1.5.0",
          "state": {
            "_view_name": "ProgressView",
            "style": "IPY_MODEL_36a0b1e30cdf4f92958fe2741488fc81",
            "_dom_classes": [],
            "description": "",
            "_model_name": "FloatProgressModel",
            "bar_style": "",
            "max": 1,
            "_view_module": "@jupyter-widgets/controls",
            "_model_module_version": "1.5.0",
            "value": 1,
            "_view_count": null,
            "_view_module_version": "1.5.0",
            "orientation": "horizontal",
            "min": 0,
            "description_tooltip": null,
            "_model_module": "@jupyter-widgets/controls",
            "layout": "IPY_MODEL_cdd08ac15115454ba65cd97f8159ed96"
          }
        },
        "fdedeb6021a145e2a958138adf6cd9b1": {
          "model_module": "@jupyter-widgets/controls",
          "model_name": "DescriptionStyleModel",
          "model_module_version": "1.5.0",
          "state": {
            "_view_name": "StyleView",
            "_model_name": "DescriptionStyleModel",
            "description_width": "",
            "_view_module": "@jupyter-widgets/base",
            "_model_module_version": "1.5.0",
            "_view_count": null,
            "_view_module_version": "1.2.0",
            "_model_module": "@jupyter-widgets/controls"
          }
        },
        "2670df3d536542dda6f48cf323421a38": {
          "model_module": "@jupyter-widgets/base",
          "model_name": "LayoutModel",
          "model_module_version": "1.2.0",
          "state": {
            "_view_name": "LayoutView",
            "grid_template_rows": null,
            "right": null,
            "justify_content": null,
            "_view_module": "@jupyter-widgets/base",
            "overflow": null,
            "_model_module_version": "1.2.0",
            "_view_count": null,
            "flex_flow": null,
            "width": null,
            "min_width": null,
            "border": null,
            "align_items": null,
            "bottom": null,
            "_model_module": "@jupyter-widgets/base",
            "top": null,
            "grid_column": null,
            "overflow_y": null,
            "overflow_x": null,
            "grid_auto_flow": null,
            "grid_area": null,
            "grid_template_columns": null,
            "flex": null,
            "_model_name": "LayoutModel",
            "justify_items": null,
            "grid_row": null,
            "max_height": null,
            "align_content": null,
            "visibility": null,
            "align_self": null,
            "height": null,
            "min_height": null,
            "padding": null,
            "grid_auto_rows": null,
            "grid_gap": null,
            "max_width": null,
            "order": null,
            "_view_module_version": "1.2.0",
            "grid_template_areas": null,
            "object_position": null,
            "object_fit": null,
            "grid_auto_columns": null,
            "margin": null,
            "display": null,
            "left": null
          }
        },
        "36a0b1e30cdf4f92958fe2741488fc81": {
          "model_module": "@jupyter-widgets/controls",
          "model_name": "ProgressStyleModel",
          "model_module_version": "1.5.0",
          "state": {
            "_view_name": "StyleView",
            "_model_name": "ProgressStyleModel",
            "description_width": "",
            "_view_module": "@jupyter-widgets/base",
            "_model_module_version": "1.5.0",
            "_view_count": null,
            "_view_module_version": "1.2.0",
            "bar_color": null,
            "_model_module": "@jupyter-widgets/controls"
          }
        },
        "cdd08ac15115454ba65cd97f8159ed96": {
          "model_module": "@jupyter-widgets/base",
          "model_name": "LayoutModel",
          "model_module_version": "1.2.0",
          "state": {
            "_view_name": "LayoutView",
            "grid_template_rows": null,
            "right": null,
            "justify_content": null,
            "_view_module": "@jupyter-widgets/base",
            "overflow": null,
            "_model_module_version": "1.2.0",
            "_view_count": null,
            "flex_flow": null,
            "width": null,
            "min_width": null,
            "border": null,
            "align_items": null,
            "bottom": null,
            "_model_module": "@jupyter-widgets/base",
            "top": null,
            "grid_column": null,
            "overflow_y": null,
            "overflow_x": null,
            "grid_auto_flow": null,
            "grid_area": null,
            "grid_template_columns": null,
            "flex": null,
            "_model_name": "LayoutModel",
            "justify_items": null,
            "grid_row": null,
            "max_height": null,
            "align_content": null,
            "visibility": null,
            "align_self": null,
            "height": null,
            "min_height": null,
            "padding": null,
            "grid_auto_rows": null,
            "grid_gap": null,
            "max_width": null,
            "order": null,
            "_view_module_version": "1.2.0",
            "grid_template_areas": null,
            "object_position": null,
            "object_fit": null,
            "grid_auto_columns": null,
            "margin": null,
            "display": null,
            "left": null
          }
        },
        "94e199e0073945de91d46712a824acfb": {
          "model_module": "@jupyter-widgets/controls",
          "model_name": "VBoxModel",
          "model_module_version": "1.5.0",
          "state": {
            "_view_name": "VBoxView",
            "_dom_classes": [],
            "_model_name": "VBoxModel",
            "_view_module": "@jupyter-widgets/controls",
            "_model_module_version": "1.5.0",
            "_view_count": null,
            "_view_module_version": "1.5.0",
            "box_style": "",
            "layout": "IPY_MODEL_3783146894d6480d8ee557b4f79b9919",
            "_model_module": "@jupyter-widgets/controls",
            "children": [
              "IPY_MODEL_0d4521708ab1496cb6b69abe0d09cd07",
              "IPY_MODEL_3df949c7802f4b599f160d7f7db96d12"
            ]
          }
        },
        "3783146894d6480d8ee557b4f79b9919": {
          "model_module": "@jupyter-widgets/base",
          "model_name": "LayoutModel",
          "model_module_version": "1.2.0",
          "state": {
            "_view_name": "LayoutView",
            "grid_template_rows": null,
            "right": null,
            "justify_content": null,
            "_view_module": "@jupyter-widgets/base",
            "overflow": null,
            "_model_module_version": "1.2.0",
            "_view_count": null,
            "flex_flow": null,
            "width": null,
            "min_width": null,
            "border": null,
            "align_items": null,
            "bottom": null,
            "_model_module": "@jupyter-widgets/base",
            "top": null,
            "grid_column": null,
            "overflow_y": null,
            "overflow_x": null,
            "grid_auto_flow": null,
            "grid_area": null,
            "grid_template_columns": null,
            "flex": null,
            "_model_name": "LayoutModel",
            "justify_items": null,
            "grid_row": null,
            "max_height": null,
            "align_content": null,
            "visibility": null,
            "align_self": null,
            "height": null,
            "min_height": null,
            "padding": null,
            "grid_auto_rows": null,
            "grid_gap": null,
            "max_width": null,
            "order": null,
            "_view_module_version": "1.2.0",
            "grid_template_areas": null,
            "object_position": null,
            "object_fit": null,
            "grid_auto_columns": null,
            "margin": null,
            "display": null,
            "left": null
          }
        },
        "0d4521708ab1496cb6b69abe0d09cd07": {
          "model_module": "@jupyter-widgets/controls",
          "model_name": "LabelModel",
          "model_module_version": "1.5.0",
          "state": {
            "_view_name": "LabelView",
            "style": "IPY_MODEL_ed46fa7443b84cc4bf5d027d642a9541",
            "_dom_classes": [],
            "description": "",
            "_model_name": "LabelModel",
            "placeholder": "​",
            "_view_module": "@jupyter-widgets/controls",
            "_model_module_version": "1.5.0",
            "value": " 0.01MB of 0.01MB uploaded (0.00MB deduped)\r",
            "_view_count": null,
            "_view_module_version": "1.5.0",
            "description_tooltip": null,
            "_model_module": "@jupyter-widgets/controls",
            "layout": "IPY_MODEL_c6a1c8cf271f483887da93739dc25ff2"
          }
        },
        "3df949c7802f4b599f160d7f7db96d12": {
          "model_module": "@jupyter-widgets/controls",
          "model_name": "FloatProgressModel",
          "model_module_version": "1.5.0",
          "state": {
            "_view_name": "ProgressView",
            "style": "IPY_MODEL_9cf27be1edba48088e82043360753513",
            "_dom_classes": [],
            "description": "",
            "_model_name": "FloatProgressModel",
            "bar_style": "",
            "max": 1,
            "_view_module": "@jupyter-widgets/controls",
            "_model_module_version": "1.5.0",
            "value": 1,
            "_view_count": null,
            "_view_module_version": "1.5.0",
            "orientation": "horizontal",
            "min": 0,
            "description_tooltip": null,
            "_model_module": "@jupyter-widgets/controls",
            "layout": "IPY_MODEL_28262d5fe7cc49cbac371a61a6791267"
          }
        },
        "ed46fa7443b84cc4bf5d027d642a9541": {
          "model_module": "@jupyter-widgets/controls",
          "model_name": "DescriptionStyleModel",
          "model_module_version": "1.5.0",
          "state": {
            "_view_name": "StyleView",
            "_model_name": "DescriptionStyleModel",
            "description_width": "",
            "_view_module": "@jupyter-widgets/base",
            "_model_module_version": "1.5.0",
            "_view_count": null,
            "_view_module_version": "1.2.0",
            "_model_module": "@jupyter-widgets/controls"
          }
        },
        "c6a1c8cf271f483887da93739dc25ff2": {
          "model_module": "@jupyter-widgets/base",
          "model_name": "LayoutModel",
          "model_module_version": "1.2.0",
          "state": {
            "_view_name": "LayoutView",
            "grid_template_rows": null,
            "right": null,
            "justify_content": null,
            "_view_module": "@jupyter-widgets/base",
            "overflow": null,
            "_model_module_version": "1.2.0",
            "_view_count": null,
            "flex_flow": null,
            "width": null,
            "min_width": null,
            "border": null,
            "align_items": null,
            "bottom": null,
            "_model_module": "@jupyter-widgets/base",
            "top": null,
            "grid_column": null,
            "overflow_y": null,
            "overflow_x": null,
            "grid_auto_flow": null,
            "grid_area": null,
            "grid_template_columns": null,
            "flex": null,
            "_model_name": "LayoutModel",
            "justify_items": null,
            "grid_row": null,
            "max_height": null,
            "align_content": null,
            "visibility": null,
            "align_self": null,
            "height": null,
            "min_height": null,
            "padding": null,
            "grid_auto_rows": null,
            "grid_gap": null,
            "max_width": null,
            "order": null,
            "_view_module_version": "1.2.0",
            "grid_template_areas": null,
            "object_position": null,
            "object_fit": null,
            "grid_auto_columns": null,
            "margin": null,
            "display": null,
            "left": null
          }
        },
        "9cf27be1edba48088e82043360753513": {
          "model_module": "@jupyter-widgets/controls",
          "model_name": "ProgressStyleModel",
          "model_module_version": "1.5.0",
          "state": {
            "_view_name": "StyleView",
            "_model_name": "ProgressStyleModel",
            "description_width": "",
            "_view_module": "@jupyter-widgets/base",
            "_model_module_version": "1.5.0",
            "_view_count": null,
            "_view_module_version": "1.2.0",
            "bar_color": null,
            "_model_module": "@jupyter-widgets/controls"
          }
        },
        "28262d5fe7cc49cbac371a61a6791267": {
          "model_module": "@jupyter-widgets/base",
          "model_name": "LayoutModel",
          "model_module_version": "1.2.0",
          "state": {
            "_view_name": "LayoutView",
            "grid_template_rows": null,
            "right": null,
            "justify_content": null,
            "_view_module": "@jupyter-widgets/base",
            "overflow": null,
            "_model_module_version": "1.2.0",
            "_view_count": null,
            "flex_flow": null,
            "width": null,
            "min_width": null,
            "border": null,
            "align_items": null,
            "bottom": null,
            "_model_module": "@jupyter-widgets/base",
            "top": null,
            "grid_column": null,
            "overflow_y": null,
            "overflow_x": null,
            "grid_auto_flow": null,
            "grid_area": null,
            "grid_template_columns": null,
            "flex": null,
            "_model_name": "LayoutModel",
            "justify_items": null,
            "grid_row": null,
            "max_height": null,
            "align_content": null,
            "visibility": null,
            "align_self": null,
            "height": null,
            "min_height": null,
            "padding": null,
            "grid_auto_rows": null,
            "grid_gap": null,
            "max_width": null,
            "order": null,
            "_view_module_version": "1.2.0",
            "grid_template_areas": null,
            "object_position": null,
            "object_fit": null,
            "grid_auto_columns": null,
            "margin": null,
            "display": null,
            "left": null
          }
        }
      }
    }
  },
  "cells": [
    {
      "cell_type": "markdown",
      "metadata": {
        "id": "view-in-github",
        "colab_type": "text"
      },
      "source": [
        "<a href=\"https://colab.research.google.com/github/Diagnemag/AdvancedML/blob/main/0701_TP_1_FactoMachine_Elhadji.ipynb\" target=\"_parent\"><img src=\"https://colab.research.google.com/assets/colab-badge.svg\" alt=\"Open In Colab\"/></a>"
      ]
    },
    {
      "cell_type": "markdown",
      "metadata": {
        "id": "LX7NZ1PG2TXt"
      },
      "source": [
        "#Goals of the practical session:\n",
        "- Understand a mimimal Python code implementing a memory efficient logistic regression from scratch. \n",
        "- Adapt the code to obtain some common features such as a quadratic kernel and a regularization.\n",
        "- Learn how to conveniently track and measure the performances of a set of models with several hyper parameters. \n",
        "\n",
        "#Part I: Logistic regression from scratch\n",
        "\n",
        "Download some data from a recent challenge\n",
        "- [Small version](http://go.criteo.net/criteo-ppml-challenge-adkdd21-dataset.zip) (284 Mo, more than enough for today)\n",
        "- [Complete version](http://go.criteo.net/criteo-ppml-challenge-adkdd21-dataset-raw-granular-data.csv.gz) (optional aditionnal data if you want to try different things - 50Go)\n",
        "\n",
        "For convience here it is a few batch commands downloading and extracting data in your drive:\n"
      ]
    },
    {
      "cell_type": "code",
      "metadata": {
        "colab": {
          "base_uri": "https://localhost:8080/"
        },
        "id": "xJT1-3d62K22",
        "outputId": "a5f52146-fdba-4e62-b71b-7b57579b7a33"
      },
      "source": [
        "!wget http://go.criteo.net/criteo-ppml-challenge-adkdd21-dataset.zip\n",
        "!unzip criteo-ppml-challenge-adkdd21-dataset.zip\n",
        "!rm aggregated_noisy_data_pairs.csv.gz aggregated_noisy_data_singles.csv.gz  \n",
        "!gunzip X_test.csv.gz X_train.csv.gz y_test.csv.gz y_train.csv.gz\n",
        "!rm criteo-ppml-challenge-adkdd21-dataset.zip\n",
        "!sed -n 1,10000p X_test.csv > X_valid.csv #CARE we took 10k lines from test as validation.\n",
        "!sed -n 1,10000p y_test.csv > y_valid.csv"
      ],
      "execution_count": null,
      "outputs": [
        {
          "output_type": "stream",
          "name": "stdout",
          "text": [
            "--2022-01-07 20:37:58--  http://go.criteo.net/criteo-ppml-challenge-adkdd21-dataset.zip\n",
            "Resolving go.criteo.net (go.criteo.net)... 178.250.0.152\n",
            "Connecting to go.criteo.net (go.criteo.net)|178.250.0.152|:80... connected.\n",
            "HTTP request sent, awaiting response... 302 Found\n",
            "Location: https://criteostorage.blob.core.windows.net/criteo-research-datasets/criteo_ppml_challenge_adkdd2021/criteo-ppml-challenge-adkdd21-dataset.zip [following]\n",
            "--2022-01-07 20:37:59--  https://criteostorage.blob.core.windows.net/criteo-research-datasets/criteo_ppml_challenge_adkdd2021/criteo-ppml-challenge-adkdd21-dataset.zip\n",
            "Resolving criteostorage.blob.core.windows.net (criteostorage.blob.core.windows.net)... 20.209.1.1\n",
            "Connecting to criteostorage.blob.core.windows.net (criteostorage.blob.core.windows.net)|20.209.1.1|:443... connected.\n",
            "HTTP request sent, awaiting response... 200 OK\n",
            "Length: 297834690 (284M) [application/zip]\n",
            "Saving to: ‘criteo-ppml-challenge-adkdd21-dataset.zip’\n",
            "\n",
            "criteo-ppml-challen 100%[===================>] 284.04M  15.0MB/s    in 19s     \n",
            "\n",
            "2022-01-07 20:38:18 (15.2 MB/s) - ‘criteo-ppml-challenge-adkdd21-dataset.zip’ saved [297834690/297834690]\n",
            "\n",
            "Archive:  criteo-ppml-challenge-adkdd21-dataset.zip\n",
            "  inflating: aggregated_noisy_data_pairs.csv.gz  \n",
            "  inflating: aggregated_noisy_data_singles.csv.gz  \n",
            "  inflating: X_test.csv.gz           \n",
            "  inflating: X_train.csv.gz          \n",
            "  inflating: y_test.csv.gz           \n",
            "  inflating: y_train.csv.gz          \n"
          ]
        }
      ]
    },
    {
      "cell_type": "markdown",
      "metadata": {
        "id": "RjxqG5PTXy94"
      },
      "source": [
        "A quick look to the 10 first rows of the data shows there is 19 categorical features already hashed as integers. All of them are related to the proability of a click event and are related to observed events of a user either on a publisher website, either on an advertiser website. The large dataset correspond to one day of data on one platform. "
      ]
    },
    {
      "cell_type": "code",
      "source": [
        ""
      ],
      "metadata": {
        "colab": {
          "base_uri": "https://localhost:8080/",
          "height": 171
        },
        "id": "wA9n3eDDvH0H",
        "outputId": "f7bfcd05-1655-431b-f3c4-0939c2e0228f"
      },
      "execution_count": null,
      "outputs": [
        {
          "output_type": "error",
          "ename": "NameError",
          "evalue": "ignored",
          "traceback": [
            "\u001b[0;31m---------------------------------------------------------------------------\u001b[0m",
            "\u001b[0;31mNameError\u001b[0m                                 Traceback (most recent call last)",
            "\u001b[0;32m<ipython-input-3-0c1cdefd54ea>\u001b[0m in \u001b[0;36m<module>\u001b[0;34m()\u001b[0m\n\u001b[0;32m----> 1\u001b[0;31m \u001b[0mX_test\u001b[0m\u001b[0;34m\u001b[0m\u001b[0;34m\u001b[0m\u001b[0m\n\u001b[0m",
            "\u001b[0;31mNameError\u001b[0m: name 'X_test' is not defined"
          ]
        }
      ]
    },
    {
      "cell_type": "code",
      "metadata": {
        "colab": {
          "base_uri": "https://localhost:8080/"
        },
        "id": "o5vpJ7qb3kzP",
        "outputId": "69dadcc7-f902-4a5d-dcdc-a3ce01a80137"
      },
      "source": [
        "!head X_valid.csv"
      ],
      "execution_count": null,
      "outputs": [
        {
          "output_type": "stream",
          "name": "stdout",
          "text": [
            "hash_0,hash_1,hash_2,hash_3,hash_4,hash_5,hash_6,hash_7,hash_8,hash_9,hash_10,hash_11,hash_12,hash_13,hash_14,hash_15,hash_16,hash_17,hash_18\n",
            "187652,199446,480789,-84947,-419788,-356697,-73473,-201336,336272,39558,171177,-332795,-197733,-102727,-267888,-324676,172595,-1100,182002\n",
            "-196263,-137304,480789,-428062,347621,-310777,220982,-201336,336272,301505,406906,-265634,467836,-437971,26095,-328942,-400942,-429456,346045\n",
            "-216157,-137304,480789,-428062,347621,-310777,167271,-201336,359042,-311089,306285,-332795,-283182,-102727,495950,-324676,326477,-317260,182002\n",
            "11652,-432181,480789,-169356,287595,-310777,-332084,-201336,310671,409356,-496385,-332795,236957,-102727,-20670,-324676,-153563,258932,-124383\n",
            "224181,-455384,313949,-428062,166559,-310777,167271,-201336,127803,409356,-23318,-332795,286937,35444,335698,-324676,132133,-355723,-124383\n",
            "486387,-432181,480789,-169356,-419788,-356697,-484965,-201336,-428527,-139213,25441,-468602,315199,-102727,-421972,-241726,306269,-271996,346045\n",
            "442096,-411158,480789,-169356,-419788,-356697,-438087,-201336,-22347,-237302,-43085,-449303,-350579,-102727,193941,32790,26518,-27708,346045\n",
            "-47443,-432181,480789,-2679,347621,-310777,167271,-201336,336272,-105474,-7296,-332795,286937,-102727,-103791,-324676,326477,-251246,182002\n",
            "445274,-432181,480789,-428062,287595,-356697,-438087,-201336,-22347,39558,207091,-332795,-473714,-13772,335698,-324676,14846,311823,182002\n"
          ]
        }
      ]
    },
    {
      "cell_type": "code",
      "metadata": {
        "colab": {
          "base_uri": "https://localhost:8080/"
        },
        "id": "DPt7pg7NOcc3",
        "outputId": "616bee01-8ceb-440e-9166-0e51809da439"
      },
      "source": [
        "!head y_test.csv"
      ],
      "execution_count": null,
      "outputs": [
        {
          "output_type": "stream",
          "name": "stdout",
          "text": [
            "click,sale\n",
            "1.0,0.0\n",
            "0.0,0.0\n",
            "0.0,0.0\n",
            "1.0,0.0\n",
            "0.0,0.0\n",
            "0.0,0.0\n",
            "0.0,0.0\n",
            "0.0,0.0\n",
            "0.0,0.0\n"
          ]
        }
      ]
    },
    {
      "cell_type": "markdown",
      "metadata": {
        "id": "amuBvEE72Tno"
      },
      "source": [
        "Form the small dataset, it is possible to directly use almost any software able to perform a logistic regression. Depending on your hardware you may run in troubles for the large one (in fact with the large one vowpal wabbit will do it, but strugles to achieve the optimization of the loss). \n",
        "\n",
        "Today our first goal is to understand a minimal version of a logistic regression coded from scratch in Python.\n"
      ]
    },
    {
      "cell_type": "code",
      "source": [
        ""
      ],
      "metadata": {
        "id": "TZuA2BugxqCB"
      },
      "execution_count": null,
      "outputs": []
    },
    {
      "cell_type": "code",
      "metadata": {
        "colab": {
          "base_uri": "https://localhost:8080/"
        },
        "id": "YQjRc1Bi5VN9",
        "outputId": "9da0c576-e02d-464f-a6dc-46bd0e25cd93"
      },
      "source": [
        "from datetime import datetime\n",
        "from csv import DictReader\n",
        "from math import exp, log, sqrt\n",
        "\n",
        "\n",
        "# parameters #################################################################\n",
        "\n",
        "X_train = 'X_train.csv'  # path to training files\n",
        "y_train = 'y_train.csv'\n",
        "\n",
        "\n",
        "D = 2 ** 20   # max number of weights to use (hash size)\n",
        "alpha = .1    # learning rate for sgd optimization\n",
        "\n",
        "\n",
        "# function definitions #######################################################\n",
        "\n",
        "# A. Bounded logloss\n",
        "# INPUT:\n",
        "#     p: our prediction\n",
        "#     y: real answer\n",
        "# OUTPUT\n",
        "#     logarithmic loss of p given y\n",
        "def logloss(p, y):\n",
        "    p = max(min(p, 1. - 10e-12), 10e-12)\n",
        "    return -log(p) if y == 1. else -log(1. - p)\n",
        "\n",
        "\n",
        "# B. Apply hash trick of the original csv row\n",
        "# for simplicity, we treat both integer and categorical features as categorical\n",
        "# INPUT:\n",
        "#     csv_row: a csv dictionary, ex: {'hash_1': '357', 'hash_2': '', ...}\n",
        "#     D: the max index that we can hash to\n",
        "# OUTPUT:\n",
        "#     x: a list of indices that its value is 1\n",
        "def get_x(csv_row, D):\n",
        "    x = []\n",
        "    for key, value in csv_row.items():\n",
        "        index = int(value + key[4:], 16) % D \n",
        "        x.append(index)\n",
        "    return x  # x contains indices of features that have a value of 1\n",
        "\n",
        "\n",
        "# C. Get probability estimation on x\n",
        "# INPUT:\n",
        "#     x: features\n",
        "#     w: weights\n",
        "# OUTPUT:\n",
        "#     probability of p(y = 1 | x; w)\n",
        "def get_p(x, w):\n",
        "    wTx = 0.\n",
        "    for i in x:  # do wTx\n",
        "        wTx += w[i] * 1.  # w[i] * x[i], but if i in x we got x[i] = 1.\n",
        "    return 1. / (1. + exp(-max(min(wTx, 20.), -20.)))  # bounded sigmoid\n",
        "\n",
        "\n",
        "# D. Update given model\n",
        "# INPUT:\n",
        "#     w: weights\n",
        "#     n: a counter that counts the number of times we encounter a feature\n",
        "#        this is used for adaptive learning rate\n",
        "#     x: feature\n",
        "#     p: prediction of our model\n",
        "#     y: answer\n",
        "# OUTPUT:\n",
        "#     w: updated model\n",
        "#     n: updated count\n",
        "def update_w(w, n, x, p, y):\n",
        "    for i in x:\n",
        "        # alpha / (sqrt(n) + 1) is the adaptive learning rate heuristic\n",
        "        # (p - y) * x[i] is the current gradient\n",
        "        # note that in our case, if i in x then x[i] = 1\n",
        "        w[i] -= (p - y) * alpha / (sqrt(n[i]) + 1.)\n",
        "        n[i] += 1.\n",
        "    return w, n\n",
        "\n",
        "\n",
        "# training and testing #######################################################\n",
        "\n",
        "# initialize our model\n",
        "w = [0.] * D  # first order parameters\n",
        "n = [0.] * D  # number of times we've encountered a feature\n",
        "\n",
        "# start training a logistic regression model using on pass sgd\n",
        "loss = 0.\n",
        "for t, (row, y)  in enumerate(zip(DictReader(open(X_train)), DictReader(open(y_train)))):\n",
        "    # main training procedure\n",
        "    # step 1, get the hashed features\n",
        "    x = get_x(row, D)\n",
        "\n",
        "    # step 2, get prediction\n",
        "    p = get_p(x, w)\n",
        "    target = float(y['click'])\n",
        "\n",
        "    # for progress validation, useless for learning our model\n",
        "    loss += logloss(p, target)\n",
        "    if t % 10000 == 0 and t > 1:\n",
        "        print('%s\\tencountered: %d\\tcurrent logloss: %f' % (\n",
        "            datetime.now(), t, loss/t))\n",
        "\n",
        "    # step 3, update model with answer\n",
        "    w, n = update_w(w, n, x, p, target)\n",
        "\n"
      ],
      "execution_count": null,
      "outputs": [
        {
          "output_type": "stream",
          "name": "stdout",
          "text": [
            "2021-10-25 08:23:18.879304\tencountered: 10000\tcurrent logloss: 0.287254\n",
            "2021-10-25 08:23:19.278011\tencountered: 20000\tcurrent logloss: 0.270824\n",
            "2021-10-25 08:23:19.655028\tencountered: 30000\tcurrent logloss: 0.265079\n",
            "2021-10-25 08:23:20.038954\tencountered: 40000\tcurrent logloss: 0.265768\n",
            "2021-10-25 08:23:20.432774\tencountered: 50000\tcurrent logloss: 0.265401\n",
            "2021-10-25 08:23:20.835985\tencountered: 60000\tcurrent logloss: 0.265177\n",
            "2021-10-25 08:23:21.233351\tencountered: 70000\tcurrent logloss: 0.264792\n",
            "2021-10-25 08:23:21.625105\tencountered: 80000\tcurrent logloss: 0.262718\n",
            "2021-10-25 08:23:22.034538\tencountered: 90000\tcurrent logloss: 0.261705\n",
            "2021-10-25 08:23:22.415419\tencountered: 100000\tcurrent logloss: 0.260590\n"
          ]
        }
      ]
    },
    {
      "cell_type": "code",
      "source": [
        "from datetime import datetime\n",
        "from csv import DictReader\n",
        "from math import exp, log, sqrt\n",
        "\n",
        "\n",
        "# parameters #################################################################\n",
        "\n",
        "X_train = 'X_train.csv'  # path to training files\n",
        "y_train = 'y_train.csv'\n",
        "\n",
        "\n",
        "D = 2 ** 20   # max number of weights to use (hash size)\n",
        "alpha = .1    # learning rate for sgd optimization\n",
        "\n",
        "\n",
        "# function definitions #######################################################\n",
        "\n",
        "# A. Bounded logloss\n",
        "# INPUT:\n",
        "#     p: our prediction\n",
        "#     y: real answer\n",
        "# OUTPUT\n",
        "#     logarithmic loss of p given y\n",
        "def logloss(p, y):\n",
        "    p = max(min(p, 1. - 10e-12), 10e-12)\n",
        "    return -log(p) if y == 1. else -log(1. - p)\n",
        "\n",
        "\n",
        "# B. Apply hash trick of the original csv row\n",
        "# for simplicity, we treat both integer and categorical features as categorical\n",
        "# INPUT:\n",
        "#     csv_row: a csv dictionary, ex: {'hash_1': '357', 'hash_2': '', ...}\n",
        "#     D: the max index that we can hash to\n",
        "# OUTPUT:\n",
        "#     x: a list of indices that its value is 1\n",
        "def get_x(csv_row, D):\n",
        "    x = []\n",
        "    for key, value in csv_row.items():\n",
        "        index = int(value + key[4:], 16) % D \n",
        "        x.append(index)\n",
        "    return x  # x contains indices of features that have a value of 1\n",
        "\n",
        "\n",
        "# C. Get probability estimation on x\n",
        "# INPUT:\n",
        "#     x: features\n",
        "#     w: weights\n",
        "# OUTPUT:\n",
        "#     probability of p(y = 1 | x; w)\n",
        "def get_p(x, w):\n",
        "    wTx = 0.\n",
        "    for i in x:  # do wTx\n",
        "        wTx += w[i] * 1.  # w[i] * x[i], but if i in x we got x[i] = 1.\n",
        "    return 1. / (1. + exp(-max(min(wTx, 20.), -20.)))  # bounded sigmoid\n",
        "\n",
        "\n",
        "# D. Update given model\n",
        "# INPUT:\n",
        "#     w: weights\n",
        "#     n: a counter that counts the number of times we encounter a feature\n",
        "#        this is used for adaptive learning rate\n",
        "#     x: feature\n",
        "#     p: prediction of our model\n",
        "#     y: answer\n",
        "# OUTPUT:\n",
        "#     w: updated model\n",
        "#     n: updated count\n",
        "def update_w(w, n, x, p, y):\n",
        "    for i in x:\n",
        "        # alpha / (sqrt(n) + 1) is the adaptive learning rate heuristic\n",
        "        # (p - y) * x[i] is the current gradient\n",
        "        # note that in our case, if i in x then x[i] = 1\n",
        "        w[i] -= (p - y) * alpha / (sqrt(n[i]) + 1.)\n",
        "        n[i] += 1.\n",
        "    return w, n\n"
      ],
      "metadata": {
        "id": "gbgEooDa5NXc"
      },
      "execution_count": null,
      "outputs": []
    },
    {
      "cell_type": "code",
      "source": [
        "X_valid = 'X_valid.csv'\n",
        "y_valid = 'y_valid.csv'\n",
        "\n",
        "\n",
        "# training and testing #######################################################\n",
        "loss = 0.\n",
        "# initialize our model\n",
        "w = [0.] * D  # first order parameters\n",
        "n = [0.] * D  # number of times we've encountered a feature\n",
        "for t, (row, y)  in enumerate(zip(DictReader(open(X_valid)), DictReader(open(y_valid)))):\n",
        "    # main training procedure\n",
        "    # step 1, get the hashed features\n",
        "    x = get_x(row, D)\n",
        "    print('x=',x)\n",
        "    # step 2, get prediction\n",
        "    p = get_p(x, w)\n",
        "    print('p',p)\n",
        "    target = float(y['click'])\n",
        "    print('target',target)\n",
        "    # for progress validation, useless for learning our model\n",
        "    loss += logloss(p, target)\n",
        "    print(loss)\n",
        "    if t==1:\n",
        "        break\n",
        "    if t % 10000 == 0 and t > 1:\n",
        "        print('%s\\tencountered: %d\\tcurrent logloss: %f' % (\n",
        "            datetime.now(), t, loss/t))\n",
        "\n",
        "    # step 3, update model with answer\n",
        "    w, n = update_w(w, n, x, p, target)\n"
      ],
      "metadata": {
        "colab": {
          "base_uri": "https://localhost:8080/"
        },
        "id": "Kv_hIohe3g3K",
        "outputId": "fbddcf2c-1766-4957-c8d7-c2a503e05642"
      },
      "execution_count": null,
      "outputs": [
        {
          "output_type": "stream",
          "name": "stdout",
          "text": [
            "x= [484640, 607329, 30866, 748429, 427900, 628363, 833738, 969881, 403240, 611721, 96016, 551663, 576750, 579821, 489452, 625131, 365846, 983017, 536]\n",
            "p 0.5\n",
            "target 1.0\n",
            "0.6931471805599453\n",
            "x= [645584, 577471, 30866, 522717, 483860, 1017995, 38950, 969881, 403240, 86105, 591376, 642031, 538130, 429805, 38164, 441835, 441834, 764393, 17688]\n",
            "p 0.5374298453437496\n",
            "target 0.0\n",
            "1.4641042283494774\n"
          ]
        }
      ]
    },
    {
      "cell_type": "code",
      "source": [
        "484640*30866 % 2**20"
      ],
      "metadata": {
        "colab": {
          "base_uri": "https://localhost:8080/"
        },
        "id": "eyf-G3AE7ryD",
        "outputId": "7a38cbea-c3b5-4884-c8b8-9dc3ed7d4204"
      },
      "execution_count": null,
      "outputs": [
        {
          "output_type": "execute_result",
          "data": {
            "text/plain": [
              "961600"
            ]
          },
          "metadata": {},
          "execution_count": 17
        }
      ]
    },
    {
      "cell_type": "markdown",
      "metadata": {
        "id": "duaypB7ydXkT"
      },
      "source": [
        "*Remark that is implementation is pure Python and quite fast while Python  is inefficient with loops without using just in time compilation. It will also handle the large dataset using a controlled memory footprint (around 200 Mo).*\n",
        "\n",
        "\n",
        "**Questions**\n",
        "1. \n",
        "Is it a good value for the loss? It may be convenient to answer such questions to compute statistics on the data. For this we are going to use numpy. If not already familiar you can find a [ref card](https://www.utc.fr/~jlaforet/Suppl/python-cheatsheets.pdf). There exist an [other one](http://mathesaurus.sourceforge.net/matlab-numpy.html) if you are already familiar with matlab."
      ]
    },
    {
      "cell_type": "code",
      "metadata": {
        "colab": {
          "base_uri": "https://localhost:8080/"
        },
        "id": "Wi9L4nx0dXTS",
        "outputId": "b8a1e365-18ff-489e-fd6f-0b6bf1692716"
      },
      "source": [
        "import numpy as np\n",
        "y = np.genfromtxt('y_train.csv', delimiter=',', skip_header=1)\n",
        "#-- Answer --\n",
        "# First remark that with two classes a uniform random prediction would get is -log(1/2) ~ 0.693\n",
        "# Bur logloss of a dummy prediction always answering the average value \n",
        "y_mean = y[:,0].mean()\n",
        "Hy =  -y_mean * log( y_mean) - (1-y_mean) *log(1-y_mean)\n",
        "print( Hy )\n",
        "# ~ 0.3239\n",
        "# So 0.26 is better than random but is only better by 20% w.r.t dummy predictor "
      ],
      "execution_count": null,
      "outputs": [
        {
          "output_type": "stream",
          "name": "stdout",
          "text": [
            "0.32391451592115916\n"
          ]
        }
      ]
    },
    {
      "cell_type": "markdown",
      "metadata": {
        "id": "eRyjTNqEdlY5"
      },
      "source": [
        "\n",
        "\n",
        "2. What is doing the\n",
        "```\n",
        "int(value + key[4:], 16) % D\n",
        "```"
      ]
    },
    {
      "cell_type": "markdown",
      "metadata": {
        "id": "2zATJnrfztz3"
      },
      "source": [
        "**-Answer-**\n",
        "\n",
        "It is computing an index into 1..D, this is used as the memory emplacement to store the parameter corresponding to the value of $x_i$. Performances would be better with a larger value of D (default for Vopal Wabbit is $2^{24}$). This is a weak hash and it would be possible to replace it by a non cryptographic hashkey computation such as [Murmur](https://en.wikipedia.org/wiki/MurmurHash) and/or to use actual hashtable to store the values of the parameters without collision. Note that in some applications reducing the number of collisions can reduce slightly the logloss and this will always be slower.   "
      ]
    },
    {
      "cell_type": "markdown",
      "metadata": {
        "id": "XVbr6_qJDJGG"
      },
      "source": [
        "3. Do we have an intercept term (if not how to add it) ? \n",
        "\n"
      ]
    },
    {
      "cell_type": "code",
      "metadata": {
        "id": "OXNHQziU9DpW"
      },
      "source": [
        "#Answer\n",
        "#There is no intercept in the current code.\n",
        "#See answer to question 5 for a clean addition of it using the position 0 from the array of parameters (could be any other position). This does not impact significantly the loss "
      ],
      "execution_count": null,
      "outputs": []
    },
    {
      "cell_type": "markdown",
      "metadata": {
        "id": "rbw0Qmp7DJCZ"
      },
      "source": [
        "4. Implement a validation score using the X_valid.csv, y_valid.csv data on a fraction of test data using a  [Normalized Cross Entropy](https://www.nist.gov/system/files/documents/2017/11/30/nce.pdf). $$ NCE = (H(y) - Logloss)/H(y) $$ where H(y) is Shannon entropy of y computed in the natural basis (2 may be a better choice but as we computed the log loss in the natural basis, it is better to keep using it).\n",
        "\n",
        "Now allows to iterate several times accoss the dataset 10 times. Are you overfitting?"
      ]
    },
    {
      "cell_type": "code",
      "metadata": {
        "colab": {
          "base_uri": "https://localhost:8080/"
        },
        "id": "qDdbMJifEx2k",
        "outputId": "3206f98c-1271-497e-be10-b23d99ed8c27"
      },
      "source": [
        "#First note that we in fact computer the entropy of y at question 1 and it is better to avoid to recompute it at each call\n",
        "#It may be better to compute it on the complete dataset but train is good enough and faster \n",
        "\n",
        "#y_data = np.genfromtxt('y_train.csv', delimiter=',', skip_header=1)\n",
        "#y_mean = y_data[:,0].mean()\n",
        "#Hy = -y_mean * log( y_mean) - (1-y_mean) *log(1-y_mean)\n",
        "\n",
        "\n",
        "X_valid = 'X_valid.csv'\n",
        "y_valid = 'y_valid.csv'\n",
        "\n",
        "D = 2 ** 20   \n",
        "alpha = .1    \n",
        "\n",
        "\n",
        "# Since this always the same data for the validation loss  we  should pin them to memory to iterate faster\n",
        "# Since the model is stored in the w we add  it as an argument but w is not usable without the function get_x and D\n",
        "# The cleanest code would decide that all of that should be stored in an object \"Model\" \n",
        "def compute_validation_loss(w, D):\n",
        "    ### TODO Complete this function ###\n",
        "    #ANSWER\n",
        "    val_loss = 0 \n",
        "    for t, (row, y)  in enumerate(zip(DictReader(open(X_valid)), DictReader(open(y_valid)))):\n",
        "      x = get_x(row, D)\n",
        "      p = get_p(x, w)\n",
        "      target = float(y['click'])\n",
        "      val_loss += logloss(p, target)\n",
        "    return val_loss/t\n",
        "\n",
        "\n",
        "w = [0.] * D  \n",
        "n = [0.] * D\n",
        "loss = 0.\n",
        "n_epochs = 10\n",
        "n_updates = 0\n",
        "training_losses = [] #To stores our training losses after each 10k updates \n",
        "validation_losses = [] #Same for validation\n",
        "\n",
        "for e in range(n_epochs):\n",
        "  training_loss = 0 #We reset to 0 the training at the begginning of each epoch to have a better idea of the current performance on the training set\n",
        "  for t, (row, y)  in enumerate(zip(DictReader(open(X_train)), DictReader(open(y_train)))):\n",
        "      x = get_x(row, D)\n",
        "      p = get_p(x, w)\n",
        "      target = float(y['click'])\n",
        "      training_loss += logloss(p, target)\n",
        "      if n_updates% 10000 == 0 and n_updates>1:\n",
        "          training_losses.append( training_loss/t )\n",
        "          validation_losses.append( compute_validation_loss(w, D) )\n",
        "          #We reuse the value of Hy computed precedently \n",
        "          print('%s\\tupdates: %d\\tcurrent logloss on train: %f\\tcurrent logloss on validation: %f \\tNCE on validation %f' % (\n",
        "              datetime.now(), n_updates, training_losses[-1], validation_losses[-1], (Hy-validation_losses[-1])/Hy ))\n",
        "          \n",
        "      w, n = update_w(w, n, x, p, target)\n",
        "      n_updates += 1\n"
      ],
      "execution_count": null,
      "outputs": [
        {
          "output_type": "stream",
          "name": "stdout",
          "text": [
            "2021-10-25 09:16:45.296187\tupdates: 10000\tcurrent logloss on train: 0.291079\tcurrent logloss on validation: 0.269238 \tNCE on validation 0.168801\n",
            "2021-10-25 09:16:48.716226\tupdates: 20000\tcurrent logloss on train: 0.275756\tcurrent logloss on validation: 0.262381 \tNCE on validation 0.189969\n",
            "2021-10-25 09:16:52.152436\tupdates: 30000\tcurrent logloss on train: 0.270412\tcurrent logloss on validation: 0.261039 \tNCE on validation 0.194110\n",
            "2021-10-25 09:16:55.746145\tupdates: 40000\tcurrent logloss on train: 0.270709\tcurrent logloss on validation: 0.259100 \tNCE on validation 0.200096\n",
            "2021-10-25 09:16:59.214960\tupdates: 50000\tcurrent logloss on train: 0.269615\tcurrent logloss on validation: 0.259220 \tNCE on validation 0.199727\n",
            "2021-10-25 09:17:02.642968\tupdates: 60000\tcurrent logloss on train: 0.269340\tcurrent logloss on validation: 0.258151 \tNCE on validation 0.203027\n",
            "2021-10-25 09:17:06.105048\tupdates: 70000\tcurrent logloss on train: 0.268499\tcurrent logloss on validation: 0.256990 \tNCE on validation 0.206612\n",
            "2021-10-25 09:17:09.521803\tupdates: 80000\tcurrent logloss on train: 0.266172\tcurrent logloss on validation: 0.256852 \tNCE on validation 0.207038\n",
            "2021-10-25 09:17:12.929118\tupdates: 90000\tcurrent logloss on train: 0.264738\tcurrent logloss on validation: 0.254087 \tNCE on validation 0.215574\n",
            "2021-10-25 09:17:16.402429\tupdates: 100000\tcurrent logloss on train: 0.263739\tcurrent logloss on validation: 0.253509 \tNCE on validation 0.217358\n",
            "2021-10-25 09:17:19.806847\tupdates: 110000\tcurrent logloss on train: 0.082790\tcurrent logloss on validation: 0.254919 \tNCE on validation 0.213006\n",
            "2021-10-25 09:17:23.284251\tupdates: 120000\tcurrent logloss on train: 0.104013\tcurrent logloss on validation: 0.254715 \tNCE on validation 0.213636\n",
            "2021-10-25 09:17:26.785088\tupdates: 130000\tcurrent logloss on train: 0.116262\tcurrent logloss on validation: 0.255177 \tNCE on validation 0.212210\n",
            "2021-10-25 09:17:30.202321\tupdates: 140000\tcurrent logloss on train: 0.127401\tcurrent logloss on validation: 0.255091 \tNCE on validation 0.212474\n",
            "2021-10-25 09:17:33.650013\tupdates: 150000\tcurrent logloss on train: 0.134056\tcurrent logloss on validation: 0.256312 \tNCE on validation 0.208706\n",
            "2021-10-25 09:17:37.095000\tupdates: 160000\tcurrent logloss on train: 0.141087\tcurrent logloss on validation: 0.256302 \tNCE on validation 0.208735\n",
            "2021-10-25 09:17:40.507228\tupdates: 170000\tcurrent logloss on train: 0.146106\tcurrent logloss on validation: 0.256384 \tNCE on validation 0.208482\n",
            "2021-10-25 09:17:43.894437\tupdates: 180000\tcurrent logloss on train: 0.149404\tcurrent logloss on validation: 0.257162 \tNCE on validation 0.206081\n",
            "2021-10-25 09:17:47.408169\tupdates: 190000\tcurrent logloss on train: 0.152409\tcurrent logloss on validation: 0.256329 \tNCE on validation 0.208654\n",
            "2021-10-25 09:17:50.840511\tupdates: 200000\tcurrent logloss on train: 0.155480\tcurrent logloss on validation: 0.256356 \tNCE on validation 0.208570\n",
            "2021-10-25 09:17:54.259588\tupdates: 210000\tcurrent logloss on train: 0.070614\tcurrent logloss on validation: 0.257721 \tNCE on validation 0.204354\n",
            "2021-10-25 09:17:57.687988\tupdates: 220000\tcurrent logloss on train: 0.089958\tcurrent logloss on validation: 0.258793 \tNCE on validation 0.201046\n",
            "2021-10-25 09:18:01.143597\tupdates: 230000\tcurrent logloss on train: 0.098609\tcurrent logloss on validation: 0.257045 \tNCE on validation 0.206441\n",
            "2021-10-25 09:18:04.764601\tupdates: 240000\tcurrent logloss on train: 0.106467\tcurrent logloss on validation: 0.257520 \tNCE on validation 0.204974\n",
            "2021-10-25 09:18:08.365554\tupdates: 250000\tcurrent logloss on train: 0.111405\tcurrent logloss on validation: 0.258440 \tNCE on validation 0.202135\n",
            "2021-10-25 09:18:11.764998\tupdates: 260000\tcurrent logloss on train: 0.117270\tcurrent logloss on validation: 0.259152 \tNCE on validation 0.199937\n",
            "2021-10-25 09:18:15.167752\tupdates: 270000\tcurrent logloss on train: 0.121509\tcurrent logloss on validation: 0.259218 \tNCE on validation 0.199732\n",
            "2021-10-25 09:18:18.606313\tupdates: 280000\tcurrent logloss on train: 0.124228\tcurrent logloss on validation: 0.259384 \tNCE on validation 0.199221\n",
            "2021-10-25 09:18:22.024414\tupdates: 290000\tcurrent logloss on train: 0.126190\tcurrent logloss on validation: 0.259242 \tNCE on validation 0.199660\n",
            "2021-10-25 09:18:25.428707\tupdates: 300000\tcurrent logloss on train: 0.128702\tcurrent logloss on validation: 0.259369 \tNCE on validation 0.199266\n",
            "2021-10-25 09:18:28.815685\tupdates: 310000\tcurrent logloss on train: 0.056635\tcurrent logloss on validation: 0.261924 \tNCE on validation 0.191380\n",
            "2021-10-25 09:18:32.208415\tupdates: 320000\tcurrent logloss on train: 0.078948\tcurrent logloss on validation: 0.262107 \tNCE on validation 0.190813\n",
            "2021-10-25 09:18:35.620689\tupdates: 330000\tcurrent logloss on train: 0.087818\tcurrent logloss on validation: 0.260168 \tNCE on validation 0.196799\n",
            "2021-10-25 09:18:39.025276\tupdates: 340000\tcurrent logloss on train: 0.094030\tcurrent logloss on validation: 0.259990 \tNCE on validation 0.197349\n",
            "2021-10-25 09:18:42.417017\tupdates: 350000\tcurrent logloss on train: 0.098940\tcurrent logloss on validation: 0.260945 \tNCE on validation 0.194402\n",
            "2021-10-25 09:18:45.805217\tupdates: 360000\tcurrent logloss on train: 0.103238\tcurrent logloss on validation: 0.261971 \tNCE on validation 0.191233\n",
            "2021-10-25 09:18:49.245168\tupdates: 370000\tcurrent logloss on train: 0.107132\tcurrent logloss on validation: 0.261937 \tNCE on validation 0.191340\n",
            "2021-10-25 09:18:52.660433\tupdates: 380000\tcurrent logloss on train: 0.109490\tcurrent logloss on validation: 0.262130 \tNCE on validation 0.190743\n",
            "2021-10-25 09:18:56.080653\tupdates: 390000\tcurrent logloss on train: 0.111198\tcurrent logloss on validation: 0.262319 \tNCE on validation 0.190158\n",
            "2021-10-25 09:18:59.559048\tupdates: 400000\tcurrent logloss on train: 0.113106\tcurrent logloss on validation: 0.262243 \tNCE on validation 0.190394\n",
            "2021-10-25 09:19:02.979252\tupdates: 410000\tcurrent logloss on train: 0.042850\tcurrent logloss on validation: 0.262278 \tNCE on validation 0.190285\n",
            "2021-10-25 09:19:06.382993\tupdates: 420000\tcurrent logloss on train: 0.073430\tcurrent logloss on validation: 0.263469 \tNCE on validation 0.186610\n",
            "2021-10-25 09:19:09.857836\tupdates: 430000\tcurrent logloss on train: 0.079503\tcurrent logloss on validation: 0.263770 \tNCE on validation 0.185681\n",
            "2021-10-25 09:19:13.281721\tupdates: 440000\tcurrent logloss on train: 0.084493\tcurrent logloss on validation: 0.264481 \tNCE on validation 0.183486\n",
            "2021-10-25 09:19:16.662628\tupdates: 450000\tcurrent logloss on train: 0.089738\tcurrent logloss on validation: 0.263453 \tNCE on validation 0.186660\n",
            "2021-10-25 09:19:20.105155\tupdates: 460000\tcurrent logloss on train: 0.093382\tcurrent logloss on validation: 0.264126 \tNCE on validation 0.184582\n",
            "2021-10-25 09:19:23.501444\tupdates: 470000\tcurrent logloss on train: 0.096911\tcurrent logloss on validation: 0.264634 \tNCE on validation 0.183013\n",
            "2021-10-25 09:19:26.883301\tupdates: 480000\tcurrent logloss on train: 0.099303\tcurrent logloss on validation: 0.264660 \tNCE on validation 0.182932\n",
            "2021-10-25 09:19:30.302652\tupdates: 490000\tcurrent logloss on train: 0.100564\tcurrent logloss on validation: 0.265699 \tNCE on validation 0.179724\n",
            "2021-10-25 09:19:33.730198\tupdates: 500000\tcurrent logloss on train: 0.102256\tcurrent logloss on validation: 0.264775 \tNCE on validation 0.182579\n",
            "2021-10-25 09:19:37.194182\tupdates: 510000\tcurrent logloss on train: 0.103972\tcurrent logloss on validation: 0.264869 \tNCE on validation 0.182287\n",
            "2021-10-25 09:19:40.596095\tupdates: 520000\tcurrent logloss on train: 0.064607\tcurrent logloss on validation: 0.266923 \tNCE on validation 0.175946\n",
            "2021-10-25 09:19:44.020013\tupdates: 530000\tcurrent logloss on train: 0.073336\tcurrent logloss on validation: 0.267625 \tNCE on validation 0.173780\n",
            "2021-10-25 09:19:47.449998\tupdates: 540000\tcurrent logloss on train: 0.078056\tcurrent logloss on validation: 0.267068 \tNCE on validation 0.175500\n",
            "2021-10-25 09:19:50.982111\tupdates: 550000\tcurrent logloss on train: 0.083151\tcurrent logloss on validation: 0.265899 \tNCE on validation 0.179108\n",
            "2021-10-25 09:19:54.732513\tupdates: 560000\tcurrent logloss on train: 0.085921\tcurrent logloss on validation: 0.266222 \tNCE on validation 0.178111\n",
            "2021-10-25 09:19:58.182408\tupdates: 570000\tcurrent logloss on train: 0.089296\tcurrent logloss on validation: 0.266767 \tNCE on validation 0.176428\n",
            "2021-10-25 09:20:01.652013\tupdates: 580000\tcurrent logloss on train: 0.091726\tcurrent logloss on validation: 0.266649 \tNCE on validation 0.176793\n",
            "2021-10-25 09:20:05.104857\tupdates: 590000\tcurrent logloss on train: 0.092816\tcurrent logloss on validation: 0.267574 \tNCE on validation 0.173936\n",
            "2021-10-25 09:20:08.533146\tupdates: 600000\tcurrent logloss on train: 0.094143\tcurrent logloss on validation: 0.266993 \tNCE on validation 0.175729\n",
            "2021-10-25 09:20:11.960793\tupdates: 610000\tcurrent logloss on train: 0.095650\tcurrent logloss on validation: 0.267046 \tNCE on validation 0.175567\n",
            "2021-10-25 09:20:15.395689\tupdates: 620000\tcurrent logloss on train: 0.059571\tcurrent logloss on validation: 0.268641 \tNCE on validation 0.170642\n",
            "2021-10-25 09:20:18.814962\tupdates: 630000\tcurrent logloss on train: 0.069418\tcurrent logloss on validation: 0.270239 \tNCE on validation 0.165709\n",
            "2021-10-25 09:20:22.232851\tupdates: 640000\tcurrent logloss on train: 0.073278\tcurrent logloss on validation: 0.268811 \tNCE on validation 0.170117\n",
            "2021-10-25 09:20:25.633020\tupdates: 650000\tcurrent logloss on train: 0.077652\tcurrent logloss on validation: 0.268070 \tNCE on validation 0.172404\n",
            "2021-10-25 09:20:29.042142\tupdates: 660000\tcurrent logloss on train: 0.080120\tcurrent logloss on validation: 0.268598 \tNCE on validation 0.170774\n",
            "2021-10-25 09:20:32.453978\tupdates: 670000\tcurrent logloss on train: 0.083255\tcurrent logloss on validation: 0.269255 \tNCE on validation 0.168746\n",
            "2021-10-25 09:20:35.869464\tupdates: 680000\tcurrent logloss on train: 0.085523\tcurrent logloss on validation: 0.268915 \tNCE on validation 0.169797\n",
            "2021-10-25 09:20:39.245437\tupdates: 690000\tcurrent logloss on train: 0.086835\tcurrent logloss on validation: 0.269043 \tNCE on validation 0.169402\n",
            "2021-10-25 09:20:42.656490\tupdates: 700000\tcurrent logloss on train: 0.087712\tcurrent logloss on validation: 0.269603 \tNCE on validation 0.167672\n",
            "2021-10-25 09:20:46.046850\tupdates: 710000\tcurrent logloss on train: 0.089120\tcurrent logloss on validation: 0.269233 \tNCE on validation 0.168813\n",
            "2021-10-25 09:20:49.447082\tupdates: 720000\tcurrent logloss on train: 0.051256\tcurrent logloss on validation: 0.270868 \tNCE on validation 0.163766\n",
            "2021-10-25 09:20:52.835111\tupdates: 730000\tcurrent logloss on train: 0.064343\tcurrent logloss on validation: 0.272293 \tNCE on validation 0.159369\n",
            "2021-10-25 09:20:56.256536\tupdates: 740000\tcurrent logloss on train: 0.069290\tcurrent logloss on validation: 0.270873 \tNCE on validation 0.163751\n",
            "2021-10-25 09:20:59.675719\tupdates: 750000\tcurrent logloss on train: 0.072859\tcurrent logloss on validation: 0.270360 \tNCE on validation 0.165336\n",
            "2021-10-25 09:21:03.102248\tupdates: 760000\tcurrent logloss on train: 0.075538\tcurrent logloss on validation: 0.270821 \tNCE on validation 0.163914\n",
            "2021-10-25 09:21:06.541388\tupdates: 770000\tcurrent logloss on train: 0.078217\tcurrent logloss on validation: 0.271172 \tNCE on validation 0.162828\n",
            "2021-10-25 09:21:09.928661\tupdates: 780000\tcurrent logloss on train: 0.080500\tcurrent logloss on validation: 0.270943 \tNCE on validation 0.163534\n",
            "2021-10-25 09:21:13.325045\tupdates: 790000\tcurrent logloss on train: 0.081861\tcurrent logloss on validation: 0.271277 \tNCE on validation 0.162504\n",
            "2021-10-25 09:21:16.716263\tupdates: 800000\tcurrent logloss on train: 0.082674\tcurrent logloss on validation: 0.272012 \tNCE on validation 0.160236\n",
            "2021-10-25 09:21:20.112246\tupdates: 810000\tcurrent logloss on train: 0.083747\tcurrent logloss on validation: 0.271436 \tNCE on validation 0.162014\n",
            "2021-10-25 09:21:23.543349\tupdates: 820000\tcurrent logloss on train: 0.044706\tcurrent logloss on validation: 0.271504 \tNCE on validation 0.161803\n",
            "2021-10-25 09:21:26.936016\tupdates: 830000\tcurrent logloss on train: 0.061663\tcurrent logloss on validation: 0.273068 \tNCE on validation 0.156975\n",
            "2021-10-25 09:21:30.336348\tupdates: 840000\tcurrent logloss on train: 0.065417\tcurrent logloss on validation: 0.273547 \tNCE on validation 0.155497\n",
            "2021-10-25 09:21:33.732235\tupdates: 850000\tcurrent logloss on train: 0.068197\tcurrent logloss on validation: 0.273836 \tNCE on validation 0.154603\n",
            "2021-10-25 09:21:37.362954\tupdates: 860000\tcurrent logloss on train: 0.071421\tcurrent logloss on validation: 0.272632 \tNCE on validation 0.158321\n",
            "2021-10-25 09:21:40.976183\tupdates: 870000\tcurrent logloss on train: 0.073810\tcurrent logloss on validation: 0.272608 \tNCE on validation 0.158395\n",
            "2021-10-25 09:21:44.393884\tupdates: 880000\tcurrent logloss on train: 0.076068\tcurrent logloss on validation: 0.273238 \tNCE on validation 0.156450\n",
            "2021-10-25 09:21:47.797462\tupdates: 890000\tcurrent logloss on train: 0.077583\tcurrent logloss on validation: 0.273230 \tNCE on validation 0.156474\n",
            "2021-10-25 09:21:51.236008\tupdates: 900000\tcurrent logloss on train: 0.078086\tcurrent logloss on validation: 0.274521 \tNCE on validation 0.152490\n",
            "2021-10-25 09:21:54.647455\tupdates: 910000\tcurrent logloss on train: 0.079250\tcurrent logloss on validation: 0.273532 \tNCE on validation 0.155543\n",
            "2021-10-25 09:21:58.089952\tupdates: 920000\tcurrent logloss on train: 0.080286\tcurrent logloss on validation: 0.273393 \tNCE on validation 0.155972\n",
            "2021-10-25 09:22:01.525093\tupdates: 930000\tcurrent logloss on train: 0.056355\tcurrent logloss on validation: 0.275282 \tNCE on validation 0.150141\n",
            "2021-10-25 09:22:04.978303\tupdates: 940000\tcurrent logloss on train: 0.061984\tcurrent logloss on validation: 0.276435 \tNCE on validation 0.146579\n",
            "2021-10-25 09:22:08.371792\tupdates: 950000\tcurrent logloss on train: 0.064551\tcurrent logloss on validation: 0.275978 \tNCE on validation 0.147992\n",
            "2021-10-25 09:22:11.771747\tupdates: 960000\tcurrent logloss on train: 0.068203\tcurrent logloss on validation: 0.274544 \tNCE on validation 0.152420\n",
            "2021-10-25 09:22:15.272289\tupdates: 970000\tcurrent logloss on train: 0.070045\tcurrent logloss on validation: 0.274340 \tNCE on validation 0.153049\n",
            "2021-10-25 09:22:18.669578\tupdates: 980000\tcurrent logloss on train: 0.072344\tcurrent logloss on validation: 0.274865 \tNCE on validation 0.151426\n",
            "2021-10-25 09:22:22.031047\tupdates: 990000\tcurrent logloss on train: 0.073972\tcurrent logloss on validation: 0.274629 \tNCE on validation 0.152156\n",
            "2021-10-25 09:22:25.472223\tupdates: 1000000\tcurrent logloss on train: 0.074489\tcurrent logloss on validation: 0.275751 \tNCE on validation 0.148691\n",
            "2021-10-25 09:22:28.859595\tupdates: 1010000\tcurrent logloss on train: 0.075348\tcurrent logloss on validation: 0.275181 \tNCE on validation 0.150452\n",
            "2021-10-25 09:22:32.269702\tupdates: 1020000\tcurrent logloss on train: 0.076333\tcurrent logloss on validation: 0.274981 \tNCE on validation 0.151069\n"
          ]
        }
      ]
    },
    {
      "cell_type": "code",
      "metadata": {
        "colab": {
          "base_uri": "https://localhost:8080/",
          "height": 281
        },
        "id": "hi4NZ_a4H0Oy",
        "outputId": "ced37777-1b07-484d-cfe9-4fdc53a13ff2"
      },
      "source": [
        "#Produce a plot of the losses\n",
        "#ANSWER\n",
        "import matplotlib.pyplot as plt\n",
        "#from matplotlib.pyplot import figure\n",
        "#figure(figsize=(4, 3), dpi=150) #Colab does only support inline display but you can change figure size with this\n",
        "\n",
        "x = [10000*i for i in range(len(training_losses))]\n",
        "plt.plot(x, training_losses, label='Train')\n",
        "plt.plot(x, validation_losses, label='Validation')\n",
        "plt.xlabel('Number of updates')\n",
        "plt.ylabel('Log Loss')\n",
        "plt.legend( ('Train', 'Validation') )\n",
        "plt.show()\n",
        "# overfitting, the bumps on the training loss are due to the reset after each epoch. => Not so good to reset the estimation of the loss  \n",
        "#Log loss is ploted NCE is fine too (anyway this is only a rescaling)"
      ],
      "execution_count": null,
      "outputs": [
        {
          "output_type": "display_data",
          "data": {
            "image/png": "[encoded data removed]",
            "text/plain": [
              "<Figure size 432x288 with 1 Axes>"
            ]
          },
          "metadata": {
            "needs_background": "light"
          }
        }
      ]
    },
    {
      "cell_type": "markdown",
      "metadata": {
        "id": "0_CPkIovFIPg"
      },
      "source": [
        "5. Modify the code to enable the use of all quadratic features. This is doable only by modifying the function ```get_x``` \n"
      ]
    },
    {
      "cell_type": "code",
      "metadata": {
        "id": "jVcD_0PnevRB"
      },
      "source": [
        "#ANSWER with ony one vector for parameters. This is also possible to split the first and second order terms\n",
        "def get_x(csv_row, D):\n",
        "     x = []\n",
        "     # normal features\n",
        "     for key, value in csv_row.items():\n",
        "         index = int(value + key[4:], 16) % D  \n",
        "         x.append(index)\n",
        "     # second order terms\n",
        "     L = len(x)\n",
        "     for i in range(L):\n",
        "         for j in range(i+1, L):\n",
        "             index = (x[i] * x[j]) % D  # second weakest hash\n",
        "             x.append(index)\n",
        "\n",
        "     # bias\n",
        "     x.append(0)\n",
        "\n",
        "     return x"
      ],
      "execution_count": null,
      "outputs": []
    },
    {
      "cell_type": "markdown",
      "metadata": {
        "id": "dw9nXonCevel"
      },
      "source": [
        "4. After how many updates are you overfitting ? Same question after adding a L2 regularisation term with ponderation $5\\cdot 10^{-4}$ and/or with a the learning rate of 0.01. (side question should we include the bias term in the regularization ?)\n",
        "\n"
      ]
    },
    {
      "cell_type": "code",
      "metadata": {
        "id": "FUxq-KU_FIE1",
        "colab": {
          "base_uri": "https://localhost:8080/"
        },
        "outputId": "2aea1e1d-91c7-4e5c-9af3-01b5d989e61f"
      },
      "source": [
        "w = [0.] * D  \n",
        "n = [0.] * D\n",
        "loss = 0.\n",
        "n_epochs = 10\n",
        "n_updates = 0\n",
        "training_losses = [] #To stores our training losses after each 10k updates \n",
        "validation_losses = [] #Same for validation\n",
        "\n",
        "for e in range(n_epochs):\n",
        "  training_loss = 0 #We reset to 0 the training at the begginning of each epoch to have a better idea of the current performance on the training set\n",
        "  for t, (row, y)  in enumerate(zip(DictReader(open(X_train)), DictReader(open(y_train)))):\n",
        "      x = get_x(row, D)\n",
        "      p = get_p(x, w)\n",
        "      target = float(y['click'])\n",
        "      training_loss += logloss(p, target)\n",
        "      if n_updates% 10000 == 0 and n_updates>1:\n",
        "          training_losses.append( training_loss/t )\n",
        "          validation_losses.append( compute_validation_loss(w, D) )\n",
        "          print('%s\\tupdates: %d\\tcurrent logloss on train: %f\\tcurrent logloss on validation: %f \\tNCE in validation %f' % (\n",
        "              datetime.now(), n_updates, training_losses[-1], validation_losses[-1], (Hy-validation_losses[-1])/Hy ))\n",
        "      w, n = update_w(w, n, x, p, target)\n",
        "      n_updates += 1"
      ],
      "execution_count": null,
      "outputs": [
        {
          "output_type": "stream",
          "name": "stdout",
          "text": [
            "2021-10-25 08:26:21.832006\tupdates: 10000\tcurrent logloss on train: 0.291079\tcurrent logloss on validation: 0.269238 \tNCE in validation 0.168801\n",
            "2021-10-25 08:26:25.201032\tupdates: 20000\tcurrent logloss on train: 0.275756\tcurrent logloss on validation: 0.262381 \tNCE in validation 0.189969\n",
            "2021-10-25 08:26:28.832710\tupdates: 30000\tcurrent logloss on train: 0.270412\tcurrent logloss on validation: 0.261039 \tNCE in validation 0.194110\n",
            "2021-10-25 08:26:32.429669\tupdates: 40000\tcurrent logloss on train: 0.270709\tcurrent logloss on validation: 0.259100 \tNCE in validation 0.200096\n",
            "2021-10-25 08:26:35.977303\tupdates: 50000\tcurrent logloss on train: 0.269615\tcurrent logloss on validation: 0.259220 \tNCE in validation 0.199727\n",
            "2021-10-25 08:26:39.541006\tupdates: 60000\tcurrent logloss on train: 0.269340\tcurrent logloss on validation: 0.258151 \tNCE in validation 0.203027\n",
            "2021-10-25 08:26:43.296101\tupdates: 70000\tcurrent logloss on train: 0.268499\tcurrent logloss on validation: 0.256990 \tNCE in validation 0.206612\n",
            "2021-10-25 08:26:46.693676\tupdates: 80000\tcurrent logloss on train: 0.266172\tcurrent logloss on validation: 0.256852 \tNCE in validation 0.207038\n",
            "2021-10-25 08:26:50.301826\tupdates: 90000\tcurrent logloss on train: 0.264738\tcurrent logloss on validation: 0.254087 \tNCE in validation 0.215574\n",
            "2021-10-25 08:26:53.846805\tupdates: 100000\tcurrent logloss on train: 0.263739\tcurrent logloss on validation: 0.253509 \tNCE in validation 0.217358\n",
            "2021-10-25 08:26:57.290557\tupdates: 110000\tcurrent logloss on train: 0.082790\tcurrent logloss on validation: 0.254919 \tNCE in validation 0.213006\n",
            "2021-10-25 08:27:00.759231\tupdates: 120000\tcurrent logloss on train: 0.104013\tcurrent logloss on validation: 0.254715 \tNCE in validation 0.213636\n",
            "2021-10-25 08:27:04.226653\tupdates: 130000\tcurrent logloss on train: 0.116262\tcurrent logloss on validation: 0.255177 \tNCE in validation 0.212210\n",
            "2021-10-25 08:27:07.609729\tupdates: 140000\tcurrent logloss on train: 0.127401\tcurrent logloss on validation: 0.255091 \tNCE in validation 0.212474\n",
            "2021-10-25 08:27:10.983045\tupdates: 150000\tcurrent logloss on train: 0.134056\tcurrent logloss on validation: 0.256312 \tNCE in validation 0.208706\n",
            "2021-10-25 08:27:14.411995\tupdates: 160000\tcurrent logloss on train: 0.141087\tcurrent logloss on validation: 0.256302 \tNCE in validation 0.208735\n",
            "2021-10-25 08:27:17.810524\tupdates: 170000\tcurrent logloss on train: 0.146106\tcurrent logloss on validation: 0.256384 \tNCE in validation 0.208482\n",
            "2021-10-25 08:27:21.198115\tupdates: 180000\tcurrent logloss on train: 0.149404\tcurrent logloss on validation: 0.257162 \tNCE in validation 0.206081\n",
            "2021-10-25 08:27:24.614023\tupdates: 190000\tcurrent logloss on train: 0.152409\tcurrent logloss on validation: 0.256329 \tNCE in validation 0.208654\n",
            "2021-10-25 08:27:28.012326\tupdates: 200000\tcurrent logloss on train: 0.155480\tcurrent logloss on validation: 0.256356 \tNCE in validation 0.208570\n",
            "2021-10-25 08:27:31.390494\tupdates: 210000\tcurrent logloss on train: 0.070614\tcurrent logloss on validation: 0.257721 \tNCE in validation 0.204354\n",
            "2021-10-25 08:27:34.849576\tupdates: 220000\tcurrent logloss on train: 0.089958\tcurrent logloss on validation: 0.258793 \tNCE in validation 0.201046\n",
            "2021-10-25 08:27:38.227968\tupdates: 230000\tcurrent logloss on train: 0.098609\tcurrent logloss on validation: 0.257045 \tNCE in validation 0.206441\n",
            "2021-10-25 08:27:41.599201\tupdates: 240000\tcurrent logloss on train: 0.106467\tcurrent logloss on validation: 0.257520 \tNCE in validation 0.204974\n",
            "2021-10-25 08:27:44.979902\tupdates: 250000\tcurrent logloss on train: 0.111405\tcurrent logloss on validation: 0.258440 \tNCE in validation 0.202135\n",
            "2021-10-25 08:27:48.327307\tupdates: 260000\tcurrent logloss on train: 0.117270\tcurrent logloss on validation: 0.259152 \tNCE in validation 0.199937\n",
            "2021-10-25 08:27:51.692510\tupdates: 270000\tcurrent logloss on train: 0.121509\tcurrent logloss on validation: 0.259218 \tNCE in validation 0.199732\n",
            "2021-10-25 08:27:55.093074\tupdates: 280000\tcurrent logloss on train: 0.124228\tcurrent logloss on validation: 0.259384 \tNCE in validation 0.199221\n",
            "2021-10-25 08:27:58.466719\tupdates: 290000\tcurrent logloss on train: 0.126190\tcurrent logloss on validation: 0.259242 \tNCE in validation 0.199660\n",
            "2021-10-25 08:28:01.867523\tupdates: 300000\tcurrent logloss on train: 0.128702\tcurrent logloss on validation: 0.259369 \tNCE in validation 0.199266\n",
            "2021-10-25 08:28:05.290327\tupdates: 310000\tcurrent logloss on train: 0.056635\tcurrent logloss on validation: 0.261924 \tNCE in validation 0.191380\n",
            "2021-10-25 08:28:08.692465\tupdates: 320000\tcurrent logloss on train: 0.078948\tcurrent logloss on validation: 0.262107 \tNCE in validation 0.190813\n",
            "2021-10-25 08:28:12.072960\tupdates: 330000\tcurrent logloss on train: 0.087818\tcurrent logloss on validation: 0.260168 \tNCE in validation 0.196799\n",
            "2021-10-25 08:28:15.497885\tupdates: 340000\tcurrent logloss on train: 0.094030\tcurrent logloss on validation: 0.259990 \tNCE in validation 0.197349\n",
            "2021-10-25 08:28:18.902245\tupdates: 350000\tcurrent logloss on train: 0.098940\tcurrent logloss on validation: 0.260945 \tNCE in validation 0.194402\n",
            "2021-10-25 08:28:22.335163\tupdates: 360000\tcurrent logloss on train: 0.103238\tcurrent logloss on validation: 0.261971 \tNCE in validation 0.191233\n",
            "2021-10-25 08:28:25.859338\tupdates: 370000\tcurrent logloss on train: 0.107132\tcurrent logloss on validation: 0.261937 \tNCE in validation 0.191340\n",
            "2021-10-25 08:28:29.274760\tupdates: 380000\tcurrent logloss on train: 0.109490\tcurrent logloss on validation: 0.262130 \tNCE in validation 0.190743\n",
            "2021-10-25 08:28:32.736847\tupdates: 390000\tcurrent logloss on train: 0.111198\tcurrent logloss on validation: 0.262319 \tNCE in validation 0.190158\n",
            "2021-10-25 08:28:36.141384\tupdates: 400000\tcurrent logloss on train: 0.113106\tcurrent logloss on validation: 0.262243 \tNCE in validation 0.190394\n",
            "2021-10-25 08:28:39.584625\tupdates: 410000\tcurrent logloss on train: 0.042850\tcurrent logloss on validation: 0.262278 \tNCE in validation 0.190285\n",
            "2021-10-25 08:28:43.087880\tupdates: 420000\tcurrent logloss on train: 0.073430\tcurrent logloss on validation: 0.263469 \tNCE in validation 0.186610\n",
            "2021-10-25 08:28:46.582124\tupdates: 430000\tcurrent logloss on train: 0.079503\tcurrent logloss on validation: 0.263770 \tNCE in validation 0.185681\n",
            "2021-10-25 08:28:49.983550\tupdates: 440000\tcurrent logloss on train: 0.084493\tcurrent logloss on validation: 0.264481 \tNCE in validation 0.183486\n",
            "2021-10-25 08:28:53.420179\tupdates: 450000\tcurrent logloss on train: 0.089738\tcurrent logloss on validation: 0.263453 \tNCE in validation 0.186660\n",
            "2021-10-25 08:28:56.895234\tupdates: 460000\tcurrent logloss on train: 0.093382\tcurrent logloss on validation: 0.264126 \tNCE in validation 0.184582\n",
            "2021-10-25 08:29:00.347210\tupdates: 470000\tcurrent logloss on train: 0.096911\tcurrent logloss on validation: 0.264634 \tNCE in validation 0.183013\n",
            "2021-10-25 08:29:03.778319\tupdates: 480000\tcurrent logloss on train: 0.099303\tcurrent logloss on validation: 0.264660 \tNCE in validation 0.182932\n",
            "2021-10-25 08:29:07.269248\tupdates: 490000\tcurrent logloss on train: 0.100564\tcurrent logloss on validation: 0.265699 \tNCE in validation 0.179724\n",
            "2021-10-25 08:29:10.716546\tupdates: 500000\tcurrent logloss on train: 0.102256\tcurrent logloss on validation: 0.264775 \tNCE in validation 0.182579\n",
            "2021-10-25 08:29:14.137714\tupdates: 510000\tcurrent logloss on train: 0.103972\tcurrent logloss on validation: 0.264869 \tNCE in validation 0.182287\n",
            "2021-10-25 08:29:17.545424\tupdates: 520000\tcurrent logloss on train: 0.064607\tcurrent logloss on validation: 0.266923 \tNCE in validation 0.175946\n",
            "2021-10-25 08:29:20.948829\tupdates: 530000\tcurrent logloss on train: 0.073336\tcurrent logloss on validation: 0.267625 \tNCE in validation 0.173780\n",
            "2021-10-25 08:29:24.442063\tupdates: 540000\tcurrent logloss on train: 0.078056\tcurrent logloss on validation: 0.267068 \tNCE in validation 0.175500\n",
            "2021-10-25 08:29:27.873824\tupdates: 550000\tcurrent logloss on train: 0.083151\tcurrent logloss on validation: 0.265899 \tNCE in validation 0.179108\n",
            "2021-10-25 08:29:31.339286\tupdates: 560000\tcurrent logloss on train: 0.085921\tcurrent logloss on validation: 0.266222 \tNCE in validation 0.178111\n",
            "2021-10-25 08:29:34.772404\tupdates: 570000\tcurrent logloss on train: 0.089296\tcurrent logloss on validation: 0.266767 \tNCE in validation 0.176428\n",
            "2021-10-25 08:29:38.237063\tupdates: 580000\tcurrent logloss on train: 0.091726\tcurrent logloss on validation: 0.266649 \tNCE in validation 0.176793\n",
            "2021-10-25 08:29:41.671513\tupdates: 590000\tcurrent logloss on train: 0.092816\tcurrent logloss on validation: 0.267574 \tNCE in validation 0.173936\n",
            "2021-10-25 08:29:45.106784\tupdates: 600000\tcurrent logloss on train: 0.094143\tcurrent logloss on validation: 0.266993 \tNCE in validation 0.175729\n",
            "2021-10-25 08:29:48.602648\tupdates: 610000\tcurrent logloss on train: 0.095650\tcurrent logloss on validation: 0.267046 \tNCE in validation 0.175567\n",
            "2021-10-25 08:29:52.029039\tupdates: 620000\tcurrent logloss on train: 0.059571\tcurrent logloss on validation: 0.268641 \tNCE in validation 0.170642\n",
            "2021-10-25 08:29:55.462516\tupdates: 630000\tcurrent logloss on train: 0.069418\tcurrent logloss on validation: 0.270239 \tNCE in validation 0.165709\n",
            "2021-10-25 08:29:58.902676\tupdates: 640000\tcurrent logloss on train: 0.073278\tcurrent logloss on validation: 0.268811 \tNCE in validation 0.170117\n",
            "2021-10-25 08:30:02.364443\tupdates: 650000\tcurrent logloss on train: 0.077652\tcurrent logloss on validation: 0.268070 \tNCE in validation 0.172404\n",
            "2021-10-25 08:30:05.829619\tupdates: 660000\tcurrent logloss on train: 0.080120\tcurrent logloss on validation: 0.268598 \tNCE in validation 0.170774\n",
            "2021-10-25 08:30:09.268228\tupdates: 670000\tcurrent logloss on train: 0.083255\tcurrent logloss on validation: 0.269255 \tNCE in validation 0.168746\n",
            "2021-10-25 08:30:12.713314\tupdates: 680000\tcurrent logloss on train: 0.085523\tcurrent logloss on validation: 0.268915 \tNCE in validation 0.169797\n",
            "2021-10-25 08:30:16.206819\tupdates: 690000\tcurrent logloss on train: 0.086835\tcurrent logloss on validation: 0.269043 \tNCE in validation 0.169402\n",
            "2021-10-25 08:30:19.649729\tupdates: 700000\tcurrent logloss on train: 0.087712\tcurrent logloss on validation: 0.269603 \tNCE in validation 0.167672\n",
            "2021-10-25 08:30:23.080648\tupdates: 710000\tcurrent logloss on train: 0.089120\tcurrent logloss on validation: 0.269233 \tNCE in validation 0.168813\n",
            "2021-10-25 08:30:26.475470\tupdates: 720000\tcurrent logloss on train: 0.051256\tcurrent logloss on validation: 0.270868 \tNCE in validation 0.163766\n",
            "2021-10-25 08:30:29.934302\tupdates: 730000\tcurrent logloss on train: 0.064343\tcurrent logloss on validation: 0.272293 \tNCE in validation 0.159369\n",
            "2021-10-25 08:30:33.324905\tupdates: 740000\tcurrent logloss on train: 0.069290\tcurrent logloss on validation: 0.270873 \tNCE in validation 0.163751\n",
            "2021-10-25 08:30:36.699023\tupdates: 750000\tcurrent logloss on train: 0.072859\tcurrent logloss on validation: 0.270360 \tNCE in validation 0.165336\n",
            "2021-10-25 08:30:40.166780\tupdates: 760000\tcurrent logloss on train: 0.075538\tcurrent logloss on validation: 0.270821 \tNCE in validation 0.163914\n",
            "2021-10-25 08:30:43.719277\tupdates: 770000\tcurrent logloss on train: 0.078217\tcurrent logloss on validation: 0.271172 \tNCE in validation 0.162828\n",
            "2021-10-25 08:30:47.129343\tupdates: 780000\tcurrent logloss on train: 0.080500\tcurrent logloss on validation: 0.270943 \tNCE in validation 0.163534\n",
            "2021-10-25 08:30:50.522401\tupdates: 790000\tcurrent logloss on train: 0.081861\tcurrent logloss on validation: 0.271277 \tNCE in validation 0.162504\n",
            "2021-10-25 08:30:53.966654\tupdates: 800000\tcurrent logloss on train: 0.082674\tcurrent logloss on validation: 0.272012 \tNCE in validation 0.160236\n",
            "2021-10-25 08:30:57.436637\tupdates: 810000\tcurrent logloss on train: 0.083747\tcurrent logloss on validation: 0.271436 \tNCE in validation 0.162014\n",
            "2021-10-25 08:31:00.909000\tupdates: 820000\tcurrent logloss on train: 0.044706\tcurrent logloss on validation: 0.271504 \tNCE in validation 0.161803\n",
            "2021-10-25 08:31:04.432032\tupdates: 830000\tcurrent logloss on train: 0.061663\tcurrent logloss on validation: 0.273068 \tNCE in validation 0.156975\n",
            "2021-10-25 08:31:07.851976\tupdates: 840000\tcurrent logloss on train: 0.065417\tcurrent logloss on validation: 0.273547 \tNCE in validation 0.155497\n",
            "2021-10-25 08:31:11.259745\tupdates: 850000\tcurrent logloss on train: 0.068197\tcurrent logloss on validation: 0.273836 \tNCE in validation 0.154603\n",
            "2021-10-25 08:31:14.667595\tupdates: 860000\tcurrent logloss on train: 0.071421\tcurrent logloss on validation: 0.272632 \tNCE in validation 0.158321\n",
            "2021-10-25 08:31:18.118752\tupdates: 870000\tcurrent logloss on train: 0.073810\tcurrent logloss on validation: 0.272608 \tNCE in validation 0.158395\n",
            "2021-10-25 08:31:21.677421\tupdates: 880000\tcurrent logloss on train: 0.076068\tcurrent logloss on validation: 0.273238 \tNCE in validation 0.156450\n",
            "2021-10-25 08:31:25.282248\tupdates: 890000\tcurrent logloss on train: 0.077583\tcurrent logloss on validation: 0.273230 \tNCE in validation 0.156474\n",
            "2021-10-25 08:31:28.694762\tupdates: 900000\tcurrent logloss on train: 0.078086\tcurrent logloss on validation: 0.274521 \tNCE in validation 0.152490\n",
            "2021-10-25 08:31:32.136063\tupdates: 910000\tcurrent logloss on train: 0.079250\tcurrent logloss on validation: 0.273532 \tNCE in validation 0.155543\n",
            "2021-10-25 08:31:35.509418\tupdates: 920000\tcurrent logloss on train: 0.080286\tcurrent logloss on validation: 0.273393 \tNCE in validation 0.155972\n",
            "2021-10-25 08:31:38.921121\tupdates: 930000\tcurrent logloss on train: 0.056355\tcurrent logloss on validation: 0.275282 \tNCE in validation 0.150141\n",
            "2021-10-25 08:31:42.334448\tupdates: 940000\tcurrent logloss on train: 0.061984\tcurrent logloss on validation: 0.276435 \tNCE in validation 0.146579\n",
            "2021-10-25 08:31:45.769448\tupdates: 950000\tcurrent logloss on train: 0.064551\tcurrent logloss on validation: 0.275978 \tNCE in validation 0.147992\n",
            "2021-10-25 08:31:49.181573\tupdates: 960000\tcurrent logloss on train: 0.068203\tcurrent logloss on validation: 0.274544 \tNCE in validation 0.152420\n",
            "2021-10-25 08:31:52.600452\tupdates: 970000\tcurrent logloss on train: 0.070045\tcurrent logloss on validation: 0.274340 \tNCE in validation 0.153049\n",
            "2021-10-25 08:31:55.994217\tupdates: 980000\tcurrent logloss on train: 0.072344\tcurrent logloss on validation: 0.274865 \tNCE in validation 0.151426\n",
            "2021-10-25 08:31:59.434473\tupdates: 990000\tcurrent logloss on train: 0.073972\tcurrent logloss on validation: 0.274629 \tNCE in validation 0.152156\n",
            "2021-10-25 08:32:02.862752\tupdates: 1000000\tcurrent logloss on train: 0.074489\tcurrent logloss on validation: 0.275751 \tNCE in validation 0.148691\n",
            "2021-10-25 08:32:06.265517\tupdates: 1010000\tcurrent logloss on train: 0.075348\tcurrent logloss on validation: 0.275181 \tNCE in validation 0.150452\n",
            "2021-10-25 08:32:09.672780\tupdates: 1020000\tcurrent logloss on train: 0.076333\tcurrent logloss on validation: 0.274981 \tNCE in validation 0.151069\n"
          ]
        }
      ]
    },
    {
      "cell_type": "code",
      "metadata": {
        "colab": {
          "base_uri": "https://localhost:8080/",
          "height": 281
        },
        "id": "STKNAlpTNBU-",
        "outputId": "797a2626-ead0-494e-bb3e-cf90e7b158ab"
      },
      "source": [
        "#Produce a plot of the losses\n",
        "#ANSWER\n",
        "x = [10000*i for i in range(len(training_losses))]\n",
        "plt.plot(x, training_losses, label='Train')\n",
        "plt.plot(x, validation_losses, label='Validation')\n",
        "plt.xlabel('Number of updates')\n",
        "plt.ylabel('Log Loss')\n",
        "plt.legend( ('Train', 'Validation') )\n",
        "plt.show()\n",
        "#Clear overfitting.\n",
        "#L2 regularization should help. Smaller step size will help in terms of number of updates but is possibly just slowing the process"
      ],
      "execution_count": null,
      "outputs": [
        {
          "output_type": "display_data",
          "data": {
            "image/png": "[encoded data removed]",
            "text/plain": [
              "<Figure size 432x288 with 1 Axes>"
            ]
          },
          "metadata": {
            "needs_background": "light"
          }
        }
      ]
    },
    {
      "cell_type": "code",
      "metadata": {
        "colab": {
          "base_uri": "https://localhost:8080/",
          "height": 1000
        },
        "id": "yARCrLCyOIgy",
        "outputId": "31c1390f-c0cd-44f5-e593-d58cd1a2725a"
      },
      "source": [
        "#ANSWER - same stuff with a L2 regularizer (bias term + quad terms)\n",
        "#A lot of settings allows a large difference between train and validation, theses are indeed bad\n",
        "#Remark than combining L1 and L2 is easy and is often named \"elasticnet\"\n",
        "import matplotlib.pyplot as plt\n",
        "import math\n",
        "\n",
        "def update_wL2(w, n, x, p, y, lbd=5e-4):\n",
        "    for i in x:\n",
        "        # L2 reg added here. \n",
        "        w[i] -= ((p - y + lbd * 2 * w[i])  ) * alpha / (sqrt(n[i]) + 1.) \n",
        "        n[i] += 1.\n",
        "    return w, n\n",
        "\n",
        "sign = lambda x: math.copysign(1, x) #python has cumbersome sign function \n",
        "def update_wL1(w, n, x, p, y, lbd=5e-4):\n",
        "    for i in x:\n",
        "        w[i] -= ((p - y) * 2 + lbd * sign(w[i])) * alpha / (sqrt(n[i]) + 1.) \n",
        "        n[i] += 1.\n",
        "    return w, n\n",
        "\n",
        "D = 2 ** 24\n",
        "w = [0.] * D  \n",
        "n = [0.] * D\n",
        "loss = 0.\n",
        "n_epochs = 10\n",
        "n_updates = 0\n",
        "training_losses = [] \n",
        "validation_losses = [] \n",
        "alpha = .01 #CARE THE LEARNING RATE HAS BEEN MODIFIED \n",
        "\n",
        "for e in range(n_epochs):\n",
        "  training_loss = 0\n",
        "  for t, (row, y)  in enumerate(zip(DictReader(open(X_train)), DictReader(open(y_train)))):\n",
        "      x = get_x(row, D)\n",
        "      p = get_p(x, w)\n",
        "      target = float(y['click'])\n",
        "      training_loss += logloss(p, target)\n",
        "      if n_updates% 10000 == 0 and n_updates>1:\n",
        "          training_losses.append( training_loss/t )\n",
        "          validation_losses.append( compute_validation_loss(w, D) )\n",
        "          print('%s\\tupdates: %d\\tcurrent logloss on train: %f\\tcurrent logloss on validation: %f \\tNCE in validation %f' % (\n",
        "              datetime.now(), n_updates, training_losses[-1], validation_losses[-1], (Hy-validation_losses[-1])/Hy ))\n",
        "      w, n = update_wL2(w, n, x, p, target) #CODE UPDATED HERE \n",
        "      n_updates += 1\n",
        "\n",
        "x = [10000*i for i in range(len(training_losses))]\n",
        "plt.plot(x, training_losses, label='Train')\n",
        "plt.plot(x, validation_losses, label='Validation')\n",
        "plt.xlabel('Number of updates')\n",
        "plt.ylabel('Log Loss')\n",
        "plt.legend( ('Train', 'Validation') )\n",
        "plt.show() \n",
        "\n",
        "wL2 = w #keep it for later use\n",
        "\n",
        "#Depending on the learning rate and the coefficent in front of regularization this is possible \n",
        "#to have some overfitting advocating for early stopping. Remark that it does not hurt as hard the validation performance \n",
        "#Gains remains quite unclear, possibly due to the small dataset size   "
      ],
      "execution_count": null,
      "outputs": [
        {
          "output_type": "stream",
          "name": "stdout",
          "text": [
            "2021-10-25 09:02:15.642094\tupdates: 10000\tcurrent logloss on train: 0.281488\tcurrent logloss on validation: 0.263892 \tNCE in validation 0.185305\n",
            "2021-10-25 09:02:19.573569\tupdates: 20000\tcurrent logloss on train: 0.265193\tcurrent logloss on validation: 0.257656 \tNCE in validation 0.204554\n",
            "2021-10-25 09:02:23.647692\tupdates: 30000\tcurrent logloss on train: 0.259603\tcurrent logloss on validation: 0.254836 \tNCE in validation 0.213263\n",
            "2021-10-25 09:02:27.869834\tupdates: 40000\tcurrent logloss on train: 0.260076\tcurrent logloss on validation: 0.252578 \tNCE in validation 0.220233\n",
            "2021-10-25 09:02:32.076605\tupdates: 50000\tcurrent logloss on train: 0.259459\tcurrent logloss on validation: 0.251705 \tNCE in validation 0.222928\n",
            "2021-10-25 09:02:36.124112\tupdates: 60000\tcurrent logloss on train: 0.259321\tcurrent logloss on validation: 0.250600 \tNCE in validation 0.226338\n",
            "2021-10-25 09:02:40.171980\tupdates: 70000\tcurrent logloss on train: 0.258817\tcurrent logloss on validation: 0.249789 \tNCE in validation 0.228842\n",
            "2021-10-25 09:02:44.441400\tupdates: 80000\tcurrent logloss on train: 0.256770\tcurrent logloss on validation: 0.249197 \tNCE in validation 0.230669\n",
            "2021-10-25 09:02:48.590096\tupdates: 90000\tcurrent logloss on train: 0.255618\tcurrent logloss on validation: 0.247986 \tNCE in validation 0.234410\n",
            "2021-10-25 09:02:52.566275\tupdates: 100000\tcurrent logloss on train: 0.254611\tcurrent logloss on validation: 0.247430 \tNCE in validation 0.236125\n",
            "2021-10-25 09:02:56.610716\tupdates: 110000\tcurrent logloss on train: 0.168090\tcurrent logloss on validation: 0.247376 \tNCE in validation 0.236292\n",
            "2021-10-25 09:03:01.030801\tupdates: 120000\tcurrent logloss on train: 0.177189\tcurrent logloss on validation: 0.247486 \tNCE in validation 0.235953\n",
            "2021-10-25 09:03:05.834650\tupdates: 130000\tcurrent logloss on train: 0.182020\tcurrent logloss on validation: 0.247299 \tNCE in validation 0.236531\n",
            "2021-10-25 09:03:10.432220\tupdates: 140000\tcurrent logloss on train: 0.188718\tcurrent logloss on validation: 0.246799 \tNCE in validation 0.238075\n",
            "2021-10-25 09:03:14.170468\tupdates: 150000\tcurrent logloss on train: 0.191436\tcurrent logloss on validation: 0.246646 \tNCE in validation 0.238545\n",
            "2021-10-25 09:03:17.870048\tupdates: 160000\tcurrent logloss on train: 0.195153\tcurrent logloss on validation: 0.246519 \tNCE in validation 0.238939\n",
            "2021-10-25 09:03:22.187440\tupdates: 170000\tcurrent logloss on train: 0.197748\tcurrent logloss on validation: 0.246353 \tNCE in validation 0.239451\n",
            "2021-10-25 09:03:26.530517\tupdates: 180000\tcurrent logloss on train: 0.198713\tcurrent logloss on validation: 0.246210 \tNCE in validation 0.239892\n",
            "2021-10-25 09:03:31.002515\tupdates: 190000\tcurrent logloss on train: 0.199735\tcurrent logloss on validation: 0.245876 \tNCE in validation 0.240924\n",
            "2021-10-25 09:03:35.374988\tupdates: 200000\tcurrent logloss on train: 0.200696\tcurrent logloss on validation: 0.245654 \tNCE in validation 0.241610\n",
            "2021-10-25 09:03:39.707115\tupdates: 210000\tcurrent logloss on train: 0.153235\tcurrent logloss on validation: 0.245610 \tNCE in validation 0.241744\n",
            "2021-10-25 09:03:44.096938\tupdates: 220000\tcurrent logloss on train: 0.160885\tcurrent logloss on validation: 0.245952 \tNCE in validation 0.240689\n",
            "2021-10-25 09:03:48.334305\tupdates: 230000\tcurrent logloss on train: 0.164562\tcurrent logloss on validation: 0.245651 \tNCE in validation 0.241617\n",
            "2021-10-25 09:03:52.405317\tupdates: 240000\tcurrent logloss on train: 0.169344\tcurrent logloss on validation: 0.245577 \tNCE in validation 0.241845\n",
            "2021-10-25 09:03:56.279045\tupdates: 250000\tcurrent logloss on train: 0.171804\tcurrent logloss on validation: 0.245591 \tNCE in validation 0.241804\n",
            "2021-10-25 09:04:00.584194\tupdates: 260000\tcurrent logloss on train: 0.175717\tcurrent logloss on validation: 0.245616 \tNCE in validation 0.241726\n",
            "2021-10-25 09:04:04.266385\tupdates: 270000\tcurrent logloss on train: 0.178494\tcurrent logloss on validation: 0.245537 \tNCE in validation 0.241970\n",
            "2021-10-25 09:04:07.893999\tupdates: 280000\tcurrent logloss on train: 0.179765\tcurrent logloss on validation: 0.245449 \tNCE in validation 0.242240\n",
            "2021-10-25 09:04:12.058014\tupdates: 290000\tcurrent logloss on train: 0.180213\tcurrent logloss on validation: 0.245331 \tNCE in validation 0.242607\n",
            "2021-10-25 09:04:16.207437\tupdates: 300000\tcurrent logloss on train: 0.181281\tcurrent logloss on validation: 0.245224 \tNCE in validation 0.242935\n",
            "2021-10-25 09:04:20.327006\tupdates: 310000\tcurrent logloss on train: 0.133984\tcurrent logloss on validation: 0.245206 \tNCE in validation 0.242991\n",
            "2021-10-25 09:04:24.471976\tupdates: 320000\tcurrent logloss on train: 0.147499\tcurrent logloss on validation: 0.245377 \tNCE in validation 0.242464\n",
            "2021-10-25 09:04:28.603665\tupdates: 330000\tcurrent logloss on train: 0.152046\tcurrent logloss on validation: 0.245291 \tNCE in validation 0.242729\n",
            "2021-10-25 09:04:32.634214\tupdates: 340000\tcurrent logloss on train: 0.155921\tcurrent logloss on validation: 0.245211 \tNCE in validation 0.242975\n",
            "2021-10-25 09:04:36.726287\tupdates: 350000\tcurrent logloss on train: 0.159525\tcurrent logloss on validation: 0.245207 \tNCE in validation 0.242989\n",
            "2021-10-25 09:04:40.811261\tupdates: 360000\tcurrent logloss on train: 0.162341\tcurrent logloss on validation: 0.245296 \tNCE in validation 0.242713\n",
            "2021-10-25 09:04:44.921606\tupdates: 370000\tcurrent logloss on train: 0.165114\tcurrent logloss on validation: 0.245277 \tNCE in validation 0.242773\n",
            "2021-10-25 09:04:49.288679\tupdates: 380000\tcurrent logloss on train: 0.166631\tcurrent logloss on validation: 0.245260 \tNCE in validation 0.242826\n",
            "2021-10-25 09:04:53.522844\tupdates: 390000\tcurrent logloss on train: 0.167197\tcurrent logloss on validation: 0.245230 \tNCE in validation 0.242918\n",
            "2021-10-25 09:04:57.630731\tupdates: 400000\tcurrent logloss on train: 0.168196\tcurrent logloss on validation: 0.245136 \tNCE in validation 0.243208\n",
            "2021-10-25 09:05:02.118907\tupdates: 410000\tcurrent logloss on train: 0.113399\tcurrent logloss on validation: 0.245027 \tNCE in validation 0.243544\n",
            "2021-10-25 09:05:06.270348\tupdates: 420000\tcurrent logloss on train: 0.141581\tcurrent logloss on validation: 0.245151 \tNCE in validation 0.243162\n",
            "2021-10-25 09:05:10.379601\tupdates: 430000\tcurrent logloss on train: 0.142227\tcurrent logloss on validation: 0.245364 \tNCE in validation 0.242503\n",
            "2021-10-25 09:05:14.270616\tupdates: 440000\tcurrent logloss on train: 0.144686\tcurrent logloss on validation: 0.245511 \tNCE in validation 0.242050\n",
            "2021-10-25 09:05:18.498698\tupdates: 450000\tcurrent logloss on train: 0.149269\tcurrent logloss on validation: 0.245198 \tNCE in validation 0.243017\n",
            "2021-10-25 09:05:22.647727\tupdates: 460000\tcurrent logloss on train: 0.151791\tcurrent logloss on validation: 0.245267 \tNCE in validation 0.242803\n",
            "2021-10-25 09:05:26.663551\tupdates: 470000\tcurrent logloss on train: 0.154640\tcurrent logloss on validation: 0.245329 \tNCE in validation 0.242612\n",
            "2021-10-25 09:05:30.626747\tupdates: 480000\tcurrent logloss on train: 0.156480\tcurrent logloss on validation: 0.245299 \tNCE in validation 0.242706\n",
            "2021-10-25 09:05:34.638544\tupdates: 490000\tcurrent logloss on train: 0.156915\tcurrent logloss on validation: 0.245390 \tNCE in validation 0.242423\n",
            "2021-10-25 09:05:38.714419\tupdates: 500000\tcurrent logloss on train: 0.157930\tcurrent logloss on validation: 0.245235 \tNCE in validation 0.242901\n",
            "2021-10-25 09:05:42.731490\tupdates: 510000\tcurrent logloss on train: 0.158904\tcurrent logloss on validation: 0.245187 \tNCE in validation 0.243052\n",
            "2021-10-25 09:05:46.732768\tupdates: 520000\tcurrent logloss on train: 0.129753\tcurrent logloss on validation: 0.245298 \tNCE in validation 0.242709\n",
            "2021-10-25 09:05:50.808419\tupdates: 530000\tcurrent logloss on train: 0.134244\tcurrent logloss on validation: 0.245609 \tNCE in validation 0.241747\n",
            "2021-10-25 09:05:54.824903\tupdates: 540000\tcurrent logloss on train: 0.137002\tcurrent logloss on validation: 0.245679 \tNCE in validation 0.241531\n",
            "2021-10-25 09:05:58.626350\tupdates: 550000\tcurrent logloss on train: 0.141590\tcurrent logloss on validation: 0.245430 \tNCE in validation 0.242301\n",
            "2021-10-25 09:06:02.476673\tupdates: 560000\tcurrent logloss on train: 0.143392\tcurrent logloss on validation: 0.245416 \tNCE in validation 0.242342\n",
            "2021-10-25 09:06:06.327929\tupdates: 570000\tcurrent logloss on train: 0.146351\tcurrent logloss on validation: 0.245457 \tNCE in validation 0.242217\n",
            "2021-10-25 09:06:10.216076\tupdates: 580000\tcurrent logloss on train: 0.148480\tcurrent logloss on validation: 0.245408 \tNCE in validation 0.242368\n",
            "2021-10-25 09:06:14.110806\tupdates: 590000\tcurrent logloss on train: 0.148804\tcurrent logloss on validation: 0.245509 \tNCE in validation 0.242058\n",
            "2021-10-25 09:06:18.204708\tupdates: 600000\tcurrent logloss on train: 0.149649\tcurrent logloss on validation: 0.245450 \tNCE in validation 0.242240\n",
            "2021-10-25 09:06:22.108863\tupdates: 610000\tcurrent logloss on train: 0.150537\tcurrent logloss on validation: 0.245409 \tNCE in validation 0.242365\n",
            "2021-10-25 09:06:26.539285\tupdates: 620000\tcurrent logloss on train: 0.123998\tcurrent logloss on validation: 0.245465 \tNCE in validation 0.242192\n",
            "2021-10-25 09:06:30.381491\tupdates: 630000\tcurrent logloss on train: 0.129274\tcurrent logloss on validation: 0.245821 \tNCE in validation 0.241093\n",
            "2021-10-25 09:06:34.614067\tupdates: 640000\tcurrent logloss on train: 0.130999\tcurrent logloss on validation: 0.245797 \tNCE in validation 0.241168\n",
            "2021-10-25 09:06:38.798707\tupdates: 650000\tcurrent logloss on train: 0.134823\tcurrent logloss on validation: 0.245743 \tNCE in validation 0.241333\n",
            "2021-10-25 09:06:42.751137\tupdates: 660000\tcurrent logloss on train: 0.136486\tcurrent logloss on validation: 0.245761 \tNCE in validation 0.241279\n",
            "2021-10-25 09:06:46.643014\tupdates: 670000\tcurrent logloss on train: 0.139200\tcurrent logloss on validation: 0.245786 \tNCE in validation 0.241202\n",
            "2021-10-25 09:06:50.749129\tupdates: 680000\tcurrent logloss on train: 0.141509\tcurrent logloss on validation: 0.245687 \tNCE in validation 0.241506\n",
            "2021-10-25 09:06:54.741722\tupdates: 690000\tcurrent logloss on train: 0.142358\tcurrent logloss on validation: 0.245701 \tNCE in validation 0.241464\n",
            "2021-10-25 09:06:58.703297\tupdates: 700000\tcurrent logloss on train: 0.142649\tcurrent logloss on validation: 0.245781 \tNCE in validation 0.241216\n",
            "2021-10-25 09:07:02.505355\tupdates: 710000\tcurrent logloss on train: 0.143566\tcurrent logloss on validation: 0.245721 \tNCE in validation 0.241401\n",
            "2021-10-25 09:07:06.219913\tupdates: 720000\tcurrent logloss on train: 0.114468\tcurrent logloss on validation: 0.245794 \tNCE in validation 0.241175\n",
            "2021-10-25 09:07:09.897666\tupdates: 730000\tcurrent logloss on train: 0.122552\tcurrent logloss on validation: 0.246037 \tNCE in validation 0.240427\n",
            "2021-10-25 09:07:13.574664\tupdates: 740000\tcurrent logloss on train: 0.125669\tcurrent logloss on validation: 0.246051 \tNCE in validation 0.240383\n",
            "2021-10-25 09:07:17.253681\tupdates: 750000\tcurrent logloss on train: 0.128422\tcurrent logloss on validation: 0.246080 \tNCE in validation 0.240293\n",
            "2021-10-25 09:07:20.876990\tupdates: 760000\tcurrent logloss on train: 0.130971\tcurrent logloss on validation: 0.246057 \tNCE in validation 0.240364\n",
            "2021-10-25 09:07:24.566266\tupdates: 770000\tcurrent logloss on train: 0.133167\tcurrent logloss on validation: 0.246070 \tNCE in validation 0.240324\n",
            "2021-10-25 09:07:28.198975\tupdates: 780000\tcurrent logloss on train: 0.135354\tcurrent logloss on validation: 0.246003 \tNCE in validation 0.240531\n",
            "2021-10-25 09:07:31.836139\tupdates: 790000\tcurrent logloss on train: 0.136555\tcurrent logloss on validation: 0.246020 \tNCE in validation 0.240478\n",
            "2021-10-25 09:07:35.541903\tupdates: 800000\tcurrent logloss on train: 0.136881\tcurrent logloss on validation: 0.246122 \tNCE in validation 0.240163\n",
            "2021-10-25 09:07:39.142293\tupdates: 810000\tcurrent logloss on train: 0.137650\tcurrent logloss on validation: 0.246060 \tNCE in validation 0.240356\n",
            "2021-10-25 09:07:42.776893\tupdates: 820000\tcurrent logloss on train: 0.116746\tcurrent logloss on validation: 0.246018 \tNCE in validation 0.240486\n",
            "2021-10-25 09:07:46.409579\tupdates: 830000\tcurrent logloss on train: 0.120267\tcurrent logloss on validation: 0.246181 \tNCE in validation 0.239981\n",
            "2021-10-25 09:07:50.079491\tupdates: 840000\tcurrent logloss on train: 0.120660\tcurrent logloss on validation: 0.246428 \tNCE in validation 0.239218\n",
            "2021-10-25 09:07:53.814455\tupdates: 850000\tcurrent logloss on train: 0.122396\tcurrent logloss on validation: 0.246604 \tNCE in validation 0.238677\n",
            "2021-10-25 09:07:57.493877\tupdates: 860000\tcurrent logloss on train: 0.125481\tcurrent logloss on validation: 0.246384 \tNCE in validation 0.239355\n",
            "2021-10-25 09:08:01.146521\tupdates: 870000\tcurrent logloss on train: 0.127549\tcurrent logloss on validation: 0.246359 \tNCE in validation 0.239432\n",
            "2021-10-25 09:08:04.891190\tupdates: 880000\tcurrent logloss on train: 0.129813\tcurrent logloss on validation: 0.246402 \tNCE in validation 0.239299\n",
            "2021-10-25 09:08:08.686305\tupdates: 890000\tcurrent logloss on train: 0.131325\tcurrent logloss on validation: 0.246356 \tNCE in validation 0.239441\n",
            "2021-10-25 09:08:12.356629\tupdates: 900000\tcurrent logloss on train: 0.131382\tcurrent logloss on validation: 0.246542 \tNCE in validation 0.238866\n",
            "2021-10-25 09:08:16.209165\tupdates: 910000\tcurrent logloss on train: 0.132369\tcurrent logloss on validation: 0.246436 \tNCE in validation 0.239193\n",
            "2021-10-25 09:08:19.848071\tupdates: 920000\tcurrent logloss on train: 0.133076\tcurrent logloss on validation: 0.246396 \tNCE in validation 0.239319\n",
            "2021-10-25 09:08:23.479776\tupdates: 930000\tcurrent logloss on train: 0.112696\tcurrent logloss on validation: 0.246539 \tNCE in validation 0.238877\n",
            "2021-10-25 09:08:27.140514\tupdates: 940000\tcurrent logloss on train: 0.115923\tcurrent logloss on validation: 0.246867 \tNCE in validation 0.237865\n",
            "2021-10-25 09:08:30.774854\tupdates: 950000\tcurrent logloss on train: 0.117526\tcurrent logloss on validation: 0.246975 \tNCE in validation 0.237531\n",
            "2021-10-25 09:08:34.420142\tupdates: 960000\tcurrent logloss on train: 0.121292\tcurrent logloss on validation: 0.246798 \tNCE in validation 0.238076\n",
            "2021-10-25 09:08:38.080759\tupdates: 970000\tcurrent logloss on train: 0.122731\tcurrent logloss on validation: 0.246713 \tNCE in validation 0.238340\n",
            "2021-10-25 09:08:41.754431\tupdates: 980000\tcurrent logloss on train: 0.125080\tcurrent logloss on validation: 0.246728 \tNCE in validation 0.238293\n",
            "2021-10-25 09:08:45.395950\tupdates: 990000\tcurrent logloss on train: 0.126853\tcurrent logloss on validation: 0.246644 \tNCE in validation 0.238553\n",
            "2021-10-25 09:08:49.052924\tupdates: 1000000\tcurrent logloss on train: 0.126944\tcurrent logloss on validation: 0.246809 \tNCE in validation 0.238042\n",
            "2021-10-25 09:08:52.715577\tupdates: 1010000\tcurrent logloss on train: 0.127615\tcurrent logloss on validation: 0.246757 \tNCE in validation 0.238202\n",
            "2021-10-25 09:08:56.408916\tupdates: 1020000\tcurrent logloss on train: 0.128329\tcurrent logloss on validation: 0.246731 \tNCE in validation 0.238283\n"
          ]
        },
        {
          "output_type": "display_data",
          "data": {
            "image/png": "[encoded data removed]",
            "text/plain": [
              "<Figure size 432x288 with 1 Axes>"
            ]
          },
          "metadata": {
            "needs_background": "light"
          }
        }
      ]
    },
    {
      "cell_type": "code",
      "metadata": {
        "colab": {
          "base_uri": "https://localhost:8080/",
          "height": 1000
        },
        "id": "TyG9M30Qnh-S",
        "outputId": "e3bfc29c-ea67-4187-f75c-56150b930a78"
      },
      "source": [
        "#Restart the main loop. This does not look as an optimal strategy. \n",
        "D = 2 ** 24\n",
        "w = [0.] * D  \n",
        "n = [0.] * D\n",
        "loss = 0.\n",
        "n_epochs = 5\n",
        "n_updates = 0\n",
        "training_losses = [] \n",
        "validation_losses = [] \n",
        "alpha = .01 \n",
        "\n",
        "for e in range(n_epochs):\n",
        "  training_loss = 0\n",
        "  for t, (row, y)  in enumerate(zip(DictReader(open(X_train)), DictReader(open(y_train)))):\n",
        "      x = get_x(row, D)\n",
        "      p = get_p(x, w)\n",
        "      target = float(y['click'])\n",
        "      training_loss += logloss(p, target)\n",
        "      if n_updates% 10000 == 0 and n_updates>1:\n",
        "          training_losses.append( training_loss/t )\n",
        "          validation_losses.append( compute_validation_loss(w, D) )\n",
        "          print('%s\\tupdates: %d\\tcurrent logloss on train: %f\\tcurrent logloss on validation: %f \\tNCE in validation %f' % (\n",
        "              datetime.now(), n_updates, training_losses[-1], validation_losses[-1], (Hy-validation_losses[-1])/Hy ))\n",
        "      w, n = update_wL1(w, n, x, p, target) #CODE UPDATED HERE \n",
        "      n_updates += 1\n",
        "\n",
        "x = [10000*i for i in range(len(training_losses))]\n",
        "plt.plot(x, training_losses, label='Train')\n",
        "plt.plot(x, validation_losses, label='Validation')\n",
        "plt.xlabel('Number of updates')\n",
        "plt.ylabel('Log Loss')\n",
        "plt.legend( ('Train', 'Validation') )\n",
        "plt.show() \n",
        "\n",
        "wL1 = w #keep it for later use\n"
      ],
      "execution_count": null,
      "outputs": [
        {
          "output_type": "stream",
          "name": "stdout",
          "text": [
            "2021-10-25 09:09:05.760722\tupdates: 10000\tcurrent logloss on train: 0.281551\tcurrent logloss on validation: 0.263981 \tNCE in validation 0.185028\n",
            "2021-10-25 09:09:09.901926\tupdates: 20000\tcurrent logloss on train: 0.265263\tcurrent logloss on validation: 0.257711 \tNCE in validation 0.204385\n",
            "2021-10-25 09:09:13.960799\tupdates: 30000\tcurrent logloss on train: 0.259670\tcurrent logloss on validation: 0.254891 \tNCE in validation 0.213091\n",
            "2021-10-25 09:09:18.031773\tupdates: 40000\tcurrent logloss on train: 0.260147\tcurrent logloss on validation: 0.252651 \tNCE in validation 0.220007\n",
            "2021-10-25 09:09:22.137741\tupdates: 50000\tcurrent logloss on train: 0.259528\tcurrent logloss on validation: 0.251794 \tNCE in validation 0.222654\n",
            "2021-10-25 09:09:26.183138\tupdates: 60000\tcurrent logloss on train: 0.259385\tcurrent logloss on validation: 0.250691 \tNCE in validation 0.226059\n",
            "2021-10-25 09:09:30.320691\tupdates: 70000\tcurrent logloss on train: 0.258885\tcurrent logloss on validation: 0.249883 \tNCE in validation 0.228554\n",
            "2021-10-25 09:09:34.453019\tupdates: 80000\tcurrent logloss on train: 0.256839\tcurrent logloss on validation: 0.249264 \tNCE in validation 0.230464\n",
            "2021-10-25 09:09:38.580099\tupdates: 90000\tcurrent logloss on train: 0.255688\tcurrent logloss on validation: 0.248055 \tNCE in validation 0.234195\n",
            "2021-10-25 09:09:42.671456\tupdates: 100000\tcurrent logloss on train: 0.254680\tcurrent logloss on validation: 0.247505 \tNCE in validation 0.235895\n",
            "2021-10-25 09:09:46.788467\tupdates: 110000\tcurrent logloss on train: 0.168515\tcurrent logloss on validation: 0.247435 \tNCE in validation 0.236109\n",
            "2021-10-25 09:09:51.239407\tupdates: 120000\tcurrent logloss on train: 0.177517\tcurrent logloss on validation: 0.247531 \tNCE in validation 0.235814\n",
            "2021-10-25 09:09:55.599232\tupdates: 130000\tcurrent logloss on train: 0.182303\tcurrent logloss on validation: 0.247341 \tNCE in validation 0.236400\n",
            "2021-10-25 09:09:59.732506\tupdates: 140000\tcurrent logloss on train: 0.188963\tcurrent logloss on validation: 0.246871 \tNCE in validation 0.237852\n",
            "2021-10-25 09:10:03.859012\tupdates: 150000\tcurrent logloss on train: 0.191667\tcurrent logloss on validation: 0.246713 \tNCE in validation 0.238340\n",
            "2021-10-25 09:10:07.996935\tupdates: 160000\tcurrent logloss on train: 0.195360\tcurrent logloss on validation: 0.246587 \tNCE in validation 0.238729\n",
            "2021-10-25 09:10:12.158169\tupdates: 170000\tcurrent logloss on train: 0.197944\tcurrent logloss on validation: 0.246430 \tNCE in validation 0.239213\n",
            "2021-10-25 09:10:16.331418\tupdates: 180000\tcurrent logloss on train: 0.198902\tcurrent logloss on validation: 0.246268 \tNCE in validation 0.239714\n",
            "2021-10-25 09:10:20.550791\tupdates: 190000\tcurrent logloss on train: 0.199916\tcurrent logloss on validation: 0.245932 \tNCE in validation 0.240749\n",
            "2021-10-25 09:10:24.731285\tupdates: 200000\tcurrent logloss on train: 0.200865\tcurrent logloss on validation: 0.245710 \tNCE in validation 0.241436\n",
            "2021-10-25 09:10:28.848309\tupdates: 210000\tcurrent logloss on train: 0.153785\tcurrent logloss on validation: 0.245661 \tNCE in validation 0.241586\n",
            "2021-10-25 09:10:32.995344\tupdates: 220000\tcurrent logloss on train: 0.161306\tcurrent logloss on validation: 0.245979 \tNCE in validation 0.240605\n",
            "2021-10-25 09:10:37.123575\tupdates: 230000\tcurrent logloss on train: 0.164937\tcurrent logloss on validation: 0.245680 \tNCE in validation 0.241527\n",
            "2021-10-25 09:10:41.237491\tupdates: 240000\tcurrent logloss on train: 0.169672\tcurrent logloss on validation: 0.245616 \tNCE in validation 0.241725\n",
            "2021-10-25 09:10:45.338874\tupdates: 250000\tcurrent logloss on train: 0.172108\tcurrent logloss on validation: 0.245624 \tNCE in validation 0.241700\n",
            "2021-10-25 09:10:49.520683\tupdates: 260000\tcurrent logloss on train: 0.175995\tcurrent logloss on validation: 0.245657 \tNCE in validation 0.241600\n",
            "2021-10-25 09:10:53.936146\tupdates: 270000\tcurrent logloss on train: 0.178754\tcurrent logloss on validation: 0.245589 \tNCE in validation 0.241810\n",
            "2021-10-25 09:10:58.114668\tupdates: 280000\tcurrent logloss on train: 0.180017\tcurrent logloss on validation: 0.245494 \tNCE in validation 0.242103\n",
            "2021-10-25 09:11:02.276608\tupdates: 290000\tcurrent logloss on train: 0.180454\tcurrent logloss on validation: 0.245356 \tNCE in validation 0.242527\n",
            "2021-10-25 09:11:06.405556\tupdates: 300000\tcurrent logloss on train: 0.181512\tcurrent logloss on validation: 0.245254 \tNCE in validation 0.242842\n",
            "2021-10-25 09:11:10.521494\tupdates: 310000\tcurrent logloss on train: 0.134688\tcurrent logloss on validation: 0.245230 \tNCE in validation 0.242918\n",
            "2021-10-25 09:11:14.658680\tupdates: 320000\tcurrent logloss on train: 0.148004\tcurrent logloss on validation: 0.245382 \tNCE in validation 0.242449\n",
            "2021-10-25 09:11:18.784441\tupdates: 330000\tcurrent logloss on train: 0.152478\tcurrent logloss on validation: 0.245297 \tNCE in validation 0.242711\n",
            "2021-10-25 09:11:22.938574\tupdates: 340000\tcurrent logloss on train: 0.156302\tcurrent logloss on validation: 0.245220 \tNCE in validation 0.242948\n",
            "2021-10-25 09:11:27.089406\tupdates: 350000\tcurrent logloss on train: 0.159872\tcurrent logloss on validation: 0.245220 \tNCE in validation 0.242949\n",
            "2021-10-25 09:11:31.243653\tupdates: 360000\tcurrent logloss on train: 0.162671\tcurrent logloss on validation: 0.245311 \tNCE in validation 0.242668\n",
            "2021-10-25 09:11:35.394769\tupdates: 370000\tcurrent logloss on train: 0.165423\tcurrent logloss on validation: 0.245300 \tNCE in validation 0.242702\n",
            "2021-10-25 09:11:39.538215\tupdates: 380000\tcurrent logloss on train: 0.166929\tcurrent logloss on validation: 0.245279 \tNCE in validation 0.242767\n",
            "2021-10-25 09:11:43.689821\tupdates: 390000\tcurrent logloss on train: 0.167484\tcurrent logloss on validation: 0.245234 \tNCE in validation 0.242905\n",
            "2021-10-25 09:11:47.813563\tupdates: 400000\tcurrent logloss on train: 0.168472\tcurrent logloss on validation: 0.245143 \tNCE in validation 0.243186\n",
            "2021-10-25 09:11:51.966034\tupdates: 410000\tcurrent logloss on train: 0.114558\tcurrent logloss on validation: 0.245036 \tNCE in validation 0.243516\n",
            "2021-10-25 09:11:56.096109\tupdates: 420000\tcurrent logloss on train: 0.142138\tcurrent logloss on validation: 0.245147 \tNCE in validation 0.243175\n",
            "2021-10-25 09:12:00.266583\tupdates: 430000\tcurrent logloss on train: 0.142708\tcurrent logloss on validation: 0.245344 \tNCE in validation 0.242567\n",
            "2021-10-25 09:12:04.457118\tupdates: 440000\tcurrent logloss on train: 0.145115\tcurrent logloss on validation: 0.245482 \tNCE in validation 0.242139\n",
            "2021-10-25 09:12:08.613818\tupdates: 450000\tcurrent logloss on train: 0.149663\tcurrent logloss on validation: 0.245184 \tNCE in validation 0.243059\n",
            "2021-10-25 09:12:12.905467\tupdates: 460000\tcurrent logloss on train: 0.152167\tcurrent logloss on validation: 0.245257 \tNCE in validation 0.242833\n",
            "2021-10-25 09:12:17.071809\tupdates: 470000\tcurrent logloss on train: 0.154988\tcurrent logloss on validation: 0.245322 \tNCE in validation 0.242633\n",
            "2021-10-25 09:12:21.220164\tupdates: 480000\tcurrent logloss on train: 0.156816\tcurrent logloss on validation: 0.245295 \tNCE in validation 0.242717\n",
            "2021-10-25 09:12:25.402024\tupdates: 490000\tcurrent logloss on train: 0.157240\tcurrent logloss on validation: 0.245373 \tNCE in validation 0.242477\n",
            "2021-10-25 09:12:29.507932\tupdates: 500000\tcurrent logloss on train: 0.158243\tcurrent logloss on validation: 0.245218 \tNCE in validation 0.242956\n",
            "2021-10-25 09:12:33.625544\tupdates: 510000\tcurrent logloss on train: 0.159204\tcurrent logloss on validation: 0.245170 \tNCE in validation 0.243103\n"
          ]
        },
        {
          "output_type": "display_data",
          "data": {
            "image/png": "[encoded data removed]",
            "text/plain": [
              "<Figure size 432x288 with 1 Axes>"
            ]
          },
          "metadata": {
            "needs_background": "light"
          }
        }
      ]
    },
    {
      "cell_type": "markdown",
      "metadata": {
        "id": "08lVHf8pltUh"
      },
      "source": [
        "6. Plot an histogram of the values of the parameters without any regularization, with a L1 regularization and with a L2 one. If there is too many values in w you can subsample it. Can you explain the plots?\n",
        "\n"
      ]
    },
    {
      "cell_type": "code",
      "metadata": {
        "colab": {
          "base_uri": "https://localhost:8080/",
          "height": 545
        },
        "id": "FDFCojoPgnWq",
        "outputId": "71e3ff9d-140b-4d9e-ed4e-b960a27d47d3"
      },
      "source": [
        "bins = np.linspace(-0.1, 0.1, 100)\n",
        "plt.hist(wL1[:5000], bins, alpha=0.5, label='L1 weights')\n",
        "plt.hist(wL2[:5000], bins, alpha=0.5, label='L2 weights')\n",
        "plt.legend(loc='upper right')\n",
        "plt.title('weight distribution')\n",
        "plt.show()\n",
        "\n",
        "#Indeed there is many zeros in the array (even more for L1 which is expected as it induces sparcity). \n",
        "#To have a resonnable plot we can remove them by\n",
        "wL1_np = np.array(wL1)\n",
        "wL2_np = np.array(wL2)\n",
        "wL1_np[wL1_np==0]=np.nan\n",
        "wL2_np[wL2_np==0]=np.nan\n",
        "plt.hist(wL1_np[:20000], bins, alpha=0.5, label='L1 weights')\n",
        "plt.hist(wL2_np[:20000], bins, alpha=0.5, label='L2 weights')\n",
        "plt.legend(loc='upper right')\n",
        "plt.title('weight distribution omitting 0')\n",
        "plt.show()\n",
        "#We observe a lot of small values for parameters which is typical of a large scale log reg with quad features and make them hard to interpret. \n"
      ],
      "execution_count": null,
      "outputs": [
        {
          "output_type": "display_data",
          "data": {
            "image/png": "[encoded data removed]",
            "text/plain": [
              "<Figure size 432x288 with 1 Axes>"
            ]
          },
          "metadata": {
            "needs_background": "light"
          }
        },
        {
          "output_type": "display_data",
          "data": {
            "image/png": "[encoded data removed]",
            "text/plain": [
              "<Figure size 432x288 with 1 Axes>"
            ]
          },
          "metadata": {
            "needs_background": "light"
          }
        }
      ]
    },
    {
      "cell_type": "markdown",
      "metadata": {
        "id": "UORYeKF9IARr"
      },
      "source": [
        "8. Optimize the hyperparameters (the $L_1/L_2$ terms and the step size of the descent). Maybe this is time to use an external tool such as [Weight and Biases](https://wandb.ai/site) (the easy free for personal use path). It is possible to achieve the same results with  [Ray-Tune](https://docs.ray.io/en/latest/tune/index.html) combined with [MLflow](https://mlflow.org/) (the open source way).\n",
        "\n",
        "Some documentation on hyperparamter tuning [here](https://docs.wandb.ai/guides/sweeps/python-api)"
      ]
    },
    {
      "cell_type": "code",
      "metadata": {
        "id": "JVrZaSv5eXPJ",
        "colab": {
          "base_uri": "https://localhost:8080/"
        },
        "outputId": "5598ab2d-bc36-49a2-c1b0-179c5176db06"
      },
      "source": [
        "!pip install wandb\n",
        "!wandb login"
      ],
      "execution_count": null,
      "outputs": [
        {
          "output_type": "stream",
          "name": "stdout",
          "text": [
            "Collecting wandb\n",
            "  Downloading wandb-0.12.5-py2.py3-none-any.whl (1.7 MB)\n",
            "\u001b[?25l\r\u001b[K     |▏                               | 10 kB 21.2 MB/s eta 0:00:01\r\u001b[K     |▍                               | 20 kB 8.8 MB/s eta 0:00:01\r\u001b[K     |▋                               | 30 kB 7.5 MB/s eta 0:00:01\r\u001b[K     |▉                               | 40 kB 7.0 MB/s eta 0:00:01\r\u001b[K     |█                               | 51 kB 5.6 MB/s eta 0:00:01\r\u001b[K     |█▏                              | 61 kB 5.6 MB/s eta 0:00:01\r\u001b[K     |█▍                              | 71 kB 4.8 MB/s eta 0:00:01\r\u001b[K     |█▋                              | 81 kB 5.4 MB/s eta 0:00:01\r\u001b[K     |█▊                              | 92 kB 5.3 MB/s eta 0:00:01\r\u001b[K     |██                              | 102 kB 5.3 MB/s eta 0:00:01\r\u001b[K     |██▏                             | 112 kB 5.3 MB/s eta 0:00:01\r\u001b[K     |██▍                             | 122 kB 5.3 MB/s eta 0:00:01\r\u001b[K     |██▌                             | 133 kB 5.3 MB/s eta 0:00:01\r\u001b[K     |██▊                             | 143 kB 5.3 MB/s eta 0:00:01\r\u001b[K     |███                             | 153 kB 5.3 MB/s eta 0:00:01\r\u001b[K     |███▏                            | 163 kB 5.3 MB/s eta 0:00:01\r\u001b[K     |███▎                            | 174 kB 5.3 MB/s eta 0:00:01\r\u001b[K     |███▌                            | 184 kB 5.3 MB/s eta 0:00:01\r\u001b[K     |███▊                            | 194 kB 5.3 MB/s eta 0:00:01\r\u001b[K     |████                            | 204 kB 5.3 MB/s eta 0:00:01\r\u001b[K     |████                            | 215 kB 5.3 MB/s eta 0:00:01\r\u001b[K     |████▎                           | 225 kB 5.3 MB/s eta 0:00:01\r\u001b[K     |████▌                           | 235 kB 5.3 MB/s eta 0:00:01\r\u001b[K     |████▊                           | 245 kB 5.3 MB/s eta 0:00:01\r\u001b[K     |████▉                           | 256 kB 5.3 MB/s eta 0:00:01\r\u001b[K     |█████                           | 266 kB 5.3 MB/s eta 0:00:01\r\u001b[K     |█████▎                          | 276 kB 5.3 MB/s eta 0:00:01\r\u001b[K     |█████▌                          | 286 kB 5.3 MB/s eta 0:00:01\r\u001b[K     |█████▋                          | 296 kB 5.3 MB/s eta 0:00:01\r\u001b[K     |█████▉                          | 307 kB 5.3 MB/s eta 0:00:01\r\u001b[K     |██████                          | 317 kB 5.3 MB/s eta 0:00:01\r\u001b[K     |██████▎                         | 327 kB 5.3 MB/s eta 0:00:01\r\u001b[K     |██████▍                         | 337 kB 5.3 MB/s eta 0:00:01\r\u001b[K     |██████▋                         | 348 kB 5.3 MB/s eta 0:00:01\r\u001b[K     |██████▉                         | 358 kB 5.3 MB/s eta 0:00:01\r\u001b[K     |███████                         | 368 kB 5.3 MB/s eta 0:00:01\r\u001b[K     |███████▏                        | 378 kB 5.3 MB/s eta 0:00:01\r\u001b[K     |███████▍                        | 389 kB 5.3 MB/s eta 0:00:01\r\u001b[K     |███████▋                        | 399 kB 5.3 MB/s eta 0:00:01\r\u001b[K     |███████▉                        | 409 kB 5.3 MB/s eta 0:00:01\r\u001b[K     |████████                        | 419 kB 5.3 MB/s eta 0:00:01\r\u001b[K     |████████▏                       | 430 kB 5.3 MB/s eta 0:00:01\r\u001b[K     |████████▍                       | 440 kB 5.3 MB/s eta 0:00:01\r\u001b[K     |████████▋                       | 450 kB 5.3 MB/s eta 0:00:01\r\u001b[K     |████████▊                       | 460 kB 5.3 MB/s eta 0:00:01\r\u001b[K     |█████████                       | 471 kB 5.3 MB/s eta 0:00:01\r\u001b[K     |█████████▏                      | 481 kB 5.3 MB/s eta 0:00:01\r\u001b[K     |█████████▍                      | 491 kB 5.3 MB/s eta 0:00:01\r\u001b[K     |█████████▌                      | 501 kB 5.3 MB/s eta 0:00:01\r\u001b[K     |█████████▊                      | 512 kB 5.3 MB/s eta 0:00:01\r\u001b[K     |██████████                      | 522 kB 5.3 MB/s eta 0:00:01\r\u001b[K     |██████████▏                     | 532 kB 5.3 MB/s eta 0:00:01\r\u001b[K     |██████████▎                     | 542 kB 5.3 MB/s eta 0:00:01\r\u001b[K     |██████████▌                     | 552 kB 5.3 MB/s eta 0:00:01\r\u001b[K     |██████████▊                     | 563 kB 5.3 MB/s eta 0:00:01\r\u001b[K     |███████████                     | 573 kB 5.3 MB/s eta 0:00:01\r\u001b[K     |███████████                     | 583 kB 5.3 MB/s eta 0:00:01\r\u001b[K     |███████████▎                    | 593 kB 5.3 MB/s eta 0:00:01\r\u001b[K     |███████████▌                    | 604 kB 5.3 MB/s eta 0:00:01\r\u001b[K     |███████████▊                    | 614 kB 5.3 MB/s eta 0:00:01\r\u001b[K     |████████████                    | 624 kB 5.3 MB/s eta 0:00:01\r\u001b[K     |████████████                    | 634 kB 5.3 MB/s eta 0:00:01\r\u001b[K     |████████████▎                   | 645 kB 5.3 MB/s eta 0:00:01\r\u001b[K     |████████████▌                   | 655 kB 5.3 MB/s eta 0:00:01\r\u001b[K     |████████████▊                   | 665 kB 5.3 MB/s eta 0:00:01\r\u001b[K     |████████████▉                   | 675 kB 5.3 MB/s eta 0:00:01\r\u001b[K     |█████████████                   | 686 kB 5.3 MB/s eta 0:00:01\r\u001b[K     |█████████████▎                  | 696 kB 5.3 MB/s eta 0:00:01\r\u001b[K     |█████████████▌                  | 706 kB 5.3 MB/s eta 0:00:01\r\u001b[K     |█████████████▋                  | 716 kB 5.3 MB/s eta 0:00:01\r\u001b[K     |█████████████▉                  | 727 kB 5.3 MB/s eta 0:00:01\r\u001b[K     |██████████████                  | 737 kB 5.3 MB/s eta 0:00:01\r\u001b[K     |██████████████▎                 | 747 kB 5.3 MB/s eta 0:00:01\r\u001b[K     |██████████████▍                 | 757 kB 5.3 MB/s eta 0:00:01\r\u001b[K     |██████████████▋                 | 768 kB 5.3 MB/s eta 0:00:01\r\u001b[K     |██████████████▉                 | 778 kB 5.3 MB/s eta 0:00:01\r\u001b[K     |███████████████                 | 788 kB 5.3 MB/s eta 0:00:01\r\u001b[K     |███████████████▏                | 798 kB 5.3 MB/s eta 0:00:01\r\u001b[K     |███████████████▍                | 808 kB 5.3 MB/s eta 0:00:01\r\u001b[K     |███████████████▋                | 819 kB 5.3 MB/s eta 0:00:01\r\u001b[K     |███████████████▉                | 829 kB 5.3 MB/s eta 0:00:01\r\u001b[K     |████████████████                | 839 kB 5.3 MB/s eta 0:00:01\r\u001b[K     |████████████████▏               | 849 kB 5.3 MB/s eta 0:00:01\r\u001b[K     |████████████████▍               | 860 kB 5.3 MB/s eta 0:00:01\r\u001b[K     |████████████████▋               | 870 kB 5.3 MB/s eta 0:00:01\r\u001b[K     |████████████████▊               | 880 kB 5.3 MB/s eta 0:00:01\r\u001b[K     |█████████████████               | 890 kB 5.3 MB/s eta 0:00:01\r\u001b[K     |█████████████████▏              | 901 kB 5.3 MB/s eta 0:00:01\r\u001b[K     |█████████████████▍              | 911 kB 5.3 MB/s eta 0:00:01\r\u001b[K     |█████████████████▌              | 921 kB 5.3 MB/s eta 0:00:01\r\u001b[K     |█████████████████▊              | 931 kB 5.3 MB/s eta 0:00:01\r\u001b[K     |██████████████████              | 942 kB 5.3 MB/s eta 0:00:01\r\u001b[K     |██████████████████▏             | 952 kB 5.3 MB/s eta 0:00:01\r\u001b[K     |██████████████████▎             | 962 kB 5.3 MB/s eta 0:00:01\r\u001b[K     |██████████████████▌             | 972 kB 5.3 MB/s eta 0:00:01\r\u001b[K     |██████████████████▊             | 983 kB 5.3 MB/s eta 0:00:01\r\u001b[K     |███████████████████             | 993 kB 5.3 MB/s eta 0:00:01\r\u001b[K     |███████████████████             | 1.0 MB 5.3 MB/s eta 0:00:01\r\u001b[K     |███████████████████▎            | 1.0 MB 5.3 MB/s eta 0:00:01\r\u001b[K     |███████████████████▌            | 1.0 MB 5.3 MB/s eta 0:00:01\r\u001b[K     |███████████████████▊            | 1.0 MB 5.3 MB/s eta 0:00:01\r\u001b[K     |███████████████████▉            | 1.0 MB 5.3 MB/s eta 0:00:01\r\u001b[K     |████████████████████            | 1.1 MB 5.3 MB/s eta 0:00:01\r\u001b[K     |████████████████████▎           | 1.1 MB 5.3 MB/s eta 0:00:01\r\u001b[K     |████████████████████▌           | 1.1 MB 5.3 MB/s eta 0:00:01\r\u001b[K     |████████████████████▋           | 1.1 MB 5.3 MB/s eta 0:00:01\r\u001b[K     |████████████████████▉           | 1.1 MB 5.3 MB/s eta 0:00:01\r\u001b[K     |█████████████████████           | 1.1 MB 5.3 MB/s eta 0:00:01\r\u001b[K     |█████████████████████▎          | 1.1 MB 5.3 MB/s eta 0:00:01\r\u001b[K     |█████████████████████▍          | 1.1 MB 5.3 MB/s eta 0:00:01\r\u001b[K     |█████████████████████▋          | 1.1 MB 5.3 MB/s eta 0:00:01\r\u001b[K     |█████████████████████▉          | 1.1 MB 5.3 MB/s eta 0:00:01\r\u001b[K     |██████████████████████          | 1.2 MB 5.3 MB/s eta 0:00:01\r\u001b[K     |██████████████████████▏         | 1.2 MB 5.3 MB/s eta 0:00:01\r\u001b[K     |██████████████████████▍         | 1.2 MB 5.3 MB/s eta 0:00:01\r\u001b[K     |██████████████████████▋         | 1.2 MB 5.3 MB/s eta 0:00:01\r\u001b[K     |██████████████████████▉         | 1.2 MB 5.3 MB/s eta 0:00:01\r\u001b[K     |███████████████████████         | 1.2 MB 5.3 MB/s eta 0:00:01\r\u001b[K     |███████████████████████▏        | 1.2 MB 5.3 MB/s eta 0:00:01\r\u001b[K     |███████████████████████▍        | 1.2 MB 5.3 MB/s eta 0:00:01\r\u001b[K     |███████████████████████▋        | 1.2 MB 5.3 MB/s eta 0:00:01\r\u001b[K     |███████████████████████▉        | 1.2 MB 5.3 MB/s eta 0:00:01\r\u001b[K     |████████████████████████        | 1.3 MB 5.3 MB/s eta 0:00:01\r\u001b[K     |████████████████████████▏       | 1.3 MB 5.3 MB/s eta 0:00:01\r\u001b[K     |████████████████████████▍       | 1.3 MB 5.3 MB/s eta 0:00:01\r\u001b[K     |████████████████████████▋       | 1.3 MB 5.3 MB/s eta 0:00:01\r\u001b[K     |████████████████████████▊       | 1.3 MB 5.3 MB/s eta 0:00:01\r\u001b[K     |█████████████████████████       | 1.3 MB 5.3 MB/s eta 0:00:01\r\u001b[K     |█████████████████████████▏      | 1.3 MB 5.3 MB/s eta 0:00:01\r\u001b[K     |█████████████████████████▍      | 1.3 MB 5.3 MB/s eta 0:00:01\r\u001b[K     |█████████████████████████▌      | 1.3 MB 5.3 MB/s eta 0:00:01\r\u001b[K     |█████████████████████████▊      | 1.4 MB 5.3 MB/s eta 0:00:01\r\u001b[K     |██████████████████████████      | 1.4 MB 5.3 MB/s eta 0:00:01\r\u001b[K     |██████████████████████████▏     | 1.4 MB 5.3 MB/s eta 0:00:01\r\u001b[K     |██████████████████████████▎     | 1.4 MB 5.3 MB/s eta 0:00:01\r\u001b[K     |██████████████████████████▌     | 1.4 MB 5.3 MB/s eta 0:00:01\r\u001b[K     |██████████████████████████▊     | 1.4 MB 5.3 MB/s eta 0:00:01\r\u001b[K     |███████████████████████████     | 1.4 MB 5.3 MB/s eta 0:00:01\r\u001b[K     |███████████████████████████     | 1.4 MB 5.3 MB/s eta 0:00:01\r\u001b[K     |███████████████████████████▎    | 1.4 MB 5.3 MB/s eta 0:00:01\r\u001b[K     |███████████████████████████▌    | 1.4 MB 5.3 MB/s eta 0:00:01\r\u001b[K     |███████████████████████████▊    | 1.5 MB 5.3 MB/s eta 0:00:01\r\u001b[K     |███████████████████████████▉    | 1.5 MB 5.3 MB/s eta 0:00:01\r\u001b[K     |████████████████████████████    | 1.5 MB 5.3 MB/s eta 0:00:01\r\u001b[K     |████████████████████████████▎   | 1.5 MB 5.3 MB/s eta 0:00:01\r\u001b[K     |████████████████████████████▌   | 1.5 MB 5.3 MB/s eta 0:00:01\r\u001b[K     |████████████████████████████▋   | 1.5 MB 5.3 MB/s eta 0:00:01\r\u001b[K     |████████████████████████████▉   | 1.5 MB 5.3 MB/s eta 0:00:01\r\u001b[K     |█████████████████████████████   | 1.5 MB 5.3 MB/s eta 0:00:01\r\u001b[K     |█████████████████████████████▎  | 1.5 MB 5.3 MB/s eta 0:00:01\r\u001b[K     |█████████████████████████████▍  | 1.5 MB 5.3 MB/s eta 0:00:01\r\u001b[K     |█████████████████████████████▋  | 1.6 MB 5.3 MB/s eta 0:00:01\r\u001b[K     |█████████████████████████████▉  | 1.6 MB 5.3 MB/s eta 0:00:01\r\u001b[K     |██████████████████████████████  | 1.6 MB 5.3 MB/s eta 0:00:01\r\u001b[K     |██████████████████████████████▏ | 1.6 MB 5.3 MB/s eta 0:00:01\r\u001b[K     |██████████████████████████████▍ | 1.6 MB 5.3 MB/s eta 0:00:01\r\u001b[K     |██████████████████████████████▋ | 1.6 MB 5.3 MB/s eta 0:00:01\r\u001b[K     |██████████████████████████████▉ | 1.6 MB 5.3 MB/s eta 0:00:01\r\u001b[K     |███████████████████████████████ | 1.6 MB 5.3 MB/s eta 0:00:01\r\u001b[K     |███████████████████████████████▏| 1.6 MB 5.3 MB/s eta 0:00:01\r\u001b[K     |███████████████████████████████▍| 1.6 MB 5.3 MB/s eta 0:00:01\r\u001b[K     |███████████████████████████████▋| 1.7 MB 5.3 MB/s eta 0:00:01\r\u001b[K     |███████████████████████████████▊| 1.7 MB 5.3 MB/s eta 0:00:01\r\u001b[K     |████████████████████████████████| 1.7 MB 5.3 MB/s eta 0:00:01\r\u001b[K     |████████████████████████████████| 1.7 MB 5.3 MB/s \n",
            "\u001b[?25hCollecting shortuuid>=0.5.0\n",
            "  Downloading shortuuid-1.0.1-py3-none-any.whl (7.5 kB)\n",
            "Collecting yaspin>=1.0.0\n",
            "  Downloading yaspin-2.1.0-py3-none-any.whl (18 kB)\n",
            "Requirement already satisfied: PyYAML in /usr/local/lib/python3.7/dist-packages (from wandb) (3.13)\n",
            "Collecting docker-pycreds>=0.4.0\n",
            "  Downloading docker_pycreds-0.4.0-py2.py3-none-any.whl (9.0 kB)\n",
            "Requirement already satisfied: requests<3,>=2.0.0 in /usr/local/lib/python3.7/dist-packages (from wandb) (2.23.0)\n",
            "Collecting subprocess32>=3.5.3\n",
            "  Downloading subprocess32-3.5.4.tar.gz (97 kB)\n",
            "\u001b[K     |████████████████████████████████| 97 kB 6.5 MB/s \n",
            "\u001b[?25hCollecting configparser>=3.8.1\n",
            "  Downloading configparser-5.0.2-py3-none-any.whl (19 kB)\n",
            "Requirement already satisfied: Click!=8.0.0,>=7.0 in /usr/local/lib/python3.7/dist-packages (from wandb) (7.1.2)\n",
            "Requirement already satisfied: psutil>=5.0.0 in /usr/local/lib/python3.7/dist-packages (from wandb) (5.4.8)\n",
            "Requirement already satisfied: promise<3,>=2.0 in /usr/local/lib/python3.7/dist-packages (from wandb) (2.3)\n",
            "Requirement already satisfied: python-dateutil>=2.6.1 in /usr/local/lib/python3.7/dist-packages (from wandb) (2.8.2)\n",
            "Requirement already satisfied: six>=1.13.0 in /usr/local/lib/python3.7/dist-packages (from wandb) (1.15.0)\n",
            "Collecting pathtools\n",
            "  Downloading pathtools-0.1.2.tar.gz (11 kB)\n",
            "Collecting sentry-sdk>=1.0.0\n",
            "  Downloading sentry_sdk-1.4.3-py2.py3-none-any.whl (139 kB)\n",
            "\u001b[K     |████████████████████████████████| 139 kB 53.8 MB/s \n",
            "\u001b[?25hRequirement already satisfied: protobuf>=3.12.0 in /usr/local/lib/python3.7/dist-packages (from wandb) (3.17.3)\n",
            "Collecting GitPython>=1.0.0\n",
            "  Downloading GitPython-3.1.24-py3-none-any.whl (180 kB)\n",
            "\u001b[K     |████████████████████████████████| 180 kB 42.0 MB/s \n",
            "\u001b[?25hRequirement already satisfied: typing-extensions>=3.7.4.3 in /usr/local/lib/python3.7/dist-packages (from GitPython>=1.0.0->wandb) (3.7.4.3)\n",
            "Collecting gitdb<5,>=4.0.1\n",
            "  Downloading gitdb-4.0.9-py3-none-any.whl (63 kB)\n",
            "\u001b[K     |████████████████████████████████| 63 kB 1.2 MB/s \n",
            "\u001b[?25hCollecting smmap<6,>=3.0.1\n",
            "  Downloading smmap-5.0.0-py3-none-any.whl (24 kB)\n",
            "Requirement already satisfied: urllib3!=1.25.0,!=1.25.1,<1.26,>=1.21.1 in /usr/local/lib/python3.7/dist-packages (from requests<3,>=2.0.0->wandb) (1.24.3)\n",
            "Requirement already satisfied: idna<3,>=2.5 in /usr/local/lib/python3.7/dist-packages (from requests<3,>=2.0.0->wandb) (2.10)\n",
            "Requirement already satisfied: certifi>=2017.4.17 in /usr/local/lib/python3.7/dist-packages (from requests<3,>=2.0.0->wandb) (2021.5.30)\n",
            "Requirement already satisfied: chardet<4,>=3.0.2 in /usr/local/lib/python3.7/dist-packages (from requests<3,>=2.0.0->wandb) (3.0.4)\n",
            "Requirement already satisfied: termcolor<2.0.0,>=1.1.0 in /usr/local/lib/python3.7/dist-packages (from yaspin>=1.0.0->wandb) (1.1.0)\n",
            "Building wheels for collected packages: subprocess32, pathtools\n",
            "  Building wheel for subprocess32 (setup.py) ... \u001b[?25l\u001b[?25hdone\n",
            "  Created wheel for subprocess32: filename=subprocess32-3.5.4-py3-none-any.whl size=6502 sha256=d41b7fdbd6906809b51c35da6454e89469f123db5244501883db25081bcc6198\n",
            "  Stored in directory: /root/.cache/pip/wheels/50/ca/fa/8fca8d246e64f19488d07567547ddec8eb084e8c0d7a59226a\n",
            "  Building wheel for pathtools (setup.py) ... \u001b[?25l\u001b[?25hdone\n",
            "  Created wheel for pathtools: filename=pathtools-0.1.2-py3-none-any.whl size=8807 sha256=145379c19c03a004a03625ae40c3108630546be0dc389826b4f7710061d455dc\n",
            "  Stored in directory: /root/.cache/pip/wheels/3e/31/09/fa59cef12cdcfecc627b3d24273699f390e71828921b2cbba2\n",
            "Successfully built subprocess32 pathtools\n",
            "Installing collected packages: smmap, gitdb, yaspin, subprocess32, shortuuid, sentry-sdk, pathtools, GitPython, docker-pycreds, configparser, wandb\n",
            "Successfully installed GitPython-3.1.24 configparser-5.0.2 docker-pycreds-0.4.0 gitdb-4.0.9 pathtools-0.1.2 sentry-sdk-1.4.3 shortuuid-1.0.1 smmap-5.0.0 subprocess32-3.5.4 wandb-0.12.5 yaspin-2.1.0\n",
            "\u001b[34m\u001b[1mwandb\u001b[0m: You can find your API key in your browser here: https://wandb.ai/authorize\n",
            "\u001b[34m\u001b[1mwandb\u001b[0m: Paste an API key from your profile and hit enter: \n",
            "\u001b[34m\u001b[1mwandb\u001b[0m: Appending key for api.wandb.ai to your netrc file: /root/.netrc\n"
          ]
        }
      ]
    },
    {
      "cell_type": "code",
      "metadata": {
        "id": "mI1trSi2IAPw",
        "colab": {
          "base_uri": "https://localhost:8080/"
        },
        "outputId": "a0efb3a2-971d-414c-a71d-01e2374cad8e"
      },
      "source": [
        "import wandb\n",
        "#Note that is exist the possiblity to create such config in a yaml file more info at https://docs.wandb.ai/guides/track/config\n",
        "#This may be used to store the results of experiments (including models) in a common place\n",
        "#Here we are going to create to config automatically thanks to a sweep but this is not the sole usage\n",
        "\n",
        "sweep_config = {\n",
        "  \"name\" : \"TP1-ENSAE-hyperparameter_search\",\n",
        "  \"method\" : \"random\", #There exist several strategies such as Bayes and it possible to add some early stopping (see Hyperband). Care NCE is not a loss (higher is better)\n",
        "  \"parameters\" : {\n",
        "    \"epochs\" : {\n",
        "      \"values\" : [1, 5, 10]\n",
        "    },\n",
        "    \"learning_rate\" :{\n",
        "      \"min\": 0.0001,\n",
        "      \"max\": 0.1\n",
        "    },\n",
        "    \"l1\":{\n",
        "      \"min\": 0.,\n",
        "      \"max\": 0.1\n",
        "    },\n",
        "    \"l2\":{\n",
        "      \"min\": 0.,\n",
        "      \"max\": 0.1\n",
        "    },\n",
        "  }\n",
        "}\n",
        "sweep_id = wandb.sweep(sweep_config)\n"
      ],
      "execution_count": null,
      "outputs": [
        {
          "output_type": "stream",
          "name": "stdout",
          "text": [
            "Create sweep with ID: 3vgytvlh\n",
            "Sweep URL: https://wandb.ai/jmary/uncategorized/sweeps/3vgytvlh\n"
          ]
        }
      ]
    },
    {
      "cell_type": "code",
      "metadata": {
        "colab": {
          "base_uri": "https://localhost:8080/",
          "height": 1000,
          "referenced_widgets": [
            "5e77470109164cf1b7699dea99c989ee",
            "bcc03c347b864be988af86406e112e5d",
            "1fd9b4cdb86047419b829de212ac0920",
            "fc7bcbd4f812490994713e0a186f6953",
            "f1302451ebf94daa9d0d9eb8a068ea38",
            "84cd6a9c7d954e7bb3ddb6ac0e9f0997",
            "d1d8c1a72ccf41d395b1fb6652c226ed",
            "8e0b16be41ea4d7f84470d752fc0323d",
            "541fcbd8691241a3aba04790ed9e4e14",
            "97d1a2d3190f409e92d2a922f7d3a720",
            "890a6bb149714234bd5d9262f6f6f503",
            "5f416993da2945b2843a716a86b160fc",
            "8b61493ba83c4832baf1fe9c8d1717ef",
            "d6759736884a44de86c94570c9491ba9",
            "28505e3039e9410dbd686690a9807c9c",
            "7c42de4f52de492fbccd7ee2e31429fc",
            "97daa61689ac4a069108c1b5b7faa836",
            "c0a49ebf4bce4d43b6772ebf78ed6fc0",
            "0f9d73d4f58949cdbfaea687699fbe45",
            "37fa6242aead41b5b35671edb48a116e",
            "3158d3307fca4477889a3d5da7471197",
            "b91ef4aa87cf452aa7e8a7e33ddbc2f4",
            "d61a4d8715784cf3bdca2de891234fb6",
            "f0eb473347724bdda18462a5023f387a",
            "2e3f7d85cb904816893f201a110ef72a",
            "5e28b8eaf4aa4834aa3a7a51ff7468d9",
            "d5cf2f3bf54b413b855be30c796cf611",
            "3d0803756fb34fa48f21d3495c07e2d6",
            "f4e782eee4b14fe7bfec5fa284ed5b0b",
            "c9c0cae30a0d47d8b44ab8addbb007f7",
            "d57649ed0999438b9b4e632ed380048f",
            "bd5db879c954471e97e0f9e6cf560669",
            "e6d6804081284674ba198e18b8720739",
            "5e08f9a21c744982be3bd122fab2599f",
            "a18e4a894e03441799c71a32d8dacb8e",
            "6485db1e99874cf29ed295ef67ec7cb8",
            "1e034739768a4302bbd8214681fdb897",
            "f4d74922d39048739a30c8c9dd2a84fb",
            "34bfced7189f4df186aaf137e9b0b68c",
            "28309577885c42f58264041bedf3a965",
            "b328c2c4784c4cbcab3c1ebc05fb9d36",
            "485bc7f0667a41d1aa007ab585cfc7af",
            "4728e90cb8c546c08f89a2ec156b8c50",
            "ee81bdbc7c834d4ca2e1c864b8a300ef",
            "196489f1cced4ba98640dc49429911c1",
            "5459425b13624cc7bbc52967c294d873",
            "6a3ec4d103614b02978a54547a0242fd",
            "7b34d35a0e424ea4a9b14fa9fc814ce3",
            "1c82e43b7e6f473abc5da27e1b7ba149",
            "4507a965dfb942f59ef6d42b76dec1db",
            "eed59190e5854a92b9ecf376e1c6613f",
            "3cc286c0ab9c45a4a3744674f0331c27",
            "74dc63d3dacd4897a7f461d8a47ea15a",
            "5f8a47d0cecb4bb0aefc5b4b782a5736",
            "46860513f41e407d8f3815430b6b8394",
            "6d45ca78d8a14632a048e6a7c1fb3376",
            "1379496d8fe148a9ac3f3dc3a0d7b6e4",
            "27a0f603886945bab699f76db148b9fd",
            "dd44cfceaf864c36986bfa9556a482f6",
            "a2fd45e32326442d8b1e8d27e0836eec",
            "5eb52d7232534f6e84445f59ffd95c4b",
            "bc5e8b3dee0b451cbb82981c72121ca5",
            "34f81c3501074318ae2807a0997d47dc",
            "487633d9bd0c4e0ab0a95f52bd41e617",
            "444fdd6ff0784e74a27dbb2f1ea9b492",
            "d7027aaa7aaf4f29a296c14f3bc2ce10",
            "e8503310e7034c79808b9a4cb6a4c9b8",
            "6dd76dc07bc143c7bd22e7356e889628",
            "fdedeb6021a145e2a958138adf6cd9b1",
            "2670df3d536542dda6f48cf323421a38",
            "36a0b1e30cdf4f92958fe2741488fc81",
            "cdd08ac15115454ba65cd97f8159ed96",
            "94e199e0073945de91d46712a824acfb",
            "3783146894d6480d8ee557b4f79b9919",
            "0d4521708ab1496cb6b69abe0d09cd07",
            "3df949c7802f4b599f160d7f7db96d12",
            "ed46fa7443b84cc4bf5d027d642a9541",
            "c6a1c8cf271f483887da93739dc25ff2",
            "9cf27be1edba48088e82043360753513",
            "28262d5fe7cc49cbac371a61a6791267"
          ]
        },
        "id": "4XpgeNKc2W-Z",
        "outputId": "4fa05ae7-4e98-4ac0-acdc-9d7714b274f1"
      },
      "source": [
        "def update_w_elastic(w, n, x, p, y, l1, l2, alpha):\n",
        "    for i in x:\n",
        "        w[i] -= (p - y + 2 * l2 * w[i] + l1*sign(w[i]) ) * alpha / (sqrt(n[i]) + 1.) \n",
        "        n[i] += 1.\n",
        "    return w, n\n",
        "\n",
        "def train():\n",
        "  with wandb.init(reinit=True) as run:\n",
        "    config = wandb.config\n",
        "    D = 2 ** 24\n",
        "    w = [0.] * D  \n",
        "    n = [0.] * D\n",
        "    loss = 0.\n",
        "    n_updates = 0\n",
        "\n",
        "    for e in range(config['epochs']):\n",
        "      for t, (row, y)  in enumerate(zip(DictReader(open(X_train)), DictReader(open(y_train)))):\n",
        "          x = get_x(row, D)\n",
        "          p = get_p(x, w)\n",
        "          target = float(y['click'])\n",
        "          if n_updates% 10000 == 0 and n_updates>1:\n",
        "              wandb.log({\"loss\": compute_validation_loss(w, D),\n",
        "                         \"epoch\": e,\n",
        "                         \"n_updates\":n_updates})\n",
        "          w, n = update_w_elastic(w, n, x, p, target, config['l1'], config['l2'], config['learning_rate'])  \n",
        "          n_updates += 1\n",
        "\n",
        "count = 10 #Indeed the more the better and longer\n",
        "#Using the same sweep_id it is also possible to distribute the training\n",
        "wandb.agent(sweep_id, function=train, count=count) "
      ],
      "execution_count": null,
      "outputs": [
        {
          "output_type": "stream",
          "name": "stderr",
          "text": [
            "\u001b[34m\u001b[1mwandb\u001b[0m: Agent Starting Run: jn4fo0q7 with config:\n",
            "\u001b[34m\u001b[1mwandb\u001b[0m: \tepochs: 5\n",
            "\u001b[34m\u001b[1mwandb\u001b[0m: \tl1: 0.04124553925054069\n",
            "\u001b[34m\u001b[1mwandb\u001b[0m: \tl2: 0.03778997831617628\n",
            "\u001b[34m\u001b[1mwandb\u001b[0m: \tlearning_rate: 0.019793832082334397\n"
          ]
        },
        {
          "output_type": "display_data",
          "data": {
            "text/html": [
              "\n",
              "                    Syncing run <strong><a href=\"https://wandb.ai/jmary/uncategorized/runs/jn4fo0q7\" target=\"_blank\">devout-sweep-1</a></strong> to <a href=\"https://wandb.ai/jmary/uncategorized\" target=\"_blank\">Weights & Biases</a> (<a href=\"https://docs.wandb.com/integrations/jupyter.html\" target=\"_blank\">docs</a>).<br/>\n",
              "Sweep page: <a href=\"https://wandb.ai/jmary/uncategorized/sweeps/3vgytvlh\" target=\"_blank\">https://wandb.ai/jmary/uncategorized/sweeps/3vgytvlh</a><br/>\n",
              "\n",
              "                "
            ],
            "text/plain": [
              "<IPython.core.display.HTML object>"
            ]
          },
          "metadata": {}
        },
        {
          "output_type": "display_data",
          "data": {
            "text/html": [
              "<br/>Waiting for W&B process to finish, PID 2439... <strong style=\"color:green\">(success).</strong>"
            ],
            "text/plain": [
              "<IPython.core.display.HTML object>"
            ]
          },
          "metadata": {}
        },
        {
          "output_type": "display_data",
          "data": {
            "application/vnd.jupyter.widget-view+json": {
              "model_id": "5e77470109164cf1b7699dea99c989ee",
              "version_minor": 0,
              "version_major": 2
            },
            "text/plain": [
              "VBox(children=(Label(value=' 0.00MB of 0.00MB uploaded (0.00MB deduped)\\r'), FloatProgress(value=1.0, max=1.0)…"
            ]
          },
          "metadata": {}
        },
        {
          "output_type": "display_data",
          "data": {
            "text/html": [
              "<style>\n",
              "    table.wandb td:nth-child(1) { padding: 0 10px; text-align: right }\n",
              "    .wandb-row { display: flex; flex-direction: row; flex-wrap: wrap; width: 100% }\n",
              "    .wandb-col { display: flex; flex-direction: column; flex-basis: 100%; flex: 1; padding: 10px; }\n",
              "    </style>\n",
              "<div class=\"wandb-row\"><div class=\"wandb-col\">\n",
              "<h3>Run history:</h3><br/><table class=\"wandb\"><tr><td>epoch</td><td>▁▁▁▁▁▁▁▁▃▃▃▃▃▃▃▃▅▅▅▅▅▅▅▅▆▆▆▆▆▆▆▆████████</td></tr><tr><td>loss</td><td>█▅▄▃▃▃▂▁▁▁▁▂▂▂▁▂▁▁▂▂▂▂▁▂▁▁▂▂▂▂▂▂▂▁▁▂▂▂▂▂</td></tr><tr><td>n_updates</td><td>▁▁▁▁▂▂▂▂▂▃▃▃▃▃▃▄▄▄▄▄▅▅▅▅▅▅▆▆▆▆▆▆▇▇▇▇▇███</td></tr></table><br/></div><div class=\"wandb-col\">\n",
              "<h3>Run summary:</h3><br/><table class=\"wandb\"><tr><td>epoch</td><td>4</td></tr><tr><td>loss</td><td>0.2536</td></tr><tr><td>n_updates</td><td>510000</td></tr></table>\n",
              "</div></div>\n",
              "Synced 4 W&B file(s), 0 media file(s), 0 artifact file(s) and 0 other file(s)\n",
              "<br/>Synced <strong style=\"color:#cdcd00\">devout-sweep-1</strong>: <a href=\"https://wandb.ai/jmary/uncategorized/runs/jn4fo0q7\" target=\"_blank\">https://wandb.ai/jmary/uncategorized/runs/jn4fo0q7</a><br/>\n",
              "Find logs at: <code>./wandb/run-20211025_101844-jn4fo0q7/logs</code><br/>\n"
            ],
            "text/plain": [
              "<IPython.core.display.HTML object>"
            ]
          },
          "metadata": {}
        },
        {
          "output_type": "stream",
          "name": "stderr",
          "text": [
            "\u001b[34m\u001b[1mwandb\u001b[0m: Agent Starting Run: a3inqsvo with config:\n",
            "\u001b[34m\u001b[1mwandb\u001b[0m: \tepochs: 1\n",
            "\u001b[34m\u001b[1mwandb\u001b[0m: \tl1: 0.07929978195556381\n",
            "\u001b[34m\u001b[1mwandb\u001b[0m: \tl2: 0.04412435222093099\n",
            "\u001b[34m\u001b[1mwandb\u001b[0m: \tlearning_rate: 0.053911402664362965\n"
          ]
        },
        {
          "output_type": "display_data",
          "data": {
            "text/html": [
              "\n",
              "                    Syncing run <strong><a href=\"https://wandb.ai/jmary/uncategorized/runs/a3inqsvo\" target=\"_blank\">blooming-sweep-2</a></strong> to <a href=\"https://wandb.ai/jmary/uncategorized\" target=\"_blank\">Weights & Biases</a> (<a href=\"https://docs.wandb.com/integrations/jupyter.html\" target=\"_blank\">docs</a>).<br/>\n",
              "Sweep page: <a href=\"https://wandb.ai/jmary/uncategorized/sweeps/3vgytvlh\" target=\"_blank\">https://wandb.ai/jmary/uncategorized/sweeps/3vgytvlh</a><br/>\n",
              "\n",
              "                "
            ],
            "text/plain": [
              "<IPython.core.display.HTML object>"
            ]
          },
          "metadata": {}
        },
        {
          "output_type": "display_data",
          "data": {
            "text/html": [
              "<br/>Waiting for W&B process to finish, PID 2523... <strong style=\"color:green\">(success).</strong>"
            ],
            "text/plain": [
              "<IPython.core.display.HTML object>"
            ]
          },
          "metadata": {}
        },
        {
          "output_type": "display_data",
          "data": {
            "application/vnd.jupyter.widget-view+json": {
              "model_id": "541fcbd8691241a3aba04790ed9e4e14",
              "version_minor": 0,
              "version_major": 2
            },
            "text/plain": [
              "VBox(children=(Label(value=' 0.00MB of 0.00MB uploaded (0.00MB deduped)\\r'), FloatProgress(value=1.0, max=1.0)…"
            ]
          },
          "metadata": {}
        },
        {
          "output_type": "display_data",
          "data": {
            "text/html": [
              "<style>\n",
              "    table.wandb td:nth-child(1) { padding: 0 10px; text-align: right }\n",
              "    .wandb-row { display: flex; flex-direction: row; flex-wrap: wrap; width: 100% }\n",
              "    .wandb-col { display: flex; flex-direction: column; flex-basis: 100%; flex: 1; padding: 10px; }\n",
              "    </style>\n",
              "<div class=\"wandb-row\"><div class=\"wandb-col\">\n",
              "<h3>Run history:</h3><br/><table class=\"wandb\"><tr><td>epoch</td><td>▁▁▁▁▁▁▁▁▁▁</td></tr><tr><td>loss</td><td>█▄▆▂▄▃▃▃▁▂</td></tr><tr><td>n_updates</td><td>▁▂▃▃▄▅▆▆▇█</td></tr></table><br/></div><div class=\"wandb-col\">\n",
              "<h3>Run summary:</h3><br/><table class=\"wandb\"><tr><td>epoch</td><td>0</td></tr><tr><td>loss</td><td>0.26863</td></tr><tr><td>n_updates</td><td>100000</td></tr></table>\n",
              "</div></div>\n",
              "Synced 4 W&B file(s), 0 media file(s), 0 artifact file(s) and 0 other file(s)\n",
              "<br/>Synced <strong style=\"color:#cdcd00\">blooming-sweep-2</strong>: <a href=\"https://wandb.ai/jmary/uncategorized/runs/a3inqsvo\" target=\"_blank\">https://wandb.ai/jmary/uncategorized/runs/a3inqsvo</a><br/>\n",
              "Find logs at: <code>./wandb/run-20211025_102322-a3inqsvo/logs</code><br/>\n"
            ],
            "text/plain": [
              "<IPython.core.display.HTML object>"
            ]
          },
          "metadata": {}
        },
        {
          "output_type": "stream",
          "name": "stderr",
          "text": [
            "\u001b[34m\u001b[1mwandb\u001b[0m: Agent Starting Run: x2796rnu with config:\n",
            "\u001b[34m\u001b[1mwandb\u001b[0m: \tepochs: 10\n",
            "\u001b[34m\u001b[1mwandb\u001b[0m: \tl1: 0.08430106475208746\n",
            "\u001b[34m\u001b[1mwandb\u001b[0m: \tl2: 0.06851354320718617\n",
            "\u001b[34m\u001b[1mwandb\u001b[0m: \tlearning_rate: 0.050213592155775616\n"
          ]
        },
        {
          "output_type": "display_data",
          "data": {
            "text/html": [
              "\n",
              "                    Syncing run <strong><a href=\"https://wandb.ai/jmary/uncategorized/runs/x2796rnu\" target=\"_blank\">swift-sweep-3</a></strong> to <a href=\"https://wandb.ai/jmary/uncategorized\" target=\"_blank\">Weights & Biases</a> (<a href=\"https://docs.wandb.com/integrations/jupyter.html\" target=\"_blank\">docs</a>).<br/>\n",
              "Sweep page: <a href=\"https://wandb.ai/jmary/uncategorized/sweeps/3vgytvlh\" target=\"_blank\">https://wandb.ai/jmary/uncategorized/sweeps/3vgytvlh</a><br/>\n",
              "\n",
              "                "
            ],
            "text/plain": [
              "<IPython.core.display.HTML object>"
            ]
          },
          "metadata": {}
        },
        {
          "output_type": "display_data",
          "data": {
            "text/html": [
              "<br/>Waiting for W&B process to finish, PID 2569... <strong style=\"color:green\">(success).</strong>"
            ],
            "text/plain": [
              "<IPython.core.display.HTML object>"
            ]
          },
          "metadata": {}
        },
        {
          "output_type": "display_data",
          "data": {
            "application/vnd.jupyter.widget-view+json": {
              "model_id": "97daa61689ac4a069108c1b5b7faa836",
              "version_minor": 0,
              "version_major": 2
            },
            "text/plain": [
              "VBox(children=(Label(value=' 0.00MB of 0.00MB uploaded (0.00MB deduped)\\r'), FloatProgress(value=1.0, max=1.0)…"
            ]
          },
          "metadata": {}
        },
        {
          "output_type": "display_data",
          "data": {
            "text/html": [
              "<style>\n",
              "    table.wandb td:nth-child(1) { padding: 0 10px; text-align: right }\n",
              "    .wandb-row { display: flex; flex-direction: row; flex-wrap: wrap; width: 100% }\n",
              "    .wandb-col { display: flex; flex-direction: column; flex-basis: 100%; flex: 1; padding: 10px; }\n",
              "    </style>\n",
              "<div class=\"wandb-row\"><div class=\"wandb-col\">\n",
              "<h3>Run history:</h3><br/><table class=\"wandb\"><tr><td>epoch</td><td>▁▁▁▁▂▂▂▂▃▃▃▃▃▃▃▃▄▄▄▄▅▅▅▅▆▆▆▆▆▆▆▆▇▇▇▇████</td></tr><tr><td>loss</td><td>█▆▄▃▁▂▄▄▃▄▅▄▂▄▆▄▄▅▅▄▄▅▅▅▄▅▆▅▄▆▆▆▆▆▆▆▅▆▇▇</td></tr><tr><td>n_updates</td><td>▁▁▁▁▂▂▂▂▂▃▃▃▃▃▃▄▄▄▄▄▅▅▅▅▅▅▆▆▆▆▆▇▇▇▇▇▇███</td></tr></table><br/></div><div class=\"wandb-col\">\n",
              "<h3>Run summary:</h3><br/><table class=\"wandb\"><tr><td>epoch</td><td>9</td></tr><tr><td>loss</td><td>0.2758</td></tr><tr><td>n_updates</td><td>1020000</td></tr></table>\n",
              "</div></div>\n",
              "Synced 4 W&B file(s), 0 media file(s), 0 artifact file(s) and 0 other file(s)\n",
              "<br/>Synced <strong style=\"color:#cdcd00\">swift-sweep-3</strong>: <a href=\"https://wandb.ai/jmary/uncategorized/runs/x2796rnu\" target=\"_blank\">https://wandb.ai/jmary/uncategorized/runs/x2796rnu</a><br/>\n",
              "Find logs at: <code>./wandb/run-20211025_102424-x2796rnu/logs</code><br/>\n"
            ],
            "text/plain": [
              "<IPython.core.display.HTML object>"
            ]
          },
          "metadata": {}
        },
        {
          "output_type": "stream",
          "name": "stderr",
          "text": [
            "\u001b[34m\u001b[1mwandb\u001b[0m: Agent Starting Run: fboptou0 with config:\n",
            "\u001b[34m\u001b[1mwandb\u001b[0m: \tepochs: 1\n",
            "\u001b[34m\u001b[1mwandb\u001b[0m: \tl1: 0.02796910008987924\n",
            "\u001b[34m\u001b[1mwandb\u001b[0m: \tl2: 0.049851805400657125\n",
            "\u001b[34m\u001b[1mwandb\u001b[0m: \tlearning_rate: 0.0848513028228197\n"
          ]
        },
        {
          "output_type": "display_data",
          "data": {
            "text/html": [
              "\n",
              "                    Syncing run <strong><a href=\"https://wandb.ai/jmary/uncategorized/runs/fboptou0\" target=\"_blank\">cosmic-sweep-4</a></strong> to <a href=\"https://wandb.ai/jmary/uncategorized\" target=\"_blank\">Weights & Biases</a> (<a href=\"https://docs.wandb.com/integrations/jupyter.html\" target=\"_blank\">docs</a>).<br/>\n",
              "Sweep page: <a href=\"https://wandb.ai/jmary/uncategorized/sweeps/3vgytvlh\" target=\"_blank\">https://wandb.ai/jmary/uncategorized/sweeps/3vgytvlh</a><br/>\n",
              "\n",
              "                "
            ],
            "text/plain": [
              "<IPython.core.display.HTML object>"
            ]
          },
          "metadata": {}
        },
        {
          "output_type": "display_data",
          "data": {
            "text/html": [
              "<br/>Waiting for W&B process to finish, PID 2691... <strong style=\"color:green\">(success).</strong>"
            ],
            "text/plain": [
              "<IPython.core.display.HTML object>"
            ]
          },
          "metadata": {}
        },
        {
          "output_type": "display_data",
          "data": {
            "application/vnd.jupyter.widget-view+json": {
              "model_id": "2e3f7d85cb904816893f201a110ef72a",
              "version_minor": 0,
              "version_major": 2
            },
            "text/plain": [
              "VBox(children=(Label(value=' 0.00MB of 0.00MB uploaded (0.00MB deduped)\\r'), FloatProgress(value=1.0, max=1.0)…"
            ]
          },
          "metadata": {}
        },
        {
          "output_type": "display_data",
          "data": {
            "text/html": [
              "<style>\n",
              "    table.wandb td:nth-child(1) { padding: 0 10px; text-align: right }\n",
              "    .wandb-row { display: flex; flex-direction: row; flex-wrap: wrap; width: 100% }\n",
              "    .wandb-col { display: flex; flex-direction: column; flex-basis: 100%; flex: 1; padding: 10px; }\n",
              "    </style>\n",
              "<div class=\"wandb-row\"><div class=\"wandb-col\">\n",
              "<h3>Run history:</h3><br/><table class=\"wandb\"><tr><td>epoch</td><td>▁▁▁▁▁▁▁▁▁▁</td></tr><tr><td>loss</td><td>█▅▆▄▄▃▃▃▁▁</td></tr><tr><td>n_updates</td><td>▁▂▃▃▄▅▆▆▇█</td></tr></table><br/></div><div class=\"wandb-col\">\n",
              "<h3>Run summary:</h3><br/><table class=\"wandb\"><tr><td>epoch</td><td>0</td></tr><tr><td>loss</td><td>0.27522</td></tr><tr><td>n_updates</td><td>100000</td></tr></table>\n",
              "</div></div>\n",
              "Synced 4 W&B file(s), 0 media file(s), 0 artifact file(s) and 0 other file(s)\n",
              "<br/>Synced <strong style=\"color:#cdcd00\">cosmic-sweep-4</strong>: <a href=\"https://wandb.ai/jmary/uncategorized/runs/fboptou0\" target=\"_blank\">https://wandb.ai/jmary/uncategorized/runs/fboptou0</a><br/>\n",
              "Find logs at: <code>./wandb/run-20211025_103335-fboptou0/logs</code><br/>\n"
            ],
            "text/plain": [
              "<IPython.core.display.HTML object>"
            ]
          },
          "metadata": {}
        },
        {
          "output_type": "stream",
          "name": "stderr",
          "text": [
            "\u001b[34m\u001b[1mwandb\u001b[0m: Agent Starting Run: h238mjf8 with config:\n",
            "\u001b[34m\u001b[1mwandb\u001b[0m: \tepochs: 10\n",
            "\u001b[34m\u001b[1mwandb\u001b[0m: \tl1: 0.0019979418921936445\n",
            "\u001b[34m\u001b[1mwandb\u001b[0m: \tl2: 0.01057399337838092\n",
            "\u001b[34m\u001b[1mwandb\u001b[0m: \tlearning_rate: 0.0059667201550245704\n"
          ]
        },
        {
          "output_type": "display_data",
          "data": {
            "text/html": [
              "\n",
              "                    Syncing run <strong><a href=\"https://wandb.ai/jmary/uncategorized/runs/h238mjf8\" target=\"_blank\">rural-sweep-5</a></strong> to <a href=\"https://wandb.ai/jmary/uncategorized\" target=\"_blank\">Weights & Biases</a> (<a href=\"https://docs.wandb.com/integrations/jupyter.html\" target=\"_blank\">docs</a>).<br/>\n",
              "Sweep page: <a href=\"https://wandb.ai/jmary/uncategorized/sweeps/3vgytvlh\" target=\"_blank\">https://wandb.ai/jmary/uncategorized/sweeps/3vgytvlh</a><br/>\n",
              "\n",
              "                "
            ],
            "text/plain": [
              "<IPython.core.display.HTML object>"
            ]
          },
          "metadata": {}
        },
        {
          "output_type": "display_data",
          "data": {
            "text/html": [
              "<br/>Waiting for W&B process to finish, PID 2737... <strong style=\"color:green\">(success).</strong>"
            ],
            "text/plain": [
              "<IPython.core.display.HTML object>"
            ]
          },
          "metadata": {}
        },
        {
          "output_type": "display_data",
          "data": {
            "application/vnd.jupyter.widget-view+json": {
              "model_id": "e6d6804081284674ba198e18b8720739",
              "version_minor": 0,
              "version_major": 2
            },
            "text/plain": [
              "VBox(children=(Label(value=' 0.00MB of 0.00MB uploaded (0.00MB deduped)\\r'), FloatProgress(value=1.0, max=1.0)…"
            ]
          },
          "metadata": {}
        },
        {
          "output_type": "display_data",
          "data": {
            "text/html": [
              "<style>\n",
              "    table.wandb td:nth-child(1) { padding: 0 10px; text-align: right }\n",
              "    .wandb-row { display: flex; flex-direction: row; flex-wrap: wrap; width: 100% }\n",
              "    .wandb-col { display: flex; flex-direction: column; flex-basis: 100%; flex: 1; padding: 10px; }\n",
              "    </style>\n",
              "<div class=\"wandb-row\"><div class=\"wandb-col\">\n",
              "<h3>Run history:</h3><br/><table class=\"wandb\"><tr><td>epoch</td><td>▁▁▁▁▂▂▂▂▃▃▃▃▃▃▃▃▄▄▄▄▅▅▅▅▆▆▆▆▆▆▆▆▇▇▇▇████</td></tr><tr><td>loss</td><td>█▅▄▃▃▃▂▂▂▂▂▂▂▁▁▁▁▁▁▁▁▁▁▁▁▁▁▁▁▁▁▁▁▁▁▁▁▁▁▁</td></tr><tr><td>n_updates</td><td>▁▁▁▁▂▂▂▂▂▃▃▃▃▃▃▄▄▄▄▄▅▅▅▅▅▅▆▆▆▆▆▇▇▇▇▇▇███</td></tr></table><br/></div><div class=\"wandb-col\">\n",
              "<h3>Run summary:</h3><br/><table class=\"wandb\"><tr><td>epoch</td><td>9</td></tr><tr><td>loss</td><td>0.24509</td></tr><tr><td>n_updates</td><td>1020000</td></tr></table>\n",
              "</div></div>\n",
              "Synced 4 W&B file(s), 0 media file(s), 0 artifact file(s) and 0 other file(s)\n",
              "<br/>Synced <strong style=\"color:#cdcd00\">rural-sweep-5</strong>: <a href=\"https://wandb.ai/jmary/uncategorized/runs/h238mjf8\" target=\"_blank\">https://wandb.ai/jmary/uncategorized/runs/h238mjf8</a><br/>\n",
              "Find logs at: <code>./wandb/run-20211025_103438-h238mjf8/logs</code><br/>\n"
            ],
            "text/plain": [
              "<IPython.core.display.HTML object>"
            ]
          },
          "metadata": {}
        },
        {
          "output_type": "stream",
          "name": "stderr",
          "text": [
            "\u001b[34m\u001b[1mwandb\u001b[0m: Agent Starting Run: ijzukhnb with config:\n",
            "\u001b[34m\u001b[1mwandb\u001b[0m: \tepochs: 1\n",
            "\u001b[34m\u001b[1mwandb\u001b[0m: \tl1: 0.057264555565892855\n",
            "\u001b[34m\u001b[1mwandb\u001b[0m: \tl2: 0.012009484432108732\n",
            "\u001b[34m\u001b[1mwandb\u001b[0m: \tlearning_rate: 0.08196300614131087\n"
          ]
        },
        {
          "output_type": "display_data",
          "data": {
            "text/html": [
              "\n",
              "                    Syncing run <strong><a href=\"https://wandb.ai/jmary/uncategorized/runs/ijzukhnb\" target=\"_blank\">drawn-sweep-6</a></strong> to <a href=\"https://wandb.ai/jmary/uncategorized\" target=\"_blank\">Weights & Biases</a> (<a href=\"https://docs.wandb.com/integrations/jupyter.html\" target=\"_blank\">docs</a>).<br/>\n",
              "Sweep page: <a href=\"https://wandb.ai/jmary/uncategorized/sweeps/3vgytvlh\" target=\"_blank\">https://wandb.ai/jmary/uncategorized/sweeps/3vgytvlh</a><br/>\n",
              "\n",
              "                "
            ],
            "text/plain": [
              "<IPython.core.display.HTML object>"
            ]
          },
          "metadata": {}
        },
        {
          "output_type": "display_data",
          "data": {
            "text/html": [
              "<br/>Waiting for W&B process to finish, PID 2857... <strong style=\"color:green\">(success).</strong>"
            ],
            "text/plain": [
              "<IPython.core.display.HTML object>"
            ]
          },
          "metadata": {}
        },
        {
          "output_type": "display_data",
          "data": {
            "application/vnd.jupyter.widget-view+json": {
              "model_id": "b328c2c4784c4cbcab3c1ebc05fb9d36",
              "version_minor": 0,
              "version_major": 2
            },
            "text/plain": [
              "VBox(children=(Label(value=' 0.00MB of 0.00MB uploaded (0.00MB deduped)\\r'), FloatProgress(value=1.0, max=1.0)…"
            ]
          },
          "metadata": {}
        },
        {
          "output_type": "display_data",
          "data": {
            "text/html": [
              "<style>\n",
              "    table.wandb td:nth-child(1) { padding: 0 10px; text-align: right }\n",
              "    .wandb-row { display: flex; flex-direction: row; flex-wrap: wrap; width: 100% }\n",
              "    .wandb-col { display: flex; flex-direction: column; flex-basis: 100%; flex: 1; padding: 10px; }\n",
              "    </style>\n",
              "<div class=\"wandb-row\"><div class=\"wandb-col\">\n",
              "<h3>Run history:</h3><br/><table class=\"wandb\"><tr><td>epoch</td><td>▁▁▁▁▁▁▁▁▁▁</td></tr><tr><td>loss</td><td>█▅▇▃▄▃▃▃▁▂</td></tr><tr><td>n_updates</td><td>▁▂▃▃▄▅▆▆▇█</td></tr></table><br/></div><div class=\"wandb-col\">\n",
              "<h3>Run summary:</h3><br/><table class=\"wandb\"><tr><td>epoch</td><td>0</td></tr><tr><td>loss</td><td>0.2754</td></tr><tr><td>n_updates</td><td>100000</td></tr></table>\n",
              "</div></div>\n",
              "Synced 4 W&B file(s), 0 media file(s), 0 artifact file(s) and 0 other file(s)\n",
              "<br/>Synced <strong style=\"color:#cdcd00\">drawn-sweep-6</strong>: <a href=\"https://wandb.ai/jmary/uncategorized/runs/ijzukhnb\" target=\"_blank\">https://wandb.ai/jmary/uncategorized/runs/ijzukhnb</a><br/>\n",
              "Find logs at: <code>./wandb/run-20211025_104400-ijzukhnb/logs</code><br/>\n"
            ],
            "text/plain": [
              "<IPython.core.display.HTML object>"
            ]
          },
          "metadata": {}
        },
        {
          "output_type": "stream",
          "name": "stderr",
          "text": [
            "\u001b[34m\u001b[1mwandb\u001b[0m: Agent Starting Run: jv56w8z4 with config:\n",
            "\u001b[34m\u001b[1mwandb\u001b[0m: \tepochs: 10\n",
            "\u001b[34m\u001b[1mwandb\u001b[0m: \tl1: 0.09806597131980686\n",
            "\u001b[34m\u001b[1mwandb\u001b[0m: \tl2: 0.06977660096731027\n",
            "\u001b[34m\u001b[1mwandb\u001b[0m: \tlearning_rate: 0.07007478968823229\n"
          ]
        },
        {
          "output_type": "display_data",
          "data": {
            "text/html": [
              "\n",
              "                    Syncing run <strong><a href=\"https://wandb.ai/jmary/uncategorized/runs/jv56w8z4\" target=\"_blank\">ancient-sweep-7</a></strong> to <a href=\"https://wandb.ai/jmary/uncategorized\" target=\"_blank\">Weights & Biases</a> (<a href=\"https://docs.wandb.com/integrations/jupyter.html\" target=\"_blank\">docs</a>).<br/>\n",
              "Sweep page: <a href=\"https://wandb.ai/jmary/uncategorized/sweeps/3vgytvlh\" target=\"_blank\">https://wandb.ai/jmary/uncategorized/sweeps/3vgytvlh</a><br/>\n",
              "\n",
              "                "
            ],
            "text/plain": [
              "<IPython.core.display.HTML object>"
            ]
          },
          "metadata": {}
        },
        {
          "output_type": "display_data",
          "data": {
            "text/html": [
              "<br/>Waiting for W&B process to finish, PID 2899... <strong style=\"color:green\">(success).</strong>"
            ],
            "text/plain": [
              "<IPython.core.display.HTML object>"
            ]
          },
          "metadata": {}
        },
        {
          "output_type": "display_data",
          "data": {
            "application/vnd.jupyter.widget-view+json": {
              "model_id": "1c82e43b7e6f473abc5da27e1b7ba149",
              "version_minor": 0,
              "version_major": 2
            },
            "text/plain": [
              "VBox(children=(Label(value=' 0.00MB of 0.00MB uploaded (0.00MB deduped)\\r'), FloatProgress(value=1.0, max=1.0)…"
            ]
          },
          "metadata": {}
        },
        {
          "output_type": "display_data",
          "data": {
            "text/html": [
              "<style>\n",
              "    table.wandb td:nth-child(1) { padding: 0 10px; text-align: right }\n",
              "    .wandb-row { display: flex; flex-direction: row; flex-wrap: wrap; width: 100% }\n",
              "    .wandb-col { display: flex; flex-direction: column; flex-basis: 100%; flex: 1; padding: 10px; }\n",
              "    </style>\n",
              "<div class=\"wandb-row\"><div class=\"wandb-col\">\n",
              "<h3>Run history:</h3><br/><table class=\"wandb\"><tr><td>epoch</td><td>▁▁▁▁▂▂▂▂▃▃▃▃▃▃▃▃▄▄▄▄▅▅▅▅▆▆▆▆▆▆▆▆▇▇▇▇████</td></tr><tr><td>loss</td><td>██▄▄▁▂▃▄▃▄▄▃▂▄▅▄▄▄▅▄▄▅▅▄▃▅▆▅▄▅▆▅▅▅▆▅▄▆▇▆</td></tr><tr><td>n_updates</td><td>▁▁▁▁▂▂▂▂▂▃▃▃▃▃▃▄▄▄▄▄▅▅▅▅▅▅▆▆▆▆▆▇▇▇▇▇▇███</td></tr></table><br/></div><div class=\"wandb-col\">\n",
              "<h3>Run summary:</h3><br/><table class=\"wandb\"><tr><td>epoch</td><td>9</td></tr><tr><td>loss</td><td>0.28545</td></tr><tr><td>n_updates</td><td>1020000</td></tr></table>\n",
              "</div></div>\n",
              "Synced 4 W&B file(s), 0 media file(s), 0 artifact file(s) and 0 other file(s)\n",
              "<br/>Synced <strong style=\"color:#cdcd00\">ancient-sweep-7</strong>: <a href=\"https://wandb.ai/jmary/uncategorized/runs/jv56w8z4\" target=\"_blank\">https://wandb.ai/jmary/uncategorized/runs/jv56w8z4</a><br/>\n",
              "Find logs at: <code>./wandb/run-20211025_104501-jv56w8z4/logs</code><br/>\n"
            ],
            "text/plain": [
              "<IPython.core.display.HTML object>"
            ]
          },
          "metadata": {}
        },
        {
          "output_type": "stream",
          "name": "stderr",
          "text": [
            "\u001b[34m\u001b[1mwandb\u001b[0m: Agent Starting Run: hee1eyxk with config:\n",
            "\u001b[34m\u001b[1mwandb\u001b[0m: \tepochs: 1\n",
            "\u001b[34m\u001b[1mwandb\u001b[0m: \tl1: 0.09882516605873105\n",
            "\u001b[34m\u001b[1mwandb\u001b[0m: \tl2: 0.00754720243584941\n",
            "\u001b[34m\u001b[1mwandb\u001b[0m: \tlearning_rate: 0.0879750445449675\n"
          ]
        },
        {
          "output_type": "display_data",
          "data": {
            "text/html": [
              "\n",
              "                    Syncing run <strong><a href=\"https://wandb.ai/jmary/uncategorized/runs/hee1eyxk\" target=\"_blank\">silvery-sweep-8</a></strong> to <a href=\"https://wandb.ai/jmary/uncategorized\" target=\"_blank\">Weights & Biases</a> (<a href=\"https://docs.wandb.com/integrations/jupyter.html\" target=\"_blank\">docs</a>).<br/>\n",
              "Sweep page: <a href=\"https://wandb.ai/jmary/uncategorized/sweeps/3vgytvlh\" target=\"_blank\">https://wandb.ai/jmary/uncategorized/sweeps/3vgytvlh</a><br/>\n",
              "\n",
              "                "
            ],
            "text/plain": [
              "<IPython.core.display.HTML object>"
            ]
          },
          "metadata": {}
        },
        {
          "output_type": "display_data",
          "data": {
            "text/html": [
              "<br/>Waiting for W&B process to finish, PID 3033... <strong style=\"color:green\">(success).</strong>"
            ],
            "text/plain": [
              "<IPython.core.display.HTML object>"
            ]
          },
          "metadata": {}
        },
        {
          "output_type": "display_data",
          "data": {
            "application/vnd.jupyter.widget-view+json": {
              "model_id": "1379496d8fe148a9ac3f3dc3a0d7b6e4",
              "version_minor": 0,
              "version_major": 2
            },
            "text/plain": [
              "VBox(children=(Label(value=' 0.00MB of 0.00MB uploaded (0.00MB deduped)\\r'), FloatProgress(value=1.0, max=1.0)…"
            ]
          },
          "metadata": {}
        },
        {
          "output_type": "display_data",
          "data": {
            "text/html": [
              "<style>\n",
              "    table.wandb td:nth-child(1) { padding: 0 10px; text-align: right }\n",
              "    .wandb-row { display: flex; flex-direction: row; flex-wrap: wrap; width: 100% }\n",
              "    .wandb-col { display: flex; flex-direction: column; flex-basis: 100%; flex: 1; padding: 10px; }\n",
              "    </style>\n",
              "<div class=\"wandb-row\"><div class=\"wandb-col\">\n",
              "<h3>Run history:</h3><br/><table class=\"wandb\"><tr><td>epoch</td><td>▁▁▁▁▁▁▁▁▁▁</td></tr><tr><td>loss</td><td>█▅█▂▃▄▃▄▁▂</td></tr><tr><td>n_updates</td><td>▁▂▃▃▄▅▆▆▇█</td></tr></table><br/></div><div class=\"wandb-col\">\n",
              "<h3>Run summary:</h3><br/><table class=\"wandb\"><tr><td>epoch</td><td>0</td></tr><tr><td>loss</td><td>0.28497</td></tr><tr><td>n_updates</td><td>100000</td></tr></table>\n",
              "</div></div>\n",
              "Synced 4 W&B file(s), 0 media file(s), 0 artifact file(s) and 0 other file(s)\n",
              "<br/>Synced <strong style=\"color:#cdcd00\">silvery-sweep-8</strong>: <a href=\"https://wandb.ai/jmary/uncategorized/runs/hee1eyxk\" target=\"_blank\">https://wandb.ai/jmary/uncategorized/runs/hee1eyxk</a><br/>\n",
              "Find logs at: <code>./wandb/run-20211025_105412-hee1eyxk/logs</code><br/>\n"
            ],
            "text/plain": [
              "<IPython.core.display.HTML object>"
            ]
          },
          "metadata": {}
        },
        {
          "output_type": "stream",
          "name": "stderr",
          "text": [
            "\u001b[34m\u001b[1mwandb\u001b[0m: Agent Starting Run: cddv7maw with config:\n",
            "\u001b[34m\u001b[1mwandb\u001b[0m: \tepochs: 5\n",
            "\u001b[34m\u001b[1mwandb\u001b[0m: \tl1: 0.08785869399575895\n",
            "\u001b[34m\u001b[1mwandb\u001b[0m: \tl2: 0.02253203626493664\n",
            "\u001b[34m\u001b[1mwandb\u001b[0m: \tlearning_rate: 0.021518680418789272\n"
          ]
        },
        {
          "output_type": "display_data",
          "data": {
            "text/html": [
              "\n",
              "                    Syncing run <strong><a href=\"https://wandb.ai/jmary/uncategorized/runs/cddv7maw\" target=\"_blank\">floral-sweep-9</a></strong> to <a href=\"https://wandb.ai/jmary/uncategorized\" target=\"_blank\">Weights & Biases</a> (<a href=\"https://docs.wandb.com/integrations/jupyter.html\" target=\"_blank\">docs</a>).<br/>\n",
              "Sweep page: <a href=\"https://wandb.ai/jmary/uncategorized/sweeps/3vgytvlh\" target=\"_blank\">https://wandb.ai/jmary/uncategorized/sweeps/3vgytvlh</a><br/>\n",
              "\n",
              "                "
            ],
            "text/plain": [
              "<IPython.core.display.HTML object>"
            ]
          },
          "metadata": {}
        },
        {
          "output_type": "display_data",
          "data": {
            "text/html": [
              "<br/>Waiting for W&B process to finish, PID 3079... <strong style=\"color:green\">(success).</strong>"
            ],
            "text/plain": [
              "<IPython.core.display.HTML object>"
            ]
          },
          "metadata": {}
        },
        {
          "output_type": "display_data",
          "data": {
            "application/vnd.jupyter.widget-view+json": {
              "model_id": "444fdd6ff0784e74a27dbb2f1ea9b492",
              "version_minor": 0,
              "version_major": 2
            },
            "text/plain": [
              "VBox(children=(Label(value=' 0.00MB of 0.00MB uploaded (0.00MB deduped)\\r'), FloatProgress(value=1.0, max=1.0)…"
            ]
          },
          "metadata": {}
        },
        {
          "output_type": "display_data",
          "data": {
            "text/html": [
              "<style>\n",
              "    table.wandb td:nth-child(1) { padding: 0 10px; text-align: right }\n",
              "    .wandb-row { display: flex; flex-direction: row; flex-wrap: wrap; width: 100% }\n",
              "    .wandb-col { display: flex; flex-direction: column; flex-basis: 100%; flex: 1; padding: 10px; }\n",
              "    </style>\n",
              "<div class=\"wandb-row\"><div class=\"wandb-col\">\n",
              "<h3>Run history:</h3><br/><table class=\"wandb\"><tr><td>epoch</td><td>▁▁▁▁▁▁▁▁▃▃▃▃▃▃▃▃▅▅▅▅▅▅▅▅▆▆▆▆▆▆▆▆████████</td></tr><tr><td>loss</td><td>█▄▄▂▃▃▂▁▁▁▁▃▃▃▂▃▂▁▂▂▃▃▂▂▂▂▂▂▂▃▂▂▂▂▁▂▃▃▂▂</td></tr><tr><td>n_updates</td><td>▁▁▁▁▂▂▂▂▂▃▃▃▃▃▃▄▄▄▄▄▅▅▅▅▅▅▆▆▆▆▆▆▇▇▇▇▇███</td></tr></table><br/></div><div class=\"wandb-col\">\n",
              "<h3>Run summary:</h3><br/><table class=\"wandb\"><tr><td>epoch</td><td>4</td></tr><tr><td>loss</td><td>0.2669</td></tr><tr><td>n_updates</td><td>510000</td></tr></table>\n",
              "</div></div>\n",
              "Synced 4 W&B file(s), 0 media file(s), 0 artifact file(s) and 0 other file(s)\n",
              "<br/>Synced <strong style=\"color:#cdcd00\">floral-sweep-9</strong>: <a href=\"https://wandb.ai/jmary/uncategorized/runs/cddv7maw\" target=\"_blank\">https://wandb.ai/jmary/uncategorized/runs/cddv7maw</a><br/>\n",
              "Find logs at: <code>./wandb/run-20211025_105513-cddv7maw/logs</code><br/>\n"
            ],
            "text/plain": [
              "<IPython.core.display.HTML object>"
            ]
          },
          "metadata": {}
        },
        {
          "output_type": "stream",
          "name": "stderr",
          "text": [
            "\u001b[34m\u001b[1mwandb\u001b[0m: Agent Starting Run: xv3dx82m with config:\n",
            "\u001b[34m\u001b[1mwandb\u001b[0m: \tepochs: 1\n",
            "\u001b[34m\u001b[1mwandb\u001b[0m: \tl1: 0.09898482402392808\n",
            "\u001b[34m\u001b[1mwandb\u001b[0m: \tl2: 0.07426023334859248\n",
            "\u001b[34m\u001b[1mwandb\u001b[0m: \tlearning_rate: 0.0581422786640352\n"
          ]
        },
        {
          "output_type": "display_data",
          "data": {
            "text/html": [
              "\n",
              "                    Syncing run <strong><a href=\"https://wandb.ai/jmary/uncategorized/runs/xv3dx82m\" target=\"_blank\">quiet-sweep-10</a></strong> to <a href=\"https://wandb.ai/jmary/uncategorized\" target=\"_blank\">Weights & Biases</a> (<a href=\"https://docs.wandb.com/integrations/jupyter.html\" target=\"_blank\">docs</a>).<br/>\n",
              "Sweep page: <a href=\"https://wandb.ai/jmary/uncategorized/sweeps/3vgytvlh\" target=\"_blank\">https://wandb.ai/jmary/uncategorized/sweeps/3vgytvlh</a><br/>\n",
              "\n",
              "                "
            ],
            "text/plain": [
              "<IPython.core.display.HTML object>"
            ]
          },
          "metadata": {}
        },
        {
          "output_type": "display_data",
          "data": {
            "text/html": [
              "<br/>Waiting for W&B process to finish, PID 3163... <strong style=\"color:green\">(success).</strong>"
            ],
            "text/plain": [
              "<IPython.core.display.HTML object>"
            ]
          },
          "metadata": {}
        },
        {
          "output_type": "display_data",
          "data": {
            "application/vnd.jupyter.widget-view+json": {
              "model_id": "94e199e0073945de91d46712a824acfb",
              "version_minor": 0,
              "version_major": 2
            },
            "text/plain": [
              "VBox(children=(Label(value=' 0.00MB of 0.00MB uploaded (0.00MB deduped)\\r'), FloatProgress(value=1.0, max=1.0)…"
            ]
          },
          "metadata": {}
        },
        {
          "output_type": "display_data",
          "data": {
            "text/html": [
              "<style>\n",
              "    table.wandb td:nth-child(1) { padding: 0 10px; text-align: right }\n",
              "    .wandb-row { display: flex; flex-direction: row; flex-wrap: wrap; width: 100% }\n",
              "    .wandb-col { display: flex; flex-direction: column; flex-basis: 100%; flex: 1; padding: 10px; }\n",
              "    </style>\n",
              "<div class=\"wandb-row\"><div class=\"wandb-col\">\n",
              "<h3>Run history:</h3><br/><table class=\"wandb\"><tr><td>epoch</td><td>▁▁▁▁▁▁▁▁▁▁</td></tr><tr><td>loss</td><td>█▄▇▂▄▄▄▃▁▂</td></tr><tr><td>n_updates</td><td>▁▂▃▃▄▅▆▆▇█</td></tr></table><br/></div><div class=\"wandb-col\">\n",
              "<h3>Run summary:</h3><br/><table class=\"wandb\"><tr><td>epoch</td><td>0</td></tr><tr><td>loss</td><td>0.27531</td></tr><tr><td>n_updates</td><td>100000</td></tr></table>\n",
              "</div></div>\n",
              "Synced 4 W&B file(s), 0 media file(s), 0 artifact file(s) and 0 other file(s)\n",
              "<br/>Synced <strong style=\"color:#cdcd00\">quiet-sweep-10</strong>: <a href=\"https://wandb.ai/jmary/uncategorized/runs/xv3dx82m\" target=\"_blank\">https://wandb.ai/jmary/uncategorized/runs/xv3dx82m</a><br/>\n",
              "Find logs at: <code>./wandb/run-20211025_105959-xv3dx82m/logs</code><br/>\n"
            ],
            "text/plain": [
              "<IPython.core.display.HTML object>"
            ]
          },
          "metadata": {}
        }
      ]
    },
    {
      "cell_type": "markdown",
      "metadata": {
        "id": "aLdQ-f6RIBXR"
      },
      "source": [
        "9. Pick one or more kind of gradient descent in [this page ](https://ruder.io/optimizing-gradient-descent/index.html) and implement it (AdaGrad / Adam / [Nesterov's acceleration](https://jlmelville.github.io/mize/nesterov.html) / [SAGA](https://arxiv.org/pdf/1407.0202.pdf) are popular choices). Remark than even an averaged gradient descent will double the memory consuption and significantly increase the execution times in Python. "
      ]
    },
    {
      "cell_type": "code",
      "metadata": {
        "id": "XPnHYU3Vgf2m"
      },
      "source": [
        "#Let's go for Adam\n",
        "#Unchecked code, just the minimal elements to insert at the right place in the code\n",
        "\n",
        "#Adam hyperparameters\n",
        "beta1 = 0.9\n",
        "beta2 = 0.999\n",
        "epsilon = 1e-8\n",
        "alpha = 1e-2\n",
        "\n",
        "def compute_gradient(p, y):\n",
        "    #Easy to add L1/L2 penalizations if wanted\n",
        "    return (p - y)\n",
        "\n",
        "def update_w_adam(w, m, v, x, p, y):\n",
        "    g = compute_gradient(p, y)\n",
        "    for i in x:\n",
        "        m[i] = beta1*m[i] + (1-beta1) * g\n",
        "        v[i] = beta2*v[i] + (1-beta2) * g**2\n",
        "        w[i] -= alpha/(sqrt(v[i])+epsilon) * m[i] \n",
        "    return w, m, v\n",
        "\n",
        "#And in the main code include\n",
        "m = [0.] * D\n",
        "v = [0.] * D\n",
        "\n",
        "w, m, v = update_w_adam(w, m, v, x, p, target) \n"
      ],
      "execution_count": null,
      "outputs": []
    },
    {
      "cell_type": "markdown",
      "metadata": {
        "id": "WyRCV7CMH__Q"
      },
      "source": [
        "9. A possibility for relatively small datasets is to create a pipeline using sklearn a minimal implementation. Compare the results with the hand coded solution.  "
      ]
    },
    {
      "cell_type": "code",
      "metadata": {
        "colab": {
          "base_uri": "https://localhost:8080/",
          "height": 375
        },
        "id": "zqMBwXDlH_xr",
        "outputId": "4c6f320f-1a9b-4f36-9ce1-daa3306ad0e6"
      },
      "source": [
        "import numpy as np\n",
        "from sklearn.pipeline import make_pipeline\n",
        "from sklearn.feature_extraction import FeatureHasher\n",
        "from sklearn.preprocessing import PolynomialFeatures\n",
        "from sklearn.linear_model import LogisticRegression, LogisticRegressionCV\n",
        "from sklearn.metrics import log_loss\n",
        "\n",
        "X_train = np.loadtxt('X_train.csv', skiprows=1, delimiter=',')\n",
        "X_train = [[('%s' % _, 1) for _ in x] for x in X_train]\n",
        "y_train = np.loadtxt('y_train.csv', skiprows=1, delimiter=',').astype(np.int8)\n",
        "y_train = y_train[:, 0] #select click data only\n",
        "\n",
        "X_valid = np.loadtxt('X_valid.csv', skiprows=1, delimiter=',')\n",
        "X_valid = [[('%s' % _, 1) for _ in x] for x in X_valid]\n",
        "y_valid = np.loadtxt('y_valid.csv', skiprows=1, delimiter=',').astype(np.int8)\n",
        "y_valid = y_valid[:, 0] \n",
        "\n",
        "\n",
        "# learn model\n",
        "model = make_pipeline(FeatureHasher(n_features=2*6, input_type='pair'), \n",
        "                        PolynomialFeatures(2, interaction_only=False, include_bias=True),\n",
        "                        #LogisticRegressionCV(n_jobs=4, Cs=10, solver='liblinear') #If you want to cross validate the regularization on train\n",
        "                        LogisticRegression(solver='liblinear') #If you want a simple logistic regression\n",
        "      )\n",
        "model.fit(X_train, y_train)\n",
        "\n",
        "#compute score in validation\n",
        "y_hat_valid = model.predict_proba(X_valid)[:,1] #Output of logistic has as many columns than possible classes\n",
        "print( f'Log loss on validation: {log_loss(y_valid, y_hat_valid)}') #CARE: the option \"normalize\" for log loss is not the NCE"
      ],
      "execution_count": null,
      "outputs": [
        {
          "output_type": "error",
          "ename": "KeyboardInterrupt",
          "evalue": "ignored",
          "traceback": [
            "\u001b[0;31m---------------------------------------------------------------------------\u001b[0m",
            "\u001b[0;31mKeyboardInterrupt\u001b[0m                         Traceback (most recent call last)",
            "\u001b[0;32m<ipython-input-7-85f43fb53b0c>\u001b[0m in \u001b[0;36m<module>\u001b[0;34m()\u001b[0m\n\u001b[1;32m     23\u001b[0m                         \u001b[0;31m#LogisticRegression(solver='liblinear') #If you want a simple logistic regression\u001b[0m\u001b[0;34m\u001b[0m\u001b[0;34m\u001b[0m\u001b[0;34m\u001b[0m\u001b[0m\n\u001b[1;32m     24\u001b[0m       )\n\u001b[0;32m---> 25\u001b[0;31m \u001b[0mmodel\u001b[0m\u001b[0;34m.\u001b[0m\u001b[0mfit\u001b[0m\u001b[0;34m(\u001b[0m\u001b[0mX_train\u001b[0m\u001b[0;34m,\u001b[0m \u001b[0my_train\u001b[0m\u001b[0;34m)\u001b[0m\u001b[0;34m\u001b[0m\u001b[0;34m\u001b[0m\u001b[0m\n\u001b[0m\u001b[1;32m     26\u001b[0m \u001b[0;34m\u001b[0m\u001b[0m\n\u001b[1;32m     27\u001b[0m \u001b[0;31m#compute score in validation\u001b[0m\u001b[0;34m\u001b[0m\u001b[0;34m\u001b[0m\u001b[0;34m\u001b[0m\u001b[0m\n",
            "\u001b[0;32m/usr/local/lib/python3.7/dist-packages/sklearn/pipeline.py\u001b[0m in \u001b[0;36mfit\u001b[0;34m(self, X, y, **fit_params)\u001b[0m\n\u001b[1;32m    348\u001b[0m             \u001b[0mThis\u001b[0m \u001b[0mestimator\u001b[0m\u001b[0;34m\u001b[0m\u001b[0;34m\u001b[0m\u001b[0m\n\u001b[1;32m    349\u001b[0m         \"\"\"\n\u001b[0;32m--> 350\u001b[0;31m         \u001b[0mXt\u001b[0m\u001b[0;34m,\u001b[0m \u001b[0mfit_params\u001b[0m \u001b[0;34m=\u001b[0m \u001b[0mself\u001b[0m\u001b[0;34m.\u001b[0m\u001b[0m_fit\u001b[0m\u001b[0;34m(\u001b[0m\u001b[0mX\u001b[0m\u001b[0;34m,\u001b[0m \u001b[0my\u001b[0m\u001b[0;34m,\u001b[0m \u001b[0;34m**\u001b[0m\u001b[0mfit_params\u001b[0m\u001b[0;34m)\u001b[0m\u001b[0;34m\u001b[0m\u001b[0;34m\u001b[0m\u001b[0m\n\u001b[0m\u001b[1;32m    351\u001b[0m         with _print_elapsed_time('Pipeline',\n\u001b[1;32m    352\u001b[0m                                  self._log_message(len(self.steps) - 1)):\n",
            "\u001b[0;32m/usr/local/lib/python3.7/dist-packages/sklearn/pipeline.py\u001b[0m in \u001b[0;36m_fit\u001b[0;34m(self, X, y, **fit_params)\u001b[0m\n\u001b[1;32m    313\u001b[0m                 \u001b[0mmessage_clsname\u001b[0m\u001b[0;34m=\u001b[0m\u001b[0;34m'Pipeline'\u001b[0m\u001b[0;34m,\u001b[0m\u001b[0;34m\u001b[0m\u001b[0;34m\u001b[0m\u001b[0m\n\u001b[1;32m    314\u001b[0m                 \u001b[0mmessage\u001b[0m\u001b[0;34m=\u001b[0m\u001b[0mself\u001b[0m\u001b[0;34m.\u001b[0m\u001b[0m_log_message\u001b[0m\u001b[0;34m(\u001b[0m\u001b[0mstep_idx\u001b[0m\u001b[0;34m)\u001b[0m\u001b[0;34m,\u001b[0m\u001b[0;34m\u001b[0m\u001b[0;34m\u001b[0m\u001b[0m\n\u001b[0;32m--> 315\u001b[0;31m                 **fit_params_steps[name])\n\u001b[0m\u001b[1;32m    316\u001b[0m             \u001b[0;31m# Replace the transformer of the step with the fitted\u001b[0m\u001b[0;34m\u001b[0m\u001b[0;34m\u001b[0m\u001b[0;34m\u001b[0m\u001b[0m\n\u001b[1;32m    317\u001b[0m             \u001b[0;31m# transformer. This is necessary when loading the transformer\u001b[0m\u001b[0;34m\u001b[0m\u001b[0;34m\u001b[0m\u001b[0;34m\u001b[0m\u001b[0m\n",
            "\u001b[0;32m/usr/local/lib/python3.7/dist-packages/joblib/memory.py\u001b[0m in \u001b[0;36m__call__\u001b[0;34m(self, *args, **kwargs)\u001b[0m\n\u001b[1;32m    350\u001b[0m \u001b[0;34m\u001b[0m\u001b[0m\n\u001b[1;32m    351\u001b[0m     \u001b[0;32mdef\u001b[0m \u001b[0m__call__\u001b[0m\u001b[0;34m(\u001b[0m\u001b[0mself\u001b[0m\u001b[0;34m,\u001b[0m \u001b[0;34m*\u001b[0m\u001b[0margs\u001b[0m\u001b[0;34m,\u001b[0m \u001b[0;34m**\u001b[0m\u001b[0mkwargs\u001b[0m\u001b[0;34m)\u001b[0m\u001b[0;34m:\u001b[0m\u001b[0;34m\u001b[0m\u001b[0;34m\u001b[0m\u001b[0m\n\u001b[0;32m--> 352\u001b[0;31m         \u001b[0;32mreturn\u001b[0m \u001b[0mself\u001b[0m\u001b[0;34m.\u001b[0m\u001b[0mfunc\u001b[0m\u001b[0;34m(\u001b[0m\u001b[0;34m*\u001b[0m\u001b[0margs\u001b[0m\u001b[0;34m,\u001b[0m \u001b[0;34m**\u001b[0m\u001b[0mkwargs\u001b[0m\u001b[0;34m)\u001b[0m\u001b[0;34m\u001b[0m\u001b[0;34m\u001b[0m\u001b[0m\n\u001b[0m\u001b[1;32m    353\u001b[0m \u001b[0;34m\u001b[0m\u001b[0m\n\u001b[1;32m    354\u001b[0m     \u001b[0;32mdef\u001b[0m \u001b[0mcall_and_shelve\u001b[0m\u001b[0;34m(\u001b[0m\u001b[0mself\u001b[0m\u001b[0;34m,\u001b[0m \u001b[0;34m*\u001b[0m\u001b[0margs\u001b[0m\u001b[0;34m,\u001b[0m \u001b[0;34m**\u001b[0m\u001b[0mkwargs\u001b[0m\u001b[0;34m)\u001b[0m\u001b[0;34m:\u001b[0m\u001b[0;34m\u001b[0m\u001b[0;34m\u001b[0m\u001b[0m\n",
            "\u001b[0;32m/usr/local/lib/python3.7/dist-packages/sklearn/pipeline.py\u001b[0m in \u001b[0;36m_fit_transform_one\u001b[0;34m(transformer, X, y, weight, message_clsname, message, **fit_params)\u001b[0m\n\u001b[1;32m    726\u001b[0m     \u001b[0;32mwith\u001b[0m \u001b[0m_print_elapsed_time\u001b[0m\u001b[0;34m(\u001b[0m\u001b[0mmessage_clsname\u001b[0m\u001b[0;34m,\u001b[0m \u001b[0mmessage\u001b[0m\u001b[0;34m)\u001b[0m\u001b[0;34m:\u001b[0m\u001b[0;34m\u001b[0m\u001b[0;34m\u001b[0m\u001b[0m\n\u001b[1;32m    727\u001b[0m         \u001b[0;32mif\u001b[0m \u001b[0mhasattr\u001b[0m\u001b[0;34m(\u001b[0m\u001b[0mtransformer\u001b[0m\u001b[0;34m,\u001b[0m \u001b[0;34m'fit_transform'\u001b[0m\u001b[0;34m)\u001b[0m\u001b[0;34m:\u001b[0m\u001b[0;34m\u001b[0m\u001b[0;34m\u001b[0m\u001b[0m\n\u001b[0;32m--> 728\u001b[0;31m             \u001b[0mres\u001b[0m \u001b[0;34m=\u001b[0m \u001b[0mtransformer\u001b[0m\u001b[0;34m.\u001b[0m\u001b[0mfit_transform\u001b[0m\u001b[0;34m(\u001b[0m\u001b[0mX\u001b[0m\u001b[0;34m,\u001b[0m \u001b[0my\u001b[0m\u001b[0;34m,\u001b[0m \u001b[0;34m**\u001b[0m\u001b[0mfit_params\u001b[0m\u001b[0;34m)\u001b[0m\u001b[0;34m\u001b[0m\u001b[0;34m\u001b[0m\u001b[0m\n\u001b[0m\u001b[1;32m    729\u001b[0m         \u001b[0;32melse\u001b[0m\u001b[0;34m:\u001b[0m\u001b[0;34m\u001b[0m\u001b[0;34m\u001b[0m\u001b[0m\n\u001b[1;32m    730\u001b[0m             \u001b[0mres\u001b[0m \u001b[0;34m=\u001b[0m \u001b[0mtransformer\u001b[0m\u001b[0;34m.\u001b[0m\u001b[0mfit\u001b[0m\u001b[0;34m(\u001b[0m\u001b[0mX\u001b[0m\u001b[0;34m,\u001b[0m \u001b[0my\u001b[0m\u001b[0;34m,\u001b[0m \u001b[0;34m**\u001b[0m\u001b[0mfit_params\u001b[0m\u001b[0;34m)\u001b[0m\u001b[0;34m.\u001b[0m\u001b[0mtransform\u001b[0m\u001b[0;34m(\u001b[0m\u001b[0mX\u001b[0m\u001b[0;34m)\u001b[0m\u001b[0;34m\u001b[0m\u001b[0;34m\u001b[0m\u001b[0m\n",
            "\u001b[0;32m/usr/local/lib/python3.7/dist-packages/sklearn/base.py\u001b[0m in \u001b[0;36mfit_transform\u001b[0;34m(self, X, y, **fit_params)\u001b[0m\n\u001b[1;32m    572\u001b[0m         \u001b[0;32melse\u001b[0m\u001b[0;34m:\u001b[0m\u001b[0;34m\u001b[0m\u001b[0;34m\u001b[0m\u001b[0m\n\u001b[1;32m    573\u001b[0m             \u001b[0;31m# fit method of arity 2 (supervised transformation)\u001b[0m\u001b[0;34m\u001b[0m\u001b[0;34m\u001b[0m\u001b[0;34m\u001b[0m\u001b[0m\n\u001b[0;32m--> 574\u001b[0;31m             \u001b[0;32mreturn\u001b[0m \u001b[0mself\u001b[0m\u001b[0;34m.\u001b[0m\u001b[0mfit\u001b[0m\u001b[0;34m(\u001b[0m\u001b[0mX\u001b[0m\u001b[0;34m,\u001b[0m \u001b[0my\u001b[0m\u001b[0;34m,\u001b[0m \u001b[0;34m**\u001b[0m\u001b[0mfit_params\u001b[0m\u001b[0;34m)\u001b[0m\u001b[0;34m.\u001b[0m\u001b[0mtransform\u001b[0m\u001b[0;34m(\u001b[0m\u001b[0mX\u001b[0m\u001b[0;34m)\u001b[0m\u001b[0;34m\u001b[0m\u001b[0;34m\u001b[0m\u001b[0m\n\u001b[0m\u001b[1;32m    575\u001b[0m \u001b[0;34m\u001b[0m\u001b[0m\n\u001b[1;32m    576\u001b[0m \u001b[0;34m\u001b[0m\u001b[0m\n",
            "\u001b[0;32m/usr/local/lib/python3.7/dist-packages/sklearn/preprocessing/_data.py\u001b[0m in \u001b[0;36mfit\u001b[0;34m(self, X, y)\u001b[0m\n\u001b[1;32m   1511\u001b[0m                                           self.include_bias)\n\u001b[1;32m   1512\u001b[0m         \u001b[0mself\u001b[0m\u001b[0;34m.\u001b[0m\u001b[0mn_input_features_\u001b[0m \u001b[0;34m=\u001b[0m \u001b[0mn_features\u001b[0m\u001b[0;34m\u001b[0m\u001b[0;34m\u001b[0m\u001b[0m\n\u001b[0;32m-> 1513\u001b[0;31m         \u001b[0mself\u001b[0m\u001b[0;34m.\u001b[0m\u001b[0mn_output_features_\u001b[0m \u001b[0;34m=\u001b[0m \u001b[0msum\u001b[0m\u001b[0;34m(\u001b[0m\u001b[0;36m1\u001b[0m \u001b[0;32mfor\u001b[0m \u001b[0m_\u001b[0m \u001b[0;32min\u001b[0m \u001b[0mcombinations\u001b[0m\u001b[0;34m)\u001b[0m\u001b[0;34m\u001b[0m\u001b[0;34m\u001b[0m\u001b[0m\n\u001b[0m\u001b[1;32m   1514\u001b[0m         \u001b[0;32mreturn\u001b[0m \u001b[0mself\u001b[0m\u001b[0;34m\u001b[0m\u001b[0;34m\u001b[0m\u001b[0m\n\u001b[1;32m   1515\u001b[0m \u001b[0;34m\u001b[0m\u001b[0m\n",
            "\u001b[0;32m/usr/local/lib/python3.7/dist-packages/sklearn/preprocessing/_data.py\u001b[0m in \u001b[0;36m<genexpr>\u001b[0;34m(.0)\u001b[0m\n\u001b[1;32m   1511\u001b[0m                                           self.include_bias)\n\u001b[1;32m   1512\u001b[0m         \u001b[0mself\u001b[0m\u001b[0;34m.\u001b[0m\u001b[0mn_input_features_\u001b[0m \u001b[0;34m=\u001b[0m \u001b[0mn_features\u001b[0m\u001b[0;34m\u001b[0m\u001b[0;34m\u001b[0m\u001b[0m\n\u001b[0;32m-> 1513\u001b[0;31m         \u001b[0mself\u001b[0m\u001b[0;34m.\u001b[0m\u001b[0mn_output_features_\u001b[0m \u001b[0;34m=\u001b[0m \u001b[0msum\u001b[0m\u001b[0;34m(\u001b[0m\u001b[0;36m1\u001b[0m \u001b[0;32mfor\u001b[0m \u001b[0m_\u001b[0m \u001b[0;32min\u001b[0m \u001b[0mcombinations\u001b[0m\u001b[0;34m)\u001b[0m\u001b[0;34m\u001b[0m\u001b[0;34m\u001b[0m\u001b[0m\n\u001b[0m\u001b[1;32m   1514\u001b[0m         \u001b[0;32mreturn\u001b[0m \u001b[0mself\u001b[0m\u001b[0;34m\u001b[0m\u001b[0;34m\u001b[0m\u001b[0m\n\u001b[1;32m   1515\u001b[0m \u001b[0;34m\u001b[0m\u001b[0m\n",
            "\u001b[0;31mKeyboardInterrupt\u001b[0m: "
          ]
        }
      ]
    },
    {
      "cell_type": "markdown",
      "metadata": {
        "id": "S43bMuQDUPZk"
      },
      "source": [
        "Not that bad for some basic Python and SGD *versus* C++ code and a second order method. \n",
        "\n",
        "(optional since it can require long exe time) Can you recover the performance we had by optimizing hyperparameters? "
      ]
    },
    {
      "cell_type": "markdown",
      "metadata": {
        "id": "dUp-ZnxGH_nc"
      },
      "source": [
        "#Part II. Graded.\n",
        "\n",
        "**Due date december 1st**\n",
        "You can also send your answers to the optional questions \n",
        "\n",
        "1. Based on the minimal code example with validation and $L_2$ prenality, implement your own version of a factorization machine. As we do want to use fields this is the same than a rank k asumption on the matrix of the second order terms which can be expressed as $<v_i, v_j>$ with $v_i \\in \\mathbb{R}^k$ .  Remind that \n",
        "$$\n",
        "\\frac{\\partial}{\\partial \\theta} \\hat{y}(\\mathbf{x})= \\begin{cases}1, & \\text { if } \\theta \\text { is } \\mbox{the bias term } \\omega_0 \\\\ x_{i}, & \\text { if } \\theta \\text { is } w_{i} \\mbox{ (first order term)} \\\\ x_{i} \\sum_{j=1}^{n} v_{j, f} x_{j}-v_{i, f} x_{i}^{2}, & \\text { if } \\theta \\text { is the } i,f \\mbox { second order term } <v_i,v_f>   \\end{cases}\n",
        "$$\n",
        "\n",
        "One possibility to code it is to isolate the second order term within a second vector of parameters while performing the ```get_x``` and change the way the gradient is computed in the ```update_x``` function. Details about factorization machines are in the [original paper](https://www.csie.ntu.edu.tw/~b97053/paper/Rendle2010FM.pdf).\n"
      ]
    },
    {
      "cell_type": "code",
      "metadata": {
        "id": "cdXcQ7MsH_HB"
      },
      "source": [
        ""
      ],
      "execution_count": null,
      "outputs": []
    },
    {
      "cell_type": "markdown",
      "metadata": {
        "id": "iALIM1szWUGa"
      },
      "source": [
        "2. Optimize the hyperparameters of a factorization machine for several dataset sizes and plot the resulting curve -- use the data contained in the test file to explore bigger than 100k training data size. For this question you can use a library such as [libFM](https://libfm.org). Remind that we already used the 10k first lines of the test data to build our validation set.\n"
      ]
    },
    {
      "cell_type": "code",
      "metadata": {
        "id": "1dquNkmNWT44"
      },
      "source": [
        "import numpy as np\n",
        "X_train = np.loadtxt('X_train.csv', skiprows=1, delimiter=',')\n",
        "X_train = [[('%s' % _, 1) for _ in x] for x in X_train] #Data format expected by the Feature Hasher is a sequence of key,value\n"
      ],
      "execution_count": null,
      "outputs": []
    },
    {
      "cell_type": "code",
      "metadata": {
        "id": "y2hA1rbTNSw5"
      },
      "source": [
        "from datetime import datetime\n",
        "from csv import DictReader\n",
        "from math import exp, log, sqrt\n",
        "import copy\n",
        "\n",
        "# parameters #################################################################\n",
        "\n",
        "X_train = 'X_train.csv'  # path to training files\n",
        "y_train = 'y_train.csv'\n",
        "\n",
        "\n",
        "D = 2 ** 20   # max number of weights to use (hash size)\n",
        "alpha = .01    # learning rate for sgd optimization\n",
        "\n",
        "\n",
        "# function definitions #######################################################\n",
        "\n",
        "# A. Bounded logloss\n",
        "# INPUT:\n",
        "#     p: our prediction\n",
        "#     y: real answer\n",
        "# OUTPUT\n",
        "#     logarithmic loss of p given y\n",
        "def logloss(p, y):\n",
        "    p = max(min(p, 1. - 10e-12), 10e-12)\n",
        "    return -log(p) if y == 1. else -log(1. - p)\n",
        "\n",
        "\n",
        "# B. Apply hash trick of the original csv row\n",
        "# for simplicity, we treat both integer and categorical features as categorical\n",
        "# INPUT:\n",
        "#     csv_row: a csv dictionary, ex: {'hash_1': '357', 'hash_2': '', ...}\n",
        "#     D: the max index that we can hash to\n",
        "# OUTPUT:\n",
        "#     x: a list of indices that its value is 1\n",
        "def get_x(csv_row, D):\n",
        "    x1 = []\n",
        "    for key, value in csv_row.items():\n",
        "        index = int(value + key[4:], 16) % D \n",
        "        x1.append(index)\n",
        "    \n",
        "    # second order terms\n",
        "    L = len(x1)\n",
        "    x2 = []\n",
        "    for i in range(L):\n",
        "        for j in range(i+1, L):\n",
        "            index = (x1[i] * x1[j]) % D  # second weakest hash\n",
        "            x2.append(index)\n",
        "    return x1,x2\n",
        "\n",
        "\n",
        "# C. Get probability estimation on x\n",
        "# INPUT:\n",
        "#     x: features\n",
        "#     w: weights\n",
        "# OUTPUT:\n",
        "#     probability of p(y = 1 | x; w)\n",
        "def get_p(x, w):\n",
        "    wTx = 0.\n",
        "    for i in x:  # do wTx\n",
        "        wTx += w[i] * 1.  # w[i] * x[i], but if i in x we got x[i] = 1.\n",
        "    return 1. / (1. + exp(-max(min(wTx, 20.), -20.)))  # bounded sigmoid\n",
        "\n",
        "\n",
        "# D. Update given model\n",
        "# INPUT:\n",
        "#     w: weights\n",
        "#     n: a counter that counts the number of times we encounter a feature\n",
        "#        this is used for adaptive learning rate\n",
        "#     x: feature\n",
        "#     p: prediction of our model\n",
        "#     y: answer\n",
        "# OUTPUT:\n",
        "#     w: updated model\n",
        "#     n: updated count\n",
        "def update_w(w, n, x, p, y):\n",
        "    x1,x2 = x\n",
        "    for i in x1:\n",
        "        # alpha / (sqrt(n) + 1) is the adaptive learning rate heuristic\n",
        "        # (p - y) * x[i] is the current gradient\n",
        "        # note that in our case, if i in x then x[i] = 1\n",
        "\n",
        "        w[i] -= (p - y) * alpha / (sqrt(n[i]) + 1.)\n",
        "    # sum(v[j,f])\n",
        "\n",
        "    L = len(x1)\n",
        "\n",
        "    for i in x1:\n",
        "        for f in range(i+1,L):\n",
        "            temp_i_f = 0.\n",
        "            for j in range(0,L):\n",
        "                if j!=f:\n",
        "                    temp_i_f+= w[(x1[f] * x1[j]) % D]\n",
        "            \n",
        "            i_f = (x1[i] * x1[f]) % D\n",
        "            w[i_f] -= (p - y) *(1.*temp_i_f-w[i_f]) *alpha / (sqrt(n[i]) + 1.)\n",
        "\n",
        "    n[i] += 1.\n",
        "    return w, n\n",
        "\n"
      ],
      "execution_count": null,
      "outputs": []
    },
    {
      "cell_type": "code",
      "source": [
        "from datetime import datetime\n",
        "from csv import DictReader\n",
        "from math import exp, log, sqrt\n",
        "\n",
        "X_train = 'X_train.csv'  # path to training files\n",
        "y_train = 'y_train.csv'\n",
        "\n",
        "\n",
        "X_valid = 'X_valid.csv'\n",
        "y_valid = 'y_valid.csv'\n",
        "\n",
        "w = [0.] * D  \n",
        "n = [0.] * D\n",
        "loss = 0.\n",
        "n_epochs = 10\n",
        "n_updates = 0\n",
        "training_losses = [] #To stores our training losses after each 10k updates \n",
        "validation_losses = [] #Same for validation\n",
        "\n",
        "\n",
        "def compute_validation_loss(w, D):\n",
        "    ### TODO Complete this function ###\n",
        "    #ANSWER\n",
        "    val_loss = 0 \n",
        "    for t, (row, y)  in enumerate(zip(DictReader(open(X_valid)), DictReader(open(y_valid)))):\n",
        "        x1, x2 = get_x(row, D)\n",
        "        x_extend = copy.deepcopy(x1)\n",
        "        x_extend.extend(x2)\n",
        "        p = get_p(x_extend, w)\n",
        "        target = float(y['click'])\n",
        "        val_loss += logloss(p, target)\n",
        "    return val_loss/t\n",
        "\n",
        "\n",
        "for e in range(n_epochs):\n",
        "    training_loss = 0 #We reset to 0 the training at the begginning of each epoch to have a better idea of the current performance on the training set\n",
        "    for t, (row, y)  in enumerate(zip(DictReader(open(X_train)), DictReader(open(y_train)))):\n",
        "        x1, x2 = get_x(row, D)\n",
        "        x_extend = copy.deepcopy(x1)\n",
        "        x_extend.extend(x2)\n",
        "        p = get_p(x_extend, w)\n",
        "        target = float(y['click'])\n",
        "        training_loss += logloss(p, target)\n",
        "        if n_updates% 10000 == 0 and n_updates>1:\n",
        "            training_losses.append( training_loss/t )\n",
        "            validation_losses.append( compute_validation_loss(w, D) )\n",
        "            print('%s\\tupdates: %d\\tcurrent logloss on train: %f\\tcurrent logloss on validation: %f \\tNCE in validation %f' % (\n",
        "                  datetime.now(), n_updates, training_losses[-1], validation_losses[-1], (Hy-validation_losses[-1])/Hy ))\n",
        "        w, n = update_w(w, n,(x1,x2), p, target)\n",
        "        n_updates += 1"
      ],
      "metadata": {
        "colab": {
          "base_uri": "https://localhost:8080/"
        },
        "id": "R8vAyVdKaUCs",
        "outputId": "3252c789-a1be-48e1-fe80-e4ede52a9435"
      },
      "execution_count": null,
      "outputs": [
        {
          "output_type": "stream",
          "name": "stdout",
          "text": [
            "2022-01-07 21:04:44.811206\tupdates: 10000\tcurrent logloss on train: 0.291513\tcurrent logloss on validation: 0.269876 \tNCE in validation 0.166831\n",
            "2022-01-07 21:04:46.968054\tupdates: 20000\tcurrent logloss on train: 0.271724\tcurrent logloss on validation: 0.262507 \tNCE in validation 0.189581\n",
            "2022-01-07 21:04:49.145396\tupdates: 30000\tcurrent logloss on train: 0.265001\tcurrent logloss on validation: 0.259807 \tNCE in validation 0.197916\n",
            "2022-01-07 21:04:51.330893\tupdates: 40000\tcurrent logloss on train: 0.265395\tcurrent logloss on validation: 0.258535 \tNCE in validation 0.201842\n",
            "2022-01-07 21:04:53.502637\tupdates: 50000\tcurrent logloss on train: 0.264715\tcurrent logloss on validation: 0.256530 \tNCE in validation 0.208033\n",
            "2022-01-07 21:04:55.678118\tupdates: 60000\tcurrent logloss on train: 0.264471\tcurrent logloss on validation: 0.255329 \tNCE in validation 0.211740\n",
            "2022-01-07 21:04:57.834595\tupdates: 70000\tcurrent logloss on train: 0.263899\tcurrent logloss on validation: 0.254798 \tNCE in validation 0.213380\n",
            "2022-01-07 21:04:59.993779\tupdates: 80000\tcurrent logloss on train: 0.261717\tcurrent logloss on validation: 0.254249 \tNCE in validation 0.215073\n",
            "2022-01-07 21:05:02.166504\tupdates: 90000\tcurrent logloss on train: 0.260723\tcurrent logloss on validation: 0.253726 \tNCE in validation 0.216688\n",
            "2022-01-07 21:05:04.330191\tupdates: 100000\tcurrent logloss on train: 0.259717\tcurrent logloss on validation: 0.252074 \tNCE in validation 0.221789\n",
            "2022-01-07 21:05:06.496161\tupdates: 110000\tcurrent logloss on train: 0.252362\tcurrent logloss on validation: 0.252110 \tNCE in validation 0.221678\n",
            "2022-01-07 21:05:08.646631\tupdates: 120000\tcurrent logloss on train: 0.247879\tcurrent logloss on validation: 0.252901 \tNCE in validation 0.219237\n",
            "2022-01-07 21:05:10.812198\tupdates: 130000\tcurrent logloss on train: 0.245850\tcurrent logloss on validation: 0.253801 \tNCE in validation 0.216458\n",
            "2022-01-07 21:05:12.986306\tupdates: 140000\tcurrent logloss on train: 0.249408\tcurrent logloss on validation: 0.252446 \tNCE in validation 0.220641\n",
            "2022-01-07 21:05:15.151818\tupdates: 150000\tcurrent logloss on train: 0.249054\tcurrent logloss on validation: 0.252322 \tNCE in validation 0.221023\n",
            "2022-01-07 21:05:17.364220\tupdates: 160000\tcurrent logloss on train: 0.250440\tcurrent logloss on validation: 0.251116 \tNCE in validation 0.224746\n",
            "2022-01-07 21:05:19.531313\tupdates: 170000\tcurrent logloss on train: 0.251189\tcurrent logloss on validation: 0.250195 \tNCE in validation 0.227589\n",
            "2022-01-07 21:05:21.725873\tupdates: 180000\tcurrent logloss on train: 0.250082\tcurrent logloss on validation: 0.252215 \tNCE in validation 0.221353\n",
            "2022-01-07 21:05:23.878960\tupdates: 190000\tcurrent logloss on train: 0.249739\tcurrent logloss on validation: 0.253009 \tNCE in validation 0.218901\n",
            "2022-01-07 21:05:26.062783\tupdates: 200000\tcurrent logloss on train: 0.249260\tcurrent logloss on validation: 0.249469 \tNCE in validation 0.229830\n",
            "2022-01-07 21:05:28.204036\tupdates: 210000\tcurrent logloss on train: 0.254855\tcurrent logloss on validation: 0.250317 \tNCE in validation 0.227212\n",
            "2022-01-07 21:05:30.338751\tupdates: 220000\tcurrent logloss on train: 0.246178\tcurrent logloss on validation: 0.252253 \tNCE in validation 0.221235\n",
            "2022-01-07 21:05:32.478629\tupdates: 230000\tcurrent logloss on train: 0.243525\tcurrent logloss on validation: 0.248927 \tNCE in validation 0.231503\n",
            "2022-01-07 21:05:34.643864\tupdates: 240000\tcurrent logloss on train: 0.244735\tcurrent logloss on validation: 0.249662 \tNCE in validation 0.229233\n",
            "2022-01-07 21:05:36.794201\tupdates: 250000\tcurrent logloss on train: 0.244115\tcurrent logloss on validation: 0.250648 \tNCE in validation 0.226192\n",
            "2022-01-07 21:05:38.922624\tupdates: 260000\tcurrent logloss on train: 0.246180\tcurrent logloss on validation: 0.249844 \tNCE in validation 0.228672\n",
            "2022-01-07 21:05:41.045891\tupdates: 270000\tcurrent logloss on train: 0.247351\tcurrent logloss on validation: 0.249010 \tNCE in validation 0.231248\n",
            "2022-01-07 21:05:43.173459\tupdates: 280000\tcurrent logloss on train: 0.246832\tcurrent logloss on validation: 0.250370 \tNCE in validation 0.227049\n",
            "2022-01-07 21:05:45.316584\tupdates: 290000\tcurrent logloss on train: 0.245497\tcurrent logloss on validation: 0.248703 \tNCE in validation 0.232195\n",
            "2022-01-07 21:05:47.465309\tupdates: 300000\tcurrent logloss on train: 0.245254\tcurrent logloss on validation: 0.248947 \tNCE in validation 0.231442\n",
            "2022-01-07 21:05:49.628945\tupdates: 310000\tcurrent logloss on train: 0.242405\tcurrent logloss on validation: 0.250476 \tNCE in validation 0.226721\n",
            "2022-01-07 21:05:51.790549\tupdates: 320000\tcurrent logloss on train: 0.242237\tcurrent logloss on validation: 0.250703 \tNCE in validation 0.226022\n",
            "2022-01-07 21:05:53.927541\tupdates: 330000\tcurrent logloss on train: 0.240295\tcurrent logloss on validation: 0.248761 \tNCE in validation 0.232017\n",
            "2022-01-07 21:05:56.132654\tupdates: 340000\tcurrent logloss on train: 0.240416\tcurrent logloss on validation: 0.249144 \tNCE in validation 0.230835\n",
            "2022-01-07 21:05:58.297913\tupdates: 350000\tcurrent logloss on train: 0.242131\tcurrent logloss on validation: 0.248509 \tNCE in validation 0.232796\n",
            "2022-01-07 21:06:00.466054\tupdates: 360000\tcurrent logloss on train: 0.242766\tcurrent logloss on validation: 0.249109 \tNCE in validation 0.230943\n",
            "2022-01-07 21:06:02.651979\tupdates: 370000\tcurrent logloss on train: 0.243980\tcurrent logloss on validation: 0.248866 \tNCE in validation 0.231691\n",
            "2022-01-07 21:06:04.849987\tupdates: 380000\tcurrent logloss on train: 0.243825\tcurrent logloss on validation: 0.248868 \tNCE in validation 0.231687\n",
            "2022-01-07 21:06:07.055802\tupdates: 390000\tcurrent logloss on train: 0.242760\tcurrent logloss on validation: 0.247855 \tNCE in validation 0.234814\n",
            "2022-01-07 21:06:09.231423\tupdates: 400000\tcurrent logloss on train: 0.242617\tcurrent logloss on validation: 0.248905 \tNCE in validation 0.231573\n",
            "2022-01-07 21:06:11.403056\tupdates: 410000\tcurrent logloss on train: 0.227223\tcurrent logloss on validation: 0.247970 \tNCE in validation 0.234457\n",
            "2022-01-07 21:06:13.561694\tupdates: 420000\tcurrent logloss on train: 0.246666\tcurrent logloss on validation: 0.249140 \tNCE in validation 0.230847\n",
            "2022-01-07 21:06:15.721777\tupdates: 430000\tcurrent logloss on train: 0.237761\tcurrent logloss on validation: 0.248183 \tNCE in validation 0.233801\n",
            "2022-01-07 21:06:17.924429\tupdates: 440000\tcurrent logloss on train: 0.235597\tcurrent logloss on validation: 0.249054 \tNCE in validation 0.231112\n",
            "2022-01-07 21:06:20.084984\tupdates: 450000\tcurrent logloss on train: 0.238975\tcurrent logloss on validation: 0.249952 \tNCE in validation 0.228339\n",
            "2022-01-07 21:06:22.304226\tupdates: 460000\tcurrent logloss on train: 0.239713\tcurrent logloss on validation: 0.249698 \tNCE in validation 0.229124\n",
            "2022-01-07 21:06:24.463219\tupdates: 470000\tcurrent logloss on train: 0.241163\tcurrent logloss on validation: 0.249040 \tNCE in validation 0.231156\n",
            "2022-01-07 21:06:26.613069\tupdates: 480000\tcurrent logloss on train: 0.241400\tcurrent logloss on validation: 0.248811 \tNCE in validation 0.231863\n",
            "2022-01-07 21:06:28.766024\tupdates: 490000\tcurrent logloss on train: 0.240403\tcurrent logloss on validation: 0.248561 \tNCE in validation 0.232635\n",
            "2022-01-07 21:06:30.901064\tupdates: 500000\tcurrent logloss on train: 0.240245\tcurrent logloss on validation: 0.248276 \tNCE in validation 0.233515\n",
            "2022-01-07 21:06:33.057183\tupdates: 510000\tcurrent logloss on train: 0.239970\tcurrent logloss on validation: 0.248137 \tNCE in validation 0.233944\n",
            "2022-01-07 21:06:35.234261\tupdates: 520000\tcurrent logloss on train: 0.239978\tcurrent logloss on validation: 0.247974 \tNCE in validation 0.234447\n",
            "2022-01-07 21:06:37.394914\tupdates: 530000\tcurrent logloss on train: 0.235491\tcurrent logloss on validation: 0.248701 \tNCE in validation 0.232201\n",
            "2022-01-07 21:06:39.567690\tupdates: 540000\tcurrent logloss on train: 0.233899\tcurrent logloss on validation: 0.249542 \tNCE in validation 0.229605\n",
            "2022-01-07 21:06:41.714352\tupdates: 550000\tcurrent logloss on train: 0.237716\tcurrent logloss on validation: 0.247916 \tNCE in validation 0.234625\n",
            "2022-01-07 21:06:43.868953\tupdates: 560000\tcurrent logloss on train: 0.237081\tcurrent logloss on validation: 0.249003 \tNCE in validation 0.231270\n",
            "2022-01-07 21:06:46.026322\tupdates: 570000\tcurrent logloss on train: 0.238961\tcurrent logloss on validation: 0.251156 \tNCE in validation 0.224623\n",
            "2022-01-07 21:06:48.200084\tupdates: 580000\tcurrent logloss on train: 0.239874\tcurrent logloss on validation: 0.248890 \tNCE in validation 0.231619\n",
            "2022-01-07 21:06:50.362952\tupdates: 590000\tcurrent logloss on train: 0.238571\tcurrent logloss on validation: 0.250052 \tNCE in validation 0.228032\n",
            "2022-01-07 21:06:52.482768\tupdates: 600000\tcurrent logloss on train: 0.238395\tcurrent logloss on validation: 0.248643 \tNCE in validation 0.232380\n",
            "2022-01-07 21:06:54.615792\tupdates: 610000\tcurrent logloss on train: 0.238094\tcurrent logloss on validation: 0.248235 \tNCE in validation 0.233639\n",
            "2022-01-07 21:06:56.748610\tupdates: 620000\tcurrent logloss on train: 0.242205\tcurrent logloss on validation: 0.248858 \tNCE in validation 0.231717\n",
            "2022-01-07 21:06:58.890076\tupdates: 630000\tcurrent logloss on train: 0.236119\tcurrent logloss on validation: 0.250148 \tNCE in validation 0.227736\n",
            "2022-01-07 21:07:01.049983\tupdates: 640000\tcurrent logloss on train: 0.233210\tcurrent logloss on validation: 0.251137 \tNCE in validation 0.224681\n",
            "2022-01-07 21:07:03.197710\tupdates: 650000\tcurrent logloss on train: 0.235811\tcurrent logloss on validation: 0.248290 \tNCE in validation 0.233471\n",
            "2022-01-07 21:07:05.362270\tupdates: 660000\tcurrent logloss on train: 0.235041\tcurrent logloss on validation: 0.252744 \tNCE in validation 0.219719\n",
            "2022-01-07 21:07:07.535312\tupdates: 670000\tcurrent logloss on train: 0.236640\tcurrent logloss on validation: 0.249837 \tNCE in validation 0.228696\n",
            "2022-01-07 21:07:09.716376\tupdates: 680000\tcurrent logloss on train: 0.238274\tcurrent logloss on validation: 0.248180 \tNCE in validation 0.233812\n",
            "2022-01-07 21:07:11.866962\tupdates: 690000\tcurrent logloss on train: 0.237763\tcurrent logloss on validation: 0.249839 \tNCE in validation 0.228687\n",
            "2022-01-07 21:07:14.006184\tupdates: 700000\tcurrent logloss on train: 0.236621\tcurrent logloss on validation: 0.250217 \tNCE in validation 0.227522\n",
            "2022-01-07 21:07:16.150439\tupdates: 710000\tcurrent logloss on train: 0.236574\tcurrent logloss on validation: 0.249407 \tNCE in validation 0.230023\n",
            "2022-01-07 21:07:18.303224\tupdates: 720000\tcurrent logloss on train: 0.236080\tcurrent logloss on validation: 0.250556 \tNCE in validation 0.226474\n",
            "2022-01-07 21:07:20.463608\tupdates: 730000\tcurrent logloss on train: 0.233421\tcurrent logloss on validation: 0.250708 \tNCE in validation 0.226005\n",
            "2022-01-07 21:07:22.604373\tupdates: 740000\tcurrent logloss on train: 0.232572\tcurrent logloss on validation: 0.248750 \tNCE in validation 0.232049\n",
            "2022-01-07 21:07:24.737829\tupdates: 750000\tcurrent logloss on train: 0.232964\tcurrent logloss on validation: 0.247717 \tNCE in validation 0.235238\n",
            "2022-01-07 21:07:26.878187\tupdates: 760000\tcurrent logloss on train: 0.234302\tcurrent logloss on validation: 0.248911 \tNCE in validation 0.231554\n",
            "2022-01-07 21:07:29.044004\tupdates: 770000\tcurrent logloss on train: 0.235080\tcurrent logloss on validation: 0.248938 \tNCE in validation 0.231470\n",
            "2022-01-07 21:07:31.187910\tupdates: 780000\tcurrent logloss on train: 0.236480\tcurrent logloss on validation: 0.248384 \tNCE in validation 0.233180\n",
            "2022-01-07 21:07:33.372466\tupdates: 790000\tcurrent logloss on train: 0.236318\tcurrent logloss on validation: 0.250293 \tNCE in validation 0.227287\n",
            "2022-01-07 21:07:35.539841\tupdates: 800000\tcurrent logloss on train: 0.235335\tcurrent logloss on validation: 0.247786 \tNCE in validation 0.235027\n",
            "2022-01-07 21:07:37.702000\tupdates: 810000\tcurrent logloss on train: 0.235354\tcurrent logloss on validation: 0.250823 \tNCE in validation 0.225651\n",
            "2022-01-07 21:07:39.900524\tupdates: 820000\tcurrent logloss on train: 0.257579\tcurrent logloss on validation: 0.250595 \tNCE in validation 0.226355\n",
            "2022-01-07 21:07:42.065649\tupdates: 830000\tcurrent logloss on train: 0.238585\tcurrent logloss on validation: 0.250131 \tNCE in validation 0.227788\n",
            "2022-01-07 21:07:44.191566\tupdates: 840000\tcurrent logloss on train: 0.231201\tcurrent logloss on validation: 0.249573 \tNCE in validation 0.229509\n",
            "2022-01-07 21:07:46.359777\tupdates: 850000\tcurrent logloss on train: 0.229581\tcurrent logloss on validation: 0.249452 \tNCE in validation 0.229884\n",
            "2022-01-07 21:07:48.519899\tupdates: 860000\tcurrent logloss on train: 0.232347\tcurrent logloss on validation: 0.248880 \tNCE in validation 0.231651\n",
            "2022-01-07 21:07:50.669340\tupdates: 870000\tcurrent logloss on train: 0.233031\tcurrent logloss on validation: 0.249850 \tNCE in validation 0.228654\n",
            "2022-01-07 21:07:52.786760\tupdates: 880000\tcurrent logloss on train: 0.234684\tcurrent logloss on validation: 0.249077 \tNCE in validation 0.231040\n",
            "2022-01-07 21:07:54.918421\tupdates: 890000\tcurrent logloss on train: 0.234980\tcurrent logloss on validation: 0.249458 \tNCE in validation 0.229865\n",
            "2022-01-07 21:07:57.039786\tupdates: 900000\tcurrent logloss on train: 0.233824\tcurrent logloss on validation: 0.252465 \tNCE in validation 0.220583\n",
            "2022-01-07 21:07:59.161815\tupdates: 910000\tcurrent logloss on train: 0.234043\tcurrent logloss on validation: 0.249187 \tNCE in validation 0.230702\n",
            "2022-01-07 21:08:01.310657\tupdates: 920000\tcurrent logloss on train: 0.233745\tcurrent logloss on validation: 0.248413 \tNCE in validation 0.233092\n",
            "2022-01-07 21:08:03.461082\tupdates: 930000\tcurrent logloss on train: 0.233593\tcurrent logloss on validation: 0.248539 \tNCE in validation 0.232702\n",
            "2022-01-07 21:08:05.552227\tupdates: 940000\tcurrent logloss on train: 0.229614\tcurrent logloss on validation: 0.249007 \tNCE in validation 0.231257\n",
            "2022-01-07 21:08:07.666381\tupdates: 950000\tcurrent logloss on train: 0.227751\tcurrent logloss on validation: 0.251222 \tNCE in validation 0.224418\n",
            "2022-01-07 21:08:09.756504\tupdates: 960000\tcurrent logloss on train: 0.231962\tcurrent logloss on validation: 0.248973 \tNCE in validation 0.231363\n",
            "2022-01-07 21:08:11.850530\tupdates: 970000\tcurrent logloss on train: 0.231323\tcurrent logloss on validation: 0.250551 \tNCE in validation 0.226489\n",
            "2022-01-07 21:08:13.957736\tupdates: 980000\tcurrent logloss on train: 0.233326\tcurrent logloss on validation: 0.250413 \tNCE in validation 0.226917\n",
            "2022-01-07 21:08:16.072992\tupdates: 990000\tcurrent logloss on train: 0.234312\tcurrent logloss on validation: 0.250275 \tNCE in validation 0.227343\n",
            "2022-01-07 21:08:18.180412\tupdates: 1000000\tcurrent logloss on train: 0.233053\tcurrent logloss on validation: 0.250939 \tNCE in validation 0.225292\n",
            "2022-01-07 21:08:20.276274\tupdates: 1010000\tcurrent logloss on train: 0.232962\tcurrent logloss on validation: 0.248855 \tNCE in validation 0.231726\n",
            "2022-01-07 21:08:22.374236\tupdates: 1020000\tcurrent logloss on train: 0.232640\tcurrent logloss on validation: 0.250337 \tNCE in validation 0.227151\n"
          ]
        }
      ]
    },
    {
      "cell_type": "code",
      "source": [
        "import matplotlib.pyplot as plt\n",
        "import math\n",
        "x = [10000*i for i in range(len(training_losses))]\n",
        "plt.plot(x, training_losses, label='Train')\n",
        "plt.plot(x, validation_losses, label='Validation')\n",
        "plt.xlabel('Number of updates')\n",
        "plt.ylabel('Log Loss')\n",
        "plt.legend( ('Train', 'Validation') )\n",
        "plt.show() "
      ],
      "metadata": {
        "colab": {
          "base_uri": "https://localhost:8080/",
          "height": 279
        },
        "id": "88xwK0Qpc1cE",
        "outputId": "36ceaa35-43ab-419e-b3a4-64814643bf30"
      },
      "execution_count": null,
      "outputs": [
        {
          "output_type": "display_data",
          "data": {
            "image/png": "[encoded data removed]",
            "text/plain": [
              "<Figure size 432x288 with 1 Axes>"
            ]
          },
          "metadata": {
            "needs_background": "light"
          }
        }
      ]
    },
    {
      "cell_type": "code",
      "source": [
        ""
      ],
      "metadata": {
        "id": "tMWZyDq6eEmc"
      },
      "execution_count": null,
      "outputs": []
    }
  ]
}